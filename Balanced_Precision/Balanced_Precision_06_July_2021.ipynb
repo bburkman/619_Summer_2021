{
 "cells": [
  {
   "cell_type": "code",
   "execution_count": 3,
   "id": "f87b02bf",
   "metadata": {},
   "outputs": [],
   "source": [
    "import sklearn\n",
    "import numpy as np\n",
    "from sklearn import metrics\n",
    "from sklearn.metrics import make_scorer\n",
    "from sklearn.metrics import precision_recall_fscore_support\n",
    "from sklearn.metrics import multilabel_confusion_matrix\n",
    "\n",
    "from sklearn.datasets import make_blobs\n",
    "from sklearn.linear_model import LogisticRegression\n",
    "\n",
    "from sklearn.utils.class_weight import compute_class_weight\n",
    "from sklearn.utils.class_weight import compute_sample_weight\n",
    "from sklearn.utils._testing import assert_array_almost_equal\n",
    "from sklearn.utils._testing import assert_almost_equal\n"
   ]
  },
  {
   "cell_type": "code",
   "execution_count": 19,
   "id": "f1022ad6",
   "metadata": {},
   "outputs": [
    {
     "data": {
      "text/plain": [
       "array([0, 0, 1, 1, 0, 0, 1, 1, 0, 0])"
      ]
     },
     "execution_count": 19,
     "metadata": {},
     "output_type": "execute_result"
    }
   ],
   "source": [
    "y_true = [0,0,1,1,0,0,1,1,0,0]\n",
    "y_true = np.array(y_true)\n",
    "y_true"
   ]
  },
  {
   "cell_type": "code",
   "execution_count": 20,
   "id": "74be481d",
   "metadata": {},
   "outputs": [
    {
     "data": {
      "text/plain": [
       "array([0, 0, 0, 0, 0, 1, 1, 1, 1, 1])"
      ]
     },
     "execution_count": 20,
     "metadata": {},
     "output_type": "execute_result"
    }
   ],
   "source": [
    "y_pred = [0]*5 + [1]*5\n",
    "y_pred = np.array(y_pred)\n",
    "y_pred"
   ]
  },
  {
   "cell_type": "code",
   "execution_count": 21,
   "id": "d87a5d44",
   "metadata": {},
   "outputs": [
    {
     "data": {
      "text/plain": [
       "(array([0.6, 0.4]),\n",
       " array([0.5, 0.5]),\n",
       " array([0.54545455, 0.44444444]),\n",
       " array([6, 4]))"
      ]
     },
     "execution_count": 21,
     "metadata": {},
     "output_type": "execute_result"
    }
   ],
   "source": [
    "precision_recall_fscore_support(y_true, y_pred)"
   ]
  },
  {
   "cell_type": "code",
   "execution_count": 24,
   "id": "3f6d8b81",
   "metadata": {},
   "outputs": [
    {
     "data": {
      "text/plain": [
       "array([[[2, 2],\n",
       "        [3, 3]],\n",
       "\n",
       "       [[3, 3],\n",
       "        [2, 2]]])"
      ]
     },
     "execution_count": 24,
     "metadata": {},
     "output_type": "execute_result"
    }
   ],
   "source": [
    "MCM = multilabel_confusion_matrix(y_true, y_pred)\n",
    "MCM"
   ]
  },
  {
   "cell_type": "markdown",
   "id": "412bc015",
   "metadata": {},
   "source": [
    "# Class_Weight\n",
    "## test_compute_class_weight()"
   ]
  },
  {
   "cell_type": "code",
   "execution_count": 14,
   "id": "ea68550c",
   "metadata": {},
   "outputs": [
    {
     "name": "stdout",
     "output_type": "stream",
     "text": [
      "[2 2 2 2 3 3 3 4 4 5]\n",
      "[2 3 4 5]\n",
      "[0.625      0.83333333 1.25       2.5       ]\n",
      "[4 3 2 1]\n",
      "[0 0 4 3 2 1]\n",
      "10.0\n"
     ]
    }
   ],
   "source": [
    "def test_compute_class_weight():\n",
    "    # Test (and demo) compute_class_weight.\n",
    "    y = np.asarray([2, 2, 2, 3, 3, 4])\n",
    "    y = np.asarray([2, 2, 2, 2, 3, 3, 3, 4, 4, 5])\n",
    "\n",
    "    classes = np.unique(y)\n",
    "    print (y)\n",
    "    print (classes)\n",
    "\n",
    "    cw = compute_class_weight(\"balanced\", classes=classes, y=y)\n",
    "    print (cw)\n",
    "    # total effect of samples is preserved\n",
    "    class_counts = np.bincount(y)[2:]\n",
    "    print (class_counts)\n",
    "    print (np.bincount(y))\n",
    "    assert_almost_equal(np.dot(cw, class_counts), y.shape[0])\n",
    "    print (np.dot(cw, class_counts))\n",
    "#    assert cw[0] < cw[1] < cw[2]\n",
    "test_compute_class_weight()"
   ]
  },
  {
   "cell_type": "markdown",
   "id": "d2c30d17",
   "metadata": {},
   "source": [
    "Class Weight of each class is (the total number in y) divided by (the number of classes) divided by (the number of elements in the class)"
   ]
  },
  {
   "cell_type": "markdown",
   "id": "74293334",
   "metadata": {},
   "source": [
    "## test_compute_weight_dict"
   ]
  },
  {
   "cell_type": "code",
   "execution_count": 22,
   "id": "cb580e88",
   "metadata": {},
   "outputs": [
    {
     "name": "stdout",
     "output_type": "stream",
     "text": [
      "[0 1 2]\n",
      "{0: 1.0, 1: 2.0, 2: 1.0}\n",
      "[0 0 1 2 2 2]\n",
      "[1. 2. 1.]\n"
     ]
    }
   ],
   "source": [
    "def test_compute_class_weight_dict():\n",
    "    classes = np.arange(3)\n",
    "    print (classes)\n",
    "    class_weights = {0: 1.0, 1: 2.0, 2: 1.0}\n",
    "    print (class_weights)\n",
    "    y = np.asarray([0, 0, 1, 2, 2, 2])\n",
    "    print (y)\n",
    "    cw = compute_class_weight(class_weights, classes=classes, y=y)\n",
    "    print (cw)\n",
    "\n",
    "test_compute_class_weight_dict()"
   ]
  },
  {
   "cell_type": "markdown",
   "id": "65aa186e",
   "metadata": {},
   "source": [
    "## test_compute_test_weight_invariance()"
   ]
  },
  {
   "cell_type": "code",
   "execution_count": 27,
   "id": "a00ef569",
   "metadata": {},
   "outputs": [
    {
     "name": "stdout",
     "output_type": "stream",
     "text": [
      "(100, 2) (100,)\n",
      "[[ 4.21850347  2.23419161]\n",
      " [ 0.90779887  0.45984362]\n",
      " [-0.27652528  5.08127768]\n",
      " [ 0.08848433  2.32299086]\n",
      " [ 3.24329731  1.21460627]\n",
      " [ 1.44193252  2.76754364]\n",
      " [ 1.0220286   4.11660348]\n",
      " [ 3.97820955  2.37817845]\n",
      " [ 0.58894326  4.00148458]\n",
      " [ 1.25185786  0.20811388]\n",
      " [ 0.62835793  4.4601363 ]\n",
      " [ 1.68608568  0.65828448]\n",
      " [ 1.18454506  5.28042636]\n",
      " [ 0.06897171  4.35573272]\n",
      " [ 1.78726415  1.70012006]\n",
      " [ 4.4384123   1.84214315]\n",
      " [ 3.18190344 -0.18226785]\n",
      " [ 0.30380963  3.94423417]\n",
      " [ 0.73936011  0.43607906]\n",
      " [ 1.28535145  1.43691285]\n",
      " [ 1.1312175   4.68194985]\n",
      " [ 0.66471755  4.35995267]\n",
      " [ 1.31570453  2.44067826]\n",
      " [-0.18887976  5.20461381]\n",
      " [ 2.57854418  0.72611733]\n",
      " [ 0.87305123  4.71438583]\n",
      " [ 1.3105127   0.07122512]\n",
      " [ 0.9867701   6.08965782]\n",
      " [ 1.42013331  4.63746165]\n",
      " [ 2.3535057   2.22404956]\n",
      " [ 2.43169305 -0.20173713]\n",
      " [ 1.0427873   4.60625923]\n",
      " [ 0.95088418  0.94982874]\n",
      " [ 2.45127423 -0.19539785]\n",
      " [ 1.62011397  2.74692739]\n",
      " [ 2.15504965  4.12386249]\n",
      " [ 1.38093486  0.92949422]\n",
      " [ 1.98702592  2.61100638]\n",
      " [ 2.11567076  3.06896151]\n",
      " [ 0.56400993  1.33705536]\n",
      " [-0.07228289  2.88376939]\n",
      " [ 2.50904929  5.7731461 ]\n",
      " [-0.73000011  6.25456272]\n",
      " [ 1.37861172  3.61897724]\n",
      " [ 0.88214412  2.84128485]\n",
      " [ 2.22194102  1.5326951 ]\n",
      " [ 2.0159847  -0.27042984]\n",
      " [ 1.70127361 -0.47728763]\n",
      " [-0.65392827  4.76656958]\n",
      " [ 0.57309313  5.5262324 ]\n",
      " [ 1.956815    0.23418537]\n",
      " [ 0.76241061  1.16471453]\n",
      " [ 2.46452227  6.1996765 ]\n",
      " [ 1.33263648  5.0103605 ]\n",
      " [ 3.2460247   2.84942165]\n",
      " [ 1.10318217  4.70577669]\n",
      " [ 2.85942078  2.95602827]\n",
      " [ 1.59973502  0.91514282]\n",
      " [ 2.97612635  1.21639131]\n",
      " [ 2.68049897 -0.704394  ]\n",
      " [ 1.41942144  1.57409695]\n",
      " [ 1.9263585   4.15243012]\n",
      " [-0.09448254  5.35823905]\n",
      " [ 2.72756228  1.3051255 ]\n",
      " [ 1.12031365  5.75806083]\n",
      " [ 1.55723507  2.82719571]\n",
      " [ 0.10547293  3.72493766]\n",
      " [ 2.84382807  3.32650945]\n",
      " [ 3.15492712  1.55292739]\n",
      " [ 1.84070628  3.56162231]\n",
      " [ 1.28933778  3.44969159]\n",
      " [ 1.64164854  0.15020885]\n",
      " [ 3.92282648  1.80370832]\n",
      " [ 1.70536064  4.43277024]\n",
      " [ 0.1631238   2.57750473]\n",
      " [ 0.34194798  3.94104616]\n",
      " [ 1.02102468  1.57925818]\n",
      " [ 2.66934689  1.81987033]\n",
      " [ 0.4666179   3.86571303]\n",
      " [ 0.94808785  4.7321192 ]\n",
      " [ 1.19404184  2.80772861]\n",
      " [ 1.15369622  3.90200639]\n",
      " [-0.29421492  5.27318404]\n",
      " [ 1.7373078   4.42546234]\n",
      " [ 0.46546494  3.12315514]\n",
      " [ 0.08080352  4.69068983]\n",
      " [ 3.00251949  0.74265357]\n",
      " [ 2.20656076  5.50616718]\n",
      " [ 1.36069966  0.74802912]\n",
      " [ 2.63185834  0.6893649 ]\n",
      " [ 2.82705807  1.72116781]\n",
      " [ 2.91209813  0.24663807]\n",
      " [ 1.1424453   2.01467995]\n",
      " [ 1.05505217 -0.64710744]\n",
      " [ 2.47034915  4.09862906]\n",
      " [-1.57671974  4.95740592]\n",
      " [ 1.41164912 -1.32573949]\n",
      " [ 3.00468833  0.9852149 ]\n",
      " [-0.63762777  4.09104705]\n",
      " [ 0.829832    1.74202664]]\n",
      "[1 1 0 0 1 0 0 1 0 1 0 1 0 0 1 1 1 0 1 1 0 0 1 0 1 0 1 0 0 1 1 0 1 1 1 0 1\n",
      " 1 0 1 0 0 0 0 1 1 1 1 0 0 1 1 0 0 0 0 0 1 1 1 1 0 0 1 0 1 0 0 1 0 0 1 1 0\n",
      " 0 0 1 1 0 0 1 0 0 0 0 0 1 0 1 1 1 1 1 1 0 0 1 1 0 1]\n",
      "[[ 0.46161168 -2.95217968]]\n"
     ]
    }
   ],
   "source": [
    "def test_compute_class_weight_invariance():\n",
    "    # Test that results with class_weight=\"balanced\" is invariant wrt\n",
    "    # class imbalance if the number of samples is identical.\n",
    "    # The test uses a balanced two class dataset with 100 datapoints.\n",
    "    # It creates three versions, one where class 1 is duplicated\n",
    "    # resulting in 150 points of class 1 and 50 of class 0,\n",
    "    # one where there are 50 points in class 1 and 150 in class 0,\n",
    "    # and one where there are 100 points of each class (this one is balanced\n",
    "    # again).\n",
    "    # With balancing class weights, all three should give the same model.\n",
    "    X, y = make_blobs(centers=2, random_state=0)\n",
    "    print (X.shape, y.shape)\n",
    "    print (X)\n",
    "    print (y)\n",
    "    # create dataset where class 1 is duplicated twice\n",
    "    X_1 = np.vstack([X] + [X[y == 1]] * 2)\n",
    "    y_1 = np.hstack([y] + [y[y == 1]] * 2)\n",
    "    # create dataset where class 0 is duplicated twice\n",
    "    X_0 = np.vstack([X] + [X[y == 0]] * 2)\n",
    "    y_0 = np.hstack([y] + [y[y == 0]] * 2)\n",
    "    # duplicate everything\n",
    "    X_ = np.vstack([X] * 2)\n",
    "    y_ = np.hstack([y] * 2)\n",
    "    # results should be identical\n",
    "    logreg1 = LogisticRegression(class_weight=\"balanced\").fit(X_1, y_1)\n",
    "    logreg0 = LogisticRegression(class_weight=\"balanced\").fit(X_0, y_0)\n",
    "    logreg = LogisticRegression(class_weight=\"balanced\").fit(X_, y_)\n",
    "    assert_array_almost_equal(logreg1.coef_, logreg0.coef_)\n",
    "    assert_array_almost_equal(logreg.coef_, logreg0.coef_)\n",
    "    print (logreg.coef_)\n",
    "\n",
    "test_compute_class_weight_invariance()"
   ]
  },
  {
   "cell_type": "code",
   "execution_count": null,
   "id": "4439979c",
   "metadata": {},
   "outputs": [],
   "source": []
  }
 ],
 "metadata": {
  "kernelspec": {
   "display_name": "myenv",
   "language": "python",
   "name": "myenv"
  },
  "language_info": {
   "codemirror_mode": {
    "name": "ipython",
    "version": 3
   },
   "file_extension": ".py",
   "mimetype": "text/x-python",
   "name": "python",
   "nbconvert_exporter": "python",
   "pygments_lexer": "ipython3",
   "version": "3.8.10"
  }
 },
 "nbformat": 4,
 "nbformat_minor": 5
}
