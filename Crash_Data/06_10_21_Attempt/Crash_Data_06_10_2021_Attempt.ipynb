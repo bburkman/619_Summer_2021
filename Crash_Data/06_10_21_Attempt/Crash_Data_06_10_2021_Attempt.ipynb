{
 "cells": [
  {
   "cell_type": "code",
   "execution_count": 1,
   "id": "metric-express",
   "metadata": {},
   "outputs": [
    {
     "data": {
      "text/latex": [
       "\\tableofcontents\n"
      ],
      "text/plain": [
       "<IPython.core.display.Latex object>"
      ]
     },
     "metadata": {},
     "output_type": "display_data"
    }
   ],
   "source": [
    "%%latex\n",
    "\\tableofcontents"
   ]
  },
  {
   "cell_type": "markdown",
   "id": "prostate-genome",
   "metadata": {},
   "source": [
    "# Data Cleanup"
   ]
  },
  {
   "cell_type": "markdown",
   "id": "motivated-request",
   "metadata": {},
   "source": [
    "## Import Libraries"
   ]
  },
  {
   "cell_type": "markdown",
   "id": "apparent-vulnerability",
   "metadata": {},
   "source": [
    "### General Libraries"
   ]
  },
  {
   "cell_type": "code",
   "execution_count": 2,
   "id": "floppy-rhythm",
   "metadata": {},
   "outputs": [
    {
     "name": "stdout",
     "output_type": "stream",
     "text": [
      "Python version: 3.9.1 (v3.9.1:1e5d33e9b9, Dec  7 2020, 12:10:52) \n",
      "[Clang 6.0 (clang-600.0.57)]\n",
      "pandas version: 1.2.3\n",
      "matplotlib version: 3.3.3\n",
      "NumPy version: 1.19.5\n",
      "SciPy version: 1.6.0\n",
      "IPython version: 7.21.0\n",
      "scikit-learn version: 0.24.1\n",
      "-*-*-*-*-*-*-*-*-*-*-*-*-*-*-*-*-*-*-*-*\n",
      "2019_Crash_1_Database.csv\n",
      "CODE_TB.xlsx\n",
      "\n"
     ]
    }
   ],
   "source": [
    "import sys\n",
    "print ('Python version: {}'.format(sys.version))\n",
    "import pandas as pd\n",
    "print ('pandas version: {}'.format(pd.__version__))\n",
    "import matplotlib\n",
    "print ('matplotlib version: {}'.format(matplotlib.__version__))\n",
    "import numpy as np\n",
    "print ('NumPy version: {}'.format(np.__version__))\n",
    "import scipy as sp\n",
    "print ('SciPy version: {}'.format(sp.__version__))\n",
    "import IPython\n",
    "print ('IPython version: {}'.format(IPython.__version__))\n",
    "import sklearn\n",
    "print ('scikit-learn version: {}'.format(sklearn.__version__))\n",
    "\n",
    "import random\n",
    "import time\n",
    "import warnings\n",
    "import copy\n",
    "warnings.filterwarnings('ignore')\n",
    "print ('-*'*20)\n",
    "from subprocess import check_output\n",
    "print (check_output(['ls', './data']).decode('utf8'))"
   ]
  },
  {
   "cell_type": "markdown",
   "id": "powerful-field",
   "metadata": {},
   "source": [
    "### Visualization Libraries"
   ]
  },
  {
   "cell_type": "code",
   "execution_count": 3,
   "id": "classical-finance",
   "metadata": {},
   "outputs": [],
   "source": [
    "# visualization\n",
    "import seaborn as sns\n",
    "import matplotlib.pyplot as plt\n",
    "%matplotlib inline"
   ]
  },
  {
   "cell_type": "markdown",
   "id": "aggressive-interval",
   "metadata": {},
   "source": [
    "### Machine Learning Libraries"
   ]
  },
  {
   "cell_type": "code",
   "execution_count": 4,
   "id": "embedded-courtesy",
   "metadata": {},
   "outputs": [],
   "source": [
    "# machine learning\n",
    "from sklearn.model_selection import train_test_split\n",
    "from sklearn.linear_model import LogisticRegression\n",
    "\n",
    "from sklearn.svm import SVC, LinearSVC\n",
    "\n",
    "from sklearn.ensemble import RandomForestClassifier\n",
    "from sklearn.ensemble import GradientBoostingClassifier\n",
    "\n",
    "from sklearn.neighbors import KNeighborsClassifier\n",
    "from sklearn.naive_bayes import GaussianNB\n",
    "from sklearn.linear_model import Perceptron\n",
    "from sklearn.linear_model import SGDClassifier\n",
    "\n",
    "from sklearn.tree import DecisionTreeClassifier\n",
    "\n",
    "from sklearn.neural_network import MLPClassifier\n",
    "\n",
    "from sklearn.metrics import precision_score, recall_score, accuracy_score, f1_score, confusion_matrix\n",
    "from sklearn.utils import shuffle"
   ]
  },
  {
   "cell_type": "code",
   "execution_count": null,
   "id": "mysterious-satellite",
   "metadata": {},
   "outputs": [],
   "source": []
  },
  {
   "cell_type": "code",
   "execution_count": null,
   "id": "becoming-verification",
   "metadata": {},
   "outputs": [],
   "source": []
  },
  {
   "cell_type": "markdown",
   "id": "prime-drill",
   "metadata": {},
   "source": [
    "## Import Data"
   ]
  },
  {
   "cell_type": "markdown",
   "id": "olive-fortune",
   "metadata": {},
   "source": [
    "We will bring in the data as data_originalk, and make a deep copy, data_raw.\n",
    "Then we will process each column, copy it to data, and delete it from data_raw"
   ]
  },
  {
   "cell_type": "code",
   "execution_count": 5,
   "id": "centered-saskatchewan",
   "metadata": {},
   "outputs": [],
   "source": [
    "data_original = pd.read_csv('./data/2019_Crash_1_Database.csv', parse_dates = ['crash_date', 'crash_hour', 'crash_time'])\n",
    "data_raw = data_original.copy(deep=True)\n",
    "data = pd.DataFrame()\n",
    "data_dummy_fields = []\n",
    "data_raw_fields_to_drop = []"
   ]
  },
  {
   "cell_type": "markdown",
   "id": "victorian-recorder",
   "metadata": {},
   "source": [
    "## Fields"
   ]
  },
  {
   "cell_type": "markdown",
   "id": "lyric-passion",
   "metadata": {},
   "source": [
    "### Fields with the Dependent Variable"
   ]
  },
  {
   "cell_type": "markdown",
   "id": "polish-gardening",
   "metadata": {},
   "source": [
    "The dependent variable y=1 if somebody died, y=0 otherwise.  \n",
    "We have two fields that give us this information.  \n",
    "'num_tot_kil' [0, 1, 2, 3, 4], giving the number killed.\n",
    "\n",
    "'severity_cd' ['E' 'D' 'C' 'B' 'A'], with 'A' being 'Fatal.'\n",
    "\n",
    "Do these columns agree?  Yes (below)."
   ]
  },
  {
   "cell_type": "code",
   "execution_count": 6,
   "id": "junior-banking",
   "metadata": {},
   "outputs": [
    {
     "name": "stdout",
     "output_type": "stream",
     "text": [
      "0\n",
      "0\n",
      "(array([], dtype=int64),)\n"
     ]
    }
   ],
   "source": [
    "for x in ['num_tot_kil', 'severity_cd']:\n",
    "    print (data_raw[x].isnull().sum())\n",
    "A = np.where( (\n",
    "    (data_raw['num_tot_kil'] == 0) & (data_raw['severity_cd'] == 'A') |\n",
    "    (data_raw['num_tot_kil'] > 0) & (data_raw['severity_cd'] != 'A') \n",
    "))\n",
    "print (A)"
   ]
  },
  {
   "cell_type": "code",
   "execution_count": 7,
   "id": "early-leeds",
   "metadata": {},
   "outputs": [],
   "source": [
    "data['fatal'] = data_raw['num_tot_kil'].apply(lambda x: 1 if x>0 else x)\n",
    "for x in ['num_tot_kil', 'severity_cd']:\n",
    "    data_raw_fields_to_drop.append(x)"
   ]
  },
  {
   "cell_type": "markdown",
   "id": "adjustable-vinyl",
   "metadata": {},
   "source": [
    "### Fields where I have No Idea What This Means"
   ]
  },
  {
   "cell_type": "code",
   "execution_count": 8,
   "id": "welcome-mistake",
   "metadata": {},
   "outputs": [],
   "source": [
    "for x in ['quadrant', 'spotted_by', 'bypass']:\n",
    "    data_raw_fields_to_drop.append(x)"
   ]
  },
  {
   "cell_type": "markdown",
   "id": "under-trance",
   "metadata": {},
   "source": [
    "### Fields with Time"
   ]
  },
  {
   "cell_type": "markdown",
   "id": "conservative-wright",
   "metadata": {},
   "source": [
    "- crash_date\n",
    "- crash_hour\n",
    "- crash_year\n",
    "- crash_time\n",
    "\n",
    "The years are all the same.\n",
    "\n",
    "What might be interesting is the month and the day of week."
   ]
  },
  {
   "cell_type": "code",
   "execution_count": 9,
   "id": "swedish-roots",
   "metadata": {},
   "outputs": [
    {
     "name": "stdout",
     "output_type": "stream",
     "text": [
      "0\n",
      "0\n",
      "   fatal  crash_month  crash_dayofweek  crash_hour\n",
      "0      0            1                1          17\n",
      "1      0            1                1          23\n",
      "2      0            1                1          22\n",
      "3      0            1                1          18\n",
      "4      0            1                1          19\n",
      "<class 'pandas.core.frame.DataFrame'>\n",
      "RangeIndex: 160186 entries, 0 to 160185\n",
      "Data columns (total 4 columns):\n",
      " #   Column           Non-Null Count   Dtype\n",
      "---  ------           --------------   -----\n",
      " 0   fatal            160186 non-null  int64\n",
      " 1   crash_month      160186 non-null  int64\n",
      " 2   crash_dayofweek  160186 non-null  int64\n",
      " 3   crash_hour       160186 non-null  int64\n",
      "dtypes: int64(4)\n",
      "memory usage: 4.9 MB\n",
      "None\n"
     ]
    }
   ],
   "source": [
    "for x in ['crash_date', 'crash_hour']:\n",
    "    print (data_raw[x].isnull().sum())\n",
    "#print (data_raw.crash_hour.value_counts())\n",
    "data_raw.crash_hour.replace(['  '], 25, inplace=True)\n",
    "#print (data_raw.crash_hour.unique())\n",
    "\n",
    "\n",
    "\n",
    "data['crash_month'] = data_raw['crash_date'].dt.month\n",
    "data['crash_dayofweek'] = data_raw['crash_date'].dt.dayofweek\n",
    "data['crash_hour'] = data_raw['crash_hour'].astype(int)\n",
    "\n",
    "for x in ['crash_month', 'crash_dayofweek', 'crash_hour']:\n",
    "    data_dummy_fields.append(x)\n",
    "for x in ['crash_date', 'crash_hour', 'crash_year', 'crash_time']:\n",
    "    data_raw_fields_to_drop.append(x)\n",
    "print (data.head())\n",
    "print (data.info())"
   ]
  },
  {
   "cell_type": "markdown",
   "id": "brown-teaching",
   "metadata": {},
   "source": [
    "### Fields with Direction\n",
    "I think I'll use just 'pri_road_dir,', which seems clean enough.  \n",
    "Change the blanks to 'Z'.\n",
    "Convert to type 'category'.\n",
    "Convert category to codes."
   ]
  },
  {
   "cell_type": "code",
   "execution_count": 10,
   "id": "monetary-broadway",
   "metadata": {},
   "outputs": [
    {
     "name": "stdout",
     "output_type": "stream",
     "text": [
      "travel_dirs ['    ', 'E   ', 'EE  ', 'EEE ', 'EEEE', 'EEEN', 'EEES', 'EEEW', 'EEN ', 'EENE', 'EENN', 'EENW', 'EES ', 'EESS', 'EESW', 'EEW ', 'EEWE', 'EEWW', 'EN  ', 'ENE ', 'ENEE', 'ENN ', 'ENNE', 'ENNN', 'ENNS', 'ENS ', 'ENSS', 'ENSW', 'ENW ', 'ENWN', 'ENWW', 'ES  ', 'ESE ', 'ESEE', 'ESN ', 'ESNE', 'ESNN', 'ESS ', 'ESSE', 'ESSS', 'ESSW', 'ESW ', 'ESWW', 'EW  ', 'EWE ', 'EWEE', 'EWN ', 'EWNN', 'EWS ', 'EWSS', 'EWW ', 'EWWE', 'EWWS', 'EWWW', 'N   ', 'NE  ', 'NEE ', 'NEEE', 'NEEW', 'NEN ', 'NES ', 'NESN', 'NESS', 'NEW ', 'NEWE', 'NN  ', 'NNE ', 'NNEE', 'NNES', 'NNN ', 'NNNE', 'NNNN', 'NNNS', 'NNNW', 'NNS ', 'NNSN', 'NNSS', 'NNW ', 'NNWN', 'NNWW', 'NS  ', 'NSE ', 'NSEE', 'NSEN', 'NSN ', 'NSNN', 'NSNW', 'NSS ', 'NSSE', 'NSSS', 'NSW ', 'NSWW', 'NW  ', 'NWE ', 'NWEE', 'NWEN', 'NWN ', 'NWNS', 'NWS ', 'NWSS', 'NWW ', 'NWWW', 'S   ', 'S S ', 'SE  ', 'SEE ', 'SEEE', 'SEN ', 'SENN', 'SES ', 'SESS', 'SEW ', 'SEWW', 'SN  ', 'SNE ', 'SNEN', 'SNN ', 'SNNN', 'SNNS', 'SNS ', 'SNSN', 'SNSS', 'SNW ', 'SNWW', 'SS  ', 'SSE ', 'SSEE', 'SSES', 'SSEW', 'SSN ', 'SSNN', 'SSNS', 'SSNW', 'SSS ', 'SSSE', 'SSSN', 'SSSS', 'SSSW', 'SSW ', 'SW  ', 'SWE ', 'SWEE', 'SWES', 'SWN ', 'SWS ', 'SWSN', 'SWSS', 'SWW ', 'SWWS', 'SWWW', 'W   ', 'WE  ', 'WEE ', 'WEEE', 'WEEN', 'WEEW', 'WEN ', 'WENN', 'WENW', 'WES ', 'WESS', 'WEW ', 'WEWE', 'WEWW', 'WN  ', 'WNE ', 'WNN ', 'WNNN', 'WNNS', 'WNS ', 'WNSS', 'WNW ', 'WS  ', 'WSE ', 'WSEE', 'WSEN', 'WSEW', 'WSN ', 'WSNN', 'WSS ', 'WSSS', 'WSW ', 'WSWS', 'WSWW', 'WW  ', 'WWE ', 'WWEE', 'WWEW', 'WWN ', 'WWNN', 'WWNS', 'WWS ', 'WWSS', 'WWSW', 'WWW ', 'WWWE', 'WWWN', 'WWWS', 'WWWW']\n",
      "pri_dir [nan, ' ', '.', '0', '1', '3', '4', '5', 'C', 'E', 'F', 'N', 'S', 'W']\n",
      "pri_road_dir [' ', 'E', 'N', 'NE', 'NW', 'S', 'SE', 'SW', 'W']\n",
      "['Z' 'W' 'N' 'S' 'E' 'SE' 'NE' 'NW' 'SW']\n",
      "\n",
      "   fatal  crash_month  crash_dayofweek  crash_hour pri_road_dir\n",
      "0      0            1                1          17            Z\n",
      "1      0            1                1          23            Z\n",
      "2      0            1                1          22            W\n",
      "3      0            1                1          18            Z\n",
      "4      0            1                1          19            Z\n",
      "<class 'pandas.core.frame.DataFrame'>\n",
      "RangeIndex: 160186 entries, 0 to 160185\n",
      "Data columns (total 5 columns):\n",
      " #   Column           Non-Null Count   Dtype \n",
      "---  ------           --------------   ----- \n",
      " 0   fatal            160186 non-null  int64 \n",
      " 1   crash_month      160186 non-null  int64 \n",
      " 2   crash_dayofweek  160186 non-null  int64 \n",
      " 3   crash_hour       160186 non-null  int64 \n",
      " 4   pri_road_dir     160186 non-null  object\n",
      "dtypes: int64(4), object(1)\n",
      "memory usage: 6.1+ MB\n",
      "None\n"
     ]
    }
   ],
   "source": [
    "for x in data_raw:\n",
    "    if 'dir' in x:\n",
    "        values = data_raw[x].unique()\n",
    "        print (x, sorted(values, key=lambda x: (str(type(x)), x)))\n",
    "data_raw['pri_road_dir'].replace([' '], 'Z', inplace=True)\n",
    "\n",
    "data_raw['pri_road_dir'] = data_raw['pri_road_dir'].astype('object')\n",
    "#data_raw['pri_road_dir'] = data_raw['pri_road_dir'].cat.codes\n",
    "\n",
    "print (data_raw['pri_road_dir'].unique())\n",
    "                                    \n",
    "data['pri_road_dir'] = data_raw['pri_road_dir']\n",
    "\n",
    "for x in ['pri_road_dir']:\n",
    "    data_dummy_fields.append(x)\n",
    "for x in ['travel_dirs', 'pri_dir', 'pri_road_dir']:\n",
    "    data_raw_fields_to_drop.append(x)\n",
    "\n",
    "print ()\n",
    "print (data.head())\n",
    "print (data.info())"
   ]
  },
  {
   "cell_type": "markdown",
   "id": "frozen-beads",
   "metadata": {},
   "source": [
    "### Fields of Binary Features"
   ]
  },
  {
   "cell_type": "code",
   "execution_count": 11,
   "id": "introductory-thong",
   "metadata": {},
   "outputs": [
    {
     "name": "stdout",
     "output_type": "stream",
     "text": [
      "intersection [0, 1]\n",
      "alcohol [0, 1]\n",
      "roadway_departure [0, 1]\n",
      "lane_departure [0, 1]\n",
      "dr_sex_1 [0, 1]\n",
      "dr_sex_2 [0, 1]\n",
      "\n",
      "   fatal  crash_month  crash_dayofweek  crash_hour pri_road_dir  intersection  \\\n",
      "0      0            1                1          17            Z             1   \n",
      "1      0            1                1          23            Z             1   \n",
      "2      0            1                1          22            W             0   \n",
      "3      0            1                1          18            Z             0   \n",
      "4      0            1                1          19            Z             1   \n",
      "\n",
      "   alcohol  roadway_departure  lane_departure  dr_sex_1  dr_sex_2  \n",
      "0        0                  0               0         1         1  \n",
      "1        0                  0               0         1         1  \n",
      "2        0                  0               0         1         0  \n",
      "3        0                  1               1         0         0  \n",
      "4        0                  0               0         0         1  \n",
      "<class 'pandas.core.frame.DataFrame'>\n",
      "RangeIndex: 160186 entries, 0 to 160185\n",
      "Data columns (total 11 columns):\n",
      " #   Column             Non-Null Count   Dtype \n",
      "---  ------             --------------   ----- \n",
      " 0   fatal              160186 non-null  int64 \n",
      " 1   crash_month        160186 non-null  int64 \n",
      " 2   crash_dayofweek    160186 non-null  int64 \n",
      " 3   crash_hour         160186 non-null  int64 \n",
      " 4   pri_road_dir       160186 non-null  object\n",
      " 5   intersection       160186 non-null  int64 \n",
      " 6   alcohol            160186 non-null  int64 \n",
      " 7   roadway_departure  160186 non-null  int64 \n",
      " 8   lane_departure     160186 non-null  int64 \n",
      " 9   dr_sex_1           160186 non-null  int64 \n",
      " 10  dr_sex_2           160186 non-null  int64 \n",
      "dtypes: int64(10), object(1)\n",
      "memory usage: 13.4+ MB\n",
      "None\n"
     ]
    }
   ],
   "source": [
    "for x in ['intersection', 'alcohol', 'roadway_departure', 'lane_departure', 'dr_sex_1', 'dr_sex_2']:\n",
    "    data_raw[x].fillna(' ', inplace=True)\n",
    "    data_raw[x].replace([' '], data_raw[x].mode(), inplace=True)\n",
    "    data_raw[x].replace({'M':1, 'F':0, 'No':0, 'Yes':1}, inplace=True)\n",
    "    values = data_raw[x].unique()\n",
    "    print (x, sorted(values, key=lambda x: (str(type(x)), x)))  \n",
    "    data[x] = data_raw[x]\n",
    "    data_raw_fields_to_drop.append(x)\n",
    "\n",
    "print ()\n",
    "print (data.head())\n",
    "print (data.info()) "
   ]
  },
  {
   "cell_type": "markdown",
   "id": "useful-bankruptcy",
   "metadata": {},
   "source": [
    "### Fields with Integer Values\n",
    "- 'num_tot_inj'\n",
    "    - Not dummy, because increasing values mean something.\n",
    "- 'num_veh'\n",
    "    - Not dummy, because increasing values mean something.\n",
    "- 'parish_cd'\n",
    "- 'parish_cd.1'\n",
    "- 'city_cd'  \n",
    "    - I don't know what cities the codes correlate to, but the '0' is probably 'Not in any of the 19 cities,' and may correlate to 'not urban.'"
   ]
  },
  {
   "cell_type": "code",
   "execution_count": 12,
   "id": "unsigned-nitrogen",
   "metadata": {},
   "outputs": [
    {
     "name": "stdout",
     "output_type": "stream",
     "text": [
      "num_tot_inj [0, 1, 2, 3, 4, 5, 6, 7, 8, 9, 10, 11, 12, 13, 14, 15, 16, 17, 18, 19, 20, 22, 23, 36, 37, 52, 64]\n",
      "num_tot_inj [0, 1, 2, 3, 4, 5, 6, 7, 8, 9, 10]\n",
      "num_veh [1, 2, 3, 4, 5, 6, 7, 8, 9, 10, 13, 16]\n",
      "num_veh [1, 2, 3, 4, 5, 6, 7, 8, 9, 10]\n",
      "parish_cd [1, 2, 3, 4, 5, 6, 7, 8, 9, 10, 11, 12, 13, 14, 15, 16, 17, 18, 19, 20, 21, 22, 23, 24, 25, 26, 27, 28, 29, 30, 31, 32, 33, 34, 35, 36, 37, 38, 39, 40, 41, 42, 43, 44, 45, 46, 47, 48, 49, 50, 51, 52, 53, 54, 55, 56, 57, 58, 59, 60, 61, 62, 63, 64]\n",
      "parish_cd.1 [0, 1, 2, 3, 4, 5, 6, 7, 8, 9, 10, 11, 12, 13, 14, 15, 16, 17, 18, 19, 20, 21, 22, 23, 24, 25, 26, 27, 28, 29, 30, 31, 32, 33, 34, 35, 36, 37, 38, 39, 40, 41, 42, 43, 44, 45, 46, 47, 48, 49, 50, 51, 52, 53, 54, 55, 56, 57, 58, 59, 60, 61, 62, 63, 64]\n",
      "city_cd [0, 1, 2, 3, 4, 5, 6, 7, 8, 9, 10, 11, 12, 13, 14, 15, 16, 17, 18, 44]\n",
      "\n",
      "   fatal  crash_month  crash_dayofweek  crash_hour pri_road_dir  intersection  \\\n",
      "0      0            1                1          17            Z             1   \n",
      "1      0            1                1          23            Z             1   \n",
      "2      0            1                1          22            W             0   \n",
      "3      0            1                1          18            Z             0   \n",
      "4      0            1                1          19            Z             1   \n",
      "\n",
      "   alcohol  roadway_departure  lane_departure  dr_sex_1  dr_sex_2  \\\n",
      "0        0                  0               0         1         1   \n",
      "1        0                  0               0         1         1   \n",
      "2        0                  0               0         1         0   \n",
      "3        0                  1               1         0         0   \n",
      "4        0                  0               0         0         1   \n",
      "\n",
      "   num_tot_inj  num_veh  parish_cd  parish_cd.1  city_cd  \n",
      "0            0        2         36           36        1  \n",
      "1            0        2         36           36        1  \n",
      "2            0        2         17           17        2  \n",
      "3            0        1          9            9        0  \n",
      "4            1        2         36           36        1  \n",
      "<class 'pandas.core.frame.DataFrame'>\n",
      "RangeIndex: 160186 entries, 0 to 160185\n",
      "Data columns (total 16 columns):\n",
      " #   Column             Non-Null Count   Dtype \n",
      "---  ------             --------------   ----- \n",
      " 0   fatal              160186 non-null  int64 \n",
      " 1   crash_month        160186 non-null  int64 \n",
      " 2   crash_dayofweek    160186 non-null  int64 \n",
      " 3   crash_hour         160186 non-null  int64 \n",
      " 4   pri_road_dir       160186 non-null  object\n",
      " 5   intersection       160186 non-null  int64 \n",
      " 6   alcohol            160186 non-null  int64 \n",
      " 7   roadway_departure  160186 non-null  int64 \n",
      " 8   lane_departure     160186 non-null  int64 \n",
      " 9   dr_sex_1           160186 non-null  int64 \n",
      " 10  dr_sex_2           160186 non-null  int64 \n",
      " 11  num_tot_inj        160186 non-null  int64 \n",
      " 12  num_veh            160186 non-null  int64 \n",
      " 13  parish_cd          160186 non-null  int64 \n",
      " 14  parish_cd.1        160186 non-null  int64 \n",
      " 15  city_cd            160186 non-null  int64 \n",
      "dtypes: int64(15), object(1)\n",
      "memory usage: 19.6+ MB\n",
      "None\n"
     ]
    }
   ],
   "source": [
    "# If more than 10, just lump in with 10.\n",
    "for x in ['num_tot_inj', 'num_veh']:\n",
    "    data_raw[x].fillna(data_raw[x].mode(), inplace=True)\n",
    "    values = data_raw[x].unique()\n",
    "    print (x, sorted(values, key=lambda x: (str(type(x)), x)))  \n",
    "    data_raw[x].where(data_raw[x] <10, 10, inplace=True)\n",
    "    values = data_raw[x].unique()\n",
    "    print (x, sorted(values, key=lambda x: (str(type(x)), x)))  \n",
    "    data[x] = data_raw[x]\n",
    "    data_raw_fields_to_drop.append(x)\n",
    "\n",
    "\n",
    "for x in ['parish_cd', 'parish_cd.1', 'city_cd']:\n",
    "    data_raw[x].fillna(data_raw[x].mode(), inplace=True)\n",
    "    values = data_raw[x].unique()\n",
    "    print (x, sorted(values, key=lambda x: (str(type(x)), x)))  \n",
    "    data[x] = data_raw[x]\n",
    "    data_dummy_fields.append(x)\n",
    "    data_raw_fields_to_drop.append(x)\n",
    "\n",
    "\n",
    "print ()\n",
    "print (data.head())\n",
    "print (data.info())"
   ]
  },
  {
   "cell_type": "markdown",
   "id": "industrial-synthetic",
   "metadata": {},
   "source": [
    "### Fields to Put in Ranges\n",
    "- 'dr_age_1'\n",
    "- 'dr_age_2'"
   ]
  },
  {
   "cell_type": "code",
   "execution_count": 13,
   "id": "signed-commercial",
   "metadata": {
    "scrolled": true
   },
   "outputs": [
    {
     "name": "stdout",
     "output_type": "stream",
     "text": [
      "(22.0, 30.0]     29092\n",
      "(1.999, 22.0]    28982\n",
      "(40.0, 56.0]     28270\n",
      "(30.0, 40.0]     27890\n",
      "(56.0, 99.0]     27462\n",
      "0                18490\n",
      "Name: dr_age_1_bin, dtype: int64\n",
      "0                33099\n",
      "(1.999, 26.0]    27664\n",
      "(34.0, 45.0]     27379\n",
      "(57.0, 97.0]     24573\n",
      "(45.0, 57.0]     24222\n",
      "(26.0, 34.0]     23249\n",
      "Name: dr_age_2_bin, dtype: int64\n",
      "\n",
      "   fatal  crash_month  crash_dayofweek  crash_hour pri_road_dir  intersection  \\\n",
      "0      0            1                1          17            Z             1   \n",
      "1      0            1                1          23            Z             1   \n",
      "2      0            1                1          22            W             0   \n",
      "3      0            1                1          18            Z             0   \n",
      "4      0            1                1          19            Z             1   \n",
      "\n",
      "   alcohol  roadway_departure  lane_departure  dr_sex_1  dr_sex_2  \\\n",
      "0        0                  0               0         1         1   \n",
      "1        0                  0               0         1         1   \n",
      "2        0                  0               0         1         0   \n",
      "3        0                  1               1         0         0   \n",
      "4        0                  0               0         0         1   \n",
      "\n",
      "   num_tot_inj  num_veh  parish_cd  parish_cd.1  city_cd   dr_age_1_bin  \\\n",
      "0            0        2         36           36        1              0   \n",
      "1            0        2         36           36        1              0   \n",
      "2            0        2         17           17        2  (1.999, 22.0]   \n",
      "3            0        1          9            9        0   (30.0, 40.0]   \n",
      "4            1        2         36           36        1   (22.0, 30.0]   \n",
      "\n",
      "   dr_age_2_bin  \n",
      "0  (26.0, 34.0]  \n",
      "1  (57.0, 97.0]  \n",
      "2  (26.0, 34.0]  \n",
      "3             0  \n",
      "4  (34.0, 45.0]  \n",
      "<class 'pandas.core.frame.DataFrame'>\n",
      "RangeIndex: 160186 entries, 0 to 160185\n",
      "Data columns (total 18 columns):\n",
      " #   Column             Non-Null Count   Dtype   \n",
      "---  ------             --------------   -----   \n",
      " 0   fatal              160186 non-null  int64   \n",
      " 1   crash_month        160186 non-null  int64   \n",
      " 2   crash_dayofweek    160186 non-null  int64   \n",
      " 3   crash_hour         160186 non-null  int64   \n",
      " 4   pri_road_dir       160186 non-null  object  \n",
      " 5   intersection       160186 non-null  int64   \n",
      " 6   alcohol            160186 non-null  int64   \n",
      " 7   roadway_departure  160186 non-null  int64   \n",
      " 8   lane_departure     160186 non-null  int64   \n",
      " 9   dr_sex_1           160186 non-null  int64   \n",
      " 10  dr_sex_2           160186 non-null  int64   \n",
      " 11  num_tot_inj        160186 non-null  int64   \n",
      " 12  num_veh            160186 non-null  int64   \n",
      " 13  parish_cd          160186 non-null  int64   \n",
      " 14  parish_cd.1        160186 non-null  int64   \n",
      " 15  city_cd            160186 non-null  int64   \n",
      " 16  dr_age_1_bin       160186 non-null  category\n",
      " 17  dr_age_2_bin       160186 non-null  category\n",
      "dtypes: category(2), int64(15), object(1)\n",
      "memory usage: 19.9+ MB\n",
      "None\n"
     ]
    }
   ],
   "source": [
    "for x in ['dr_age_1','dr_age_2']:\n",
    "    data_raw[x].fillna(0, inplace=True)\n",
    "    data_raw[x] = data_raw[x].astype(int)\n",
    "    data_raw.loc[(data_raw[x]>100), x] = 0\n",
    "    xbin = x + '_bin'\n",
    "    data_raw[xbin] = data_raw[x].replace(0,np.nan)    \n",
    "    data_raw[xbin] = pd.qcut(data_raw[xbin], 5, duplicates='drop').cat.add_categories(0)\n",
    "    data_raw[xbin].fillna(0, inplace=True)    \n",
    "    \n",
    "    data_raw[xbin] = data_raw[xbin].astype('category')\n",
    "#    data_raw[xbin] = data_raw[xbin].cat.codes\n",
    "\n",
    "    data[xbin] = data_raw[xbin]\n",
    "    values = data_raw[xbin].unique()\n",
    "    print (data[xbin].value_counts())\n",
    "    data_dummy_fields.append(xbin)\n",
    "    data_raw_fields_to_drop.append(x)\n",
    "    data_raw_fields_to_drop.append(xbin)\n",
    "\n",
    "print ()\n",
    "print (data.head())\n",
    "print (data.info())"
   ]
  },
  {
   "cell_type": "markdown",
   "id": "packed-roulette",
   "metadata": {},
   "source": [
    "### Distance from the Road\n",
    "This one is weird.  \n",
    "\n",
    "- The units are either in feet or miles.\n",
    "- For many values the units are missing, and for others the measure is extreme. \n",
    "- I'm going to \n",
    "-- make all of the entries with missing units or negative distance zero, \n",
    "-- change all of the lengths to feet,\n",
    "-- take out the zeroes, \n",
    "-- put in ranges,\n",
    "-- and put the zeroes back."
   ]
  },
  {
   "cell_type": "code",
   "execution_count": 14,
   "id": "direct-premises",
   "metadata": {},
   "outputs": [
    {
     "name": "stdout",
     "output_type": "stream",
     "text": [
      "pri_measure 3 ['' 'FT' 'MI']\n",
      "0                        60888\n",
      "(-0.0009, 50.0]          25224\n",
      "(150.0, 528.0]           22264\n",
      "(2901.02, 52794720.0]    19860\n",
      "(50.0, 150.0]            15993\n",
      "(528.0, 2901.02]         15957\n",
      "Name: pri_dist_bin, dtype: int64\n",
      "\n",
      "   fatal  crash_month  crash_dayofweek  crash_hour pri_road_dir  intersection  \\\n",
      "0      0            1                1          17            Z             1   \n",
      "1      0            1                1          23            Z             1   \n",
      "2      0            1                1          22            W             0   \n",
      "3      0            1                1          18            Z             0   \n",
      "4      0            1                1          19            Z             1   \n",
      "\n",
      "   alcohol  roadway_departure  lane_departure  dr_sex_1  dr_sex_2  \\\n",
      "0        0                  0               0         1         1   \n",
      "1        0                  0               0         1         1   \n",
      "2        0                  0               0         1         0   \n",
      "3        0                  1               1         0         0   \n",
      "4        0                  0               0         0         1   \n",
      "\n",
      "   num_tot_inj  num_veh  parish_cd  parish_cd.1  city_cd   dr_age_1_bin  \\\n",
      "0            0        2         36           36        1              0   \n",
      "1            0        2         36           36        1              0   \n",
      "2            0        2         17           17        2  (1.999, 22.0]   \n",
      "3            0        1          9            9        0   (30.0, 40.0]   \n",
      "4            1        2         36           36        1   (22.0, 30.0]   \n",
      "\n",
      "   dr_age_2_bin           pri_dist_bin  \n",
      "0  (26.0, 34.0]                      0  \n",
      "1  (57.0, 97.0]                      0  \n",
      "2  (26.0, 34.0]        (-0.0009, 50.0]  \n",
      "3             0  (2901.02, 52794720.0]  \n",
      "4  (34.0, 45.0]                      0  \n",
      "<class 'pandas.core.frame.DataFrame'>\n",
      "RangeIndex: 160186 entries, 0 to 160185\n",
      "Data columns (total 19 columns):\n",
      " #   Column             Non-Null Count   Dtype   \n",
      "---  ------             --------------   -----   \n",
      " 0   fatal              160186 non-null  int64   \n",
      " 1   crash_month        160186 non-null  int64   \n",
      " 2   crash_dayofweek    160186 non-null  int64   \n",
      " 3   crash_hour         160186 non-null  int64   \n",
      " 4   pri_road_dir       160186 non-null  object  \n",
      " 5   intersection       160186 non-null  int64   \n",
      " 6   alcohol            160186 non-null  int64   \n",
      " 7   roadway_departure  160186 non-null  int64   \n",
      " 8   lane_departure     160186 non-null  int64   \n",
      " 9   dr_sex_1           160186 non-null  int64   \n",
      " 10  dr_sex_2           160186 non-null  int64   \n",
      " 11  num_tot_inj        160186 non-null  int64   \n",
      " 12  num_veh            160186 non-null  int64   \n",
      " 13  parish_cd          160186 non-null  int64   \n",
      " 14  parish_cd.1        160186 non-null  int64   \n",
      " 15  city_cd            160186 non-null  int64   \n",
      " 16  dr_age_1_bin       160186 non-null  category\n",
      " 17  dr_age_2_bin       160186 non-null  category\n",
      " 18  pri_dist_bin       160186 non-null  category\n",
      "dtypes: category(3), int64(15), object(1)\n",
      "memory usage: 20.0+ MB\n",
      "None\n"
     ]
    }
   ],
   "source": [
    "for x in ['pri_measure']:\n",
    "    data_raw[x] = data_raw[x].str.strip()\n",
    "    values = data_raw[x].unique()\n",
    "    print (x, len(values), values)\n",
    "data_raw.loc[data_raw['pri_measure'] == '', 'pri_dist'] = 0\n",
    "data_raw.loc[data_raw['pri_dist'] <= 0, 'pri_dist'] = 0\n",
    "data_raw.loc[data_raw['pri_measure'] == 'MI', 'pri_dist'] *= 5280\n",
    "\n",
    "for x in ['pri_dist']:\n",
    "    data_raw[x].fillna(0, inplace=True)\n",
    "#    data_raw[x] = data_raw[x].astype(int)\n",
    "#    data_raw.loc[(data_raw[x]>100), x] = 0\n",
    "    xbin = x + '_bin'\n",
    "    data_raw[xbin] = data_raw[x].replace(0,np.nan)    \n",
    "    data_raw[xbin] = pd.qcut(data_raw[xbin], 5, duplicates='drop').cat.add_categories(0)\n",
    "    data_raw[xbin].fillna(0, inplace=True)\n",
    "    \n",
    "    data_raw[xbin] = data_raw[xbin].astype('category')\n",
    "#    data_raw[xbin] = data_raw[xbin].cat.codes\n",
    "    \n",
    "    data[xbin] = data_raw[xbin]\n",
    "    print (data_raw[xbin].value_counts())\n",
    "    data_dummy_fields.append(xbin)\n",
    "    data_raw_fields_to_drop.append(x)\n",
    "    data_raw_fields_to_drop.append(xbin)\n",
    "\n",
    "for x in ['pri_measure']:\n",
    "    data_raw_fields_to_drop.append(x)\n",
    "    \n",
    "\n",
    "print ()\n",
    "print (data.head())\n",
    "print (data.info())"
   ]
  },
  {
   "cell_type": "markdown",
   "id": "separated-panama",
   "metadata": {},
   "source": [
    "### Alpha fields with 'Y' = 'Unknown' or 'Z' = 'Other'"
   ]
  },
  {
   "cell_type": "markdown",
   "id": "specialized-album",
   "metadata": {},
   "source": [
    "We have lots of fields where 'Y' is 'Unknown' and 'Z' is 'Other.  \n",
    "- Merge nan, blank, erroneous intergers, Y, and Z, into 'Z'. \n",
    "\n",
    "Other related Alpha fields:\n",
    "- 'crash_type' does not have a Y or Z, and I can't figure out what it means.\n",
    "- 'hwy_class' is mixed Alpha and integers, and I have no idea what it means.\n",
    "- 'contributing_factor' has two values, 'R' and 'O', and I have no idea what it means.\n",
    "- 'veh_severity' has five values, and I have no idea what it means.\n",
    "\n",
    "These fields have trailing spaces I had to remove:\n",
    "- 'f_harm_ev_cd1'\n",
    "- 'm_harm_ev_cd1'\n",
    "\n",
    "I lumped in some other fields here:\n",
    " - 'crash_type'\n",
    " - 'pri_contrib_fac_cd'\n",
    " - 'sec_pri_contrib_fac_cd'\n",
    " - 'hwy_type_cd'"
   ]
  },
  {
   "cell_type": "code",
   "execution_count": 15,
   "id": "radio-plumbing",
   "metadata": {},
   "outputs": [
    {
     "name": "stdout",
     "output_type": "stream",
     "text": [
      "f_harm_ev_cd1 ['', 'A', 'AA', 'B', 'BB', 'C', 'CC', 'D', 'DD', 'E', 'EE', 'F', 'FF', 'G', 'GG', 'H', 'HH', 'I', 'II', 'J', 'JJ', 'K', 'KK', 'L', 'LL', 'M', 'MM', 'N', 'NN', 'O', 'OO', 'P', 'PP', 'Q', 'QQ', 'R', 'S', 'T', 'U', 'V', 'W', 'X', 'Y', 'YY', 'Z']\n",
      "f_harm_ev_cd1 ['', 'A', 'AA', 'B', 'BB', 'C', 'CC', 'D', 'DD', 'E', 'EE', 'F', 'FF', 'G', 'GG', 'H', 'HH', 'I', 'II', 'J', 'JJ', 'K', 'KK', 'L', 'LL', 'M', 'MM', 'N', 'NN', 'O', 'OO', 'P', 'PP', 'Q', 'QQ', 'R', 'S', 'T', 'U', 'V', 'W', 'X', 'YY', 'Z']\n",
      "\n",
      "m_harm_ev_cd1 ['', 'A', 'AA', 'B', 'BB', 'C', 'CC', 'D', 'DD', 'E', 'EE', 'F', 'FF', 'G', 'GG', 'H', 'HH', 'I', 'II', 'J', 'JJ', 'K', 'KK', 'L', 'LL', 'M', 'MM', 'N', 'NN', 'O', 'OO', 'P', 'PP', 'Q', 'QQ', 'R', 'S', 'T', 'U', 'V', 'W', 'X', 'Y', 'YY', 'Z']\n",
      "m_harm_ev_cd1 ['', 'A', 'AA', 'B', 'BB', 'C', 'CC', 'D', 'DD', 'E', 'EE', 'F', 'FF', 'G', 'GG', 'H', 'HH', 'I', 'II', 'J', 'JJ', 'K', 'KK', 'L', 'LL', 'M', 'MM', 'N', 'NN', 'O', 'OO', 'P', 'PP', 'Q', 'QQ', 'R', 'S', 'T', 'U', 'V', 'W', 'X', 'YY', 'Z']\n",
      "\n",
      "man_coll_cd ['A', 'B', 'C', 'D', 'E', 'F', 'G', 'H', 'I', 'J', 'K', 'Z']\n",
      "man_coll_cd ['A', 'B', 'C', 'D', 'E', 'F', 'G', 'H', 'I', 'J', 'K', 'Z']\n",
      "\n",
      "crash_type ['A', 'B', 'C', 'D', 'E', 'F', 'G', 'H', 'J', 'K', 'M', 'N', 'P', 'Q', 'R', 'S', 'T', 'U', 'X']\n",
      "crash_type ['A', 'B', 'C', 'D', 'E', 'F', 'G', 'H', 'J', 'K', 'M', 'N', 'P', 'Q', 'R', 'S', 'T', 'U', 'X']\n",
      "\n",
      "surf_cond_cd [' ', '1', '2', 'A', 'B', 'C', 'D', 'E', 'Y', 'Z']\n",
      "surf_cond_cd ['A', 'B', 'C', 'D', 'E', 'Z']\n",
      "\n",
      "invest_agency_cd ['A', 'B', 'C', 'Z']\n",
      "invest_agency_cd ['A', 'B', 'C', 'Z']\n",
      "\n",
      "veh_type_cd1 [' ', 'A', 'B', 'C', 'D', 'E', 'F', 'G', 'H', 'I', 'J', 'K', 'L', 'M', 'N', 'P', 'Q', 'R', 'S', 'T', 'V', 'Z']\n",
      "veh_type_cd1 ['A', 'B', 'C', 'D', 'E', 'F', 'G', 'H', 'I', 'J', 'K', 'L', 'M', 'N', 'P', 'Q', 'R', 'S', 'T', 'V', 'Z']\n",
      "\n",
      "veh_type_cd2 [' ', 'A', 'B', 'C', 'D', 'E', 'F', 'G', 'H', 'I', 'J', 'K', 'L', 'M', 'N', 'P', 'Q', 'R', 'S', 'T', 'V', 'Z']\n",
      "veh_type_cd2 ['A', 'B', 'C', 'D', 'E', 'F', 'G', 'H', 'I', 'J', 'K', 'L', 'M', 'N', 'P', 'Q', 'R', 'S', 'T', 'V', 'Z']\n",
      "\n",
      "road_rel_cd [' ', '1', 'A', 'B', 'C', 'D', 'E', 'F', 'G', 'Y', 'Z']\n",
      "road_rel_cd ['A', 'B', 'C', 'D', 'E', 'F', 'G', 'Z']\n",
      "\n",
      "location_type ['A', 'B', 'C', 'D', 'E', 'F', 'H', 'Z']\n",
      "location_type ['A', 'B', 'C', 'D', 'E', 'F', 'H', 'Z']\n",
      "\n",
      "veh_severity_cd ['B', 'C', 'D', 'E', 'Y']\n",
      "veh_severity_cd ['B', 'C', 'D', 'E', 'Z']\n",
      "\n",
      "hwy_type_cd ['A', 'B', 'C', 'D', 'E', 'G']\n",
      "hwy_type_cd ['A', 'B', 'C', 'D', 'E', 'G']\n",
      "\n",
      "bypass [' ', '0', '1', '10', '12', '13', '2', '20', '22', '23', '3', '30', '38', '4', '42', '45', '49', '5', '51', '55', '6', '61', '71', '73', '79', '8', '80', '88', '9', '90', '96', 'A', 'B', 'C', 'D', 'E', 'I', 'N', 'O', 'P', 'S', 'Sp', 'W', 'X', 'Y', '`', 'b']\n",
      "bypass ['A', 'B', 'C', 'D', 'E', 'I', 'N', 'O', 'P', 'S', 'Sp', 'W', 'X', 'Z', '`', 'b']\n",
      "\n",
      "pri_contrib_fac_cd [' ', '1', 'A', 'B', 'C', 'D', 'E', 'F', 'G', 'H', 'I', 'J', 'K', 'L', 'M']\n",
      "pri_contrib_fac_cd ['A', 'B', 'C', 'D', 'E', 'F', 'G', 'H', 'I', 'J', 'K', 'L', 'M', 'Z']\n",
      "\n",
      "sec_contrib_fac_cd [' ', '1', 'A', 'B', 'C', 'D', 'E', 'F', 'G', 'H', 'I', 'J', 'K', 'L', 'M']\n",
      "sec_contrib_fac_cd ['A', 'B', 'C', 'D', 'E', 'F', 'G', 'H', 'I', 'J', 'K', 'L', 'M', 'Z']\n",
      "\n",
      "vision_obscure_1 [nan, ' ', 'A', 'B', 'C', 'D', 'E', 'F', 'G', 'H', 'I', 'J', 'K', 'L', 'M', 'N', 'Y', 'Z']\n",
      "vision_obscure_1 ['A', 'B', 'C', 'D', 'E', 'F', 'G', 'H', 'I', 'J', 'K', 'L', 'M', 'N', 'Z']\n",
      "\n",
      "vision_obscure_2 [nan, ' ', 'A', 'B', 'C', 'D', 'E', 'F', 'G', 'H', 'I', 'J', 'K', 'L', 'M', 'N', 'Y', 'Z']\n",
      "vision_obscure_2 ['A', 'B', 'C', 'D', 'E', 'F', 'G', 'H', 'I', 'J', 'K', 'L', 'M', 'N', 'Z']\n",
      "\n",
      "movement_reason_1 [nan, ' ', 'A', 'B', 'C', 'D', 'E', 'F', 'G', 'H', 'I', 'J', 'K', 'L', 'M', 'N', 'O', 'P', 'Y', 'Z']\n",
      "movement_reason_1 ['A', 'B', 'C', 'D', 'E', 'F', 'G', 'H', 'I', 'J', 'K', 'L', 'M', 'N', 'O', 'P', 'Z']\n",
      "\n",
      "movement_reason_2 [nan, ' ', 'A', 'B', 'C', 'D', 'E', 'F', 'G', 'H', 'I', 'J', 'K', 'L', 'M', 'N', 'O', 'P', 'Y', 'Z']\n",
      "movement_reason_2 ['A', 'B', 'C', 'D', 'E', 'F', 'G', 'H', 'I', 'J', 'K', 'L', 'M', 'N', 'O', 'P', 'Z']\n",
      "\n",
      "ped_actions_1 [nan, ' ', 'A', 'B', 'C', 'D', 'E', 'F', 'G', 'H', 'I', 'J', 'K', 'Y', 'Z']\n",
      "ped_actions_1 ['A', 'B', 'C', 'D', 'E', 'F', 'G', 'H', 'I', 'J', 'K', 'Z']\n",
      "\n",
      "veh_lighting_1 [nan, ' ', 'A', 'B', 'C', 'D', 'Y']\n",
      "veh_lighting_1 ['A', 'B', 'C', 'D', 'Z']\n",
      "\n",
      "veh_lighting_2 [nan, ' ', 'A', 'B', 'C', 'Y']\n",
      "veh_lighting_2 ['A', 'B', 'C', 'Z']\n",
      "\n",
      "traff_cntl_cond_1 [nan, ' ', 'A', 'B', 'C', 'D', 'E', 'F', 'G', 'H', 'I', 'J', 'K', 'L', 'M', 'N', 'O', 'P', 'Q', 'R', 'S', 'T', 'U', 'V', 'Y', 'Z']\n",
      "traff_cntl_cond_1 ['A', 'B', 'C', 'D', 'E', 'F', 'G', 'H', 'I', 'J', 'K', 'L', 'M', 'N', 'O', 'P', 'Q', 'R', 'S', 'T', 'U', 'V', 'Z']\n",
      "\n",
      "traff_cntl_cond_2 [nan, ' ', 'A', 'B', 'C', 'D', 'E', 'F', 'G', 'H', 'I', 'J', 'K', 'L', 'M', 'N', 'O', 'P', 'Q', 'R', 'S', 'T', 'U', 'V', 'Y', 'Z']\n",
      "traff_cntl_cond_2 ['A', 'B', 'C', 'D', 'E', 'F', 'G', 'H', 'I', 'J', 'K', 'L', 'M', 'N', 'O', 'P', 'Q', 'R', 'S', 'T', 'U', 'V', 'Z']\n",
      "\n",
      "pri_road_dir ['E', 'N', 'NE', 'NW', 'S', 'SE', 'SW', 'W', 'Z']\n",
      "pri_road_dir ['E', 'N', 'NE', 'NW', 'S', 'SE', 'SW', 'W', 'Z']\n",
      "\n",
      "lighting_cd [' ', '1', '2', 'A', 'B', 'C', 'D', 'E', 'F', 'Y', 'Z']\n",
      "lighting_cd ['A', 'B', 'C', 'D', 'E', 'F', 'Z']\n",
      "\n",
      "dr_cond_cd1 [' ', 'A', 'B', 'C', 'D', 'E', 'F', 'G', 'H', 'I', 'J', 'K', 'Y', 'Z']\n",
      "dr_cond_cd1 ['A', 'B', 'C', 'D', 'E', 'F', 'G', 'H', 'I', 'J', 'K', 'Z']\n",
      "\n",
      "dr_cond_cd2 [' ', 'A', 'B', 'C', 'D', 'E', 'F', 'G', 'H', 'I', 'J', 'K', 'Y', 'Z']\n",
      "dr_cond_cd2 ['A', 'B', 'C', 'D', 'E', 'F', 'G', 'H', 'I', 'J', 'K', 'Z']\n",
      "\n",
      "veh_cond_cd1 [' ', 'A', 'B', 'C', 'D', 'E', 'F', 'G', 'H', 'I', 'J', 'K', 'Y', 'Z']\n",
      "veh_cond_cd1 ['A', 'B', 'C', 'D', 'E', 'F', 'G', 'H', 'I', 'J', 'K', 'Z']\n",
      "\n",
      "veh_cond_cd2 [' ', 'A', 'B', 'C', 'D', 'E', 'F', 'G', 'H', 'I', 'J', 'K', 'Y', 'Z']\n",
      "veh_cond_cd2 ['A', 'B', 'C', 'D', 'E', 'F', 'G', 'H', 'I', 'J', 'K', 'Z']\n",
      "\n",
      "\n",
      "   fatal  crash_month  crash_dayofweek  crash_hour pri_road_dir  intersection  \\\n",
      "0      0            1                1          17            Z             1   \n",
      "1      0            1                1          23            Z             1   \n",
      "2      0            1                1          22            W             0   \n",
      "3      0            1                1          18            Z             0   \n",
      "4      0            1                1          19            Z             1   \n",
      "\n",
      "   alcohol  roadway_departure  lane_departure  dr_sex_1  ...  ped_actions_1  \\\n",
      "0        0                  0               0         1  ...              Z   \n",
      "1        0                  0               0         1  ...              Z   \n",
      "2        0                  0               0         1  ...              Z   \n",
      "3        0                  1               1         0  ...              Z   \n",
      "4        0                  0               0         0  ...              Z   \n",
      "\n",
      "   veh_lighting_1  veh_lighting_2  traff_cntl_cond_1  traff_cntl_cond_2  \\\n",
      "0               Z               A                  A                  V   \n",
      "1               Z               A                  A                  U   \n",
      "2               A               A                  Q                  C   \n",
      "3               A               Z                  S                  Z   \n",
      "4               A               A                  R                  R   \n",
      "\n",
      "   lighting_cd dr_cond_cd1 dr_cond_cd2 veh_cond_cd1 veh_cond_cd2  \n",
      "0            A           Z           A            Z            K  \n",
      "1            C           A           A            K            K  \n",
      "2            C           A           A            K            K  \n",
      "3            B           A           Z            K            Z  \n",
      "4            C           A           A            K            K  \n",
      "\n",
      "[5 rows x 48 columns]\n",
      "<class 'pandas.core.frame.DataFrame'>\n",
      "RangeIndex: 160186 entries, 0 to 160185\n",
      "Data columns (total 48 columns):\n",
      " #   Column              Non-Null Count   Dtype   \n",
      "---  ------              --------------   -----   \n",
      " 0   fatal               160186 non-null  int64   \n",
      " 1   crash_month         160186 non-null  int64   \n",
      " 2   crash_dayofweek     160186 non-null  int64   \n",
      " 3   crash_hour          160186 non-null  int64   \n",
      " 4   pri_road_dir        160186 non-null  category\n",
      " 5   intersection        160186 non-null  int64   \n",
      " 6   alcohol             160186 non-null  int64   \n",
      " 7   roadway_departure   160186 non-null  int64   \n",
      " 8   lane_departure      160186 non-null  int64   \n",
      " 9   dr_sex_1            160186 non-null  int64   \n",
      " 10  dr_sex_2            160186 non-null  int64   \n",
      " 11  num_tot_inj         160186 non-null  int64   \n",
      " 12  num_veh             160186 non-null  int64   \n",
      " 13  parish_cd           160186 non-null  int64   \n",
      " 14  parish_cd.1         160186 non-null  int64   \n",
      " 15  city_cd             160186 non-null  int64   \n",
      " 16  dr_age_1_bin        160186 non-null  category\n",
      " 17  dr_age_2_bin        160186 non-null  category\n",
      " 18  pri_dist_bin        160186 non-null  category\n",
      " 19  f_harm_ev_cd1       160186 non-null  category\n",
      " 20  m_harm_ev_cd1       160186 non-null  category\n",
      " 21  man_coll_cd         160186 non-null  category\n",
      " 22  crash_type          160186 non-null  category\n",
      " 23  surf_cond_cd        160186 non-null  category\n",
      " 24  invest_agency_cd    160186 non-null  category\n",
      " 25  veh_type_cd1        160186 non-null  category\n",
      " 26  veh_type_cd2        160186 non-null  category\n",
      " 27  road_rel_cd         160186 non-null  category\n",
      " 28  location_type       160186 non-null  category\n",
      " 29  veh_severity_cd     160186 non-null  category\n",
      " 30  hwy_type_cd         160186 non-null  category\n",
      " 31  bypass              160186 non-null  category\n",
      " 32  pri_contrib_fac_cd  160186 non-null  category\n",
      " 33  sec_contrib_fac_cd  160186 non-null  category\n",
      " 34  vision_obscure_1    160186 non-null  category\n",
      " 35  vision_obscure_2    160186 non-null  category\n",
      " 36  movement_reason_1   160186 non-null  category\n",
      " 37  movement_reason_2   160186 non-null  category\n",
      " 38  ped_actions_1       160186 non-null  category\n",
      " 39  veh_lighting_1      160186 non-null  category\n",
      " 40  veh_lighting_2      160186 non-null  category\n",
      " 41  traff_cntl_cond_1   160186 non-null  category\n",
      " 42  traff_cntl_cond_2   160186 non-null  category\n",
      " 43  lighting_cd         160186 non-null  category\n",
      " 44  dr_cond_cd1         160186 non-null  category\n",
      " 45  dr_cond_cd2         160186 non-null  category\n",
      " 46  veh_cond_cd1        160186 non-null  category\n",
      " 47  veh_cond_cd2        160186 non-null  category\n",
      "dtypes: category(33), int64(15)\n",
      "memory usage: 23.4 MB\n",
      "None\n"
     ]
    }
   ],
   "source": [
    "for x in ['f_harm_ev_cd1', 'm_harm_ev_cd1']:\n",
    "    data_raw[x] = data_raw[x].str.strip()\n",
    "\n",
    "for x in data_raw:\n",
    "    values = data_raw[x].unique()\n",
    "    if (\n",
    "        (('Y' in values or 'Z' in values) and len(values)<50)\n",
    "        or x in ['crash_type', 'pri_contrib_fac_cd', 'sec_contrib_fac_cd', 'hwy_type_cd']\n",
    "    ):\n",
    "        print (x, sorted(values, key=lambda x: (str(type(x)), x)))\n",
    "        data_raw[x].fillna('Z', inplace=True)\n",
    "        data_raw[x].replace([' ', 'Y'], 'Z', inplace=True)\n",
    "        data_raw[x] = data_raw[x].apply(lambda x: 'Z' if x.isnumeric() else x)\n",
    "        values = data_raw[x].unique()\n",
    "        print (x, sorted(values, key=lambda x: (str(type(x)), x)))\n",
    "        print ()\n",
    "        \n",
    "        data_raw[x] = data_raw[x].astype('category')\n",
    "#        data_raw[x] = data_raw[x].cat.codes\n",
    "        \n",
    "        data[x] = data_raw[x]\n",
    "        data_dummy_fields.append(x)\n",
    "        data_raw_fields_to_drop.append(x)\n",
    "        \n",
    "for x in ['hwy_class', 'contributing_factor']:\n",
    "    data_raw_fields_to_drop.append(x)\n",
    "    \n",
    "\n",
    "print ()\n",
    "print (data.head())\n",
    "print (data.info())"
   ]
  },
  {
   "cell_type": "markdown",
   "id": "deluxe-assault",
   "metadata": {},
   "source": [
    "## Blank Field"
   ]
  },
  {
   "cell_type": "code",
   "execution_count": 16,
   "id": "charitable-corps",
   "metadata": {},
   "outputs": [],
   "source": [
    "for x in ['ped_actions_2']:\n",
    "    data_raw_fields_to_drop.append(x)"
   ]
  },
  {
   "cell_type": "markdown",
   "id": "joined-arrest",
   "metadata": {},
   "source": [
    "## Review Data"
   ]
  },
  {
   "cell_type": "markdown",
   "id": "unknown-spider",
   "metadata": {},
   "source": [
    "### Drop Used Fields from 'data_raw'"
   ]
  },
  {
   "cell_type": "code",
   "execution_count": 17,
   "id": "material-charge",
   "metadata": {},
   "outputs": [
    {
     "name": "stdout",
     "output_type": "stream",
     "text": [
      "(160186, 79)\n",
      "(160186, 18)\n"
     ]
    }
   ],
   "source": [
    "print (data_raw.shape)\n",
    "data_raw_dropped = data_raw.drop(data_raw_fields_to_drop, axis=1, inplace=False)\n",
    "print (data_raw_dropped.shape)"
   ]
  },
  {
   "cell_type": "markdown",
   "id": "further-french",
   "metadata": {},
   "source": [
    "### Remaining Fields\n",
    "I don't know that any of these are likely to correlate.  "
   ]
  },
  {
   "cell_type": "code",
   "execution_count": 18,
   "id": "likely-hybrid",
   "metadata": {},
   "outputs": [
    {
     "name": "stdout",
     "output_type": "stream",
     "text": [
      "route 1024\n",
      "milepoint 53808\n",
      "crash_num 160186\n",
      "prior_movements 1322\n",
      "csect 2141\n",
      "logmile 18203\n",
      "lrs_id 4788\n",
      "lrs_logmile 18093\n",
      "adt 749\n",
      "intersection_id 15037\n",
      "ORIG_LATITUDE 91540\n",
      "ORIG_LONGITUDE 87921\n",
      "DOTD_LATITUDE 127283\n",
      "DOTD_LONGITUDE 130753\n",
      "pri_hwy_num 1006\n",
      "milepost 7172\n",
      "pri_road_name 15724\n",
      "inter_road 35371\n"
     ]
    }
   ],
   "source": [
    "for x in data_raw_dropped:\n",
    "    values = data_raw_dropped[x].unique()\n",
    "    print (x, len(values))"
   ]
  },
  {
   "cell_type": "markdown",
   "id": "imposed-nickel",
   "metadata": {},
   "source": [
    "### Fields in 'data' dataframe"
   ]
  },
  {
   "cell_type": "code",
   "execution_count": 19,
   "id": "recovered-lyric",
   "metadata": {},
   "outputs": [
    {
     "name": "stdout",
     "output_type": "stream",
     "text": [
      "fatal\n",
      "crash_month\n",
      "crash_dayofweek\n",
      "crash_hour\n",
      "pri_road_dir\n",
      "intersection\n",
      "alcohol\n",
      "roadway_departure\n",
      "lane_departure\n",
      "dr_sex_1\n",
      "dr_sex_2\n",
      "num_tot_inj\n",
      "num_veh\n",
      "parish_cd\n",
      "parish_cd.1\n",
      "city_cd\n",
      "dr_age_1_bin\n",
      "dr_age_2_bin\n",
      "pri_dist_bin\n",
      "f_harm_ev_cd1\n",
      "m_harm_ev_cd1\n",
      "man_coll_cd\n",
      "crash_type\n",
      "surf_cond_cd\n",
      "invest_agency_cd\n",
      "veh_type_cd1\n",
      "veh_type_cd2\n",
      "road_rel_cd\n",
      "location_type\n",
      "veh_severity_cd\n",
      "hwy_type_cd\n",
      "bypass\n",
      "pri_contrib_fac_cd\n",
      "sec_contrib_fac_cd\n",
      "vision_obscure_1\n",
      "vision_obscure_2\n",
      "movement_reason_1\n",
      "movement_reason_2\n",
      "ped_actions_1\n",
      "veh_lighting_1\n",
      "veh_lighting_2\n",
      "traff_cntl_cond_1\n",
      "traff_cntl_cond_2\n",
      "lighting_cd\n",
      "dr_cond_cd1\n",
      "dr_cond_cd2\n",
      "veh_cond_cd1\n",
      "veh_cond_cd2\n"
     ]
    }
   ],
   "source": [
    "for x in data:\n",
    "    print (x)"
   ]
  },
  {
   "cell_type": "code",
   "execution_count": 20,
   "id": "biological-midnight",
   "metadata": {},
   "outputs": [
    {
     "name": "stdout",
     "output_type": "stream",
     "text": [
      "<class 'pandas.core.frame.DataFrame'>\n",
      "RangeIndex: 160186 entries, 0 to 160185\n",
      "Data columns (total 48 columns):\n",
      " #   Column              Non-Null Count   Dtype   \n",
      "---  ------              --------------   -----   \n",
      " 0   fatal               160186 non-null  int64   \n",
      " 1   crash_month         160186 non-null  int64   \n",
      " 2   crash_dayofweek     160186 non-null  int64   \n",
      " 3   crash_hour          160186 non-null  int64   \n",
      " 4   pri_road_dir        160186 non-null  category\n",
      " 5   intersection        160186 non-null  int64   \n",
      " 6   alcohol             160186 non-null  int64   \n",
      " 7   roadway_departure   160186 non-null  int64   \n",
      " 8   lane_departure      160186 non-null  int64   \n",
      " 9   dr_sex_1            160186 non-null  int64   \n",
      " 10  dr_sex_2            160186 non-null  int64   \n",
      " 11  num_tot_inj         160186 non-null  int64   \n",
      " 12  num_veh             160186 non-null  int64   \n",
      " 13  parish_cd           160186 non-null  int64   \n",
      " 14  parish_cd.1         160186 non-null  int64   \n",
      " 15  city_cd             160186 non-null  int64   \n",
      " 16  dr_age_1_bin        160186 non-null  category\n",
      " 17  dr_age_2_bin        160186 non-null  category\n",
      " 18  pri_dist_bin        160186 non-null  category\n",
      " 19  f_harm_ev_cd1       160186 non-null  category\n",
      " 20  m_harm_ev_cd1       160186 non-null  category\n",
      " 21  man_coll_cd         160186 non-null  category\n",
      " 22  crash_type          160186 non-null  category\n",
      " 23  surf_cond_cd        160186 non-null  category\n",
      " 24  invest_agency_cd    160186 non-null  category\n",
      " 25  veh_type_cd1        160186 non-null  category\n",
      " 26  veh_type_cd2        160186 non-null  category\n",
      " 27  road_rel_cd         160186 non-null  category\n",
      " 28  location_type       160186 non-null  category\n",
      " 29  veh_severity_cd     160186 non-null  category\n",
      " 30  hwy_type_cd         160186 non-null  category\n",
      " 31  bypass              160186 non-null  category\n",
      " 32  pri_contrib_fac_cd  160186 non-null  category\n",
      " 33  sec_contrib_fac_cd  160186 non-null  category\n",
      " 34  vision_obscure_1    160186 non-null  category\n",
      " 35  vision_obscure_2    160186 non-null  category\n",
      " 36  movement_reason_1   160186 non-null  category\n",
      " 37  movement_reason_2   160186 non-null  category\n",
      " 38  ped_actions_1       160186 non-null  category\n",
      " 39  veh_lighting_1      160186 non-null  category\n",
      " 40  veh_lighting_2      160186 non-null  category\n",
      " 41  traff_cntl_cond_1   160186 non-null  category\n",
      " 42  traff_cntl_cond_2   160186 non-null  category\n",
      " 43  lighting_cd         160186 non-null  category\n",
      " 44  dr_cond_cd1         160186 non-null  category\n",
      " 45  dr_cond_cd2         160186 non-null  category\n",
      " 46  veh_cond_cd1        160186 non-null  category\n",
      " 47  veh_cond_cd2        160186 non-null  category\n",
      "dtypes: category(33), int64(15)\n",
      "memory usage: 23.4 MB\n"
     ]
    }
   ],
   "source": [
    "data.info()"
   ]
  },
  {
   "cell_type": "code",
   "execution_count": 21,
   "id": "hundred-monitor",
   "metadata": {},
   "outputs": [
    {
     "data": {
      "text/html": [
       "<div>\n",
       "<style scoped>\n",
       "    .dataframe tbody tr th:only-of-type {\n",
       "        vertical-align: middle;\n",
       "    }\n",
       "\n",
       "    .dataframe tbody tr th {\n",
       "        vertical-align: top;\n",
       "    }\n",
       "\n",
       "    .dataframe thead th {\n",
       "        text-align: right;\n",
       "    }\n",
       "</style>\n",
       "<table border=\"1\" class=\"dataframe\">\n",
       "  <thead>\n",
       "    <tr style=\"text-align: right;\">\n",
       "      <th></th>\n",
       "      <th>fatal</th>\n",
       "      <th>crash_month</th>\n",
       "      <th>crash_dayofweek</th>\n",
       "      <th>crash_hour</th>\n",
       "      <th>pri_road_dir</th>\n",
       "      <th>intersection</th>\n",
       "      <th>alcohol</th>\n",
       "      <th>roadway_departure</th>\n",
       "      <th>lane_departure</th>\n",
       "      <th>dr_sex_1</th>\n",
       "      <th>...</th>\n",
       "      <th>ped_actions_1</th>\n",
       "      <th>veh_lighting_1</th>\n",
       "      <th>veh_lighting_2</th>\n",
       "      <th>traff_cntl_cond_1</th>\n",
       "      <th>traff_cntl_cond_2</th>\n",
       "      <th>lighting_cd</th>\n",
       "      <th>dr_cond_cd1</th>\n",
       "      <th>dr_cond_cd2</th>\n",
       "      <th>veh_cond_cd1</th>\n",
       "      <th>veh_cond_cd2</th>\n",
       "    </tr>\n",
       "  </thead>\n",
       "  <tbody>\n",
       "    <tr>\n",
       "      <th>0</th>\n",
       "      <td>0</td>\n",
       "      <td>1</td>\n",
       "      <td>1</td>\n",
       "      <td>17</td>\n",
       "      <td>Z</td>\n",
       "      <td>1</td>\n",
       "      <td>0</td>\n",
       "      <td>0</td>\n",
       "      <td>0</td>\n",
       "      <td>1</td>\n",
       "      <td>...</td>\n",
       "      <td>Z</td>\n",
       "      <td>Z</td>\n",
       "      <td>A</td>\n",
       "      <td>A</td>\n",
       "      <td>V</td>\n",
       "      <td>A</td>\n",
       "      <td>Z</td>\n",
       "      <td>A</td>\n",
       "      <td>Z</td>\n",
       "      <td>K</td>\n",
       "    </tr>\n",
       "    <tr>\n",
       "      <th>1</th>\n",
       "      <td>0</td>\n",
       "      <td>1</td>\n",
       "      <td>1</td>\n",
       "      <td>23</td>\n",
       "      <td>Z</td>\n",
       "      <td>1</td>\n",
       "      <td>0</td>\n",
       "      <td>0</td>\n",
       "      <td>0</td>\n",
       "      <td>1</td>\n",
       "      <td>...</td>\n",
       "      <td>Z</td>\n",
       "      <td>Z</td>\n",
       "      <td>A</td>\n",
       "      <td>A</td>\n",
       "      <td>U</td>\n",
       "      <td>C</td>\n",
       "      <td>A</td>\n",
       "      <td>A</td>\n",
       "      <td>K</td>\n",
       "      <td>K</td>\n",
       "    </tr>\n",
       "    <tr>\n",
       "      <th>2</th>\n",
       "      <td>0</td>\n",
       "      <td>1</td>\n",
       "      <td>1</td>\n",
       "      <td>22</td>\n",
       "      <td>W</td>\n",
       "      <td>0</td>\n",
       "      <td>0</td>\n",
       "      <td>0</td>\n",
       "      <td>0</td>\n",
       "      <td>1</td>\n",
       "      <td>...</td>\n",
       "      <td>Z</td>\n",
       "      <td>A</td>\n",
       "      <td>A</td>\n",
       "      <td>Q</td>\n",
       "      <td>C</td>\n",
       "      <td>C</td>\n",
       "      <td>A</td>\n",
       "      <td>A</td>\n",
       "      <td>K</td>\n",
       "      <td>K</td>\n",
       "    </tr>\n",
       "    <tr>\n",
       "      <th>3</th>\n",
       "      <td>0</td>\n",
       "      <td>1</td>\n",
       "      <td>1</td>\n",
       "      <td>18</td>\n",
       "      <td>Z</td>\n",
       "      <td>0</td>\n",
       "      <td>0</td>\n",
       "      <td>1</td>\n",
       "      <td>1</td>\n",
       "      <td>0</td>\n",
       "      <td>...</td>\n",
       "      <td>Z</td>\n",
       "      <td>A</td>\n",
       "      <td>Z</td>\n",
       "      <td>S</td>\n",
       "      <td>Z</td>\n",
       "      <td>B</td>\n",
       "      <td>A</td>\n",
       "      <td>Z</td>\n",
       "      <td>K</td>\n",
       "      <td>Z</td>\n",
       "    </tr>\n",
       "    <tr>\n",
       "      <th>4</th>\n",
       "      <td>0</td>\n",
       "      <td>1</td>\n",
       "      <td>1</td>\n",
       "      <td>19</td>\n",
       "      <td>Z</td>\n",
       "      <td>1</td>\n",
       "      <td>0</td>\n",
       "      <td>0</td>\n",
       "      <td>0</td>\n",
       "      <td>0</td>\n",
       "      <td>...</td>\n",
       "      <td>Z</td>\n",
       "      <td>A</td>\n",
       "      <td>A</td>\n",
       "      <td>R</td>\n",
       "      <td>R</td>\n",
       "      <td>C</td>\n",
       "      <td>A</td>\n",
       "      <td>A</td>\n",
       "      <td>K</td>\n",
       "      <td>K</td>\n",
       "    </tr>\n",
       "  </tbody>\n",
       "</table>\n",
       "<p>5 rows × 48 columns</p>\n",
       "</div>"
      ],
      "text/plain": [
       "   fatal  crash_month  crash_dayofweek  crash_hour pri_road_dir  intersection  \\\n",
       "0      0            1                1          17            Z             1   \n",
       "1      0            1                1          23            Z             1   \n",
       "2      0            1                1          22            W             0   \n",
       "3      0            1                1          18            Z             0   \n",
       "4      0            1                1          19            Z             1   \n",
       "\n",
       "   alcohol  roadway_departure  lane_departure  dr_sex_1  ...  ped_actions_1  \\\n",
       "0        0                  0               0         1  ...              Z   \n",
       "1        0                  0               0         1  ...              Z   \n",
       "2        0                  0               0         1  ...              Z   \n",
       "3        0                  1               1         0  ...              Z   \n",
       "4        0                  0               0         0  ...              Z   \n",
       "\n",
       "   veh_lighting_1  veh_lighting_2  traff_cntl_cond_1  traff_cntl_cond_2  \\\n",
       "0               Z               A                  A                  V   \n",
       "1               Z               A                  A                  U   \n",
       "2               A               A                  Q                  C   \n",
       "3               A               Z                  S                  Z   \n",
       "4               A               A                  R                  R   \n",
       "\n",
       "   lighting_cd dr_cond_cd1 dr_cond_cd2 veh_cond_cd1 veh_cond_cd2  \n",
       "0            A           Z           A            Z            K  \n",
       "1            C           A           A            K            K  \n",
       "2            C           A           A            K            K  \n",
       "3            B           A           Z            K            Z  \n",
       "4            C           A           A            K            K  \n",
       "\n",
       "[5 rows x 48 columns]"
      ]
     },
     "execution_count": 21,
     "metadata": {},
     "output_type": "execute_result"
    }
   ],
   "source": [
    "data.head()"
   ]
  },
  {
   "cell_type": "markdown",
   "id": "decreased-butter",
   "metadata": {},
   "source": [
    "## Get Dummies"
   ]
  },
  {
   "cell_type": "markdown",
   "id": "nonprofit-baking",
   "metadata": {},
   "source": [
    "### Fields to become Dummies"
   ]
  },
  {
   "cell_type": "code",
   "execution_count": 22,
   "id": "warming-skirt",
   "metadata": {},
   "outputs": [
    {
     "name": "stdout",
     "output_type": "stream",
     "text": [
      "crash_month\n",
      "crash_dayofweek\n",
      "crash_hour\n",
      "pri_road_dir\n",
      "parish_cd\n",
      "parish_cd.1\n",
      "city_cd\n",
      "dr_age_1_bin\n",
      "dr_age_2_bin\n",
      "pri_dist_bin\n",
      "f_harm_ev_cd1\n",
      "m_harm_ev_cd1\n",
      "man_coll_cd\n",
      "crash_type\n",
      "surf_cond_cd\n",
      "invest_agency_cd\n",
      "veh_type_cd1\n",
      "veh_type_cd2\n",
      "road_rel_cd\n",
      "location_type\n",
      "veh_severity_cd\n",
      "hwy_type_cd\n",
      "bypass\n",
      "pri_contrib_fac_cd\n",
      "sec_contrib_fac_cd\n",
      "vision_obscure_1\n",
      "vision_obscure_2\n",
      "movement_reason_1\n",
      "movement_reason_2\n",
      "ped_actions_1\n",
      "veh_lighting_1\n",
      "veh_lighting_2\n",
      "traff_cntl_cond_1\n",
      "traff_cntl_cond_2\n",
      "pri_road_dir\n",
      "lighting_cd\n",
      "dr_cond_cd1\n",
      "dr_cond_cd2\n",
      "veh_cond_cd1\n",
      "veh_cond_cd2\n"
     ]
    }
   ],
   "source": [
    "for field in data_dummy_fields:\n",
    "    print (field)"
   ]
  },
  {
   "cell_type": "code",
   "execution_count": 23,
   "id": "forty-ordinance",
   "metadata": {},
   "outputs": [
    {
     "ename": "KeyError",
     "evalue": "\"None of [Index(['pri_road_dir'], dtype='object')] are in the [columns]\"",
     "output_type": "error",
     "traceback": [
      "\u001b[0;31m---------------------------------------------------------------------------\u001b[0m",
      "\u001b[0;31mKeyError\u001b[0m                                  Traceback (most recent call last)",
      "\u001b[0;32m<ipython-input-23-551b2e7955b5>\u001b[0m in \u001b[0;36m<module>\u001b[0;34m\u001b[0m\n\u001b[1;32m      1\u001b[0m \u001b[0;32mfor\u001b[0m \u001b[0mfield\u001b[0m \u001b[0;32min\u001b[0m \u001b[0mdata_dummy_fields\u001b[0m\u001b[0;34m:\u001b[0m\u001b[0;34m\u001b[0m\u001b[0;34m\u001b[0m\u001b[0m\n\u001b[0;32m----> 2\u001b[0;31m     \u001b[0mdata\u001b[0m \u001b[0;34m=\u001b[0m \u001b[0mpd\u001b[0m\u001b[0;34m.\u001b[0m\u001b[0mget_dummies\u001b[0m\u001b[0;34m(\u001b[0m\u001b[0mdata\u001b[0m\u001b[0;34m,\u001b[0m\u001b[0mcolumns\u001b[0m\u001b[0;34m=\u001b[0m\u001b[0;34m[\u001b[0m\u001b[0mfield\u001b[0m\u001b[0;34m]\u001b[0m\u001b[0;34m,\u001b[0m\u001b[0mdrop_first\u001b[0m\u001b[0;34m=\u001b[0m\u001b[0;32mFalse\u001b[0m\u001b[0;34m)\u001b[0m\u001b[0;34m\u001b[0m\u001b[0;34m\u001b[0m\u001b[0m\n\u001b[0m\u001b[1;32m      3\u001b[0m \u001b[0;32mfor\u001b[0m \u001b[0mx\u001b[0m \u001b[0;32min\u001b[0m \u001b[0mdata\u001b[0m\u001b[0;34m:\u001b[0m\u001b[0;34m\u001b[0m\u001b[0;34m\u001b[0m\u001b[0m\n\u001b[1;32m      4\u001b[0m     \u001b[0mprint\u001b[0m \u001b[0;34m(\u001b[0m\u001b[0mx\u001b[0m\u001b[0;34m)\u001b[0m\u001b[0;34m\u001b[0m\u001b[0;34m\u001b[0m\u001b[0m\n\u001b[1;32m      5\u001b[0m \u001b[0mprint\u001b[0m \u001b[0;34m(\u001b[0m\u001b[0mdata\u001b[0m\u001b[0;34m.\u001b[0m\u001b[0mhead\u001b[0m\u001b[0;34m(\u001b[0m\u001b[0;34m)\u001b[0m\u001b[0;34m)\u001b[0m\u001b[0;34m\u001b[0m\u001b[0;34m\u001b[0m\u001b[0m\n",
      "\u001b[0;32m/Library/Frameworks/Python.framework/Versions/3.9/lib/python3.9/site-packages/pandas/core/reshape/reshape.py\u001b[0m in \u001b[0;36mget_dummies\u001b[0;34m(data, prefix, prefix_sep, dummy_na, columns, sparse, drop_first, dtype)\u001b[0m\n\u001b[1;32m    845\u001b[0m             \u001b[0;32mraise\u001b[0m \u001b[0mTypeError\u001b[0m\u001b[0;34m(\u001b[0m\u001b[0;34m\"Input must be a list-like for parameter `columns`\"\u001b[0m\u001b[0;34m)\u001b[0m\u001b[0;34m\u001b[0m\u001b[0;34m\u001b[0m\u001b[0m\n\u001b[1;32m    846\u001b[0m         \u001b[0;32melse\u001b[0m\u001b[0;34m:\u001b[0m\u001b[0;34m\u001b[0m\u001b[0;34m\u001b[0m\u001b[0m\n\u001b[0;32m--> 847\u001b[0;31m             \u001b[0mdata_to_encode\u001b[0m \u001b[0;34m=\u001b[0m \u001b[0mdata\u001b[0m\u001b[0;34m[\u001b[0m\u001b[0mcolumns\u001b[0m\u001b[0;34m]\u001b[0m\u001b[0;34m\u001b[0m\u001b[0;34m\u001b[0m\u001b[0m\n\u001b[0m\u001b[1;32m    848\u001b[0m \u001b[0;34m\u001b[0m\u001b[0m\n\u001b[1;32m    849\u001b[0m         \u001b[0;31m# validate prefixes and separator to avoid silently dropping cols\u001b[0m\u001b[0;34m\u001b[0m\u001b[0;34m\u001b[0m\u001b[0;34m\u001b[0m\u001b[0m\n",
      "\u001b[0;32m/Library/Frameworks/Python.framework/Versions/3.9/lib/python3.9/site-packages/pandas/core/frame.py\u001b[0m in \u001b[0;36m__getitem__\u001b[0;34m(self, key)\u001b[0m\n\u001b[1;32m   3028\u001b[0m             \u001b[0;32mif\u001b[0m \u001b[0mis_iterator\u001b[0m\u001b[0;34m(\u001b[0m\u001b[0mkey\u001b[0m\u001b[0;34m)\u001b[0m\u001b[0;34m:\u001b[0m\u001b[0;34m\u001b[0m\u001b[0;34m\u001b[0m\u001b[0m\n\u001b[1;32m   3029\u001b[0m                 \u001b[0mkey\u001b[0m \u001b[0;34m=\u001b[0m \u001b[0mlist\u001b[0m\u001b[0;34m(\u001b[0m\u001b[0mkey\u001b[0m\u001b[0;34m)\u001b[0m\u001b[0;34m\u001b[0m\u001b[0;34m\u001b[0m\u001b[0m\n\u001b[0;32m-> 3030\u001b[0;31m             \u001b[0mindexer\u001b[0m \u001b[0;34m=\u001b[0m \u001b[0mself\u001b[0m\u001b[0;34m.\u001b[0m\u001b[0mloc\u001b[0m\u001b[0;34m.\u001b[0m\u001b[0m_get_listlike_indexer\u001b[0m\u001b[0;34m(\u001b[0m\u001b[0mkey\u001b[0m\u001b[0;34m,\u001b[0m \u001b[0maxis\u001b[0m\u001b[0;34m=\u001b[0m\u001b[0;36m1\u001b[0m\u001b[0;34m,\u001b[0m \u001b[0mraise_missing\u001b[0m\u001b[0;34m=\u001b[0m\u001b[0;32mTrue\u001b[0m\u001b[0;34m)\u001b[0m\u001b[0;34m[\u001b[0m\u001b[0;36m1\u001b[0m\u001b[0;34m]\u001b[0m\u001b[0;34m\u001b[0m\u001b[0;34m\u001b[0m\u001b[0m\n\u001b[0m\u001b[1;32m   3031\u001b[0m \u001b[0;34m\u001b[0m\u001b[0m\n\u001b[1;32m   3032\u001b[0m         \u001b[0;31m# take() does not accept boolean indexers\u001b[0m\u001b[0;34m\u001b[0m\u001b[0;34m\u001b[0m\u001b[0;34m\u001b[0m\u001b[0m\n",
      "\u001b[0;32m/Library/Frameworks/Python.framework/Versions/3.9/lib/python3.9/site-packages/pandas/core/indexing.py\u001b[0m in \u001b[0;36m_get_listlike_indexer\u001b[0;34m(self, key, axis, raise_missing)\u001b[0m\n\u001b[1;32m   1264\u001b[0m             \u001b[0mkeyarr\u001b[0m\u001b[0;34m,\u001b[0m \u001b[0mindexer\u001b[0m\u001b[0;34m,\u001b[0m \u001b[0mnew_indexer\u001b[0m \u001b[0;34m=\u001b[0m \u001b[0max\u001b[0m\u001b[0;34m.\u001b[0m\u001b[0m_reindex_non_unique\u001b[0m\u001b[0;34m(\u001b[0m\u001b[0mkeyarr\u001b[0m\u001b[0;34m)\u001b[0m\u001b[0;34m\u001b[0m\u001b[0;34m\u001b[0m\u001b[0m\n\u001b[1;32m   1265\u001b[0m \u001b[0;34m\u001b[0m\u001b[0m\n\u001b[0;32m-> 1266\u001b[0;31m         \u001b[0mself\u001b[0m\u001b[0;34m.\u001b[0m\u001b[0m_validate_read_indexer\u001b[0m\u001b[0;34m(\u001b[0m\u001b[0mkeyarr\u001b[0m\u001b[0;34m,\u001b[0m \u001b[0mindexer\u001b[0m\u001b[0;34m,\u001b[0m \u001b[0maxis\u001b[0m\u001b[0;34m,\u001b[0m \u001b[0mraise_missing\u001b[0m\u001b[0;34m=\u001b[0m\u001b[0mraise_missing\u001b[0m\u001b[0;34m)\u001b[0m\u001b[0;34m\u001b[0m\u001b[0;34m\u001b[0m\u001b[0m\n\u001b[0m\u001b[1;32m   1267\u001b[0m         \u001b[0;32mreturn\u001b[0m \u001b[0mkeyarr\u001b[0m\u001b[0;34m,\u001b[0m \u001b[0mindexer\u001b[0m\u001b[0;34m\u001b[0m\u001b[0;34m\u001b[0m\u001b[0m\n\u001b[1;32m   1268\u001b[0m \u001b[0;34m\u001b[0m\u001b[0m\n",
      "\u001b[0;32m/Library/Frameworks/Python.framework/Versions/3.9/lib/python3.9/site-packages/pandas/core/indexing.py\u001b[0m in \u001b[0;36m_validate_read_indexer\u001b[0;34m(self, key, indexer, axis, raise_missing)\u001b[0m\n\u001b[1;32m   1306\u001b[0m             \u001b[0;32mif\u001b[0m \u001b[0mmissing\u001b[0m \u001b[0;34m==\u001b[0m \u001b[0mlen\u001b[0m\u001b[0;34m(\u001b[0m\u001b[0mindexer\u001b[0m\u001b[0;34m)\u001b[0m\u001b[0;34m:\u001b[0m\u001b[0;34m\u001b[0m\u001b[0;34m\u001b[0m\u001b[0m\n\u001b[1;32m   1307\u001b[0m                 \u001b[0maxis_name\u001b[0m \u001b[0;34m=\u001b[0m \u001b[0mself\u001b[0m\u001b[0;34m.\u001b[0m\u001b[0mobj\u001b[0m\u001b[0;34m.\u001b[0m\u001b[0m_get_axis_name\u001b[0m\u001b[0;34m(\u001b[0m\u001b[0maxis\u001b[0m\u001b[0;34m)\u001b[0m\u001b[0;34m\u001b[0m\u001b[0;34m\u001b[0m\u001b[0m\n\u001b[0;32m-> 1308\u001b[0;31m                 \u001b[0;32mraise\u001b[0m \u001b[0mKeyError\u001b[0m\u001b[0;34m(\u001b[0m\u001b[0;34mf\"None of [{key}] are in the [{axis_name}]\"\u001b[0m\u001b[0;34m)\u001b[0m\u001b[0;34m\u001b[0m\u001b[0;34m\u001b[0m\u001b[0m\n\u001b[0m\u001b[1;32m   1309\u001b[0m \u001b[0;34m\u001b[0m\u001b[0m\n\u001b[1;32m   1310\u001b[0m             \u001b[0max\u001b[0m \u001b[0;34m=\u001b[0m \u001b[0mself\u001b[0m\u001b[0;34m.\u001b[0m\u001b[0mobj\u001b[0m\u001b[0;34m.\u001b[0m\u001b[0m_get_axis\u001b[0m\u001b[0;34m(\u001b[0m\u001b[0maxis\u001b[0m\u001b[0;34m)\u001b[0m\u001b[0;34m\u001b[0m\u001b[0;34m\u001b[0m\u001b[0m\n",
      "\u001b[0;31mKeyError\u001b[0m: \"None of [Index(['pri_road_dir'], dtype='object')] are in the [columns]\""
     ]
    }
   ],
   "source": [
    "for field in data_dummy_fields:\n",
    "    data = pd.get_dummies(data,columns=[field],drop_first=False)\n",
    "for x in data:\n",
    "    print (x)\n",
    "print (data.head())"
   ]
  },
  {
   "cell_type": "code",
   "execution_count": null,
   "id": "endangered-memphis",
   "metadata": {},
   "outputs": [],
   "source": []
  },
  {
   "cell_type": "code",
   "execution_count": null,
   "id": "boring-party",
   "metadata": {},
   "outputs": [],
   "source": []
  },
  {
   "cell_type": "code",
   "execution_count": null,
   "id": "dedicated-football",
   "metadata": {},
   "outputs": [],
   "source": []
  },
  {
   "cell_type": "markdown",
   "id": "aboriginal-weapon",
   "metadata": {},
   "source": [
    "## Split into 'train' and 'test' Sets with Proportional number of Fatalities"
   ]
  },
  {
   "cell_type": "code",
   "execution_count": null,
   "id": "cheap-leisure",
   "metadata": {},
   "outputs": [],
   "source": [
    "data_positive = data[data['fatal'] == 1]\n",
    "data_negative = data[data['fatal'] == 0]\n",
    "train_positive, test_positive = train_test_split(data_positive, test_size=0.2)\n",
    "train_negative, test_negative = train_test_split(data_negative, test_size=0.2)\n",
    "train = pd.concat([train_positive, train_negative])\n",
    "test = pd.concat([test_positive, test_negative])\n",
    "# Randomly shuffle the rows of the train and test sets,\n",
    "# because otherwise they have the positive on top and the negative on the bottom.\n",
    "# \"shuffle\" is an sklearn function.\n",
    "train = shuffle(train)\n",
    "test = shuffle(test)\n",
    "x_train = train.drop(['fatal'], axis=1)\n",
    "y_train = train['fatal']\n",
    "x_test = test.drop(['fatal'], axis=1)\n",
    "y_test = test['fatal']\n",
    "\n",
    "print (x_train.shape, y_train.shape, x_test.shape, y_test.shape)"
   ]
  },
  {
   "cell_type": "code",
   "execution_count": null,
   "id": "antique-account",
   "metadata": {},
   "outputs": [],
   "source": [
    "train, test = train_test_split(data, test_size=0.2)\n",
    "x_train = train.drop(['fatal'], axis=1)\n",
    "y_train = train['fatal']\n",
    "x_test = test.drop(['fatal'], axis=1)\n",
    "y_test = test['fatal']\n",
    "print (x_train.shape, y_train.shape, x_test.shape, y_test.shape)"
   ]
  },
  {
   "cell_type": "code",
   "execution_count": null,
   "id": "prime-lover",
   "metadata": {},
   "outputs": [],
   "source": [
    "print (x_train.info())"
   ]
  },
  {
   "cell_type": "markdown",
   "id": "express-prisoner",
   "metadata": {},
   "source": [
    "## Perform Exploratory Analysis with Statistics on the 'train' Set"
   ]
  },
  {
   "cell_type": "markdown",
   "id": "elder-pacific",
   "metadata": {},
   "source": [
    "### Logistic Regression"
   ]
  },
  {
   "cell_type": "code",
   "execution_count": null,
   "id": "african-cabin",
   "metadata": {},
   "outputs": [],
   "source": [
    "logreg = LogisticRegression()\n",
    "logreg.fit(x_train, y_train)\n",
    "y_pred = logreg.predict(x_test)\n",
    "acc_log = round(logreg.score(x_train, y_train) * 100, 2)\n",
    "acc_log"
   ]
  },
  {
   "cell_type": "code",
   "execution_count": null,
   "id": "collective-format",
   "metadata": {
    "scrolled": true
   },
   "outputs": [],
   "source": [
    "coeff_data = pd.DataFrame(train.columns.delete(0))\n",
    "coeff_data.columns = ['Feature']\n",
    "coeff_data[\"Correlation\"] = pd.Series(logreg.coef_[0])\n",
    "\n",
    "coeff_data.sort_values(by='Correlation', ascending=False)"
   ]
  },
  {
   "cell_type": "code",
   "execution_count": null,
   "id": "engaged-alaska",
   "metadata": {},
   "outputs": [],
   "source": [
    "for x in x_train:\n",
    "    print ('fatal correlation by: ', x)\n",
    "    A = train[[x, 'fatal']].groupby(x, as_index=False).mean()\n",
    "    A = A.sort_values(by='fatal', ascending=False)\n",
    "    print (A)\n",
    "    print ()"
   ]
  },
  {
   "cell_type": "markdown",
   "id": "historic-capture",
   "metadata": {},
   "source": [
    "## What are these highly correlated features?"
   ]
  },
  {
   "cell_type": "markdown",
   "id": "exclusive-association",
   "metadata": {},
   "source": [
    "### crash_type_0"
   ]
  },
  {
   "cell_type": "code",
   "execution_count": null,
   "id": "formed-providence",
   "metadata": {},
   "outputs": [],
   "source": [
    "data_raw['crash_type'].value_counts()"
   ]
  },
  {
   "cell_type": "code",
   "execution_count": null,
   "id": "brief-panel",
   "metadata": {},
   "outputs": [],
   "source": []
  },
  {
   "cell_type": "code",
   "execution_count": null,
   "id": "desperate-belize",
   "metadata": {},
   "outputs": [],
   "source": []
  },
  {
   "cell_type": "markdown",
   "id": "material-sector",
   "metadata": {},
   "source": [
    "# Run ML Algorithms"
   ]
  },
  {
   "cell_type": "code",
   "execution_count": null,
   "id": "compressed-transcript",
   "metadata": {},
   "outputs": [],
   "source": [
    "Models = [\n",
    "    LinearSVC(),\n",
    "    SGDClassifier(),\n",
    "    DecisionTreeClassifier(),\n",
    "    RandomForestClassifier(),        \n",
    "    GaussianNB(), \n",
    "    Perceptron(),\n",
    "#    KNeighborsClassifier(n_neighbors = 3), \n",
    "#    SVC(),\n",
    "    GradientBoostingClassifier(n_estimators=100, learning_rate=1.0, max_depth=1, random_state=0),\n",
    "    MLPClassifier(solver='lbfgs', alpha=1e-5, hidden_layer_sizes=(5, 2), random_state=1),\n",
    "]\n",
    "\n",
    "#By definition a confusion matrix C  is such that \n",
    "#C[i][j] is equal to the number of observations \n",
    "#known to be in group i and predicted to be in group j.\n",
    "\n",
    "#Thus in binary classification, the count of \n",
    "#true negatives is C[0][0],\n",
    "#false negatives is C[1][0], \n",
    "#true positives is C[1][1],\n",
    "# and false positives is C[0][1].\n",
    "\n",
    "\n",
    "\n",
    "for model in Models:\n",
    "    model.fit(x_train, y_train)\n",
    "    y_pred = model.predict(x_test)\n",
    "    accuracy = round(model.score(x_train,y_train) * 100, 2)\n",
    "    precision = round(precision_score(y_test, y_pred, average='macro')*100,2)\n",
    "    recall = round(recall_score(y_test, y_pred)*100,2)\n",
    "    f1 = round(f1_score(y_test, y_pred)*100,2)\n",
    "    C = confusion_matrix(y_test, y_pred)\n",
    "\n",
    "    print (model)\n",
    "    print (accuracy, precision, recall, f1)\n",
    "    print (C)\n",
    "    print ()"
   ]
  },
  {
   "cell_type": "code",
   "execution_count": null,
   "id": "simplified-decade",
   "metadata": {},
   "outputs": [],
   "source": []
  }
 ],
 "metadata": {
  "kernelspec": {
   "display_name": "Python 3",
   "language": "python",
   "name": "python3"
  },
  "language_info": {
   "codemirror_mode": {
    "name": "ipython",
    "version": 3
   },
   "file_extension": ".py",
   "mimetype": "text/x-python",
   "name": "python",
   "nbconvert_exporter": "python",
   "pygments_lexer": "ipython3",
   "version": "3.9.1"
  }
 },
 "nbformat": 4,
 "nbformat_minor": 5
}
