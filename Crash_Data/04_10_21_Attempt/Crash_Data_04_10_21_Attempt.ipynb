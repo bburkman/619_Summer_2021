{
 "cells": [
  {
   "cell_type": "markdown",
   "id": "actual-fountain",
   "metadata": {},
   "source": [
    "Following https://www.kaggle.com/ldfreeman3/a-data-science-framework-to-achieve-99-accuracy"
   ]
  },
  {
   "cell_type": "markdown",
   "id": "attractive-redhead",
   "metadata": {},
   "source": [
    "# Define the Problem\n",
    "## Given\n",
    "- A set of automobile crash records\n",
    "- Louisiana in 2019\n",
    "- 160,186 crashes\n",
    "- 76 fields per crash\n",
    "\n",
    "## Find\n",
    "- Factors that correlate with lethality"
   ]
  },
  {
   "cell_type": "markdown",
   "id": "moving-investing",
   "metadata": {},
   "source": [
    "# Gather the Data\n",
    "- Already have it."
   ]
  },
  {
   "cell_type": "markdown",
   "id": "strange-tribute",
   "metadata": {},
   "source": [
    "# Prepare Data for Consumption\n"
   ]
  },
  {
   "cell_type": "markdown",
   "id": "racial-grade",
   "metadata": {},
   "source": [
    "## Import Libraries"
   ]
  },
  {
   "cell_type": "code",
   "execution_count": 1,
   "id": "mexican-tolerance",
   "metadata": {},
   "outputs": [
    {
     "name": "stdout",
     "output_type": "stream",
     "text": [
      "Python version: 3.9.1 (v3.9.1:1e5d33e9b9, Dec  7 2020, 12:10:52) \n",
      "[Clang 6.0 (clang-600.0.57)]\n",
      "pandas version: 1.2.3\n",
      "matplotlib version: 3.3.3\n",
      "NumPy version: 1.19.5\n",
      "SciPy version: 1.6.0\n",
      "IPython version: 7.21.0\n",
      "scikit-learn version: 0.24.1\n",
      "-*-*-*-*-*-*-*-*-*-*-*-*-*-*-*-*-*-*-*-*\n",
      "2019_Crash_1_Database.csv\n",
      "CODE_TB.csv\n",
      "\n"
     ]
    }
   ],
   "source": [
    "import sys\n",
    "print ('Python version: {}'.format(sys.version))\n",
    "import pandas as pd\n",
    "print ('pandas version: {}'.format(pd.__version__))\n",
    "import matplotlib\n",
    "print ('matplotlib version: {}'.format(matplotlib.__version__))\n",
    "import numpy as np\n",
    "print ('NumPy version: {}'.format(np.__version__))\n",
    "import scipy as sp\n",
    "print ('SciPy version: {}'.format(sp.__version__))\n",
    "import IPython\n",
    "print ('IPython version: {}'.format(IPython.__version__))\n",
    "import sklearn\n",
    "print ('scikit-learn version: {}'.format(sklearn.__version__))\n",
    "import random\n",
    "import time\n",
    "import warnings\n",
    "warnings.filterwarnings('ignore')\n",
    "print ('-*'*20)\n",
    "from subprocess import check_output\n",
    "print (check_output(['ls', './data']).decode('utf8'))"
   ]
  },
  {
   "cell_type": "markdown",
   "id": "intimate-roads",
   "metadata": {},
   "source": [
    "## Load Data Modeling Libraries"
   ]
  },
  {
   "cell_type": "code",
   "execution_count": 2,
   "id": "fantastic-purchase",
   "metadata": {},
   "outputs": [],
   "source": [
    "from sklearn import svm, tree, linear_model, neighbors, naive_bayes, ensemble, discriminant_analysis, gaussian_process\n",
    "#from xgboost import XGBClassifier\n",
    "\n",
    "from sklearn.preprocessing import OneHotEncoder, LabelEncoder\n",
    "from sklearn import feature_selection, model_selection, metrics\n",
    "from sklearn.model_selection import train_test_split\n",
    "\n",
    "import matplotlib as mpl\n",
    "import matplotlib.pyplot as plt\n",
    "import matplotlib.pylab as pylab\n",
    "import seaborn as sns\n",
    "from pandas.plotting import scatter_matrix\n",
    "\n",
    "%matplotlib inline\n",
    "mpl.style.use('ggplot')\n",
    "sns.set_style('white')\n",
    "pylab.rcParams['figure.figsize'] = 12,8"
   ]
  },
  {
   "cell_type": "markdown",
   "id": "million-ceremony",
   "metadata": {},
   "source": [
    "## Explore Data"
   ]
  },
  {
   "cell_type": "code",
   "execution_count": 3,
   "id": "suited-linux",
   "metadata": {},
   "outputs": [],
   "source": [
    "data = pd.read_csv('./data/2019_Crash_1_Database.csv', parse_dates = ['crash_date', 'crash_hour', 'crash_time'])"
   ]
  },
  {
   "cell_type": "code",
   "execution_count": 4,
   "id": "pleasant-stick",
   "metadata": {},
   "outputs": [
    {
     "name": "stdout",
     "output_type": "stream",
     "text": [
      "<class 'pandas.core.frame.DataFrame'>\n",
      "RangeIndex: 160186 entries, 0 to 160185\n",
      "Data columns (total 76 columns):\n",
      " #   Column               Non-Null Count   Dtype         \n",
      "---  ------               --------------   -----         \n",
      " 0   route                160186 non-null  object        \n",
      " 1   milepoint            100414 non-null  float64       \n",
      " 2   num_tot_kil          160186 non-null  int64         \n",
      " 3   num_tot_inj          160186 non-null  int64         \n",
      " 4   crash_date           160186 non-null  datetime64[ns]\n",
      " 5   f_harm_ev_cd1        160186 non-null  object        \n",
      " 6   m_harm_ev_cd1        160186 non-null  object        \n",
      " 7   man_coll_cd          160186 non-null  object        \n",
      " 8   crash_type           160186 non-null  object        \n",
      " 9   surf_cond_cd         160186 non-null  object        \n",
      " 10  crash_num            160186 non-null  object        \n",
      " 11  parish_cd            160186 non-null  int64         \n",
      " 12  crash_hour           160186 non-null  object        \n",
      " 13  intersection         160186 non-null  int64         \n",
      " 14  invest_agency_cd     160186 non-null  object        \n",
      " 15  travel_dirs          160186 non-null  object        \n",
      " 16  prior_movements      160186 non-null  object        \n",
      " 17  crash_year           160186 non-null  int64         \n",
      " 18  csect                160186 non-null  object        \n",
      " 19  logmile              100672 non-null  float64       \n",
      " 20  lrs_id               160186 non-null  object        \n",
      " 21  lrs_logmile          158755 non-null  float64       \n",
      " 22  adt                  100899 non-null  float64       \n",
      " 23  alcohol              160186 non-null  int64         \n",
      " 24  veh_type_cd1         160186 non-null  object        \n",
      " 25  veh_type_cd2         160186 non-null  object        \n",
      " 26  quadrant             160186 non-null  object        \n",
      " 27  spotted_by           160186 non-null  int64         \n",
      " 28  intersection_id      65334 non-null   object        \n",
      " 29  severity_cd          160186 non-null  object        \n",
      " 30  city_cd              160186 non-null  int64         \n",
      " 31  roadway_departure    160186 non-null  object        \n",
      " 32  lane_departure       160186 non-null  object        \n",
      " 33  road_rel_cd          160186 non-null  object        \n",
      " 34  hwy_class            160186 non-null  object        \n",
      " 35  contributing_factor  160186 non-null  object        \n",
      " 36  location_type        160186 non-null  object        \n",
      " 37  veh_severity_cd      160186 non-null  object        \n",
      " 38  ORIG_LATITUDE        160184 non-null  float64       \n",
      " 39  ORIG_LONGITUDE       160186 non-null  float64       \n",
      " 40  DOTD_LATITUDE        159868 non-null  float64       \n",
      " 41  DOTD_LONGITUDE       159869 non-null  float64       \n",
      " 42  parish_cd.1          160186 non-null  int64         \n",
      " 43  hwy_type_cd          160186 non-null  object        \n",
      " 44  pri_hwy_num          160186 non-null  int64         \n",
      " 45  bypass               160186 non-null  object        \n",
      " 46  milepost             160186 non-null  float64       \n",
      " 47  pri_road_name        160185 non-null  object        \n",
      " 48  pri_dist             160186 non-null  float64       \n",
      " 49  pri_measure          160186 non-null  object        \n",
      " 50  pri_dir              160183 non-null  object        \n",
      " 51  inter_road           160176 non-null  object        \n",
      " 52  dr_age_1             160185 non-null  float64       \n",
      " 53  dr_age_2             134521 non-null  float64       \n",
      " 54  dr_sex_1             160185 non-null  object        \n",
      " 55  dr_sex_2             134521 non-null  object        \n",
      " 56  pri_contrib_fac_cd   160186 non-null  object        \n",
      " 57  sec_contrib_fac_cd   160186 non-null  object        \n",
      " 58  vision_obscure_1     160185 non-null  object        \n",
      " 59  vision_obscure_2     134521 non-null  object        \n",
      " 60  movement_reason_1    160185 non-null  object        \n",
      " 61  movement_reason_2    134521 non-null  object        \n",
      " 62  ped_actions_1        1594 non-null    object        \n",
      " 63  ped_actions_2        160186 non-null  object        \n",
      " 64  veh_lighting_1       160185 non-null  object        \n",
      " 65  veh_lighting_2       134521 non-null  object        \n",
      " 66  traff_cntl_cond_1    160185 non-null  object        \n",
      " 67  traff_cntl_cond_2    134521 non-null  object        \n",
      " 68  pri_road_dir         160186 non-null  object        \n",
      " 69  lighting_cd          160186 non-null  object        \n",
      " 70  num_veh              160186 non-null  int64         \n",
      " 71  crash_time           159591 non-null  datetime64[ns]\n",
      " 72  dr_cond_cd1          160186 non-null  object        \n",
      " 73  dr_cond_cd2          160186 non-null  object        \n",
      " 74  veh_cond_cd1         160186 non-null  object        \n",
      " 75  veh_cond_cd2         160186 non-null  object        \n",
      "dtypes: datetime64[ns](2), float64(12), int64(11), object(51)\n",
      "memory usage: 92.9+ MB\n",
      "None\n"
     ]
    }
   ],
   "source": [
    "print(data.info())"
   ]
  },
  {
   "cell_type": "code",
   "execution_count": 5,
   "id": "fixed-representative",
   "metadata": {},
   "outputs": [
    {
     "data": {
      "text/html": [
       "<div>\n",
       "<style scoped>\n",
       "    .dataframe tbody tr th:only-of-type {\n",
       "        vertical-align: middle;\n",
       "    }\n",
       "\n",
       "    .dataframe tbody tr th {\n",
       "        vertical-align: top;\n",
       "    }\n",
       "\n",
       "    .dataframe thead th {\n",
       "        text-align: right;\n",
       "    }\n",
       "</style>\n",
       "<table border=\"1\" class=\"dataframe\">\n",
       "  <thead>\n",
       "    <tr style=\"text-align: right;\">\n",
       "      <th></th>\n",
       "      <th>milepoint</th>\n",
       "      <th>num_tot_kil</th>\n",
       "      <th>num_tot_inj</th>\n",
       "      <th>parish_cd</th>\n",
       "      <th>intersection</th>\n",
       "      <th>crash_year</th>\n",
       "      <th>logmile</th>\n",
       "      <th>lrs_logmile</th>\n",
       "      <th>adt</th>\n",
       "      <th>alcohol</th>\n",
       "      <th>...</th>\n",
       "      <th>ORIG_LONGITUDE</th>\n",
       "      <th>DOTD_LATITUDE</th>\n",
       "      <th>DOTD_LONGITUDE</th>\n",
       "      <th>parish_cd.1</th>\n",
       "      <th>pri_hwy_num</th>\n",
       "      <th>milepost</th>\n",
       "      <th>pri_dist</th>\n",
       "      <th>dr_age_1</th>\n",
       "      <th>dr_age_2</th>\n",
       "      <th>num_veh</th>\n",
       "    </tr>\n",
       "  </thead>\n",
       "  <tbody>\n",
       "    <tr>\n",
       "      <th>count</th>\n",
       "      <td>100414.000000</td>\n",
       "      <td>160186.000000</td>\n",
       "      <td>160186.000000</td>\n",
       "      <td>160186.000000</td>\n",
       "      <td>160186.000000</td>\n",
       "      <td>160186.0</td>\n",
       "      <td>100672.000000</td>\n",
       "      <td>158755.000000</td>\n",
       "      <td>100899.000000</td>\n",
       "      <td>160186.000000</td>\n",
       "      <td>...</td>\n",
       "      <td>160186.000000</td>\n",
       "      <td>159868.000000</td>\n",
       "      <td>159869.000000</td>\n",
       "      <td>160186.000000</td>\n",
       "      <td>160186.000000</td>\n",
       "      <td>160186.000000</td>\n",
       "      <td>160186.000000</td>\n",
       "      <td>160185.000000</td>\n",
       "      <td>134521.000000</td>\n",
       "      <td>160186.000000</td>\n",
       "    </tr>\n",
       "    <tr>\n",
       "      <th>mean</th>\n",
       "      <td>66.614763</td>\n",
       "      <td>0.004538</td>\n",
       "      <td>0.452586</td>\n",
       "      <td>28.480598</td>\n",
       "      <td>0.367329</td>\n",
       "      <td>2019.0</td>\n",
       "      <td>5.352676</td>\n",
       "      <td>3.600491</td>\n",
       "      <td>36328.367526</td>\n",
       "      <td>0.029066</td>\n",
       "      <td>...</td>\n",
       "      <td>67.185435</td>\n",
       "      <td>30.512016</td>\n",
       "      <td>-91.098355</td>\n",
       "      <td>28.519465</td>\n",
       "      <td>214.757894</td>\n",
       "      <td>28.246646</td>\n",
       "      <td>77.302522</td>\n",
       "      <td>57.584056</td>\n",
       "      <td>50.227912</td>\n",
       "      <td>1.915149</td>\n",
       "    </tr>\n",
       "    <tr>\n",
       "      <th>std</th>\n",
       "      <td>85.264620</td>\n",
       "      <td>0.072229</td>\n",
       "      <td>0.973207</td>\n",
       "      <td>15.426490</td>\n",
       "      <td>0.482079</td>\n",
       "      <td>0.0</td>\n",
       "      <td>5.736082</td>\n",
       "      <td>4.959737</td>\n",
       "      <td>39261.577426</td>\n",
       "      <td>0.167993</td>\n",
       "      <td>...</td>\n",
       "      <td>44.389833</td>\n",
       "      <td>2.049432</td>\n",
       "      <td>5.648987</td>\n",
       "      <td>15.430538</td>\n",
       "      <td>637.046823</td>\n",
       "      <td>77.795943</td>\n",
       "      <td>441.380509</td>\n",
       "      <td>54.058061</td>\n",
       "      <td>39.525076</td>\n",
       "      <td>0.514440</td>\n",
       "    </tr>\n",
       "    <tr>\n",
       "      <th>min</th>\n",
       "      <td>-0.580000</td>\n",
       "      <td>0.000000</td>\n",
       "      <td>0.000000</td>\n",
       "      <td>1.000000</td>\n",
       "      <td>0.000000</td>\n",
       "      <td>2019.0</td>\n",
       "      <td>-9.999000</td>\n",
       "      <td>0.000000</td>\n",
       "      <td>0.000000</td>\n",
       "      <td>0.000000</td>\n",
       "      <td>...</td>\n",
       "      <td>-95.012300</td>\n",
       "      <td>0.000000</td>\n",
       "      <td>-94.113000</td>\n",
       "      <td>0.000000</td>\n",
       "      <td>0.000000</td>\n",
       "      <td>-2.000000</td>\n",
       "      <td>-2.000000</td>\n",
       "      <td>2.000000</td>\n",
       "      <td>2.000000</td>\n",
       "      <td>1.000000</td>\n",
       "    </tr>\n",
       "    <tr>\n",
       "      <th>25%</th>\n",
       "      <td>4.197000</td>\n",
       "      <td>0.000000</td>\n",
       "      <td>0.000000</td>\n",
       "      <td>17.000000</td>\n",
       "      <td>0.000000</td>\n",
       "      <td>2019.0</td>\n",
       "      <td>1.504000</td>\n",
       "      <td>0.428000</td>\n",
       "      <td>10400.000000</td>\n",
       "      <td>0.000000</td>\n",
       "      <td>...</td>\n",
       "      <td>89.750213</td>\n",
       "      <td>30.002798</td>\n",
       "      <td>-92.199576</td>\n",
       "      <td>17.000000</td>\n",
       "      <td>0.000000</td>\n",
       "      <td>0.000000</td>\n",
       "      <td>0.000000</td>\n",
       "      <td>25.000000</td>\n",
       "      <td>29.000000</td>\n",
       "      <td>2.000000</td>\n",
       "    </tr>\n",
       "    <tr>\n",
       "      <th>50%</th>\n",
       "      <td>20.763500</td>\n",
       "      <td>0.000000</td>\n",
       "      <td>0.000000</td>\n",
       "      <td>28.000000</td>\n",
       "      <td>0.000000</td>\n",
       "      <td>2019.0</td>\n",
       "      <td>3.602000</td>\n",
       "      <td>1.680000</td>\n",
       "      <td>23100.000000</td>\n",
       "      <td>0.000000</td>\n",
       "      <td>...</td>\n",
       "      <td>90.920592</td>\n",
       "      <td>30.295656</td>\n",
       "      <td>-91.117383</td>\n",
       "      <td>28.000000</td>\n",
       "      <td>10.000000</td>\n",
       "      <td>0.000000</td>\n",
       "      <td>0.500000</td>\n",
       "      <td>38.000000</td>\n",
       "      <td>40.000000</td>\n",
       "      <td>2.000000</td>\n",
       "    </tr>\n",
       "    <tr>\n",
       "      <th>75%</th>\n",
       "      <td>110.205000</td>\n",
       "      <td>0.000000</td>\n",
       "      <td>1.000000</td>\n",
       "      <td>37.000000</td>\n",
       "      <td>1.000000</td>\n",
       "      <td>2019.0</td>\n",
       "      <td>7.276000</td>\n",
       "      <td>4.830000</td>\n",
       "      <td>47400.000000</td>\n",
       "      <td>0.000000</td>\n",
       "      <td>...</td>\n",
       "      <td>92.033123</td>\n",
       "      <td>30.561540</td>\n",
       "      <td>-90.185287</td>\n",
       "      <td>37.000000</td>\n",
       "      <td>90.000000</td>\n",
       "      <td>10.900000</td>\n",
       "      <td>50.000000</td>\n",
       "      <td>60.000000</td>\n",
       "      <td>57.000000</td>\n",
       "      <td>2.000000</td>\n",
       "    </tr>\n",
       "    <tr>\n",
       "      <th>max</th>\n",
       "      <td>430.902000</td>\n",
       "      <td>4.000000</td>\n",
       "      <td>64.000000</td>\n",
       "      <td>64.000000</td>\n",
       "      <td>1.000000</td>\n",
       "      <td>2019.0</td>\n",
       "      <td>60.230000</td>\n",
       "      <td>60.230000</td>\n",
       "      <td>208660.000000</td>\n",
       "      <td>1.000000</td>\n",
       "      <td>...</td>\n",
       "      <td>99.677620</td>\n",
       "      <td>33.019790</td>\n",
       "      <td>0.000000</td>\n",
       "      <td>64.000000</td>\n",
       "      <td>11382.000000</td>\n",
       "      <td>999.990000</td>\n",
       "      <td>99999.990000</td>\n",
       "      <td>200.000000</td>\n",
       "      <td>200.000000</td>\n",
       "      <td>16.000000</td>\n",
       "    </tr>\n",
       "  </tbody>\n",
       "</table>\n",
       "<p>8 rows × 23 columns</p>\n",
       "</div>"
      ],
      "text/plain": [
       "           milepoint    num_tot_kil    num_tot_inj      parish_cd  \\\n",
       "count  100414.000000  160186.000000  160186.000000  160186.000000   \n",
       "mean       66.614763       0.004538       0.452586      28.480598   \n",
       "std        85.264620       0.072229       0.973207      15.426490   \n",
       "min        -0.580000       0.000000       0.000000       1.000000   \n",
       "25%         4.197000       0.000000       0.000000      17.000000   \n",
       "50%        20.763500       0.000000       0.000000      28.000000   \n",
       "75%       110.205000       0.000000       1.000000      37.000000   \n",
       "max       430.902000       4.000000      64.000000      64.000000   \n",
       "\n",
       "        intersection  crash_year        logmile    lrs_logmile            adt  \\\n",
       "count  160186.000000    160186.0  100672.000000  158755.000000  100899.000000   \n",
       "mean        0.367329      2019.0       5.352676       3.600491   36328.367526   \n",
       "std         0.482079         0.0       5.736082       4.959737   39261.577426   \n",
       "min         0.000000      2019.0      -9.999000       0.000000       0.000000   \n",
       "25%         0.000000      2019.0       1.504000       0.428000   10400.000000   \n",
       "50%         0.000000      2019.0       3.602000       1.680000   23100.000000   \n",
       "75%         1.000000      2019.0       7.276000       4.830000   47400.000000   \n",
       "max         1.000000      2019.0      60.230000      60.230000  208660.000000   \n",
       "\n",
       "             alcohol  ...  ORIG_LONGITUDE  DOTD_LATITUDE  DOTD_LONGITUDE  \\\n",
       "count  160186.000000  ...   160186.000000  159868.000000   159869.000000   \n",
       "mean        0.029066  ...       67.185435      30.512016      -91.098355   \n",
       "std         0.167993  ...       44.389833       2.049432        5.648987   \n",
       "min         0.000000  ...      -95.012300       0.000000      -94.113000   \n",
       "25%         0.000000  ...       89.750213      30.002798      -92.199576   \n",
       "50%         0.000000  ...       90.920592      30.295656      -91.117383   \n",
       "75%         0.000000  ...       92.033123      30.561540      -90.185287   \n",
       "max         1.000000  ...       99.677620      33.019790        0.000000   \n",
       "\n",
       "         parish_cd.1    pri_hwy_num       milepost       pri_dist  \\\n",
       "count  160186.000000  160186.000000  160186.000000  160186.000000   \n",
       "mean       28.519465     214.757894      28.246646      77.302522   \n",
       "std        15.430538     637.046823      77.795943     441.380509   \n",
       "min         0.000000       0.000000      -2.000000      -2.000000   \n",
       "25%        17.000000       0.000000       0.000000       0.000000   \n",
       "50%        28.000000      10.000000       0.000000       0.500000   \n",
       "75%        37.000000      90.000000      10.900000      50.000000   \n",
       "max        64.000000   11382.000000     999.990000   99999.990000   \n",
       "\n",
       "            dr_age_1       dr_age_2        num_veh  \n",
       "count  160185.000000  134521.000000  160186.000000  \n",
       "mean       57.584056      50.227912       1.915149  \n",
       "std        54.058061      39.525076       0.514440  \n",
       "min         2.000000       2.000000       1.000000  \n",
       "25%        25.000000      29.000000       2.000000  \n",
       "50%        38.000000      40.000000       2.000000  \n",
       "75%        60.000000      57.000000       2.000000  \n",
       "max       200.000000     200.000000      16.000000  \n",
       "\n",
       "[8 rows x 23 columns]"
      ]
     },
     "execution_count": 5,
     "metadata": {},
     "output_type": "execute_result"
    }
   ],
   "source": [
    "data.describe()"
   ]
  },
  {
   "cell_type": "code",
   "execution_count": 6,
   "id": "miniature-bumper",
   "metadata": {},
   "outputs": [
    {
     "data": {
      "text/html": [
       "<div>\n",
       "<style scoped>\n",
       "    .dataframe tbody tr th:only-of-type {\n",
       "        vertical-align: middle;\n",
       "    }\n",
       "\n",
       "    .dataframe tbody tr th {\n",
       "        vertical-align: top;\n",
       "    }\n",
       "\n",
       "    .dataframe thead th {\n",
       "        text-align: right;\n",
       "    }\n",
       "</style>\n",
       "<table border=\"1\" class=\"dataframe\">\n",
       "  <thead>\n",
       "    <tr style=\"text-align: right;\">\n",
       "      <th></th>\n",
       "      <th>route</th>\n",
       "      <th>f_harm_ev_cd1</th>\n",
       "      <th>m_harm_ev_cd1</th>\n",
       "      <th>man_coll_cd</th>\n",
       "      <th>crash_type</th>\n",
       "      <th>surf_cond_cd</th>\n",
       "      <th>crash_num</th>\n",
       "      <th>crash_hour</th>\n",
       "      <th>invest_agency_cd</th>\n",
       "      <th>travel_dirs</th>\n",
       "      <th>...</th>\n",
       "      <th>veh_lighting_1</th>\n",
       "      <th>veh_lighting_2</th>\n",
       "      <th>traff_cntl_cond_1</th>\n",
       "      <th>traff_cntl_cond_2</th>\n",
       "      <th>pri_road_dir</th>\n",
       "      <th>lighting_cd</th>\n",
       "      <th>dr_cond_cd1</th>\n",
       "      <th>dr_cond_cd2</th>\n",
       "      <th>veh_cond_cd1</th>\n",
       "      <th>veh_cond_cd2</th>\n",
       "    </tr>\n",
       "  </thead>\n",
       "  <tbody>\n",
       "    <tr>\n",
       "      <th>count</th>\n",
       "      <td>160186</td>\n",
       "      <td>160186</td>\n",
       "      <td>160186</td>\n",
       "      <td>160186</td>\n",
       "      <td>160186</td>\n",
       "      <td>160186</td>\n",
       "      <td>160186</td>\n",
       "      <td>160186</td>\n",
       "      <td>160186</td>\n",
       "      <td>160186</td>\n",
       "      <td>...</td>\n",
       "      <td>160185</td>\n",
       "      <td>134521</td>\n",
       "      <td>160185</td>\n",
       "      <td>134521</td>\n",
       "      <td>160186</td>\n",
       "      <td>160186</td>\n",
       "      <td>160186</td>\n",
       "      <td>160186</td>\n",
       "      <td>160186</td>\n",
       "      <td>160186</td>\n",
       "    </tr>\n",
       "    <tr>\n",
       "      <th>unique</th>\n",
       "      <td>1024</td>\n",
       "      <td>45</td>\n",
       "      <td>45</td>\n",
       "      <td>12</td>\n",
       "      <td>19</td>\n",
       "      <td>10</td>\n",
       "      <td>160186</td>\n",
       "      <td>25</td>\n",
       "      <td>4</td>\n",
       "      <td>199</td>\n",
       "      <td>...</td>\n",
       "      <td>6</td>\n",
       "      <td>5</td>\n",
       "      <td>25</td>\n",
       "      <td>25</td>\n",
       "      <td>9</td>\n",
       "      <td>11</td>\n",
       "      <td>14</td>\n",
       "      <td>14</td>\n",
       "      <td>14</td>\n",
       "      <td>14</td>\n",
       "    </tr>\n",
       "    <tr>\n",
       "      <th>top</th>\n",
       "      <td>0</td>\n",
       "      <td>S</td>\n",
       "      <td>S</td>\n",
       "      <td>B</td>\n",
       "      <td>S</td>\n",
       "      <td>A</td>\n",
       "      <td>201910281701013776-</td>\n",
       "      <td>17</td>\n",
       "      <td>B</td>\n",
       "      <td>EE</td>\n",
       "      <td>...</td>\n",
       "      <td>A</td>\n",
       "      <td>B</td>\n",
       "      <td>R</td>\n",
       "      <td>R</td>\n",
       "      <td></td>\n",
       "      <td>A</td>\n",
       "      <td>B</td>\n",
       "      <td>A</td>\n",
       "      <td>K</td>\n",
       "      <td>K</td>\n",
       "    </tr>\n",
       "    <tr>\n",
       "      <th>freq</th>\n",
       "      <td>59297</td>\n",
       "      <td>125542</td>\n",
       "      <td>123871</td>\n",
       "      <td>55470</td>\n",
       "      <td>76102</td>\n",
       "      <td>134989</td>\n",
       "      <td>1</td>\n",
       "      <td>13943</td>\n",
       "      <td>96622</td>\n",
       "      <td>21023</td>\n",
       "      <td>...</td>\n",
       "      <td>50820</td>\n",
       "      <td>43117</td>\n",
       "      <td>45561</td>\n",
       "      <td>44720</td>\n",
       "      <td>131708</td>\n",
       "      <td>116211</td>\n",
       "      <td>79780</td>\n",
       "      <td>120975</td>\n",
       "      <td>133539</td>\n",
       "      <td>127910</td>\n",
       "    </tr>\n",
       "  </tbody>\n",
       "</table>\n",
       "<p>4 rows × 51 columns</p>\n",
       "</div>"
      ],
      "text/plain": [
       "         route f_harm_ev_cd1 m_harm_ev_cd1 man_coll_cd crash_type  \\\n",
       "count   160186        160186        160186      160186     160186   \n",
       "unique    1024            45            45          12         19   \n",
       "top          0            S             S            B          S   \n",
       "freq     59297        125542        123871       55470      76102   \n",
       "\n",
       "       surf_cond_cd            crash_num crash_hour invest_agency_cd  \\\n",
       "count        160186               160186     160186           160186   \n",
       "unique           10               160186         25                4   \n",
       "top               A  201910281701013776-         17                B   \n",
       "freq         134989                    1      13943            96622   \n",
       "\n",
       "       travel_dirs  ... veh_lighting_1 veh_lighting_2 traff_cntl_cond_1  \\\n",
       "count       160186  ...         160185         134521            160185   \n",
       "unique         199  ...              6              5                25   \n",
       "top           EE    ...              A              B                 R   \n",
       "freq         21023  ...          50820          43117             45561   \n",
       "\n",
       "       traff_cntl_cond_2 pri_road_dir lighting_cd dr_cond_cd1 dr_cond_cd2  \\\n",
       "count             134521       160186      160186      160186      160186   \n",
       "unique                25            9          11          14          14   \n",
       "top                    R                        A           B           A   \n",
       "freq               44720       131708      116211       79780      120975   \n",
       "\n",
       "       veh_cond_cd1 veh_cond_cd2  \n",
       "count        160186       160186  \n",
       "unique           14           14  \n",
       "top               K            K  \n",
       "freq         133539       127910  \n",
       "\n",
       "[4 rows x 51 columns]"
      ]
     },
     "execution_count": 6,
     "metadata": {},
     "output_type": "execute_result"
    }
   ],
   "source": [
    "data.describe(include=['O'])"
   ]
  },
  {
   "cell_type": "code",
   "execution_count": 7,
   "id": "built-vaccine",
   "metadata": {},
   "outputs": [
    {
     "data": {
      "text/html": [
       "<div>\n",
       "<style scoped>\n",
       "    .dataframe tbody tr th:only-of-type {\n",
       "        vertical-align: middle;\n",
       "    }\n",
       "\n",
       "    .dataframe tbody tr th {\n",
       "        vertical-align: top;\n",
       "    }\n",
       "\n",
       "    .dataframe thead th {\n",
       "        text-align: right;\n",
       "    }\n",
       "</style>\n",
       "<table border=\"1\" class=\"dataframe\">\n",
       "  <thead>\n",
       "    <tr style=\"text-align: right;\">\n",
       "      <th></th>\n",
       "      <th>route</th>\n",
       "      <th>milepoint</th>\n",
       "      <th>num_tot_kil</th>\n",
       "      <th>num_tot_inj</th>\n",
       "      <th>crash_date</th>\n",
       "      <th>f_harm_ev_cd1</th>\n",
       "      <th>m_harm_ev_cd1</th>\n",
       "      <th>man_coll_cd</th>\n",
       "      <th>crash_type</th>\n",
       "      <th>surf_cond_cd</th>\n",
       "      <th>...</th>\n",
       "      <th>traff_cntl_cond_1</th>\n",
       "      <th>traff_cntl_cond_2</th>\n",
       "      <th>pri_road_dir</th>\n",
       "      <th>lighting_cd</th>\n",
       "      <th>num_veh</th>\n",
       "      <th>crash_time</th>\n",
       "      <th>dr_cond_cd1</th>\n",
       "      <th>dr_cond_cd2</th>\n",
       "      <th>veh_cond_cd1</th>\n",
       "      <th>veh_cond_cd2</th>\n",
       "    </tr>\n",
       "  </thead>\n",
       "  <tbody>\n",
       "    <tr>\n",
       "      <th>95671</th>\n",
       "      <td>0</td>\n",
       "      <td>NaN</td>\n",
       "      <td>0</td>\n",
       "      <td>0</td>\n",
       "      <td>2019-08-09</td>\n",
       "      <td>S</td>\n",
       "      <td>X</td>\n",
       "      <td>E</td>\n",
       "      <td>H</td>\n",
       "      <td>A</td>\n",
       "      <td>...</td>\n",
       "      <td>A</td>\n",
       "      <td>NaN</td>\n",
       "      <td></td>\n",
       "      <td>D</td>\n",
       "      <td>1</td>\n",
       "      <td>2021-04-16 20:27:00</td>\n",
       "      <td>A</td>\n",
       "      <td></td>\n",
       "      <td>K</td>\n",
       "      <td></td>\n",
       "    </tr>\n",
       "    <tr>\n",
       "      <th>128458</th>\n",
       "      <td>I020</td>\n",
       "      <td>103.837</td>\n",
       "      <td>0</td>\n",
       "      <td>0</td>\n",
       "      <td>2019-10-21</td>\n",
       "      <td>AA</td>\n",
       "      <td>AA</td>\n",
       "      <td>A</td>\n",
       "      <td>H</td>\n",
       "      <td>B</td>\n",
       "      <td>...</td>\n",
       "      <td>R</td>\n",
       "      <td>NaN</td>\n",
       "      <td></td>\n",
       "      <td>A</td>\n",
       "      <td>1</td>\n",
       "      <td>2021-04-16 07:10:00</td>\n",
       "      <td>B</td>\n",
       "      <td></td>\n",
       "      <td>K</td>\n",
       "      <td></td>\n",
       "    </tr>\n",
       "    <tr>\n",
       "      <th>19464</th>\n",
       "      <td>0</td>\n",
       "      <td>NaN</td>\n",
       "      <td>0</td>\n",
       "      <td>0</td>\n",
       "      <td>2019-02-17</td>\n",
       "      <td>S</td>\n",
       "      <td>S</td>\n",
       "      <td>Z</td>\n",
       "      <td>S</td>\n",
       "      <td>A</td>\n",
       "      <td>...</td>\n",
       "      <td>R</td>\n",
       "      <td>R</td>\n",
       "      <td></td>\n",
       "      <td>A</td>\n",
       "      <td>2</td>\n",
       "      <td>2021-04-16 08:38:00</td>\n",
       "      <td>Y</td>\n",
       "      <td>A</td>\n",
       "      <td>K</td>\n",
       "      <td>K</td>\n",
       "    </tr>\n",
       "    <tr>\n",
       "      <th>92173</th>\n",
       "      <td>3025S</td>\n",
       "      <td>0.414</td>\n",
       "      <td>0</td>\n",
       "      <td>0</td>\n",
       "      <td>2019-07-31</td>\n",
       "      <td>S</td>\n",
       "      <td>S</td>\n",
       "      <td>G</td>\n",
       "      <td>S</td>\n",
       "      <td>A</td>\n",
       "      <td>...</td>\n",
       "      <td>Z</td>\n",
       "      <td>Z</td>\n",
       "      <td></td>\n",
       "      <td>A</td>\n",
       "      <td>2</td>\n",
       "      <td>2021-04-16 16:24:00</td>\n",
       "      <td>B</td>\n",
       "      <td>A</td>\n",
       "      <td>K</td>\n",
       "      <td>K</td>\n",
       "    </tr>\n",
       "    <tr>\n",
       "      <th>67423</th>\n",
       "      <td>0</td>\n",
       "      <td>NaN</td>\n",
       "      <td>0</td>\n",
       "      <td>1</td>\n",
       "      <td>2019-05-31</td>\n",
       "      <td>S</td>\n",
       "      <td>S</td>\n",
       "      <td>B</td>\n",
       "      <td>S</td>\n",
       "      <td>A</td>\n",
       "      <td>...</td>\n",
       "      <td>C</td>\n",
       "      <td>C</td>\n",
       "      <td></td>\n",
       "      <td>A</td>\n",
       "      <td>2</td>\n",
       "      <td>2021-04-16 07:22:00</td>\n",
       "      <td>B</td>\n",
       "      <td>A</td>\n",
       "      <td>K</td>\n",
       "      <td>K</td>\n",
       "    </tr>\n",
       "    <tr>\n",
       "      <th>104569</th>\n",
       "      <td>80</td>\n",
       "      <td>17.060</td>\n",
       "      <td>0</td>\n",
       "      <td>3</td>\n",
       "      <td>2019-08-29</td>\n",
       "      <td>S</td>\n",
       "      <td>S</td>\n",
       "      <td>D</td>\n",
       "      <td>S</td>\n",
       "      <td>A</td>\n",
       "      <td>...</td>\n",
       "      <td>C</td>\n",
       "      <td>V</td>\n",
       "      <td></td>\n",
       "      <td>A</td>\n",
       "      <td>2</td>\n",
       "      <td>2021-04-16 15:21:00</td>\n",
       "      <td>B</td>\n",
       "      <td>A</td>\n",
       "      <td>K</td>\n",
       "      <td>K</td>\n",
       "    </tr>\n",
       "    <tr>\n",
       "      <th>143679</th>\n",
       "      <td>1031</td>\n",
       "      <td>0.068</td>\n",
       "      <td>0</td>\n",
       "      <td>0</td>\n",
       "      <td>2019-11-22</td>\n",
       "      <td>S</td>\n",
       "      <td>S</td>\n",
       "      <td>B</td>\n",
       "      <td>R</td>\n",
       "      <td>B</td>\n",
       "      <td>...</td>\n",
       "      <td>C</td>\n",
       "      <td>C</td>\n",
       "      <td></td>\n",
       "      <td>D</td>\n",
       "      <td>3</td>\n",
       "      <td>2021-04-16 17:56:00</td>\n",
       "      <td>B</td>\n",
       "      <td>A</td>\n",
       "      <td>K</td>\n",
       "      <td>K</td>\n",
       "    </tr>\n",
       "    <tr>\n",
       "      <th>82529</th>\n",
       "      <td>8</td>\n",
       "      <td>77.774</td>\n",
       "      <td>0</td>\n",
       "      <td>0</td>\n",
       "      <td>2019-07-07</td>\n",
       "      <td>L</td>\n",
       "      <td>S</td>\n",
       "      <td>K</td>\n",
       "      <td>S</td>\n",
       "      <td>A</td>\n",
       "      <td>...</td>\n",
       "      <td>S</td>\n",
       "      <td>S</td>\n",
       "      <td></td>\n",
       "      <td>D</td>\n",
       "      <td>2</td>\n",
       "      <td>2021-04-16 21:26:00</td>\n",
       "      <td>A</td>\n",
       "      <td>A</td>\n",
       "      <td>K</td>\n",
       "      <td>K</td>\n",
       "    </tr>\n",
       "    <tr>\n",
       "      <th>156975</th>\n",
       "      <td>I020</td>\n",
       "      <td>101.435</td>\n",
       "      <td>0</td>\n",
       "      <td>0</td>\n",
       "      <td>2019-12-22</td>\n",
       "      <td>J</td>\n",
       "      <td>S</td>\n",
       "      <td>B</td>\n",
       "      <td>S</td>\n",
       "      <td>B</td>\n",
       "      <td>...</td>\n",
       "      <td>R</td>\n",
       "      <td>V</td>\n",
       "      <td></td>\n",
       "      <td>B</td>\n",
       "      <td>2</td>\n",
       "      <td>2021-04-16 02:10:00</td>\n",
       "      <td>B</td>\n",
       "      <td>Z</td>\n",
       "      <td>K</td>\n",
       "      <td>K</td>\n",
       "    </tr>\n",
       "    <tr>\n",
       "      <th>17229</th>\n",
       "      <td>0</td>\n",
       "      <td>NaN</td>\n",
       "      <td>0</td>\n",
       "      <td>0</td>\n",
       "      <td>2019-02-12</td>\n",
       "      <td>S</td>\n",
       "      <td>S</td>\n",
       "      <td>B</td>\n",
       "      <td>U</td>\n",
       "      <td>A</td>\n",
       "      <td>...</td>\n",
       "      <td>C</td>\n",
       "      <td>C</td>\n",
       "      <td></td>\n",
       "      <td>A</td>\n",
       "      <td>2</td>\n",
       "      <td>2021-04-16 17:43:00</td>\n",
       "      <td>C</td>\n",
       "      <td>A</td>\n",
       "      <td>K</td>\n",
       "      <td>K</td>\n",
       "    </tr>\n",
       "  </tbody>\n",
       "</table>\n",
       "<p>10 rows × 76 columns</p>\n",
       "</div>"
      ],
      "text/plain": [
       "        route  milepoint  num_tot_kil  num_tot_inj crash_date f_harm_ev_cd1  \\\n",
       "95671       0        NaN            0            0 2019-08-09            S    \n",
       "128458  I020     103.837            0            0 2019-10-21            AA   \n",
       "19464       0        NaN            0            0 2019-02-17            S    \n",
       "92173   3025S      0.414            0            0 2019-07-31            S    \n",
       "67423       0        NaN            0            1 2019-05-31            S    \n",
       "104569     80     17.060            0            3 2019-08-29            S    \n",
       "143679   1031      0.068            0            0 2019-11-22            S    \n",
       "82529       8     77.774            0            0 2019-07-07            L    \n",
       "156975  I020     101.435            0            0 2019-12-22            J    \n",
       "17229       0        NaN            0            0 2019-02-12            S    \n",
       "\n",
       "       m_harm_ev_cd1 man_coll_cd crash_type surf_cond_cd  ...  \\\n",
       "95671             X            E          H            A  ...   \n",
       "128458            AA           A          H            B  ...   \n",
       "19464             S            Z          S            A  ...   \n",
       "92173             S            G          S            A  ...   \n",
       "67423             S            B          S            A  ...   \n",
       "104569            S            D          S            A  ...   \n",
       "143679            S            B          R            B  ...   \n",
       "82529             S            K          S            A  ...   \n",
       "156975            S            B          S            B  ...   \n",
       "17229             S            B          U            A  ...   \n",
       "\n",
       "       traff_cntl_cond_1  traff_cntl_cond_2 pri_road_dir  lighting_cd num_veh  \\\n",
       "95671                  A                NaN                         D       1   \n",
       "128458                 R                NaN                         A       1   \n",
       "19464                  R                  R                         A       2   \n",
       "92173                  Z                  Z                         A       2   \n",
       "67423                  C                  C                         A       2   \n",
       "104569                 C                  V                         A       2   \n",
       "143679                 C                  C                         D       3   \n",
       "82529                  S                  S                         D       2   \n",
       "156975                 R                  V                         B       2   \n",
       "17229                  C                  C                         A       2   \n",
       "\n",
       "                crash_time dr_cond_cd1  dr_cond_cd2 veh_cond_cd1  veh_cond_cd2  \n",
       "95671  2021-04-16 20:27:00           A                         K                \n",
       "128458 2021-04-16 07:10:00           B                         K                \n",
       "19464  2021-04-16 08:38:00           Y            A            K             K  \n",
       "92173  2021-04-16 16:24:00           B            A            K             K  \n",
       "67423  2021-04-16 07:22:00           B            A            K             K  \n",
       "104569 2021-04-16 15:21:00           B            A            K             K  \n",
       "143679 2021-04-16 17:56:00           B            A            K             K  \n",
       "82529  2021-04-16 21:26:00           A            A            K             K  \n",
       "156975 2021-04-16 02:10:00           B            Z            K             K  \n",
       "17229  2021-04-16 17:43:00           C            A            K             K  \n",
       "\n",
       "[10 rows x 76 columns]"
      ]
     },
     "execution_count": 7,
     "metadata": {},
     "output_type": "execute_result"
    }
   ],
   "source": [
    "data.sample(10)"
   ]
  },
  {
   "cell_type": "markdown",
   "id": "level-japanese",
   "metadata": {},
   "source": [
    "### Columns with null values"
   ]
  },
  {
   "cell_type": "code",
   "execution_count": 8,
   "id": "institutional-freeware",
   "metadata": {
    "scrolled": true
   },
   "outputs": [
    {
     "data": {
      "text/plain": [
       "route                       0\n",
       "milepoint               59772\n",
       "num_tot_kil                 0\n",
       "num_tot_inj                 0\n",
       "crash_date                  0\n",
       "f_harm_ev_cd1               0\n",
       "m_harm_ev_cd1               0\n",
       "man_coll_cd                 0\n",
       "crash_type                  0\n",
       "surf_cond_cd                0\n",
       "crash_num                   0\n",
       "parish_cd                   0\n",
       "crash_hour                  0\n",
       "intersection                0\n",
       "invest_agency_cd            0\n",
       "travel_dirs                 0\n",
       "prior_movements             0\n",
       "crash_year                  0\n",
       "csect                       0\n",
       "logmile                 59514\n",
       "lrs_id                      0\n",
       "lrs_logmile              1431\n",
       "adt                     59287\n",
       "alcohol                     0\n",
       "veh_type_cd1                0\n",
       "veh_type_cd2                0\n",
       "quadrant                    0\n",
       "spotted_by                  0\n",
       "intersection_id         94852\n",
       "severity_cd                 0\n",
       "city_cd                     0\n",
       "roadway_departure           0\n",
       "lane_departure              0\n",
       "road_rel_cd                 0\n",
       "hwy_class                   0\n",
       "contributing_factor         0\n",
       "location_type               0\n",
       "veh_severity_cd             0\n",
       "ORIG_LATITUDE               2\n",
       "ORIG_LONGITUDE              0\n",
       "DOTD_LATITUDE             318\n",
       "DOTD_LONGITUDE            317\n",
       "parish_cd.1                 0\n",
       "hwy_type_cd                 0\n",
       "pri_hwy_num                 0\n",
       "bypass                      0\n",
       "milepost                    0\n",
       "pri_road_name               1\n",
       "pri_dist                    0\n",
       "pri_measure                 0\n",
       "pri_dir                     3\n",
       "inter_road                 10\n",
       "dr_age_1                    1\n",
       "dr_age_2                25665\n",
       "dr_sex_1                    1\n",
       "dr_sex_2                25665\n",
       "pri_contrib_fac_cd          0\n",
       "sec_contrib_fac_cd          0\n",
       "vision_obscure_1            1\n",
       "vision_obscure_2        25665\n",
       "movement_reason_1           1\n",
       "movement_reason_2       25665\n",
       "ped_actions_1          158592\n",
       "ped_actions_2               0\n",
       "veh_lighting_1              1\n",
       "veh_lighting_2          25665\n",
       "traff_cntl_cond_1           1\n",
       "traff_cntl_cond_2       25665\n",
       "pri_road_dir                0\n",
       "lighting_cd                 0\n",
       "num_veh                     0\n",
       "crash_time                595\n",
       "dr_cond_cd1                 0\n",
       "dr_cond_cd2                 0\n",
       "veh_cond_cd1                0\n",
       "veh_cond_cd2                0\n",
       "dtype: int64"
      ]
     },
     "execution_count": 8,
     "metadata": {},
     "output_type": "execute_result"
    }
   ],
   "source": [
    "pd.set_option('max_rows', None)\n",
    "data.isnull().sum()"
   ]
  },
  {
   "cell_type": "code",
   "execution_count": 9,
   "id": "victorian-caribbean",
   "metadata": {},
   "outputs": [],
   "source": [
    "pd.reset_option('max_rows')"
   ]
  },
  {
   "cell_type": "markdown",
   "id": "banned-standing",
   "metadata": {},
   "source": [
    "- It appears that 20,509 records are single-vehicle accidents, because there are exactly 20,509 blanks in the \"vehicle 2\" columns. \n",
    "- Similarly, there are 126,876 records that don't involve a pedestrian."
   ]
  },
  {
   "cell_type": "markdown",
   "id": "tracked-lover",
   "metadata": {},
   "source": [
    "## Clean Data"
   ]
  },
  {
   "cell_type": "code",
   "execution_count": 10,
   "id": "waiting-girlfriend",
   "metadata": {},
   "outputs": [],
   "source": [
    "def Analysis(s):\n",
    "    print ('Analysis of field ', s)\n",
    "    n = len(pd.unique(data[s]))\n",
    "    print (n, \"\\t Number of unique values in \", s)\n",
    "    print (data[s].isnull().sum(), \"\\t Number of null values in \", s)\n",
    "    print ()\n",
    "    print (\"\\t Value Counts\")\n",
    "    print (data[s].value_counts())\n",
    "    print ()\n",
    "    if n<100:\n",
    "        print (\"\\t Truncated list of unique values in \", s, \": \")\n",
    "        if data[s].dtype in ['int8','float64']:\n",
    "            print (sorted(pd.unique(data[s])))\n",
    "        else:\n",
    "            print (pd.unique(data[s]))\n",
    "    print ('-*'*20)\n",
    "    print ()"
   ]
  },
  {
   "cell_type": "code",
   "execution_count": 11,
   "id": "settled-excuse",
   "metadata": {},
   "outputs": [],
   "source": [
    "def Make_Category(col):\n",
    "    data[col] = data[col].astype('category')\n",
    "    new_col = col + '_codes'\n",
    "    data[new_col] = data[col].cat.codes\n",
    "    Analysis(new_col)"
   ]
  },
  {
   "cell_type": "markdown",
   "id": "experienced-technical",
   "metadata": {},
   "source": [
    "### 'route'"
   ]
  },
  {
   "cell_type": "code",
   "execution_count": 12,
   "id": "honey-murder",
   "metadata": {},
   "outputs": [
    {
     "name": "stdout",
     "output_type": "stream",
     "text": [
      "Analysis of field  route\n",
      "1024 \t Number of unique values in  route\n",
      "0 \t Number of null values in  route\n",
      "\n",
      "\t Value Counts\n",
      "0        59297\n",
      "I010     11087\n",
      "90        4729\n",
      "61        4137\n",
      "190       3717\n",
      "         ...  \n",
      "3116         1\n",
      "3076         1\n",
      "990          1\n",
      "607          1\n",
      "3248         1\n",
      "Name: route, Length: 1024, dtype: int64\n",
      "\n",
      "-*-*-*-*-*-*-*-*-*-*-*-*-*-*-*-*-*-*-*-*\n",
      "\n"
     ]
    }
   ],
   "source": [
    "Analysis('route')"
   ]
  },
  {
   "cell_type": "markdown",
   "id": "sticky-archive",
   "metadata": {},
   "source": [
    "Too many unique values that don't correlate to anything we can see.  It may be true that windy country roads, or roads with high speed limits, or roads with lots of drag racing, might have higher fatality rates, but we don't have that information to correlate with the route name.  "
   ]
  },
  {
   "cell_type": "code",
   "execution_count": 13,
   "id": "further-egypt",
   "metadata": {},
   "outputs": [],
   "source": [
    "data.drop(['route'], axis=1, inplace=True)"
   ]
  },
  {
   "cell_type": "markdown",
   "id": "hawaiian-trade",
   "metadata": {},
   "source": [
    "### 'milepoint'"
   ]
  },
  {
   "cell_type": "code",
   "execution_count": 14,
   "id": "continued-circle",
   "metadata": {},
   "outputs": [
    {
     "name": "stdout",
     "output_type": "stream",
     "text": [
      "Analysis of field  milepoint\n",
      "53808 \t Number of unique values in  milepoint\n",
      "59772 \t Number of null values in  milepoint\n",
      "\n",
      "\t Value Counts\n",
      "0.000      326\n",
      "194.280     45\n",
      "3.851       38\n",
      "6.087       36\n",
      "257.836     36\n",
      "          ... \n",
      "13.129       1\n",
      "67.177       1\n",
      "74.721       1\n",
      "189.609      1\n",
      "35.843       1\n",
      "Name: milepoint, Length: 53807, dtype: int64\n",
      "\n",
      "-*-*-*-*-*-*-*-*-*-*-*-*-*-*-*-*-*-*-*-*\n",
      "\n"
     ]
    }
   ],
   "source": [
    "Analysis ('milepoint')"
   ]
  },
  {
   "cell_type": "markdown",
   "id": "exceptional-conservation",
   "metadata": {},
   "source": [
    "I can't see any predictive value here.  "
   ]
  },
  {
   "cell_type": "code",
   "execution_count": 15,
   "id": "ceramic-platform",
   "metadata": {},
   "outputs": [],
   "source": [
    "data.drop(['milepoint'], axis=1, inplace=True)"
   ]
  },
  {
   "cell_type": "markdown",
   "id": "stable-usage",
   "metadata": {},
   "source": [
    "### 'num_tot_kil'"
   ]
  },
  {
   "cell_type": "code",
   "execution_count": 16,
   "id": "signal-jordan",
   "metadata": {},
   "outputs": [
    {
     "name": "stdout",
     "output_type": "stream",
     "text": [
      "Analysis of field  num_tot_kil\n",
      "5 \t Number of unique values in  num_tot_kil\n",
      "0 \t Number of null values in  num_tot_kil\n",
      "\n",
      "\t Value Counts\n",
      "0    159505\n",
      "1       644\n",
      "2        29\n",
      "3         7\n",
      "4         1\n",
      "Name: num_tot_kil, dtype: int64\n",
      "\n",
      "\t Truncated list of unique values in  num_tot_kil : \n",
      "[0 1 3 2 4]\n",
      "-*-*-*-*-*-*-*-*-*-*-*-*-*-*-*-*-*-*-*-*\n",
      "\n"
     ]
    }
   ],
   "source": [
    "Analysis ('num_tot_kil')"
   ]
  },
  {
   "cell_type": "markdown",
   "id": "beginning-party",
   "metadata": {},
   "source": [
    "We're only interested in whether the crash was fatal, whether num_tot_kil > 0.  Collapse 2, 3, and 4 into 1."
   ]
  },
  {
   "cell_type": "code",
   "execution_count": 17,
   "id": "reduced-eleven",
   "metadata": {},
   "outputs": [
    {
     "name": "stdout",
     "output_type": "stream",
     "text": [
      "Analysis of field  fatal\n",
      "2 \t Number of unique values in  fatal\n",
      "0 \t Number of null values in  fatal\n",
      "\n",
      "\t Value Counts\n",
      "0    159505\n",
      "1       681\n",
      "Name: fatal, dtype: int64\n",
      "\n",
      "\t Truncated list of unique values in  fatal : \n",
      "[0 1]\n",
      "-*-*-*-*-*-*-*-*-*-*-*-*-*-*-*-*-*-*-*-*\n",
      "\n"
     ]
    },
    {
     "data": {
      "text/html": [
       "<div>\n",
       "<style scoped>\n",
       "    .dataframe tbody tr th:only-of-type {\n",
       "        vertical-align: middle;\n",
       "    }\n",
       "\n",
       "    .dataframe tbody tr th {\n",
       "        vertical-align: top;\n",
       "    }\n",
       "\n",
       "    .dataframe thead th {\n",
       "        text-align: right;\n",
       "    }\n",
       "</style>\n",
       "<table border=\"1\" class=\"dataframe\">\n",
       "  <thead>\n",
       "    <tr style=\"text-align: right;\">\n",
       "      <th></th>\n",
       "      <th>num_tot_kil</th>\n",
       "      <th>num_tot_inj</th>\n",
       "      <th>crash_date</th>\n",
       "      <th>f_harm_ev_cd1</th>\n",
       "      <th>m_harm_ev_cd1</th>\n",
       "      <th>man_coll_cd</th>\n",
       "      <th>crash_type</th>\n",
       "      <th>surf_cond_cd</th>\n",
       "      <th>crash_num</th>\n",
       "      <th>parish_cd</th>\n",
       "      <th>...</th>\n",
       "      <th>traff_cntl_cond_2</th>\n",
       "      <th>pri_road_dir</th>\n",
       "      <th>lighting_cd</th>\n",
       "      <th>num_veh</th>\n",
       "      <th>crash_time</th>\n",
       "      <th>dr_cond_cd1</th>\n",
       "      <th>dr_cond_cd2</th>\n",
       "      <th>veh_cond_cd1</th>\n",
       "      <th>veh_cond_cd2</th>\n",
       "      <th>fatal</th>\n",
       "    </tr>\n",
       "  </thead>\n",
       "  <tbody>\n",
       "    <tr>\n",
       "      <th>30431</th>\n",
       "      <td>0</td>\n",
       "      <td>0</td>\n",
       "      <td>2019-03-12</td>\n",
       "      <td>K</td>\n",
       "      <td>GG</td>\n",
       "      <td>A</td>\n",
       "      <td>H</td>\n",
       "      <td>A</td>\n",
       "      <td>190312120516536-</td>\n",
       "      <td>61</td>\n",
       "      <td>...</td>\n",
       "      <td>NaN</td>\n",
       "      <td></td>\n",
       "      <td>A</td>\n",
       "      <td>1</td>\n",
       "      <td>2021-04-16 09:46:00</td>\n",
       "      <td>B</td>\n",
       "      <td></td>\n",
       "      <td>K</td>\n",
       "      <td></td>\n",
       "      <td>0</td>\n",
       "    </tr>\n",
       "    <tr>\n",
       "      <th>18031</th>\n",
       "      <td>0</td>\n",
       "      <td>1</td>\n",
       "      <td>2019-02-13</td>\n",
       "      <td>S</td>\n",
       "      <td>S</td>\n",
       "      <td>J</td>\n",
       "      <td>S</td>\n",
       "      <td>A</td>\n",
       "      <td>201902151701001901-</td>\n",
       "      <td>17</td>\n",
       "      <td>...</td>\n",
       "      <td>R</td>\n",
       "      <td>W</td>\n",
       "      <td>A</td>\n",
       "      <td>2</td>\n",
       "      <td>2021-04-16 13:37:00</td>\n",
       "      <td>B</td>\n",
       "      <td>A</td>\n",
       "      <td>K</td>\n",
       "      <td>K</td>\n",
       "      <td>0</td>\n",
       "    </tr>\n",
       "    <tr>\n",
       "      <th>149519</th>\n",
       "      <td>0</td>\n",
       "      <td>1</td>\n",
       "      <td>2019-12-06</td>\n",
       "      <td>S</td>\n",
       "      <td>S</td>\n",
       "      <td>B</td>\n",
       "      <td>S</td>\n",
       "      <td>A</td>\n",
       "      <td>20190042899-</td>\n",
       "      <td>52</td>\n",
       "      <td>...</td>\n",
       "      <td>S</td>\n",
       "      <td></td>\n",
       "      <td>B</td>\n",
       "      <td>2</td>\n",
       "      <td>2021-04-16 17:10:00</td>\n",
       "      <td>C</td>\n",
       "      <td>A</td>\n",
       "      <td>K</td>\n",
       "      <td>K</td>\n",
       "      <td>0</td>\n",
       "    </tr>\n",
       "    <tr>\n",
       "      <th>47150</th>\n",
       "      <td>0</td>\n",
       "      <td>0</td>\n",
       "      <td>2019-04-16</td>\n",
       "      <td>S</td>\n",
       "      <td>S</td>\n",
       "      <td>B</td>\n",
       "      <td>S</td>\n",
       "      <td>A</td>\n",
       "      <td>201904241701005339-</td>\n",
       "      <td>17</td>\n",
       "      <td>...</td>\n",
       "      <td>E</td>\n",
       "      <td></td>\n",
       "      <td>A</td>\n",
       "      <td>2</td>\n",
       "      <td>2021-04-16 14:33:00</td>\n",
       "      <td>B</td>\n",
       "      <td>A</td>\n",
       "      <td>K</td>\n",
       "      <td>K</td>\n",
       "      <td>0</td>\n",
       "    </tr>\n",
       "    <tr>\n",
       "      <th>99769</th>\n",
       "      <td>0</td>\n",
       "      <td>0</td>\n",
       "      <td>2019-08-19</td>\n",
       "      <td>S</td>\n",
       "      <td>S</td>\n",
       "      <td>F</td>\n",
       "      <td>S</td>\n",
       "      <td>B</td>\n",
       "      <td>190820074637074-</td>\n",
       "      <td>23</td>\n",
       "      <td>...</td>\n",
       "      <td>S</td>\n",
       "      <td>S</td>\n",
       "      <td>A</td>\n",
       "      <td>2</td>\n",
       "      <td>2021-04-16 11:55:00</td>\n",
       "      <td>B</td>\n",
       "      <td>A</td>\n",
       "      <td>K</td>\n",
       "      <td>K</td>\n",
       "      <td>0</td>\n",
       "    </tr>\n",
       "    <tr>\n",
       "      <th>43208</th>\n",
       "      <td>0</td>\n",
       "      <td>0</td>\n",
       "      <td>2019-04-08</td>\n",
       "      <td>S</td>\n",
       "      <td>S</td>\n",
       "      <td>F</td>\n",
       "      <td>R</td>\n",
       "      <td>A</td>\n",
       "      <td>190410210702100-</td>\n",
       "      <td>10</td>\n",
       "      <td>...</td>\n",
       "      <td>E</td>\n",
       "      <td>E</td>\n",
       "      <td>A</td>\n",
       "      <td>3</td>\n",
       "      <td>2021-04-16 16:41:00</td>\n",
       "      <td>B</td>\n",
       "      <td>A</td>\n",
       "      <td>K</td>\n",
       "      <td>K</td>\n",
       "      <td>0</td>\n",
       "    </tr>\n",
       "    <tr>\n",
       "      <th>45687</th>\n",
       "      <td>0</td>\n",
       "      <td>0</td>\n",
       "      <td>2019-04-13</td>\n",
       "      <td>T</td>\n",
       "      <td>T</td>\n",
       "      <td>Z</td>\n",
       "      <td>E</td>\n",
       "      <td>A</td>\n",
       "      <td>190414081049189-</td>\n",
       "      <td>26</td>\n",
       "      <td>...</td>\n",
       "      <td>V</td>\n",
       "      <td></td>\n",
       "      <td>C</td>\n",
       "      <td>2</td>\n",
       "      <td>2021-04-16 20:10:00</td>\n",
       "      <td>B</td>\n",
       "      <td></td>\n",
       "      <td>K</td>\n",
       "      <td>K</td>\n",
       "      <td>0</td>\n",
       "    </tr>\n",
       "    <tr>\n",
       "      <th>113383</th>\n",
       "      <td>0</td>\n",
       "      <td>3</td>\n",
       "      <td>2019-09-18</td>\n",
       "      <td>S</td>\n",
       "      <td>S</td>\n",
       "      <td>C</td>\n",
       "      <td>R</td>\n",
       "      <td>B</td>\n",
       "      <td>190918132550549-</td>\n",
       "      <td>8</td>\n",
       "      <td>...</td>\n",
       "      <td>Q</td>\n",
       "      <td></td>\n",
       "      <td>A</td>\n",
       "      <td>3</td>\n",
       "      <td>2021-04-16 14:38:00</td>\n",
       "      <td>B</td>\n",
       "      <td>A</td>\n",
       "      <td>K</td>\n",
       "      <td>K</td>\n",
       "      <td>0</td>\n",
       "    </tr>\n",
       "    <tr>\n",
       "      <th>88934</th>\n",
       "      <td>0</td>\n",
       "      <td>0</td>\n",
       "      <td>2019-07-23</td>\n",
       "      <td>HH</td>\n",
       "      <td>HH</td>\n",
       "      <td>A</td>\n",
       "      <td>Q</td>\n",
       "      <td>B</td>\n",
       "      <td>190730024628178-</td>\n",
       "      <td>36</td>\n",
       "      <td>...</td>\n",
       "      <td>R</td>\n",
       "      <td></td>\n",
       "      <td>B</td>\n",
       "      <td>2</td>\n",
       "      <td>2021-04-16 03:45:00</td>\n",
       "      <td>C</td>\n",
       "      <td>A</td>\n",
       "      <td>Z</td>\n",
       "      <td>K</td>\n",
       "      <td>0</td>\n",
       "    </tr>\n",
       "    <tr>\n",
       "      <th>66906</th>\n",
       "      <td>0</td>\n",
       "      <td>0</td>\n",
       "      <td>2019-05-30</td>\n",
       "      <td>S</td>\n",
       "      <td>S</td>\n",
       "      <td>A</td>\n",
       "      <td>Q</td>\n",
       "      <td>A</td>\n",
       "      <td>201905311701007001-</td>\n",
       "      <td>17</td>\n",
       "      <td>...</td>\n",
       "      <td>V</td>\n",
       "      <td></td>\n",
       "      <td>C</td>\n",
       "      <td>2</td>\n",
       "      <td>2021-04-16 23:27:00</td>\n",
       "      <td>Y</td>\n",
       "      <td>Z</td>\n",
       "      <td>K</td>\n",
       "      <td>K</td>\n",
       "      <td>0</td>\n",
       "    </tr>\n",
       "  </tbody>\n",
       "</table>\n",
       "<p>10 rows × 75 columns</p>\n",
       "</div>"
      ],
      "text/plain": [
       "        num_tot_kil  num_tot_inj crash_date f_harm_ev_cd1 m_harm_ev_cd1  \\\n",
       "30431             0            0 2019-03-12            K             GG   \n",
       "18031             0            1 2019-02-13            S             S    \n",
       "149519            0            1 2019-12-06            S             S    \n",
       "47150             0            0 2019-04-16            S             S    \n",
       "99769             0            0 2019-08-19            S             S    \n",
       "43208             0            0 2019-04-08            S             S    \n",
       "45687             0            0 2019-04-13            T             T    \n",
       "113383            0            3 2019-09-18            S             S    \n",
       "88934             0            0 2019-07-23            HH            HH   \n",
       "66906             0            0 2019-05-30            S             S    \n",
       "\n",
       "       man_coll_cd crash_type surf_cond_cd            crash_num  parish_cd  \\\n",
       "30431            A          H            A     190312120516536-         61   \n",
       "18031            J          S            A  201902151701001901-         17   \n",
       "149519           B          S            A         20190042899-         52   \n",
       "47150            B          S            A  201904241701005339-         17   \n",
       "99769            F          S            B     190820074637074-         23   \n",
       "43208            F          R            A     190410210702100-         10   \n",
       "45687            Z          E            A     190414081049189-         26   \n",
       "113383           C          R            B     190918132550549-          8   \n",
       "88934            A          Q            B     190730024628178-         36   \n",
       "66906            A          Q            A  201905311701007001-         17   \n",
       "\n",
       "        ... traff_cntl_cond_2  pri_road_dir lighting_cd num_veh  \\\n",
       "30431   ...               NaN                         A       1   \n",
       "18031   ...                 R             W           A       2   \n",
       "149519  ...                 S                         B       2   \n",
       "47150   ...                 E                         A       2   \n",
       "99769   ...                 S             S           A       2   \n",
       "43208   ...                 E             E           A       3   \n",
       "45687   ...                 V                         C       2   \n",
       "113383  ...                 Q                         A       3   \n",
       "88934   ...                 R                         B       2   \n",
       "66906   ...                 V                         C       2   \n",
       "\n",
       "                crash_time  dr_cond_cd1 dr_cond_cd2  veh_cond_cd1  \\\n",
       "30431  2021-04-16 09:46:00            B                         K   \n",
       "18031  2021-04-16 13:37:00            B           A             K   \n",
       "149519 2021-04-16 17:10:00            C           A             K   \n",
       "47150  2021-04-16 14:33:00            B           A             K   \n",
       "99769  2021-04-16 11:55:00            B           A             K   \n",
       "43208  2021-04-16 16:41:00            B           A             K   \n",
       "45687  2021-04-16 20:10:00            B                         K   \n",
       "113383 2021-04-16 14:38:00            B           A             K   \n",
       "88934  2021-04-16 03:45:00            C           A             Z   \n",
       "66906  2021-04-16 23:27:00            Y           Z             K   \n",
       "\n",
       "       veh_cond_cd2  fatal  \n",
       "30431                    0  \n",
       "18031             K      0  \n",
       "149519            K      0  \n",
       "47150             K      0  \n",
       "99769             K      0  \n",
       "43208             K      0  \n",
       "45687             K      0  \n",
       "113383            K      0  \n",
       "88934             K      0  \n",
       "66906             K      0  \n",
       "\n",
       "[10 rows x 75 columns]"
      ]
     },
     "execution_count": 17,
     "metadata": {},
     "output_type": "execute_result"
    }
   ],
   "source": [
    "mapping = {0:0, 1:1, 2:1, 3:1, 4:1}\n",
    "data['fatal'] = data['num_tot_kil'].map(mapping).astype(int)\n",
    "Analysis('fatal')\n",
    "data.sample(10)"
   ]
  },
  {
   "cell_type": "markdown",
   "id": "surprising-charity",
   "metadata": {},
   "source": [
    "### 'num_tot_inj'"
   ]
  },
  {
   "cell_type": "code",
   "execution_count": 18,
   "id": "foster-artist",
   "metadata": {},
   "outputs": [
    {
     "name": "stdout",
     "output_type": "stream",
     "text": [
      "Analysis of field  num_tot_inj\n",
      "27 \t Number of unique values in  num_tot_inj\n",
      "0 \t Number of null values in  num_tot_inj\n",
      "\n",
      "\t Value Counts\n",
      "0     115335\n",
      "1      28915\n",
      "2       9638\n",
      "3       3596\n",
      "4       1477\n",
      "5        654\n",
      "6        285\n",
      "7        137\n",
      "8         64\n",
      "9         27\n",
      "10        18\n",
      "11        12\n",
      "12         6\n",
      "19         3\n",
      "13         3\n",
      "15         2\n",
      "16         2\n",
      "20         2\n",
      "52         2\n",
      "17         1\n",
      "18         1\n",
      "14         1\n",
      "22         1\n",
      "23         1\n",
      "36         1\n",
      "37         1\n",
      "64         1\n",
      "Name: num_tot_inj, dtype: int64\n",
      "\n",
      "\t Truncated list of unique values in  num_tot_inj : \n",
      "[ 0  1  3  2  4  7  6  8  5 16  9 22 23 10 13 19 12 11 18 37 36 20 52 15\n",
      " 17 14 64]\n",
      "-*-*-*-*-*-*-*-*-*-*-*-*-*-*-*-*-*-*-*-*\n",
      "\n"
     ]
    }
   ],
   "source": [
    "Analysis('num_tot_inj')"
   ]
  },
  {
   "cell_type": "markdown",
   "id": "hollywood-import",
   "metadata": {},
   "source": [
    "Not sure what we'll do with this information.  It might be useful.  "
   ]
  },
  {
   "cell_type": "markdown",
   "id": "passive-daniel",
   "metadata": {},
   "source": [
    "### crash_date"
   ]
  },
  {
   "cell_type": "code",
   "execution_count": 19,
   "id": "accomplished-polymer",
   "metadata": {},
   "outputs": [
    {
     "name": "stdout",
     "output_type": "stream",
     "text": [
      "Analysis of field  crash_date\n",
      "365 \t Number of unique values in  crash_date\n",
      "0 \t Number of null values in  crash_date\n",
      "\n",
      "\t Value Counts\n",
      "2019-10-25    788\n",
      "2019-04-04    699\n",
      "2019-03-01    661\n",
      "2019-12-10    643\n",
      "2019-05-10    637\n",
      "             ... \n",
      "2019-01-27    262\n",
      "2019-05-27    261\n",
      "2019-11-28    236\n",
      "2019-07-13    221\n",
      "2019-12-25    211\n",
      "Name: crash_date, Length: 365, dtype: int64\n",
      "\n",
      "-*-*-*-*-*-*-*-*-*-*-*-*-*-*-*-*-*-*-*-*\n",
      "\n"
     ]
    }
   ],
   "source": [
    "Analysis('crash_date')"
   ]
  },
  {
   "cell_type": "markdown",
   "id": "italic-river",
   "metadata": {},
   "source": [
    "Two things might be useful here.  One is the day of the week, and the other is the month.  \n",
    "\n",
    "dayofweek gives 0=Monday and 6=Sunday"
   ]
  },
  {
   "cell_type": "code",
   "execution_count": 20,
   "id": "sapphire-bonus",
   "metadata": {},
   "outputs": [
    {
     "name": "stdout",
     "output_type": "stream",
     "text": [
      "Analysis of field  crash_dayofweek\n",
      "7 \t Number of unique values in  crash_dayofweek\n",
      "0 \t Number of null values in  crash_dayofweek\n",
      "\n",
      "\t Value Counts\n",
      "4    27230\n",
      "3    25079\n",
      "2    24449\n",
      "1    24229\n",
      "0    23411\n",
      "5    19729\n",
      "6    16059\n",
      "Name: crash_dayofweek, dtype: int64\n",
      "\n",
      "\t Truncated list of unique values in  crash_dayofweek : \n",
      "[1 2 3 4 5 6 0]\n",
      "-*-*-*-*-*-*-*-*-*-*-*-*-*-*-*-*-*-*-*-*\n",
      "\n"
     ]
    }
   ],
   "source": [
    "data['crash_dayofweek'] = data['crash_date'].dt.dayofweek\n",
    "Analysis ('crash_dayofweek')"
   ]
  },
  {
   "cell_type": "code",
   "execution_count": 21,
   "id": "seeing-borough",
   "metadata": {},
   "outputs": [
    {
     "name": "stdout",
     "output_type": "stream",
     "text": [
      "Analysis of field  crash_month\n",
      "12 \t Number of unique values in  crash_month\n",
      "0 \t Number of null values in  crash_month\n",
      "\n",
      "\t Value Counts\n",
      "10    14820\n",
      "3     14443\n",
      "5     14382\n",
      "4     13818\n",
      "8     13475\n",
      "12    13326\n",
      "11    13240\n",
      "9     13053\n",
      "1     12762\n",
      "2     12342\n",
      "7     12317\n",
      "6     12208\n",
      "Name: crash_month, dtype: int64\n",
      "\n",
      "\t Truncated list of unique values in  crash_month : \n",
      "[ 1  2  3  4  5  6  7  8  9 10 11 12]\n",
      "-*-*-*-*-*-*-*-*-*-*-*-*-*-*-*-*-*-*-*-*\n",
      "\n"
     ]
    }
   ],
   "source": [
    "data['crash_month'] = data['crash_date'].dt.month\n",
    "Analysis ('crash_month')"
   ]
  },
  {
   "cell_type": "markdown",
   "id": "unauthorized-jason",
   "metadata": {},
   "source": [
    "### 'f_harm_ev_cd1'\n",
    "\n",
    "The values in this category give the (primary?) description of how the vehicle left the road.  \n",
    "\n",
    "It comes in five flavors, although this database only has the \"First\" and \"Most.\" \n",
    "\n",
    "I presume the '1' refers to 'vehicle 1.'\n",
    "\n",
    "| Code | Meaning |\n",
    "|---|---|\n",
    "| f_harm_ev_cd | First Harmful Event Code |\n",
    "| s_harm_ev_cd | Second Harmful Event Code |\n",
    "| t_harm_ev_cd | Third Harmful Event Code |\n",
    "| fo_harm_ev_cd | Fourth Harmful Event Code |\n",
    "| m_harm_ev_cd | Most Harmful Event Code |\n",
    "\n",
    "\n",
    "\n",
    "| Code | Meaning\n",
    "| -- | ---------------------------------------------------------------------------- |\n",
    "| A  | OVERTURN/ROLLOVER                                                            |\n",
    "| AA | BRIDGE RAIL                                                                  |\n",
    "| B  | FIRE/EXPLOSION                                                               |\n",
    "| BB | CULVERT                                                                      |\n",
    "| C  | IMMERSION                                                                    |\n",
    "| CC | CURB                                                                         |\n",
    "| D  | JACKKNIFE                                                                    |\n",
    "| DD | DITCH                                                                        |\n",
    "| E  | CARGO/EQUIPMENT LOSS OR SHIFT                                                |\n",
    "| EE | EMBANKMENT                                                                   |\n",
    "| F  | FELL/JUMPED FROM MOTOR VEHICLE                                               |\n",
    "| FF | GUARDRAIL FACE                                                               |\n",
    "| G  | THROWN OR FALLING OBJECT                                                     |\n",
    "| GG | GUARDRAIL END                                                                |\n",
    "| H  | EQUIPMENT FAILURE (BLOWN TIRE, BRAKE FAILURE, ETC.)                          |\n",
    "| HH | CONCRETE TRAFFIC SUPPORT                                                     |\n",
    "| I  | SEPARATION OF UNITS IN TRANSPORT                                             |\n",
    "| II | OTHER TRAFFIC BARRIER                                                        |\n",
    "| J  | RAN OFF ROAD RIGHT                                                           |\n",
    "| JJ | TREE (STANDING)                                                              |\n",
    "| K  | RAN OFF ROAD LEFT                                                            |\n",
    "| KK | UTILITY POLE/LIGHT SUPPORT                                                   |\n",
    "| L  | CROSSED MEDIAN/CENTERLINE                                                    |\n",
    "| LL | TRAFFIC SIGN SUPPORT                                                         |\n",
    "| M  | DOWNHILL RUNAWAY                                                             |\n",
    "| MM | TRAFFIC SIGNAL SUPPORT                                                       |\n",
    "| N  | OTHER NON-COLLISION                                                          |\n",
    "| NN | OTHER POST, POLE, OR SUPPORT                                                 |\n",
    "| O  | PEDESTRIAN                                                                   |\n",
    "| OO | FENCE                                                                        |\n",
    "| P  | PEDALCYCLE                                                                   |\n",
    "| PP | MAILBOX                                                                      |\n",
    "| Q  | RAILWAY VEHICLE (TRAIN, ENGINE)                                              |\n",
    "| QQ | OTHER FIXED OBJECT (WALL, BUILDING, TUNNEL, ETC.)                            |\n",
    "| R  | ANIMAL                                                                       |\n",
    "| S  | MOTOR VEHICLE IN TRANSPORT                                                   |\n",
    "| T  | PARKED MOTOR VEHICLE                                                         |\n",
    "| U  | STRUCK BY FALLING, SHIFTING CARGO OR ANYTHING SET IN MOTION BY MOTOR VEHICLE |\n",
    "| V  | WORK ZONE/MAINTENANCE EQUIPMENT                                              |\n",
    "| W  | OTHER NON-FIXED OBJECT                                                       |\n",
    "| X  | IMPACT ATTENUATOR/CRASH CUSHION                                              |\n",
    "| Y  | BRIDGE OVERHEAD STRUCTURE                                                    |\n",
    "| YY | UNKNOWN                                                                      |\n",
    "| Z  | BRIDGE PIER OR SUPPORT                                                       |"
   ]
  },
  {
   "cell_type": "code",
   "execution_count": 22,
   "id": "inappropriate-newcastle",
   "metadata": {},
   "outputs": [
    {
     "name": "stdout",
     "output_type": "stream",
     "text": [
      "Analysis of field  f_harm_ev_cd1\n",
      "45 \t Number of unique values in  f_harm_ev_cd1\n",
      "0 \t Number of null values in  f_harm_ev_cd1\n",
      "\n",
      "\t Value Counts\n",
      "S     125542\n",
      "J       7641\n",
      "L       4868\n",
      "T       4200\n",
      "K       3355\n",
      "R       2123\n",
      "YY      2109\n",
      "N       1252\n",
      "O        957\n",
      "DD       814\n",
      "W        624\n",
      "CC       589\n",
      "KK       575\n",
      "H        538\n",
      "         531\n",
      "QQ       412\n",
      "E        362\n",
      "JJ       335\n",
      "HH       327\n",
      "P        324\n",
      "A        313\n",
      "AA       252\n",
      "PP       252\n",
      "LL       249\n",
      "NN       243\n",
      "FF       209\n",
      "OO       166\n",
      "II       108\n",
      "G        107\n",
      "BB        93\n",
      "Y         80\n",
      "U         78\n",
      "GG        66\n",
      "X         58\n",
      "F         55\n",
      "V         54\n",
      "D         54\n",
      "I         51\n",
      "EE        50\n",
      "MM        49\n",
      "Q         46\n",
      "C         28\n",
      "Z         21\n",
      "B         15\n",
      "M         11\n",
      "Name: f_harm_ev_cd1, dtype: int64\n",
      "\n",
      "\t Truncated list of unique values in  f_harm_ev_cd1 : \n",
      "['S ' 'R ' 'K ' '  ' 'T ' 'J ' 'KK' 'YY' 'L ' 'QQ' 'N ' 'DD' 'PP' 'W '\n",
      " 'NN' 'O ' 'AA' 'CC' 'HH' 'H ' 'X ' 'E ' 'LL' 'JJ' 'FF' 'BB' 'V ' 'I '\n",
      " 'A ' 'MM' 'GG' 'EE' 'U ' 'OO' 'F ' 'P ' 'G ' 'Q ' 'II' 'Y ' 'M ' 'D '\n",
      " 'Z ' 'C ' 'B ']\n",
      "-*-*-*-*-*-*-*-*-*-*-*-*-*-*-*-*-*-*-*-*\n",
      "\n"
     ]
    }
   ],
   "source": [
    "Analysis('f_harm_ev_cd1')"
   ]
  },
  {
   "cell_type": "markdown",
   "id": "danish-therapist",
   "metadata": {},
   "source": [
    "These categories can't be ordered, but let's convert them to numbers.  \n",
    "Replace the blank entries with \"YY\", meaning 'unknown.\""
   ]
  },
  {
   "cell_type": "code",
   "execution_count": 23,
   "id": "married-queensland",
   "metadata": {},
   "outputs": [
    {
     "name": "stdout",
     "output_type": "stream",
     "text": [
      "Analysis of field  f_harm_ev_cd1\n",
      "44 \t Number of unique values in  f_harm_ev_cd1\n",
      "0 \t Number of null values in  f_harm_ev_cd1\n",
      "\n",
      "\t Value Counts\n",
      "S     125542\n",
      "J       7641\n",
      "L       4868\n",
      "T       4200\n",
      "K       3355\n",
      "YY      2640\n",
      "R       2123\n",
      "N       1252\n",
      "O        957\n",
      "DD       814\n",
      "W        624\n",
      "CC       589\n",
      "KK       575\n",
      "H        538\n",
      "QQ       412\n",
      "E        362\n",
      "JJ       335\n",
      "HH       327\n",
      "P        324\n",
      "A        313\n",
      "AA       252\n",
      "PP       252\n",
      "LL       249\n",
      "NN       243\n",
      "FF       209\n",
      "OO       166\n",
      "II       108\n",
      "G        107\n",
      "BB        93\n",
      "Y         80\n",
      "U         78\n",
      "GG        66\n",
      "X         58\n",
      "F         55\n",
      "D         54\n",
      "V         54\n",
      "I         51\n",
      "EE        50\n",
      "MM        49\n",
      "Q         46\n",
      "C         28\n",
      "Z         21\n",
      "B         15\n",
      "M         11\n",
      "Name: f_harm_ev_cd1, dtype: int64\n",
      "\n",
      "\t Truncated list of unique values in  f_harm_ev_cd1 : \n",
      "['S ' 'R ' 'K ' 'YY' 'T ' 'J ' 'KK' 'L ' 'QQ' 'N ' 'DD' 'PP' 'W ' 'NN'\n",
      " 'O ' 'AA' 'CC' 'HH' 'H ' 'X ' 'E ' 'LL' 'JJ' 'FF' 'BB' 'V ' 'I ' 'A '\n",
      " 'MM' 'GG' 'EE' 'U ' 'OO' 'F ' 'P ' 'G ' 'Q ' 'II' 'Y ' 'M ' 'D ' 'Z '\n",
      " 'C ' 'B ']\n",
      "-*-*-*-*-*-*-*-*-*-*-*-*-*-*-*-*-*-*-*-*\n",
      "\n"
     ]
    }
   ],
   "source": [
    "data['f_harm_ev_cd1'] = data['f_harm_ev_cd1'].replace('  ', 'YY')\n",
    "Analysis('f_harm_ev_cd1')"
   ]
  },
  {
   "cell_type": "code",
   "execution_count": 24,
   "id": "intermediate-contemporary",
   "metadata": {},
   "outputs": [
    {
     "name": "stdout",
     "output_type": "stream",
     "text": [
      "Analysis of field  f_harm_ev_cd1_codes\n",
      "44 \t Number of unique values in  f_harm_ev_cd1_codes\n",
      "0 \t Number of null values in  f_harm_ev_cd1_codes\n",
      "\n",
      "\t Value Counts\n",
      "35    125542\n",
      "18      7641\n",
      "22      4868\n",
      "36      4200\n",
      "20      3355\n",
      "42      2640\n",
      "34      2123\n",
      "26      1252\n",
      "28       957\n",
      "7        814\n",
      "39       624\n",
      "5        589\n",
      "21       575\n",
      "14       538\n",
      "33       412\n",
      "8        362\n",
      "19       335\n",
      "15       327\n",
      "30       324\n",
      "0        313\n",
      "1        252\n",
      "31       252\n",
      "23       249\n",
      "27       243\n",
      "11       209\n",
      "29       166\n",
      "17       108\n",
      "12       107\n",
      "3         93\n",
      "41        80\n",
      "37        78\n",
      "13        66\n",
      "40        58\n",
      "10        55\n",
      "6         54\n",
      "38        54\n",
      "16        51\n",
      "9         50\n",
      "25        49\n",
      "32        46\n",
      "4         28\n",
      "43        21\n",
      "2         15\n",
      "24        11\n",
      "Name: f_harm_ev_cd1_codes, dtype: int64\n",
      "\n",
      "\t Truncated list of unique values in  f_harm_ev_cd1_codes : \n",
      "[0, 1, 2, 3, 4, 5, 6, 7, 8, 9, 10, 11, 12, 13, 14, 15, 16, 17, 18, 19, 20, 21, 22, 23, 24, 25, 26, 27, 28, 29, 30, 31, 32, 33, 34, 35, 36, 37, 38, 39, 40, 41, 42, 43]\n",
      "-*-*-*-*-*-*-*-*-*-*-*-*-*-*-*-*-*-*-*-*\n",
      "\n"
     ]
    }
   ],
   "source": [
    "Make_Category('f_harm_ev_cd1')"
   ]
  },
  {
   "cell_type": "markdown",
   "id": "confident-mattress",
   "metadata": {},
   "source": [
    "### m_harm_ev_cd1\n",
    "Same categories as f_harm_ev_cd1\n",
    " "
   ]
  },
  {
   "cell_type": "code",
   "execution_count": 25,
   "id": "artistic-compensation",
   "metadata": {},
   "outputs": [
    {
     "name": "stdout",
     "output_type": "stream",
     "text": [
      "Analysis of field  m_harm_ev_cd1\n",
      "45 \t Number of unique values in  m_harm_ev_cd1\n",
      "0 \t Number of null values in  m_harm_ev_cd1\n",
      "\n",
      "\t Value Counts\n",
      "S     123871\n",
      "T       4579\n",
      "        3464\n",
      "DD      3423\n",
      "JJ      3031\n",
      "A       2415\n",
      "R       2130\n",
      "YY      1960\n",
      "KK      1671\n",
      "QQ      1072\n",
      "O       1056\n",
      "BB      1036\n",
      "W        746\n",
      "HH       696\n",
      "N        647\n",
      "AA       640\n",
      "OO       575\n",
      "J        558\n",
      "LL       555\n",
      "FF       541\n",
      "NN       540\n",
      "PP       527\n",
      "EE       523\n",
      "II       493\n",
      "L        452\n",
      "CC       434\n",
      "K        335\n",
      "E        331\n",
      "P        330\n",
      "H        212\n",
      "GG       180\n",
      "C        175\n",
      "X        119\n",
      "U        113\n",
      "G        112\n",
      "F         99\n",
      "MM        99\n",
      "Y         94\n",
      "B         75\n",
      "D         73\n",
      "Q         64\n",
      "V         57\n",
      "Z         48\n",
      "I         29\n",
      "M          6\n",
      "Name: m_harm_ev_cd1, dtype: int64\n",
      "\n",
      "\t Truncated list of unique values in  m_harm_ev_cd1 : \n",
      "['S ' '  ' 'R ' 'DD' 'T ' 'BB' 'JJ' 'KK' 'HH' 'LL' 'YY' 'QQ' 'J ' 'L '\n",
      " 'N ' 'PP' 'OO' 'AA' 'P ' 'A ' 'NN' 'C ' 'GG' 'W ' 'FF' 'H ' 'CC' 'K '\n",
      " 'X ' 'II' 'E ' 'O ' 'EE' 'V ' 'U ' 'F ' 'MM' 'G ' 'Q ' 'D ' 'Z ' 'B '\n",
      " 'Y ' 'I ' 'M ']\n",
      "-*-*-*-*-*-*-*-*-*-*-*-*-*-*-*-*-*-*-*-*\n",
      "\n"
     ]
    }
   ],
   "source": [
    "Analysis ( 'm_harm_ev_cd1' )"
   ]
  },
  {
   "cell_type": "markdown",
   "id": "instant-stretch",
   "metadata": {},
   "source": [
    "Do the same thing, where we replace the blank values with 'YY' for 'Unknown.'"
   ]
  },
  {
   "cell_type": "code",
   "execution_count": 26,
   "id": "limited-weapon",
   "metadata": {},
   "outputs": [
    {
     "name": "stdout",
     "output_type": "stream",
     "text": [
      "Analysis of field  m_harm_ev_cd1\n",
      "44 \t Number of unique values in  m_harm_ev_cd1\n",
      "0 \t Number of null values in  m_harm_ev_cd1\n",
      "\n",
      "\t Value Counts\n",
      "S     123871\n",
      "YY      5424\n",
      "T       4579\n",
      "DD      3423\n",
      "JJ      3031\n",
      "A       2415\n",
      "R       2130\n",
      "KK      1671\n",
      "QQ      1072\n",
      "O       1056\n",
      "BB      1036\n",
      "W        746\n",
      "HH       696\n",
      "N        647\n",
      "AA       640\n",
      "OO       575\n",
      "J        558\n",
      "LL       555\n",
      "FF       541\n",
      "NN       540\n",
      "PP       527\n",
      "EE       523\n",
      "II       493\n",
      "L        452\n",
      "CC       434\n",
      "K        335\n",
      "E        331\n",
      "P        330\n",
      "H        212\n",
      "GG       180\n",
      "C        175\n",
      "X        119\n",
      "U        113\n",
      "G        112\n",
      "MM        99\n",
      "F         99\n",
      "Y         94\n",
      "B         75\n",
      "D         73\n",
      "Q         64\n",
      "V         57\n",
      "Z         48\n",
      "I         29\n",
      "M          6\n",
      "Name: m_harm_ev_cd1, dtype: int64\n",
      "\n",
      "\t Truncated list of unique values in  m_harm_ev_cd1 : \n",
      "['S ' 'YY' 'R ' 'DD' 'T ' 'BB' 'JJ' 'KK' 'HH' 'LL' 'QQ' 'J ' 'L ' 'N '\n",
      " 'PP' 'OO' 'AA' 'P ' 'A ' 'NN' 'C ' 'GG' 'W ' 'FF' 'H ' 'CC' 'K ' 'X '\n",
      " 'II' 'E ' 'O ' 'EE' 'V ' 'U ' 'F ' 'MM' 'G ' 'Q ' 'D ' 'Z ' 'B ' 'Y '\n",
      " 'I ' 'M ']\n",
      "-*-*-*-*-*-*-*-*-*-*-*-*-*-*-*-*-*-*-*-*\n",
      "\n"
     ]
    }
   ],
   "source": [
    "data['m_harm_ev_cd1'] = data['m_harm_ev_cd1'].replace('  ', 'YY')\n",
    "Analysis('m_harm_ev_cd1')"
   ]
  },
  {
   "cell_type": "markdown",
   "id": "substantial-transsexual",
   "metadata": {},
   "source": [
    "...and convert to categorical values.  "
   ]
  },
  {
   "cell_type": "code",
   "execution_count": 27,
   "id": "suffering-interest",
   "metadata": {
    "scrolled": true
   },
   "outputs": [
    {
     "name": "stdout",
     "output_type": "stream",
     "text": [
      "Analysis of field  m_harm_ev_cd1_codes\n",
      "44 \t Number of unique values in  m_harm_ev_cd1_codes\n",
      "0 \t Number of null values in  m_harm_ev_cd1_codes\n",
      "\n",
      "\t Value Counts\n",
      "35    123871\n",
      "42      5424\n",
      "36      4579\n",
      "7       3423\n",
      "19      3031\n",
      "0       2415\n",
      "34      2130\n",
      "21      1671\n",
      "33      1072\n",
      "28      1056\n",
      "3       1036\n",
      "39       746\n",
      "15       696\n",
      "26       647\n",
      "1        640\n",
      "29       575\n",
      "18       558\n",
      "23       555\n",
      "11       541\n",
      "27       540\n",
      "31       527\n",
      "9        523\n",
      "17       493\n",
      "22       452\n",
      "5        434\n",
      "20       335\n",
      "8        331\n",
      "30       330\n",
      "14       212\n",
      "13       180\n",
      "4        175\n",
      "40       119\n",
      "37       113\n",
      "12       112\n",
      "10        99\n",
      "25        99\n",
      "41        94\n",
      "2         75\n",
      "6         73\n",
      "32        64\n",
      "38        57\n",
      "43        48\n",
      "16        29\n",
      "24         6\n",
      "Name: m_harm_ev_cd1_codes, dtype: int64\n",
      "\n",
      "\t Truncated list of unique values in  m_harm_ev_cd1_codes : \n",
      "[0, 1, 2, 3, 4, 5, 6, 7, 8, 9, 10, 11, 12, 13, 14, 15, 16, 17, 18, 19, 20, 21, 22, 23, 24, 25, 26, 27, 28, 29, 30, 31, 32, 33, 34, 35, 36, 37, 38, 39, 40, 41, 42, 43]\n",
      "-*-*-*-*-*-*-*-*-*-*-*-*-*-*-*-*-*-*-*-*\n",
      "\n"
     ]
    }
   ],
   "source": [
    "Make_Category('m_harm_ev_cd1')"
   ]
  },
  {
   "cell_type": "markdown",
   "id": "interested-patient",
   "metadata": {},
   "source": [
    "The two categories, f_harm_ev_cd1 and m_harm_ev_cd1, are interesting if they're different, but that's another topic."
   ]
  },
  {
   "cell_type": "markdown",
   "id": "rocky-tomato",
   "metadata": {},
   "source": [
    "### man_coll_cd\n",
    "\n",
    "Manner of Collision Code\n",
    "\n",
    "| Code | Meaning |\n",
    "|---|---|\n",
    "| A | NON-COLLISION WITH MOTOR VEHICLE|\n",
    "| B | REAR END|\n",
    "| C | HEAD-ON|\n",
    "| D | RIGHT ANGLE|\n",
    "| E | LEFT TURN - ANGLE|\n",
    "| F | LEFT TURN - OPPOSITE DIRECTION|\n",
    "| G | LEFT TURN - SAME DIRECTION|\n",
    "| H | RIGHT TURN - SAME DIRECTION|\n",
    "| I | RIGHT TURN - OPPOSITE DIRECTION|\n",
    "| J | SIDESWIPE - SAME DIRECTION|\n",
    "| K | SIDESWIPE - OPPOSITE DIRECTION|"
   ]
  },
  {
   "cell_type": "code",
   "execution_count": 28,
   "id": "advanced-allergy",
   "metadata": {},
   "outputs": [
    {
     "name": "stdout",
     "output_type": "stream",
     "text": [
      "Analysis of field  man_coll_cd\n",
      "12 \t Number of unique values in  man_coll_cd\n",
      "0 \t Number of null values in  man_coll_cd\n",
      "\n",
      "\t Value Counts\n",
      "B    55470\n",
      "A    25424\n",
      "J    21154\n",
      "D    20348\n",
      "Z    14466\n",
      "F     6797\n",
      "G     3871\n",
      "H     3131\n",
      "E     3116\n",
      "K     2986\n",
      "C     2537\n",
      "I      886\n",
      "Name: man_coll_cd, dtype: int64\n",
      "\n",
      "\t Truncated list of unique values in  man_coll_cd : \n",
      "['D' 'C' 'A' 'B' 'E' 'Z' 'H' 'J' 'K' 'I' 'F' 'G']\n",
      "-*-*-*-*-*-*-*-*-*-*-*-*-*-*-*-*-*-*-*-*\n",
      "\n"
     ]
    }
   ],
   "source": [
    "Analysis('man_coll_cd')"
   ]
  },
  {
   "cell_type": "markdown",
   "id": "above-acoustic",
   "metadata": {},
   "source": [
    "No blanks, so let's just turn it into categories.  "
   ]
  },
  {
   "cell_type": "code",
   "execution_count": 29,
   "id": "approximate-operations",
   "metadata": {},
   "outputs": [
    {
     "name": "stdout",
     "output_type": "stream",
     "text": [
      "Analysis of field  man_coll_cd_codes\n",
      "12 \t Number of unique values in  man_coll_cd_codes\n",
      "0 \t Number of null values in  man_coll_cd_codes\n",
      "\n",
      "\t Value Counts\n",
      "1     55470\n",
      "0     25424\n",
      "9     21154\n",
      "3     20348\n",
      "11    14466\n",
      "5      6797\n",
      "6      3871\n",
      "7      3131\n",
      "4      3116\n",
      "10     2986\n",
      "2      2537\n",
      "8       886\n",
      "Name: man_coll_cd_codes, dtype: int64\n",
      "\n",
      "\t Truncated list of unique values in  man_coll_cd_codes : \n",
      "[0, 1, 2, 3, 4, 5, 6, 7, 8, 9, 10, 11]\n",
      "-*-*-*-*-*-*-*-*-*-*-*-*-*-*-*-*-*-*-*-*\n",
      "\n"
     ]
    }
   ],
   "source": [
    "Make_Category('man_coll_cd')"
   ]
  },
  {
   "cell_type": "markdown",
   "id": "material-fifty",
   "metadata": {},
   "source": [
    "### crash_type\n",
    "I haven't been able to figure out what the codes signify."
   ]
  },
  {
   "cell_type": "code",
   "execution_count": 30,
   "id": "novel-singapore",
   "metadata": {},
   "outputs": [
    {
     "name": "stdout",
     "output_type": "stream",
     "text": [
      "Analysis of field  crash_type\n",
      "19 \t Number of unique values in  crash_type\n",
      "0 \t Number of null values in  crash_type\n",
      "\n",
      "\t Value Counts\n",
      "S    76102\n",
      "U    28173\n",
      "R     8657\n",
      "Q     8629\n",
      "P     6973\n",
      "E     6317\n",
      "G     5602\n",
      "K     3020\n",
      "N     2939\n",
      "T     2842\n",
      "X     2408\n",
      "A     1711\n",
      "F     1552\n",
      "D     1523\n",
      "H     1315\n",
      "M     1222\n",
      "B      969\n",
      "C      153\n",
      "J       79\n",
      "Name: crash_type, dtype: int64\n",
      "\n",
      "\t Truncated list of unique values in  crash_type : \n",
      "['S' 'B' 'N' 'P' 'R' 'E' 'G' 'U' 'K' 'X' 'T' 'H' 'A' 'Q' 'M' 'F' 'D' 'C'\n",
      " 'J']\n",
      "-*-*-*-*-*-*-*-*-*-*-*-*-*-*-*-*-*-*-*-*\n",
      "\n"
     ]
    }
   ],
   "source": [
    "Analysis('crash_type')"
   ]
  },
  {
   "cell_type": "code",
   "execution_count": 31,
   "id": "political-precipitation",
   "metadata": {},
   "outputs": [
    {
     "name": "stdout",
     "output_type": "stream",
     "text": [
      "Analysis of field  crash_type_codes\n",
      "19 \t Number of unique values in  crash_type_codes\n",
      "0 \t Number of null values in  crash_type_codes\n",
      "\n",
      "\t Value Counts\n",
      "15    76102\n",
      "17    28173\n",
      "14     8657\n",
      "13     8629\n",
      "12     6973\n",
      "4      6317\n",
      "6      5602\n",
      "9      3020\n",
      "11     2939\n",
      "16     2842\n",
      "18     2408\n",
      "0      1711\n",
      "5      1552\n",
      "3      1523\n",
      "7      1315\n",
      "10     1222\n",
      "1       969\n",
      "2       153\n",
      "8        79\n",
      "Name: crash_type_codes, dtype: int64\n",
      "\n",
      "\t Truncated list of unique values in  crash_type_codes : \n",
      "[0, 1, 2, 3, 4, 5, 6, 7, 8, 9, 10, 11, 12, 13, 14, 15, 16, 17, 18]\n",
      "-*-*-*-*-*-*-*-*-*-*-*-*-*-*-*-*-*-*-*-*\n",
      "\n"
     ]
    }
   ],
   "source": [
    "Make_Category('crash_type')"
   ]
  },
  {
   "cell_type": "markdown",
   "id": "static-weight",
   "metadata": {},
   "source": [
    "### surf_cond_cd\n",
    "Surface Condition Code\n",
    "\n",
    "| Code | Meaning |\n",
    "|---|---|\n",
    "| A | DRY|\n",
    "| B | WET|\n",
    "| C | SNOW/SLUSH|\n",
    "| D | ICE|\n",
    "| E | CONTAMINANT (SAND, MUD, DIRT, OIL, ETC.)|\n",
    "| Y | UNKNOWN|\n",
    "| Z | OTHER|![image.png](attachment:image.png)"
   ]
  },
  {
   "cell_type": "code",
   "execution_count": 32,
   "id": "demographic-standing",
   "metadata": {
    "scrolled": false
   },
   "outputs": [
    {
     "name": "stdout",
     "output_type": "stream",
     "text": [
      "Analysis of field  surf_cond_cd\n",
      "10 \t Number of unique values in  surf_cond_cd\n",
      "0 \t Number of null values in  surf_cond_cd\n",
      "\n",
      "\t Value Counts\n",
      "A    134989\n",
      "B     24025\n",
      "Y       681\n",
      "2       195\n",
      "E        79\n",
      "D        77\n",
      "         62\n",
      "Z        36\n",
      "C        25\n",
      "1        17\n",
      "Name: surf_cond_cd, dtype: int64\n",
      "\n",
      "\t Truncated list of unique values in  surf_cond_cd : \n",
      "['A' 'B' 'Y' '2' 'E' 'C' ' ' '1' 'D' 'Z']\n",
      "-*-*-*-*-*-*-*-*-*-*-*-*-*-*-*-*-*-*-*-*\n",
      "\n"
     ]
    }
   ],
   "source": [
    "Analysis('surf_cond_cd')"
   ]
  },
  {
   "cell_type": "markdown",
   "id": "partial-switzerland",
   "metadata": {},
   "source": [
    "I don't know what '1' and '2' signify, and I don't see a practical difference between 'Unknown' and 'Other,' so I'm going to merge all of those, with the blanks, into one category.  "
   ]
  },
  {
   "cell_type": "code",
   "execution_count": 33,
   "id": "emerging-contribution",
   "metadata": {},
   "outputs": [
    {
     "name": "stdout",
     "output_type": "stream",
     "text": [
      "Analysis of field  surf_cond_cd\n",
      "6 \t Number of unique values in  surf_cond_cd\n",
      "0 \t Number of null values in  surf_cond_cd\n",
      "\n",
      "\t Value Counts\n",
      "A    134989\n",
      "B     24025\n",
      "Z       991\n",
      "E        79\n",
      "D        77\n",
      "C        25\n",
      "Name: surf_cond_cd, dtype: int64\n",
      "\n",
      "\t Truncated list of unique values in  surf_cond_cd : \n",
      "['A' 'B' 'Z' 'E' 'C' 'D']\n",
      "-*-*-*-*-*-*-*-*-*-*-*-*-*-*-*-*-*-*-*-*\n",
      "\n"
     ]
    }
   ],
   "source": [
    "for x in [' ', '1', '2', 'Y']:\n",
    "    data['surf_cond_cd'] = data['surf_cond_cd'].replace(x,'Z')\n",
    "Analysis('surf_cond_cd')"
   ]
  },
  {
   "cell_type": "code",
   "execution_count": 34,
   "id": "possible-church",
   "metadata": {},
   "outputs": [
    {
     "name": "stdout",
     "output_type": "stream",
     "text": [
      "Analysis of field  surf_cond_cd_codes\n",
      "6 \t Number of unique values in  surf_cond_cd_codes\n",
      "0 \t Number of null values in  surf_cond_cd_codes\n",
      "\n",
      "\t Value Counts\n",
      "0    134989\n",
      "1     24025\n",
      "5       991\n",
      "4        79\n",
      "3        77\n",
      "2        25\n",
      "Name: surf_cond_cd_codes, dtype: int64\n",
      "\n",
      "\t Truncated list of unique values in  surf_cond_cd_codes : \n",
      "[0, 1, 2, 3, 4, 5]\n",
      "-*-*-*-*-*-*-*-*-*-*-*-*-*-*-*-*-*-*-*-*\n",
      "\n"
     ]
    }
   ],
   "source": [
    "Make_Category('surf_cond_cd')"
   ]
  },
  {
   "cell_type": "markdown",
   "id": "superb-surrey",
   "metadata": {},
   "source": [
    "### crash_num"
   ]
  },
  {
   "cell_type": "code",
   "execution_count": 35,
   "id": "olympic-crown",
   "metadata": {},
   "outputs": [
    {
     "name": "stdout",
     "output_type": "stream",
     "text": [
      "Analysis of field  crash_num\n",
      "160186 \t Number of unique values in  crash_num\n",
      "0 \t Number of null values in  crash_num\n",
      "\n",
      "\t Value Counts\n",
      "201910281701013776-    1\n",
      "20190016257-           1\n",
      "191231053351919-       1\n",
      "191026162940373-       1\n",
      "20190041788-           1\n",
      "                      ..\n",
      "190608124806795-       1\n",
      "190928083907985-       1\n",
      "190913175921301-       1\n",
      "190812160221441-       1\n",
      "190106065455782-       1\n",
      "Name: crash_num, Length: 160186, dtype: int64\n",
      "\n",
      "-*-*-*-*-*-*-*-*-*-*-*-*-*-*-*-*-*-*-*-*\n",
      "\n"
     ]
    }
   ],
   "source": [
    "Analysis('crash_num')"
   ]
  },
  {
   "cell_type": "markdown",
   "id": "searching-check",
   "metadata": {},
   "source": [
    "Oh, this is useless.  "
   ]
  },
  {
   "cell_type": "code",
   "execution_count": 36,
   "id": "dominican-coupon",
   "metadata": {},
   "outputs": [],
   "source": [
    "data.drop(['crash_num'], axis=1, inplace=True)"
   ]
  },
  {
   "cell_type": "markdown",
   "id": "anticipated-integer",
   "metadata": {},
   "source": [
    "### parish_cd\n",
    "\n",
    "| Code | Parish |\n",
    "|---|---|\n",
    "| 1 | ACADIA|\t\n",
    "| 2 | ALLEN|\t\n",
    "| 3 | ASCENSION|\t\n",
    "| 4 | ASSUMPTION|\t\n",
    "| 5 | AVOYELLES|\t\n",
    "| 6 | BEAUREGARD|\t\n",
    "| 7 | BEINVILLE|\t\n",
    "| 8 | BOSSIER|\t\n",
    "| 9 | CADDO|\t\n",
    "| 10 | CALCASIEU|\t\n",
    "| 11 | CALDWELL|\t\n",
    "| 12 | CAMERON|\t\n",
    "| 13 | CATAHOULA|\t\n",
    "| 14 | CLAIBORNE|\t\n",
    "| 15 | CONCORDIA|\t\n",
    "| 16 | DESOTO|\t\n",
    "| 17 | EAST BATON ROUGE|\t\n",
    "| 18 | EAST CARROLL|\t\n",
    "| 19 | EAST FELICIANA|\t\n",
    "| 20 | EVANGELINE|\t\n",
    "| 21 | FRANKLIN|\t\n",
    "| 22 | GRANT|\t\n",
    "| 23 | IBERIA|\t\n",
    "| 24 | IBERVILLE|\t\n",
    "| 25 | JACKSON|\t\n",
    "| 26 | JEFFERSON|\t\n",
    "| 27 | JEFFERSON DAVIS|\t\n",
    "| 28 | LAFAYETTE|\t\n",
    "| 29 | LAFOURCHE|\t\n",
    "| 30 | LASALLE|\t\n",
    "| 31 | LINCOLN|\t\n",
    "| 32 | LIVINGSTON|\t\n",
    "| 33 | MADISON|\t\n",
    "| 34 | MOREHOUSE|\t\n",
    "| 35 | NATCHITOCHES|\t\n",
    "| 36 | ORLEANS|\t\n",
    "| 37 | OUACHITA|\t\n",
    "| 38 | PLAQUEMINES|\t\n",
    "| 39 | POINT COUPEE|\t\n",
    "| 40 | RAPIDES|\t\n",
    "| 41 | RED RIVER|\t\n",
    "| 42 | RICHLAND|\t\n",
    "| 43 | SABINE|\t\n",
    "| 44 | ST. BERNARD|\t\n",
    "| 45 | ST. CHARLES|\t\n",
    "| 46 | ST. HELENA|\t\n",
    "| 47 | ST. JAMES|\t\n",
    "| 48 | ST. JOHN THE BAPTIST|\t\n",
    "| 49 | ST. LANDRY|\t\n",
    "| 50 | ST. MARTIN|\t\n",
    "| 51 | ST. MARY|\t\n",
    "| 52 | ST. TAMMANY|\t\n",
    "| 53 | TANGIPAHOA|\t\n",
    "| 54 | TENSAS|\t\n",
    "| 55 | TERREBONNE|\t\n",
    "| 56 | UNION|\t\n",
    "| 57 | VERMILLION|\t\n",
    "| 58 | VERNON|\t\n",
    "| 59 | WASHINGTON|\t\n",
    "| 60 | WEBSTER|\t\n",
    "| 61 | WEST BATON ROUGE|\t\n",
    "| 62 | WEST CARROLL|\t\n",
    "| 63 | WEST FELICIANA|\t\n",
    "| 64 | WINN|\t![image.png](attachment:image.png)"
   ]
  },
  {
   "cell_type": "code",
   "execution_count": 37,
   "id": "martial-actress",
   "metadata": {},
   "outputs": [
    {
     "name": "stdout",
     "output_type": "stream",
     "text": [
      "Analysis of field  parish_cd\n",
      "64 \t Number of unique values in  parish_cd\n",
      "0 \t Number of null values in  parish_cd\n",
      "\n",
      "\t Value Counts\n",
      "17    22035\n",
      "36    19963\n",
      "26    16512\n",
      "28    11030\n",
      "9      9867\n",
      "      ...  \n",
      "11      142\n",
      "18      112\n",
      "64      108\n",
      "54       96\n",
      "13       76\n",
      "Name: parish_cd, Length: 64, dtype: int64\n",
      "\n",
      "\t Truncated list of unique values in  parish_cd : \n",
      "[36 17  9 28 49 43  2  1 26 20 31 32  8 55 37 33 52 10 23 50 40  3 38 53\n",
      " 39 35 48 29 24 61 14 59 46 44 45 54 19 60 22  6 58 62  4  5 47 16 41 51\n",
      " 56 27 18 13 11 64 15 21 57 34 42 30 25  7 63 12]\n",
      "-*-*-*-*-*-*-*-*-*-*-*-*-*-*-*-*-*-*-*-*\n",
      "\n"
     ]
    }
   ],
   "source": [
    "Analysis('parish_cd')"
   ]
  },
  {
   "cell_type": "markdown",
   "id": "immediate-strike",
   "metadata": {},
   "source": [
    "That seems straightforward and clean."
   ]
  },
  {
   "cell_type": "markdown",
   "id": "black-affiliate",
   "metadata": {},
   "source": [
    "### crash_hour"
   ]
  },
  {
   "cell_type": "code",
   "execution_count": 38,
   "id": "original-theology",
   "metadata": {},
   "outputs": [
    {
     "name": "stdout",
     "output_type": "stream",
     "text": [
      "Analysis of field  crash_hour\n",
      "25 \t Number of unique values in  crash_hour\n",
      "0 \t Number of null values in  crash_hour\n",
      "\n",
      "\t Value Counts\n",
      "17    13943\n",
      "16    13379\n",
      "15    13081\n",
      "14    10706\n",
      "12    10601\n",
      "18    10135\n",
      "13     9842\n",
      "7      8951\n",
      "11     8758\n",
      "8      7711\n",
      "10     7213\n",
      "19     6605\n",
      "9      6405\n",
      "20     5404\n",
      "21     4662\n",
      "6      4541\n",
      "22     3602\n",
      "5      2762\n",
      "23     2682\n",
      "0      2033\n",
      "1      1842\n",
      "2      1694\n",
      "4      1582\n",
      "3      1457\n",
      "        595\n",
      "Name: crash_hour, dtype: int64\n",
      "\n",
      "\t Truncated list of unique values in  crash_hour : \n",
      "['17' '23' '22' '18' '19' '20' '3' '5' '16' '0' '1' '2' '14' '4' '8' '15'\n",
      " '13' '12' '10' '7' '6' '  ' '9' '21' '11']\n",
      "-*-*-*-*-*-*-*-*-*-*-*-*-*-*-*-*-*-*-*-*\n",
      "\n"
     ]
    }
   ],
   "source": [
    "Analysis('crash_hour')"
   ]
  },
  {
   "cell_type": "markdown",
   "id": "significant-settlement",
   "metadata": {},
   "source": [
    "What to do with the blanks?  I'm going to call it '24.'"
   ]
  },
  {
   "cell_type": "code",
   "execution_count": 39,
   "id": "innovative-adaptation",
   "metadata": {},
   "outputs": [
    {
     "name": "stdout",
     "output_type": "stream",
     "text": [
      "Analysis of field  crash_hour\n",
      "25 \t Number of unique values in  crash_hour\n",
      "0 \t Number of null values in  crash_hour\n",
      "\n",
      "\t Value Counts\n",
      "17    13943\n",
      "16    13379\n",
      "15    13081\n",
      "14    10706\n",
      "12    10601\n",
      "18    10135\n",
      "13     9842\n",
      "7      8951\n",
      "11     8758\n",
      "8      7711\n",
      "10     7213\n",
      "19     6605\n",
      "9      6405\n",
      "20     5404\n",
      "21     4662\n",
      "6      4541\n",
      "22     3602\n",
      "5      2762\n",
      "23     2682\n",
      "0      2033\n",
      "1      1842\n",
      "2      1694\n",
      "4      1582\n",
      "3      1457\n",
      "24      595\n",
      "Name: crash_hour, dtype: int64\n",
      "\n",
      "\t Truncated list of unique values in  crash_hour : \n",
      "['17' '23' '22' '18' '19' '20' '3' '5' '16' '0' '1' '2' '14' '4' '8' '15'\n",
      " '13' '12' '10' '7' '6' '24' '9' '21' '11']\n",
      "-*-*-*-*-*-*-*-*-*-*-*-*-*-*-*-*-*-*-*-*\n",
      "\n"
     ]
    }
   ],
   "source": [
    "data['crash_hour'] = data['crash_hour'].replace('  ', '24')\n",
    "Analysis ('crash_hour')"
   ]
  },
  {
   "cell_type": "markdown",
   "id": "bulgarian-academy",
   "metadata": {},
   "source": [
    "### intersection\n",
    "I don't know which of '0' and '1' indicates that the accident occurred at an intersection, but that's probably what this field signifies."
   ]
  },
  {
   "cell_type": "code",
   "execution_count": 40,
   "id": "unlike-corruption",
   "metadata": {},
   "outputs": [
    {
     "name": "stdout",
     "output_type": "stream",
     "text": [
      "Analysis of field  intersection\n",
      "2 \t Number of unique values in  intersection\n",
      "0 \t Number of null values in  intersection\n",
      "\n",
      "\t Value Counts\n",
      "0    101345\n",
      "1     58841\n",
      "Name: intersection, dtype: int64\n",
      "\n",
      "\t Truncated list of unique values in  intersection : \n",
      "[1 0]\n",
      "-*-*-*-*-*-*-*-*-*-*-*-*-*-*-*-*-*-*-*-*\n",
      "\n"
     ]
    }
   ],
   "source": [
    "Analysis('intersection')"
   ]
  },
  {
   "cell_type": "markdown",
   "id": "broke-academy",
   "metadata": {},
   "source": [
    "### invest_agency_cd\n",
    "\n",
    "| Code | Agency |\n",
    "|---|---|\n",
    "| A | STATE|\n",
    "| B | CITY|\n",
    "| C | PARISH|\n",
    "| Z | OTHER|"
   ]
  },
  {
   "cell_type": "code",
   "execution_count": 41,
   "id": "unique-soldier",
   "metadata": {},
   "outputs": [
    {
     "name": "stdout",
     "output_type": "stream",
     "text": [
      "Analysis of field  invest_agency_cd\n",
      "4 \t Number of unique values in  invest_agency_cd\n",
      "0 \t Number of null values in  invest_agency_cd\n",
      "\n",
      "\t Value Counts\n",
      "B    96622\n",
      "A    33834\n",
      "C    28848\n",
      "Z      882\n",
      "Name: invest_agency_cd, dtype: int64\n",
      "\n",
      "\t Truncated list of unique values in  invest_agency_cd : \n",
      "['B' 'C' 'A' 'Z']\n",
      "-*-*-*-*-*-*-*-*-*-*-*-*-*-*-*-*-*-*-*-*\n",
      "\n"
     ]
    }
   ],
   "source": [
    "Analysis('invest_agency_cd')"
   ]
  },
  {
   "cell_type": "markdown",
   "id": "broke-strengthening",
   "metadata": {},
   "source": [
    "Looks good."
   ]
  },
  {
   "cell_type": "markdown",
   "id": "verbal-lambda",
   "metadata": {},
   "source": [
    "### travel_dirs"
   ]
  },
  {
   "cell_type": "code",
   "execution_count": 42,
   "id": "daily-tyler",
   "metadata": {},
   "outputs": [
    {
     "name": "stdout",
     "output_type": "stream",
     "text": [
      "Analysis of field  travel_dirs\n",
      "199 \t Number of unique values in  travel_dirs\n",
      "0 \t Number of null values in  travel_dirs\n",
      "\n",
      "\t Value Counts\n",
      "EE      21023\n",
      "WW      20301\n",
      "SS      18678\n",
      "NN      18589\n",
      "W        7396\n",
      "        ...  \n",
      "ENSS        1\n",
      "WWNN        1\n",
      "SESS        1\n",
      "SSES        1\n",
      "NWSS        1\n",
      "Name: travel_dirs, Length: 199, dtype: int64\n",
      "\n",
      "-*-*-*-*-*-*-*-*-*-*-*-*-*-*-*-*-*-*-*-*\n",
      "\n"
     ]
    }
   ],
   "source": [
    "Analysis('travel_dirs')"
   ]
  },
  {
   "cell_type": "markdown",
   "id": "removed-knife",
   "metadata": {},
   "source": [
    "Well, that's a mess.  I presume that in each of these codes, the first letter is the primary direction.   "
   ]
  },
  {
   "cell_type": "code",
   "execution_count": 43,
   "id": "champion-dairy",
   "metadata": {},
   "outputs": [
    {
     "name": "stdout",
     "output_type": "stream",
     "text": [
      "Analysis of field  travel_dirs\n",
      "5 \t Number of unique values in  travel_dirs\n",
      "0 \t Number of null values in  travel_dirs\n",
      "\n",
      "\t Value Counts\n",
      "E    41423\n",
      "W    40868\n",
      "S    38437\n",
      "N    38206\n",
      "      1252\n",
      "Name: travel_dirs, dtype: int64\n",
      "\n",
      "\t Truncated list of unique values in  travel_dirs : \n",
      "['W' 'S' 'E' 'N' ' ']\n",
      "-*-*-*-*-*-*-*-*-*-*-*-*-*-*-*-*-*-*-*-*\n",
      "\n"
     ]
    }
   ],
   "source": [
    "data['travel_dirs'] = data['travel_dirs'].astype(str).apply(lambda x: x[:1])\n",
    "Analysis('travel_dirs')"
   ]
  },
  {
   "cell_type": "code",
   "execution_count": 44,
   "id": "european-sheet",
   "metadata": {},
   "outputs": [],
   "source": [
    "data['travel_dirs'].replace(' ','Other', inplace=True)"
   ]
  },
  {
   "cell_type": "code",
   "execution_count": 45,
   "id": "collective-happening",
   "metadata": {},
   "outputs": [
    {
     "name": "stdout",
     "output_type": "stream",
     "text": [
      "Analysis of field  travel_dirs\n",
      "5 \t Number of unique values in  travel_dirs\n",
      "0 \t Number of null values in  travel_dirs\n",
      "\n",
      "\t Value Counts\n",
      "E        41423\n",
      "W        40868\n",
      "S        38437\n",
      "N        38206\n",
      "Other     1252\n",
      "Name: travel_dirs, dtype: int64\n",
      "\n",
      "\t Truncated list of unique values in  travel_dirs : \n",
      "['W' 'S' 'E' 'N' 'Other']\n",
      "-*-*-*-*-*-*-*-*-*-*-*-*-*-*-*-*-*-*-*-*\n",
      "\n",
      "Analysis of field  travel_dirs_codes\n",
      "5 \t Number of unique values in  travel_dirs_codes\n",
      "0 \t Number of null values in  travel_dirs_codes\n",
      "\n",
      "\t Value Counts\n",
      "0    41423\n",
      "4    40868\n",
      "3    38437\n",
      "1    38206\n",
      "2     1252\n",
      "Name: travel_dirs_codes, dtype: int64\n",
      "\n",
      "\t Truncated list of unique values in  travel_dirs_codes : \n",
      "[0, 1, 2, 3, 4]\n",
      "-*-*-*-*-*-*-*-*-*-*-*-*-*-*-*-*-*-*-*-*\n",
      "\n"
     ]
    }
   ],
   "source": [
    "Analysis('travel_dirs')\n",
    "Make_Category('travel_dirs')"
   ]
  },
  {
   "cell_type": "markdown",
   "id": "opening-school",
   "metadata": {},
   "source": [
    "### prior_movements\n",
    "I can't find what this means, so I'm going to delete it.  "
   ]
  },
  {
   "cell_type": "code",
   "execution_count": 46,
   "id": "partial-chosen",
   "metadata": {},
   "outputs": [
    {
     "name": "stdout",
     "output_type": "stream",
     "text": [
      "Analysis of field  prior_movements\n",
      "1322 \t Number of unique values in  prior_movements\n",
      "0 \t Number of null values in  prior_movements\n",
      "\n",
      "\t Value Counts\n",
      "BA      22845\n",
      "BB      22688\n",
      "B       12463\n",
      "IB      11632\n",
      "HB       9516\n",
      "        ...  \n",
      "YQN         1\n",
      "JFB         1\n",
      "WRR         1\n",
      "WFZ         1\n",
      "JBMB        1\n",
      "Name: prior_movements, Length: 1322, dtype: int64\n",
      "\n",
      "-*-*-*-*-*-*-*-*-*-*-*-*-*-*-*-*-*-*-*-*\n",
      "\n"
     ]
    }
   ],
   "source": [
    "Analysis('prior_movements')"
   ]
  },
  {
   "cell_type": "code",
   "execution_count": 47,
   "id": "norman-ballet",
   "metadata": {},
   "outputs": [],
   "source": [
    "data.drop('prior_movements', axis=1, inplace=True)"
   ]
  },
  {
   "cell_type": "markdown",
   "id": "going-minister",
   "metadata": {},
   "source": [
    "### crash_year"
   ]
  },
  {
   "cell_type": "code",
   "execution_count": 48,
   "id": "psychological-surface",
   "metadata": {},
   "outputs": [
    {
     "name": "stdout",
     "output_type": "stream",
     "text": [
      "Analysis of field  crash_year\n",
      "1 \t Number of unique values in  crash_year\n",
      "0 \t Number of null values in  crash_year\n",
      "\n",
      "\t Value Counts\n",
      "2019    160186\n",
      "Name: crash_year, dtype: int64\n",
      "\n",
      "\t Truncated list of unique values in  crash_year : \n",
      "[2019]\n",
      "-*-*-*-*-*-*-*-*-*-*-*-*-*-*-*-*-*-*-*-*\n",
      "\n"
     ]
    }
   ],
   "source": [
    "Analysis('crash_year')"
   ]
  },
  {
   "cell_type": "markdown",
   "id": "reduced-brunei",
   "metadata": {},
   "source": [
    "All the same year.  Not useful.  "
   ]
  },
  {
   "cell_type": "code",
   "execution_count": 49,
   "id": "welcome-baltimore",
   "metadata": {},
   "outputs": [],
   "source": [
    "data.drop(['crash_year'], axis=1, inplace=True)"
   ]
  },
  {
   "cell_type": "markdown",
   "id": "elect-phase",
   "metadata": {},
   "source": [
    "### csect"
   ]
  },
  {
   "cell_type": "code",
   "execution_count": 50,
   "id": "innovative-generator",
   "metadata": {},
   "outputs": [
    {
     "name": "stdout",
     "output_type": "stream",
     "text": [
      "Analysis of field  csect\n",
      "2141 \t Number of unique values in  csect\n",
      "0 \t Number of null values in  csect\n",
      "\n",
      "\t Value Counts\n",
      "          59514\n",
      "450-90     2558\n",
      "450-10     2059\n",
      "450-15     1697\n",
      "283-09     1486\n",
      "          ...  \n",
      "863-05        1\n",
      "843-06        1\n",
      "109-01        1\n",
      "857-02        1\n",
      "168-01        1\n",
      "Name: csect, Length: 2141, dtype: int64\n",
      "\n",
      "-*-*-*-*-*-*-*-*-*-*-*-*-*-*-*-*-*-*-*-*\n",
      "\n"
     ]
    }
   ],
   "source": [
    "Analysis('csect')"
   ]
  },
  {
   "cell_type": "markdown",
   "id": "endless-slovenia",
   "metadata": {},
   "source": [
    "I don't know what this field represents, and there are too many unique values for it to probably be useful."
   ]
  },
  {
   "cell_type": "code",
   "execution_count": 51,
   "id": "residential-definition",
   "metadata": {},
   "outputs": [],
   "source": [
    "data.drop(['csect'], axis=1, inplace=True)"
   ]
  },
  {
   "cell_type": "markdown",
   "id": "marked-highway",
   "metadata": {},
   "source": [
    "### logmile"
   ]
  },
  {
   "cell_type": "code",
   "execution_count": 52,
   "id": "announced-liabilities",
   "metadata": {},
   "outputs": [
    {
     "name": "stdout",
     "output_type": "stream",
     "text": [
      "Analysis of field  logmile\n",
      "18203 \t Number of unique values in  logmile\n",
      "59514 \t Number of null values in  logmile\n",
      "\n",
      "\t Value Counts\n",
      "0.000     1068\n",
      "0.002       85\n",
      "0.001       79\n",
      "0.003       67\n",
      "0.004       60\n",
      "          ... \n",
      "14.419       1\n",
      "12.308       1\n",
      "24.155       1\n",
      "34.108       1\n",
      "30.935       1\n",
      "Name: logmile, Length: 18202, dtype: int64\n",
      "\n",
      "-*-*-*-*-*-*-*-*-*-*-*-*-*-*-*-*-*-*-*-*\n",
      "\n"
     ]
    }
   ],
   "source": [
    "Analysis('logmile')"
   ]
  },
  {
   "cell_type": "markdown",
   "id": "partial-amateur",
   "metadata": {},
   "source": [
    "I'm not sure what it means, and too many unique values.  "
   ]
  },
  {
   "cell_type": "code",
   "execution_count": 53,
   "id": "passive-marker",
   "metadata": {},
   "outputs": [],
   "source": [
    "data.drop(['logmile'], axis=1, inplace=True)"
   ]
  },
  {
   "cell_type": "markdown",
   "id": "bibliographic-founder",
   "metadata": {},
   "source": [
    "### lrs_id"
   ]
  },
  {
   "cell_type": "code",
   "execution_count": 54,
   "id": "through-packaging",
   "metadata": {},
   "outputs": [
    {
     "name": "stdout",
     "output_type": "stream",
     "text": [
      "Analysis of field  lrs_id\n",
      "4788 \t Number of unique values in  lrs_id\n",
      "0 \t Number of null values in  lrs_id\n",
      "\n",
      "\t Value Counts\n",
      "7.19E+16              10095\n",
      "5.19E+16               7558\n",
      "3.39E+16               6554\n",
      "1.79E+16               3921\n",
      "5.59E+16               3149\n",
      "                      ...  \n",
      "823-34-1-010              1\n",
      "454-01-N-050              1\n",
      "337-03-1-010              1\n",
      "07120069470369A020        1\n",
      "01590051650299A010        1\n",
      "Name: lrs_id, Length: 4788, dtype: int64\n",
      "\n",
      "-*-*-*-*-*-*-*-*-*-*-*-*-*-*-*-*-*-*-*-*\n",
      "\n"
     ]
    }
   ],
   "source": [
    "Analysis('lrs_id')"
   ]
  },
  {
   "cell_type": "markdown",
   "id": "cathedral-kazakhstan",
   "metadata": {},
   "source": [
    "Too many unique values, and I'm not sure what it is.  "
   ]
  },
  {
   "cell_type": "code",
   "execution_count": 55,
   "id": "special-dependence",
   "metadata": {},
   "outputs": [],
   "source": [
    "data.drop(['lrs_id'], axis=1, inplace=True)"
   ]
  },
  {
   "cell_type": "markdown",
   "id": "violent-central",
   "metadata": {},
   "source": [
    "### lrs_logmile"
   ]
  },
  {
   "cell_type": "code",
   "execution_count": 56,
   "id": "coral-onion",
   "metadata": {},
   "outputs": [
    {
     "name": "stdout",
     "output_type": "stream",
     "text": [
      "Analysis of field  lrs_logmile\n",
      "18093 \t Number of unique values in  lrs_logmile\n",
      "1431 \t Number of null values in  lrs_logmile\n",
      "\n",
      "\t Value Counts\n",
      "0.000     2947\n",
      "0.002      330\n",
      "0.001      305\n",
      "0.004      280\n",
      "0.019      277\n",
      "          ... \n",
      "19.900       1\n",
      "18.124       1\n",
      "17.846       1\n",
      "18.410       1\n",
      "4.937        1\n",
      "Name: lrs_logmile, Length: 18092, dtype: int64\n",
      "\n",
      "-*-*-*-*-*-*-*-*-*-*-*-*-*-*-*-*-*-*-*-*\n",
      "\n"
     ]
    }
   ],
   "source": [
    "Analysis('lrs_logmile')"
   ]
  },
  {
   "cell_type": "markdown",
   "id": "affected-taiwan",
   "metadata": {},
   "source": [
    "I don't think this information is useful for our purposes."
   ]
  },
  {
   "cell_type": "code",
   "execution_count": 57,
   "id": "lyric-table",
   "metadata": {},
   "outputs": [],
   "source": [
    "data.drop(['lrs_logmile'], axis=1, inplace=True)"
   ]
  },
  {
   "cell_type": "markdown",
   "id": "spectacular-genius",
   "metadata": {},
   "source": [
    "### adt"
   ]
  },
  {
   "cell_type": "code",
   "execution_count": 58,
   "id": "gothic-russia",
   "metadata": {},
   "outputs": [
    {
     "name": "stdout",
     "output_type": "stream",
     "text": [
      "Analysis of field  adt\n",
      "749 \t Number of unique values in  adt\n",
      "59287 \t Number of null values in  adt\n",
      "\n",
      "\t Value Counts\n",
      "176900.0    1010\n",
      "21400.0      739\n",
      "11200.0      735\n",
      "78600.0      725\n",
      "47700.0      709\n",
      "            ... \n",
      "82.0           1\n",
      "84.0           1\n",
      "83.0           1\n",
      "52.0           1\n",
      "74.0           1\n",
      "Name: adt, Length: 748, dtype: int64\n",
      "\n",
      "-*-*-*-*-*-*-*-*-*-*-*-*-*-*-*-*-*-*-*-*\n",
      "\n"
     ]
    }
   ],
   "source": [
    "Analysis('adt')"
   ]
  },
  {
   "cell_type": "markdown",
   "id": "aggressive-oriental",
   "metadata": {},
   "source": [
    "No idea what this is."
   ]
  },
  {
   "cell_type": "code",
   "execution_count": 59,
   "id": "forced-suspect",
   "metadata": {},
   "outputs": [],
   "source": [
    "data.drop(['adt'], axis=1, inplace=True)"
   ]
  },
  {
   "cell_type": "markdown",
   "id": "elder-result",
   "metadata": {},
   "source": [
    "### alcohol"
   ]
  },
  {
   "cell_type": "code",
   "execution_count": 60,
   "id": "likely-occasion",
   "metadata": {},
   "outputs": [
    {
     "name": "stdout",
     "output_type": "stream",
     "text": [
      "Analysis of field  alcohol\n",
      "2 \t Number of unique values in  alcohol\n",
      "0 \t Number of null values in  alcohol\n",
      "\n",
      "\t Value Counts\n",
      "0    155530\n",
      "1      4656\n",
      "Name: alcohol, dtype: int64\n",
      "\n",
      "\t Truncated list of unique values in  alcohol : \n",
      "[0 1]\n",
      "-*-*-*-*-*-*-*-*-*-*-*-*-*-*-*-*-*-*-*-*\n",
      "\n"
     ]
    }
   ],
   "source": [
    "Analysis('alcohol')"
   ]
  },
  {
   "cell_type": "markdown",
   "id": "fluid-confidentiality",
   "metadata": {},
   "source": [
    "Nice clean data.  Probably useful.  "
   ]
  },
  {
   "cell_type": "markdown",
   "id": "crucial-blair",
   "metadata": {},
   "source": [
    "### veh_type_cd1 and veh_type_cd2\n",
    "\n",
    "| Code | Vehicle Type |\n",
    "|---|---|\n",
    "| A | PASSENGER CAR|\t\n",
    "| B | LT. TRUCK (P.U., ETC.)|\t\n",
    "| C | VAN|\t\n",
    "| D | A, B, C, OR S WITH TRAILER|\t\n",
    "| E | MOTORCYCLE|\t\n",
    "| F | PEDALCYCLE|\t\n",
    "| G | OFF-ROAD VEHICLE|\t\n",
    "| H | EMERGENCY VEHICLE IN USE|\t\n",
    "| I | SCHOOL BUS|\t\n",
    "| J | BUS W/ SEATS FOR 9-15 OCCUPANTS|\t\n",
    "| K | BUS W/ SEATS FOR 16 OR MORE OCC.|\t\n",
    "| L | SINGLE UNIT TRUCK W/ 2 AXLES|\t\n",
    "| M | SINGLE UNIT TRUCK W/ 3 AXLES OR MORE|\t\n",
    "| N | TRUCK/TRAILER|\t\n",
    "| P | TRUCK/TRACTOR|\t\n",
    "| Q | TRACTOR SEMI-TRAILER|\t\n",
    "| R | TRUCK DOUBLE|\t\n",
    "| S | SUV|\t\n",
    "| T | FARM EQUIPMENT|\t\n",
    "| V | MOTOR HOME|\t\n",
    "| Z | OTHER|\t![image.png](attachment:image.png)"
   ]
  },
  {
   "cell_type": "code",
   "execution_count": 61,
   "id": "interesting-feeling",
   "metadata": {},
   "outputs": [
    {
     "name": "stdout",
     "output_type": "stream",
     "text": [
      "Analysis of field  veh_type_cd1\n",
      "22 \t Number of unique values in  veh_type_cd1\n",
      "0 \t Number of null values in  veh_type_cd1\n",
      "\n",
      "\t Value Counts\n",
      "A    70301\n",
      "B    35120\n",
      "S    34974\n",
      "C     4903\n",
      "      2999\n",
      "Z     2618\n",
      "Q     2314\n",
      "P     1206\n",
      "L     1138\n",
      "E      940\n",
      "D      750\n",
      "M      666\n",
      "I      465\n",
      "F      452\n",
      "H      355\n",
      "N      320\n",
      "K      178\n",
      "G      143\n",
      "J      143\n",
      "V       95\n",
      "T       79\n",
      "R       27\n",
      "Name: veh_type_cd1, dtype: int64\n",
      "\n",
      "\t Truncated list of unique values in  veh_type_cd1 : \n",
      "['S' 'F' 'A' 'B' 'Z' ' ' 'C' 'K' 'Q' 'E' 'L' 'P' 'D' 'H' 'M' 'N' 'J' 'V'\n",
      " 'R' 'G' 'T' 'I']\n",
      "-*-*-*-*-*-*-*-*-*-*-*-*-*-*-*-*-*-*-*-*\n",
      "\n",
      "Analysis of field  veh_type_cd2\n",
      "22 \t Number of unique values in  veh_type_cd2\n",
      "0 \t Number of null values in  veh_type_cd2\n",
      "\n",
      "\t Value Counts\n",
      "A    62314\n",
      "S    33716\n",
      "     26293\n",
      "B    25906\n",
      "C     4921\n",
      "Q     1570\n",
      "P      817\n",
      "L      725\n",
      "E      616\n",
      "Z      508\n",
      "D      484\n",
      "F      444\n",
      "M      417\n",
      "I      404\n",
      "H      308\n",
      "K      256\n",
      "N      208\n",
      "J      117\n",
      "T       73\n",
      "V       53\n",
      "R       21\n",
      "G       15\n",
      "Name: veh_type_cd2, dtype: int64\n",
      "\n",
      "\t Truncated list of unique values in  veh_type_cd2 : \n",
      "['A' 'C' 'S' ' ' 'B' 'Q' 'E' 'L' 'H' 'D' 'M' 'Z' 'N' 'P' 'F' 'T' 'K' 'R'\n",
      " 'V' 'I' 'J' 'G']\n",
      "-*-*-*-*-*-*-*-*-*-*-*-*-*-*-*-*-*-*-*-*\n",
      "\n"
     ]
    }
   ],
   "source": [
    "Analysis('veh_type_cd1')\n",
    "Analysis('veh_type_cd2')"
   ]
  },
  {
   "cell_type": "markdown",
   "id": "liked-translation",
   "metadata": {},
   "source": [
    "Put the blanks in \"Other.\""
   ]
  },
  {
   "cell_type": "code",
   "execution_count": 62,
   "id": "taken-paradise",
   "metadata": {},
   "outputs": [
    {
     "name": "stdout",
     "output_type": "stream",
     "text": [
      "Analysis of field  veh_type_cd1_codes\n",
      "21 \t Number of unique values in  veh_type_cd1_codes\n",
      "0 \t Number of null values in  veh_type_cd1_codes\n",
      "\n",
      "\t Value Counts\n",
      "0     70301\n",
      "1     35120\n",
      "17    34974\n",
      "20     5617\n",
      "2      4903\n",
      "15     2314\n",
      "14     1206\n",
      "11     1138\n",
      "4       940\n",
      "3       750\n",
      "12      666\n",
      "8       465\n",
      "5       452\n",
      "7       355\n",
      "13      320\n",
      "10      178\n",
      "9       143\n",
      "6       143\n",
      "19       95\n",
      "18       79\n",
      "16       27\n",
      "Name: veh_type_cd1_codes, dtype: int64\n",
      "\n",
      "\t Truncated list of unique values in  veh_type_cd1_codes : \n",
      "[0, 1, 2, 3, 4, 5, 6, 7, 8, 9, 10, 11, 12, 13, 14, 15, 16, 17, 18, 19, 20]\n",
      "-*-*-*-*-*-*-*-*-*-*-*-*-*-*-*-*-*-*-*-*\n",
      "\n",
      "Analysis of field  veh_type_cd2_codes\n",
      "21 \t Number of unique values in  veh_type_cd2_codes\n",
      "0 \t Number of null values in  veh_type_cd2_codes\n",
      "\n",
      "\t Value Counts\n",
      "0     62314\n",
      "17    33716\n",
      "20    26801\n",
      "1     25906\n",
      "2      4921\n",
      "15     1570\n",
      "14      817\n",
      "11      725\n",
      "4       616\n",
      "3       484\n",
      "5       444\n",
      "12      417\n",
      "8       404\n",
      "7       308\n",
      "10      256\n",
      "13      208\n",
      "9       117\n",
      "18       73\n",
      "19       53\n",
      "16       21\n",
      "6        15\n",
      "Name: veh_type_cd2_codes, dtype: int64\n",
      "\n",
      "\t Truncated list of unique values in  veh_type_cd2_codes : \n",
      "[0, 1, 2, 3, 4, 5, 6, 7, 8, 9, 10, 11, 12, 13, 14, 15, 16, 17, 18, 19, 20]\n",
      "-*-*-*-*-*-*-*-*-*-*-*-*-*-*-*-*-*-*-*-*\n",
      "\n"
     ]
    }
   ],
   "source": [
    "for x in ['veh_type_cd1','veh_type_cd2']:\n",
    "    data[x] = data[x].replace(' ', 'Z')\n",
    "    Make_Category(x)\n"
   ]
  },
  {
   "cell_type": "markdown",
   "id": "pediatric-oracle",
   "metadata": {},
   "source": [
    "#### quadrant"
   ]
  },
  {
   "cell_type": "code",
   "execution_count": 63,
   "id": "damaged-absolute",
   "metadata": {},
   "outputs": [
    {
     "name": "stdout",
     "output_type": "stream",
     "text": [
      "Analysis of field  quadrant\n",
      "5 \t Number of unique values in  quadrant\n",
      "0 \t Number of null values in  quadrant\n",
      "\n",
      "\t Value Counts\n",
      "      157264\n",
      "3        859\n",
      "1        716\n",
      "2        679\n",
      "4        668\n",
      "Name: quadrant, dtype: int64\n",
      "\n",
      "\t Truncated list of unique values in  quadrant : \n",
      "['  ' '2' '1' '4' '3']\n",
      "-*-*-*-*-*-*-*-*-*-*-*-*-*-*-*-*-*-*-*-*\n",
      "\n"
     ]
    }
   ],
   "source": [
    "Analysis('quadrant')"
   ]
  },
  {
   "cell_type": "markdown",
   "id": "governmental-joseph",
   "metadata": {},
   "source": [
    "No idea what this means, and almost all values are blank.  Delete!"
   ]
  },
  {
   "cell_type": "code",
   "execution_count": 64,
   "id": "familiar-stroke",
   "metadata": {},
   "outputs": [],
   "source": [
    "data.drop(['quadrant'], axis=1, inplace=True)"
   ]
  },
  {
   "cell_type": "markdown",
   "id": "framed-pendant",
   "metadata": {},
   "source": [
    "### spotted_by"
   ]
  },
  {
   "cell_type": "code",
   "execution_count": 65,
   "id": "resident-soccer",
   "metadata": {
    "scrolled": true
   },
   "outputs": [
    {
     "name": "stdout",
     "output_type": "stream",
     "text": [
      "Analysis of field  spotted_by\n",
      "5 \t Number of unique values in  spotted_by\n",
      "0 \t Number of null values in  spotted_by\n",
      "\n",
      "\t Value Counts\n",
      "7    159366\n",
      "0       492\n",
      "1       242\n",
      "2        52\n",
      "8        34\n",
      "Name: spotted_by, dtype: int64\n",
      "\n",
      "\t Truncated list of unique values in  spotted_by : \n",
      "[7 0 8 1 2]\n",
      "-*-*-*-*-*-*-*-*-*-*-*-*-*-*-*-*-*-*-*-*\n",
      "\n"
     ]
    }
   ],
   "source": [
    "Analysis('spotted_by')"
   ]
  },
  {
   "cell_type": "markdown",
   "id": "comic-colony",
   "metadata": {},
   "source": [
    "I cannot find what this means, and almost all of the values are the same.  Delete!"
   ]
  },
  {
   "cell_type": "code",
   "execution_count": 66,
   "id": "floppy-region",
   "metadata": {},
   "outputs": [],
   "source": [
    "data.drop(['spotted_by'], axis=1, inplace=True)"
   ]
  },
  {
   "cell_type": "markdown",
   "id": "occasional-myanmar",
   "metadata": {},
   "source": [
    "### intersection_id"
   ]
  },
  {
   "cell_type": "code",
   "execution_count": 67,
   "id": "present-domain",
   "metadata": {},
   "outputs": [
    {
     "name": "stdout",
     "output_type": "stream",
     "text": [
      "Analysis of field  intersection_id\n",
      "15037 \t Number of unique values in  intersection_id\n",
      "94852 \t Number of null values in  intersection_id\n",
      "\n",
      "\t Value Counts\n",
      "17LA3246@I-10                210\n",
      "36US90@MARTIN LUTHER KING    199\n",
      "26I-10@VETERANS#4            134\n",
      "17I-10@COLLEGE               119\n",
      "26US90Z@MANHATTAN            103\n",
      "                            ... \n",
      "07LA4@HILL                     1\n",
      "28LA92@MERMENTAU               1\n",
      "17LA3246@OLD SIEGEN            1\n",
      "28LA1252@TIFRERE               1\n",
      "48LA6363@SATSUMA               1\n",
      "Name: intersection_id, Length: 15036, dtype: int64\n",
      "\n",
      "-*-*-*-*-*-*-*-*-*-*-*-*-*-*-*-*-*-*-*-*\n",
      "\n"
     ]
    }
   ],
   "source": [
    "Analysis('intersection_id')"
   ]
  },
  {
   "cell_type": "markdown",
   "id": "mental-appeal",
   "metadata": {},
   "source": [
    "This might be useful.  "
   ]
  },
  {
   "cell_type": "code",
   "execution_count": 68,
   "id": "interstate-leave",
   "metadata": {},
   "outputs": [
    {
     "name": "stdout",
     "output_type": "stream",
     "text": [
      "Analysis of field  intersection_id\n",
      "1560 \t Number of unique values in  intersection_id\n",
      "0 \t Number of null values in  intersection_id\n",
      "\n",
      "\t Value Counts\n",
      "Misc                         127328\n",
      "17LA3246@I-10                   210\n",
      "36US90@MARTIN LUTHER KING       199\n",
      "26I-10@VETERANS#4               134\n",
      "17I-10@COLLEGE                  119\n",
      "                              ...  \n",
      "10US171@GILLIS CUTOFF            10\n",
      "52US190@AVONDALE                 10\n",
      "17I-10@RIVER                     10\n",
      "28US167@ROSELAWN                 10\n",
      "17LA19@LOWER ZACHARY             10\n",
      "Name: intersection_id, Length: 1560, dtype: int64\n",
      "\n",
      "-*-*-*-*-*-*-*-*-*-*-*-*-*-*-*-*-*-*-*-*\n",
      "\n"
     ]
    }
   ],
   "source": [
    "data['intersection_id'].fillna('Misc', inplace=True)\n",
    "intersections_misc = data['intersection_id'].value_counts() < 10\n",
    "data['intersection_id'] = data['intersection_id'].apply(lambda x: 'Misc' if intersections_misc.loc[x] == True else x)\n",
    "Analysis('intersection_id')"
   ]
  },
  {
   "cell_type": "code",
   "execution_count": 69,
   "id": "relevant-vitamin",
   "metadata": {},
   "outputs": [
    {
     "name": "stdout",
     "output_type": "stream",
     "text": [
      "Analysis of field  intersection_id_codes\n",
      "1560 \t Number of unique values in  intersection_id_codes\n",
      "0 \t Number of null values in  intersection_id_codes\n",
      "\n",
      "\t Value Counts\n",
      "1559    127328\n",
      "389        210\n",
      "1112       199\n",
      "601        134\n",
      "328        119\n",
      "         ...  \n",
      "1308        10\n",
      "486         10\n",
      "1208        10\n",
      "1470        10\n",
      "169         10\n",
      "Name: intersection_id_codes, Length: 1560, dtype: int64\n",
      "\n",
      "-*-*-*-*-*-*-*-*-*-*-*-*-*-*-*-*-*-*-*-*\n",
      "\n"
     ]
    }
   ],
   "source": [
    "Make_Category('intersection_id')"
   ]
  },
  {
   "cell_type": "markdown",
   "id": "south-jungle",
   "metadata": {},
   "source": [
    "### severity_cd\n",
    "\n",
    "| Code | Meaning |\n",
    "|---|---|\n",
    "| A | FATAL|\n",
    "| B | SEVERE|\n",
    "| C | MODERATE|\n",
    "| D | COMPLAINT|\n",
    "| E | NO INJURY|![image.png](attachment:image.png)"
   ]
  },
  {
   "cell_type": "code",
   "execution_count": 70,
   "id": "answering-capability",
   "metadata": {},
   "outputs": [
    {
     "name": "stdout",
     "output_type": "stream",
     "text": [
      "Analysis of field  severity_cd\n",
      "5 \t Number of unique values in  severity_cd\n",
      "0 \t Number of null values in  severity_cd\n",
      "\n",
      "\t Value Counts\n",
      "E    114937\n",
      "D     34603\n",
      "C      8803\n",
      "B      1162\n",
      "A       681\n",
      "Name: severity_cd, dtype: int64\n",
      "\n",
      "\t Truncated list of unique values in  severity_cd : \n",
      "['E' 'D' 'C' 'B' 'A']\n",
      "-*-*-*-*-*-*-*-*-*-*-*-*-*-*-*-*-*-*-*-*\n",
      "\n"
     ]
    }
   ],
   "source": [
    "Analysis('severity_cd')"
   ]
  },
  {
   "cell_type": "markdown",
   "id": "democratic-marijuana",
   "metadata": {},
   "source": [
    "Check for integrity of data:  Does this correlate with 'num_tot_kil'?\n",
    "It has the same number of fatal accidents (681).  Check!"
   ]
  },
  {
   "cell_type": "code",
   "execution_count": 71,
   "id": "norwegian-elements",
   "metadata": {},
   "outputs": [
    {
     "name": "stdout",
     "output_type": "stream",
     "text": [
      "Analysis of field  severity_cd_codes\n",
      "5 \t Number of unique values in  severity_cd_codes\n",
      "0 \t Number of null values in  severity_cd_codes\n",
      "\n",
      "\t Value Counts\n",
      "4    114937\n",
      "3     34603\n",
      "2      8803\n",
      "1      1162\n",
      "0       681\n",
      "Name: severity_cd_codes, dtype: int64\n",
      "\n",
      "\t Truncated list of unique values in  severity_cd_codes : \n",
      "[0, 1, 2, 3, 4]\n",
      "-*-*-*-*-*-*-*-*-*-*-*-*-*-*-*-*-*-*-*-*\n",
      "\n"
     ]
    }
   ],
   "source": [
    "Make_Category('severity_cd')"
   ]
  },
  {
   "cell_type": "markdown",
   "id": "native-landing",
   "metadata": {},
   "source": [
    "### city_cd"
   ]
  },
  {
   "cell_type": "code",
   "execution_count": 72,
   "id": "younger-saint",
   "metadata": {},
   "outputs": [
    {
     "name": "stdout",
     "output_type": "stream",
     "text": [
      "Analysis of field  city_cd\n",
      "20 \t Number of unique values in  city_cd\n",
      "0 \t Number of null values in  city_cd\n",
      "\n",
      "\t Value Counts\n",
      "0     61414\n",
      "1     29702\n",
      "2     25271\n",
      "4     13305\n",
      "3      9393\n",
      "18     8543\n",
      "5      4503\n",
      "6      3428\n",
      "7      2235\n",
      "9       832\n",
      "8       722\n",
      "14      371\n",
      "16      312\n",
      "11       85\n",
      "10       38\n",
      "13       18\n",
      "12       10\n",
      "15        2\n",
      "17        1\n",
      "44        1\n",
      "Name: city_cd, dtype: int64\n",
      "\n",
      "\t Truncated list of unique values in  city_cd : \n",
      "[ 1  2  0  5  6 18  4  3  7  9 16  8 14 10 11 13 12 15 17 44]\n",
      "-*-*-*-*-*-*-*-*-*-*-*-*-*-*-*-*-*-*-*-*\n",
      "\n"
     ]
    }
   ],
   "source": [
    "Analysis('city_cd')"
   ]
  },
  {
   "cell_type": "markdown",
   "id": "amber-hospital",
   "metadata": {},
   "source": [
    "I don't know whether '0' is a city; it's probably 'None.\"  I would guess that '1' is Baton Rouge.  Since I have no idea, I'm going to delete this field.  "
   ]
  },
  {
   "cell_type": "code",
   "execution_count": 73,
   "id": "moderate-editor",
   "metadata": {},
   "outputs": [],
   "source": [
    "data.drop(['city_cd'], axis=1, inplace=True)"
   ]
  },
  {
   "cell_type": "markdown",
   "id": "effective-watershed",
   "metadata": {},
   "source": [
    "### roadway_departure, lane_departure"
   ]
  },
  {
   "cell_type": "code",
   "execution_count": 74,
   "id": "featured-quarter",
   "metadata": {},
   "outputs": [
    {
     "name": "stdout",
     "output_type": "stream",
     "text": [
      "Analysis of field  roadway_departure\n",
      "2 \t Number of unique values in  roadway_departure\n",
      "0 \t Number of null values in  roadway_departure\n",
      "\n",
      "\t Value Counts\n",
      "No     132351\n",
      "Yes     27835\n",
      "Name: roadway_departure, dtype: int64\n",
      "\n",
      "\t Truncated list of unique values in  roadway_departure : \n",
      "['No' 'Yes']\n",
      "-*-*-*-*-*-*-*-*-*-*-*-*-*-*-*-*-*-*-*-*\n",
      "\n",
      "Analysis of field  lane_departure\n",
      "2 \t Number of unique values in  lane_departure\n",
      "0 \t Number of null values in  lane_departure\n",
      "\n",
      "\t Value Counts\n",
      "No     128068\n",
      "Yes     32118\n",
      "Name: lane_departure, dtype: int64\n",
      "\n",
      "\t Truncated list of unique values in  lane_departure : \n",
      "['No' 'Yes']\n",
      "-*-*-*-*-*-*-*-*-*-*-*-*-*-*-*-*-*-*-*-*\n",
      "\n"
     ]
    }
   ],
   "source": [
    "for x in ['roadway_departure', 'lane_departure']:\n",
    "    Analysis(x)"
   ]
  },
  {
   "cell_type": "code",
   "execution_count": 75,
   "id": "formed-nevada",
   "metadata": {},
   "outputs": [
    {
     "name": "stdout",
     "output_type": "stream",
     "text": [
      "Analysis of field  roadway_departure\n",
      "2 \t Number of unique values in  roadway_departure\n",
      "0 \t Number of null values in  roadway_departure\n",
      "\n",
      "\t Value Counts\n",
      "0    132351\n",
      "1     27835\n",
      "Name: roadway_departure, dtype: int64\n",
      "\n",
      "\t Truncated list of unique values in  roadway_departure : \n",
      "[0 1]\n",
      "-*-*-*-*-*-*-*-*-*-*-*-*-*-*-*-*-*-*-*-*\n",
      "\n",
      "Analysis of field  lane_departure\n",
      "2 \t Number of unique values in  lane_departure\n",
      "0 \t Number of null values in  lane_departure\n",
      "\n",
      "\t Value Counts\n",
      "0    128068\n",
      "1     32118\n",
      "Name: lane_departure, dtype: int64\n",
      "\n",
      "\t Truncated list of unique values in  lane_departure : \n",
      "[0 1]\n",
      "-*-*-*-*-*-*-*-*-*-*-*-*-*-*-*-*-*-*-*-*\n",
      "\n"
     ]
    }
   ],
   "source": [
    "for x in ['roadway_departure', 'lane_departure']:\n",
    "    data[x] = data[x].map({'No':0, 'Yes':1}).astype(int)\n",
    "    Analysis(x)"
   ]
  },
  {
   "cell_type": "markdown",
   "id": "prescription-evaluation",
   "metadata": {},
   "source": [
    "### road_rel_cd\n",
    "\n",
    "| Code | Meaning |\n",
    "|---|---|\n",
    "| A | ON ROADWAY|\n",
    "| B | SHOULDER|\n",
    "| C | MEDIAN|\n",
    "| D | BEYOND SHOULDER - LEFT|\n",
    "| E | BEYOND SHOULDER - RIGHT|\n",
    "| F | BEYOND RIGHT OF WAY|\n",
    "| G | GORE|\n",
    "| Y | UNKNOWN|\n",
    "| Z | OTHER|![image.png](attachment:image.png)"
   ]
  },
  {
   "cell_type": "code",
   "execution_count": 76,
   "id": "experimental-logging",
   "metadata": {},
   "outputs": [
    {
     "name": "stdout",
     "output_type": "stream",
     "text": [
      "Analysis of field  road_rel_cd\n",
      "11 \t Number of unique values in  road_rel_cd\n",
      "0 \t Number of null values in  road_rel_cd\n",
      "\n",
      "\t Value Counts\n",
      "A    139994\n",
      "E      8270\n",
      "D      4852\n",
      "B      4076\n",
      "Z      1309\n",
      "C       685\n",
      "F       495\n",
      "Y       212\n",
      "G       140\n",
      "        114\n",
      "1        39\n",
      "Name: road_rel_cd, dtype: int64\n",
      "\n",
      "\t Truncated list of unique values in  road_rel_cd : \n",
      "['A' 'D' 'B' 'F' 'E' 'Y' 'G' 'Z' ' ' 'C' '1']\n",
      "-*-*-*-*-*-*-*-*-*-*-*-*-*-*-*-*-*-*-*-*\n",
      "\n"
     ]
    }
   ],
   "source": [
    "Analysis('road_rel_cd')"
   ]
  },
  {
   "cell_type": "markdown",
   "id": "finite-apparel",
   "metadata": {},
   "source": [
    "Merge 'Unknown', 'Other', blank, and '1.'"
   ]
  },
  {
   "cell_type": "code",
   "execution_count": 77,
   "id": "suffering-handle",
   "metadata": {},
   "outputs": [
    {
     "name": "stdout",
     "output_type": "stream",
     "text": [
      "Analysis of field  road_rel_cd\n",
      "8 \t Number of unique values in  road_rel_cd\n",
      "0 \t Number of null values in  road_rel_cd\n",
      "\n",
      "\t Value Counts\n",
      "A    139994\n",
      "E      8270\n",
      "D      4852\n",
      "B      4076\n",
      "Y      1674\n",
      "C       685\n",
      "F       495\n",
      "G       140\n",
      "Name: road_rel_cd, dtype: int64\n",
      "\n",
      "\t Truncated list of unique values in  road_rel_cd : \n",
      "['A' 'D' 'B' 'F' 'E' 'Y' 'G' 'C']\n",
      "-*-*-*-*-*-*-*-*-*-*-*-*-*-*-*-*-*-*-*-*\n",
      "\n"
     ]
    }
   ],
   "source": [
    "data['road_rel_cd'].replace(['Z',' ','1'],'Y', inplace=True)\n",
    "Analysis ('road_rel_cd')"
   ]
  },
  {
   "cell_type": "code",
   "execution_count": 78,
   "id": "cognitive-spending",
   "metadata": {},
   "outputs": [
    {
     "name": "stdout",
     "output_type": "stream",
     "text": [
      "Analysis of field  road_rel_cd_codes\n",
      "8 \t Number of unique values in  road_rel_cd_codes\n",
      "0 \t Number of null values in  road_rel_cd_codes\n",
      "\n",
      "\t Value Counts\n",
      "0    139994\n",
      "4      8270\n",
      "3      4852\n",
      "1      4076\n",
      "7      1674\n",
      "2       685\n",
      "5       495\n",
      "6       140\n",
      "Name: road_rel_cd_codes, dtype: int64\n",
      "\n",
      "\t Truncated list of unique values in  road_rel_cd_codes : \n",
      "[0, 1, 2, 3, 4, 5, 6, 7]\n",
      "-*-*-*-*-*-*-*-*-*-*-*-*-*-*-*-*-*-*-*-*\n",
      "\n"
     ]
    }
   ],
   "source": [
    "Make_Category('road_rel_cd')"
   ]
  },
  {
   "cell_type": "markdown",
   "id": "subtle-column",
   "metadata": {},
   "source": [
    "### hwy_class"
   ]
  },
  {
   "cell_type": "code",
   "execution_count": 79,
   "id": "verbal-mississippi",
   "metadata": {},
   "outputs": [
    {
     "name": "stdout",
     "output_type": "stream",
     "text": [
      "Analysis of field  hwy_class\n",
      "19 \t Number of unique values in  hwy_class\n",
      "0 \t Number of null values in  hwy_class\n",
      "\n",
      "\t Value Counts\n",
      "     59995\n",
      "7    20145\n",
      "5    16714\n",
      "D    11878\n",
      "H    11028\n",
      "1    10332\n",
      "6     7659\n",
      "8     7436\n",
      "F     6062\n",
      "4     2775\n",
      "B     1614\n",
      "3     1420\n",
      "X     1013\n",
      "I     1001\n",
      "S      410\n",
      "G      329\n",
      "C      199\n",
      "2       92\n",
      "A       84\n",
      "Name: hwy_class, dtype: int64\n",
      "\n",
      "\t Truncated list of unique values in  hwy_class : \n",
      "[' ' '5' '3' '7' '1' 'D' 'B' '6' 'F' 'H' 'I' '4' 'G' '8' 'S' 'X' '2' 'A'\n",
      " 'C']\n",
      "-*-*-*-*-*-*-*-*-*-*-*-*-*-*-*-*-*-*-*-*\n",
      "\n"
     ]
    }
   ],
   "source": [
    "Analysis('hwy_class')"
   ]
  },
  {
   "cell_type": "markdown",
   "id": "legendary-economics",
   "metadata": {},
   "source": [
    "No idea what this means.  Drop!"
   ]
  },
  {
   "cell_type": "code",
   "execution_count": 80,
   "id": "divided-blood",
   "metadata": {},
   "outputs": [],
   "source": [
    "data.drop('hwy_class', axis=1, inplace=True)"
   ]
  },
  {
   "cell_type": "markdown",
   "id": "coordinate-field",
   "metadata": {},
   "source": [
    "### contributing_factor"
   ]
  },
  {
   "cell_type": "code",
   "execution_count": 81,
   "id": "chief-numbers",
   "metadata": {},
   "outputs": [
    {
     "name": "stdout",
     "output_type": "stream",
     "text": [
      "Analysis of field  contributing_factor\n",
      "2 \t Number of unique values in  contributing_factor\n",
      "0 \t Number of null values in  contributing_factor\n",
      "\n",
      "\t Value Counts\n",
      "R    113521\n",
      "O     46665\n",
      "Name: contributing_factor, dtype: int64\n",
      "\n",
      "\t Truncated list of unique values in  contributing_factor : \n",
      "['R' 'O']\n",
      "-*-*-*-*-*-*-*-*-*-*-*-*-*-*-*-*-*-*-*-*\n",
      "\n"
     ]
    }
   ],
   "source": [
    "Analysis ('contributing_factor')"
   ]
  },
  {
   "cell_type": "markdown",
   "id": "spoken-touch",
   "metadata": {},
   "source": [
    "No idea what this means.  Drop!"
   ]
  },
  {
   "cell_type": "code",
   "execution_count": 82,
   "id": "operating-magazine",
   "metadata": {},
   "outputs": [],
   "source": [
    "data.drop('contributing_factor', axis=1, inplace=True)"
   ]
  },
  {
   "cell_type": "markdown",
   "id": "express-raising",
   "metadata": {},
   "source": [
    "### location_type\n",
    "\n",
    "| Code | Meaning |\n",
    "|---|---|\n",
    "| A | MANUFACTURING OR INDUSTRIAL|\n",
    "| B | BUSINESS CONTINUOUS|\n",
    "| C | BUSINESS, MIXED RESIDENTIAL|\n",
    "| D | RESIDENTIAL DISTRICT|\n",
    "| E | RESIDENTIAL SCATTERED|\n",
    "| F | SCHOOL OR PLAYGROUND|\n",
    "| G | OPEN COUNTRY|\n",
    "| Z | OTHER|![image.png](attachment:image.png)"
   ]
  },
  {
   "cell_type": "code",
   "execution_count": 83,
   "id": "documentary-metadata",
   "metadata": {},
   "outputs": [
    {
     "name": "stdout",
     "output_type": "stream",
     "text": [
      "Analysis of field  location_type\n",
      "8 \t Number of unique values in  location_type\n",
      "0 \t Number of null values in  location_type\n",
      "\n",
      "\t Value Counts\n",
      "Z    98413\n",
      "A    48820\n",
      "C     4646\n",
      "H     4466\n",
      "B     1241\n",
      "D     1172\n",
      "F      930\n",
      "E      498\n",
      "Name: location_type, dtype: int64\n",
      "\n",
      "\t Truncated list of unique values in  location_type : \n",
      "['A' 'Z' 'H' 'C' 'F' 'D' 'B' 'E']\n",
      "-*-*-*-*-*-*-*-*-*-*-*-*-*-*-*-*-*-*-*-*\n",
      "\n"
     ]
    }
   ],
   "source": [
    "Analysis('location_type')"
   ]
  },
  {
   "cell_type": "markdown",
   "id": "concrete-ivory",
   "metadata": {},
   "source": [
    "Funny how most of them are 'Other.'  That's either an incomplete list, a vague list, or lazy reporting.  "
   ]
  },
  {
   "cell_type": "code",
   "execution_count": 84,
   "id": "legal-gravity",
   "metadata": {},
   "outputs": [
    {
     "name": "stdout",
     "output_type": "stream",
     "text": [
      "Analysis of field  location_type_codes\n",
      "8 \t Number of unique values in  location_type_codes\n",
      "0 \t Number of null values in  location_type_codes\n",
      "\n",
      "\t Value Counts\n",
      "7    98413\n",
      "0    48820\n",
      "2     4646\n",
      "6     4466\n",
      "1     1241\n",
      "3     1172\n",
      "5      930\n",
      "4      498\n",
      "Name: location_type_codes, dtype: int64\n",
      "\n",
      "\t Truncated list of unique values in  location_type_codes : \n",
      "[0, 1, 2, 3, 4, 5, 6, 7]\n",
      "-*-*-*-*-*-*-*-*-*-*-*-*-*-*-*-*-*-*-*-*\n",
      "\n"
     ]
    }
   ],
   "source": [
    "Make_Category('location_type')"
   ]
  },
  {
   "cell_type": "markdown",
   "id": "opposite-drive",
   "metadata": {},
   "source": [
    "### veh_severity_cd"
   ]
  },
  {
   "cell_type": "code",
   "execution_count": 85,
   "id": "worth-florence",
   "metadata": {},
   "outputs": [
    {
     "name": "stdout",
     "output_type": "stream",
     "text": [
      "Analysis of field  veh_severity_cd\n",
      "5 \t Number of unique values in  veh_severity_cd\n",
      "0 \t Number of null values in  veh_severity_cd\n",
      "\n",
      "\t Value Counts\n",
      "D    75347\n",
      "C    44861\n",
      "E    21983\n",
      "B    16114\n",
      "Y     1881\n",
      "Name: veh_severity_cd, dtype: int64\n",
      "\n",
      "\t Truncated list of unique values in  veh_severity_cd : \n",
      "['D' 'C' 'B' 'E' 'Y']\n",
      "-*-*-*-*-*-*-*-*-*-*-*-*-*-*-*-*-*-*-*-*\n",
      "\n"
     ]
    }
   ],
   "source": [
    "Analysis('veh_severity_cd')"
   ]
  },
  {
   "cell_type": "markdown",
   "id": "technological-optimum",
   "metadata": {},
   "source": [
    "No idea what this means.  Drop!"
   ]
  },
  {
   "cell_type": "code",
   "execution_count": 86,
   "id": "demonstrated-terrorist",
   "metadata": {},
   "outputs": [],
   "source": [
    "data.drop('veh_severity_cd', axis=1, inplace=True)"
   ]
  },
  {
   "cell_type": "markdown",
   "id": "stupid-nancy",
   "metadata": {},
   "source": [
    "### ORIG_LATITUDE, ORIG_LONGITUDE, DOTD_LATITUDE, DOTD_LONGITUDE\n",
    "If we tried to group these, we'd get something approximating 'parish_cd,' which we already have.  Drop!"
   ]
  },
  {
   "cell_type": "code",
   "execution_count": 87,
   "id": "former-enlargement",
   "metadata": {},
   "outputs": [],
   "source": [
    "for x in ['ORIG_LATITUDE', 'ORIG_LONGITUDE', 'DOTD_LATITUDE', 'DOTD_LONGITUDE']:\n",
    "    data.drop(x, axis=1, inplace=True)"
   ]
  },
  {
   "cell_type": "markdown",
   "id": "large-sheriff",
   "metadata": {},
   "source": [
    "### parish_cd.1"
   ]
  },
  {
   "cell_type": "code",
   "execution_count": 88,
   "id": "european-keeping",
   "metadata": {},
   "outputs": [
    {
     "name": "stdout",
     "output_type": "stream",
     "text": [
      "Analysis of field  parish_cd.1\n",
      "65 \t Number of unique values in  parish_cd.1\n",
      "0 \t Number of null values in  parish_cd.1\n",
      "\n",
      "\t Value Counts\n",
      "17    22010\n",
      "36    19942\n",
      "26    16563\n",
      "28    11028\n",
      "9      9879\n",
      "      ...  \n",
      "18      117\n",
      "64      106\n",
      "54       92\n",
      "13       72\n",
      "0         7\n",
      "Name: parish_cd.1, Length: 65, dtype: int64\n",
      "\n",
      "\t Truncated list of unique values in  parish_cd.1 : \n",
      "[36 17  9 28 49 43  2  1 26 20 31 32 34 55 37 33 52  8 10 23 50 40  3 38\n",
      " 53 39 35 48 29 24 61 14 59 46 44 45 54 19 60 22  6 58 62  4  5 47 16 41\n",
      " 51 56 27 18 13 11 64 15 21 57 42 30 25  7 63 12  0]\n",
      "-*-*-*-*-*-*-*-*-*-*-*-*-*-*-*-*-*-*-*-*\n",
      "\n"
     ]
    }
   ],
   "source": [
    "Analysis('parish_cd.1')"
   ]
  },
  {
   "cell_type": "code",
   "execution_count": 89,
   "id": "distinguished-caribbean",
   "metadata": {},
   "outputs": [
    {
     "name": "stdout",
     "output_type": "stream",
     "text": [
      "(array([    24,    510,    711, ..., 159393, 159698, 159719]),)\n",
      "1028\n"
     ]
    }
   ],
   "source": [
    "X = np.where(data['parish_cd']!=data['parish_cd.1'])\n",
    "print (X)\n",
    "print (len(X[0]))"
   ]
  },
  {
   "cell_type": "markdown",
   "id": "level-blood",
   "metadata": {},
   "source": [
    "I don't know how parish_cd.1 is different from parish_cd, but it differs in about 0.7% of cases.  Perhaps it's the parish of residence of the driver of vehicle #1?  Drop?"
   ]
  },
  {
   "cell_type": "code",
   "execution_count": 90,
   "id": "limiting-arlington",
   "metadata": {},
   "outputs": [],
   "source": [
    "data.drop('parish_cd.1', axis=1, inplace=True)"
   ]
  },
  {
   "cell_type": "markdown",
   "id": "rural-inquiry",
   "metadata": {},
   "source": [
    "### hwy_type_cd\n",
    "\n",
    "| Code | Meaning |\n",
    "|---|---|\n",
    "| A | INTERSTATE|\n",
    "| B | U.S. HWY|\n",
    "| C | STATE HWY|\n",
    "| D | PARISH ROAD|\n",
    "| E | CITY STREET|\n",
    "| F | OFF ROAD/PRIVATE PROPERTY|\n",
    "| G | TOLL ROAD|![image.png](attachment:image.png)"
   ]
  },
  {
   "cell_type": "code",
   "execution_count": 91,
   "id": "secret-interference",
   "metadata": {},
   "outputs": [
    {
     "name": "stdout",
     "output_type": "stream",
     "text": [
      "Analysis of field  hwy_type_cd\n",
      "6 \t Number of unique values in  hwy_type_cd\n",
      "0 \t Number of null values in  hwy_type_cd\n",
      "\n",
      "\t Value Counts\n",
      "E    49979\n",
      "C    46835\n",
      "B    24022\n",
      "D    19988\n",
      "A    19210\n",
      "G      152\n",
      "Name: hwy_type_cd, dtype: int64\n",
      "\n",
      "\t Truncated list of unique values in  hwy_type_cd : \n",
      "['E' 'D' 'C' 'G' 'B' 'A']\n",
      "-*-*-*-*-*-*-*-*-*-*-*-*-*-*-*-*-*-*-*-*\n",
      "\n"
     ]
    }
   ],
   "source": [
    "Analysis('hwy_type_cd')"
   ]
  },
  {
   "cell_type": "markdown",
   "id": "ceramic-supervisor",
   "metadata": {},
   "source": [
    "Nice and clean."
   ]
  },
  {
   "cell_type": "code",
   "execution_count": 92,
   "id": "future-community",
   "metadata": {},
   "outputs": [
    {
     "name": "stdout",
     "output_type": "stream",
     "text": [
      "Analysis of field  hwy_type_cd_codes\n",
      "6 \t Number of unique values in  hwy_type_cd_codes\n",
      "0 \t Number of null values in  hwy_type_cd_codes\n",
      "\n",
      "\t Value Counts\n",
      "4    49979\n",
      "2    46835\n",
      "1    24022\n",
      "3    19988\n",
      "0    19210\n",
      "5      152\n",
      "Name: hwy_type_cd_codes, dtype: int64\n",
      "\n",
      "\t Truncated list of unique values in  hwy_type_cd_codes : \n",
      "[0, 1, 2, 3, 4, 5]\n",
      "-*-*-*-*-*-*-*-*-*-*-*-*-*-*-*-*-*-*-*-*\n",
      "\n"
     ]
    }
   ],
   "source": [
    "Make_Category('hwy_type_cd')"
   ]
  },
  {
   "cell_type": "markdown",
   "id": "complex-courtesy",
   "metadata": {},
   "source": [
    "### pri_hwy_num"
   ]
  },
  {
   "cell_type": "code",
   "execution_count": 93,
   "id": "genuine-pasta",
   "metadata": {},
   "outputs": [
    {
     "name": "stdout",
     "output_type": "stream",
     "text": [
      "Analysis of field  pri_hwy_num\n",
      "1006 \t Number of unique values in  pri_hwy_num\n",
      "0 \t Number of null values in  pri_hwy_num\n",
      "\n",
      "\t Value Counts\n",
      "0       72669\n",
      "10       9828\n",
      "90       5940\n",
      "190      4032\n",
      "61       3669\n",
      "        ...  \n",
      "3275        1\n",
      "1098        1\n",
      "970         1\n",
      "3400        1\n",
      "1151        1\n",
      "Name: pri_hwy_num, Length: 1006, dtype: int64\n",
      "\n",
      "-*-*-*-*-*-*-*-*-*-*-*-*-*-*-*-*-*-*-*-*\n",
      "\n"
     ]
    }
   ],
   "source": [
    "Analysis('pri_hwy_num')"
   ]
  },
  {
   "cell_type": "markdown",
   "id": "noticed-lincoln",
   "metadata": {},
   "source": [
    "Let's do the same thing we did with 'intersection_id'."
   ]
  },
  {
   "cell_type": "code",
   "execution_count": 94,
   "id": "signal-pacific",
   "metadata": {},
   "outputs": [
    {
     "name": "stdout",
     "output_type": "stream",
     "text": [
      "Analysis of field  pri_hwy_num\n",
      "414 \t Number of unique values in  pri_hwy_num\n",
      "0 \t Number of null values in  pri_hwy_num\n",
      "\n",
      "\t Value Counts\n",
      "0       72669\n",
      "10       9828\n",
      "90       5940\n",
      "190      4032\n",
      "61       3669\n",
      "        ...  \n",
      "945        10\n",
      "185        10\n",
      "345        10\n",
      "312        10\n",
      "1129       10\n",
      "Name: pri_hwy_num, Length: 414, dtype: int64\n",
      "\n",
      "-*-*-*-*-*-*-*-*-*-*-*-*-*-*-*-*-*-*-*-*\n",
      "\n"
     ]
    }
   ],
   "source": [
    "for x in ['pri_hwy_num']:\n",
    "    data[x].fillna('Misc', inplace=True)\n",
    "    misc = data[x].value_counts() < 10\n",
    "    data[x] = data[x].apply(lambda x: 'Misc' if misc.loc[x] == True else x)\n",
    "    Analysis(x)"
   ]
  },
  {
   "cell_type": "code",
   "execution_count": 95,
   "id": "intense-highway",
   "metadata": {},
   "outputs": [
    {
     "name": "stdout",
     "output_type": "stream",
     "text": [
      "Analysis of field  pri_hwy_num_codes\n",
      "414 \t Number of unique values in  pri_hwy_num_codes\n",
      "0 \t Number of null values in  pri_hwy_num_codes\n",
      "\n",
      "\t Value Counts\n",
      "0      72669\n",
      "9       9828\n",
      "84      5940\n",
      "148     4032\n",
      "56      3669\n",
      "       ...  \n",
      "250       10\n",
      "324       10\n",
      "179       10\n",
      "322       10\n",
      "309       10\n",
      "Name: pri_hwy_num_codes, Length: 414, dtype: int64\n",
      "\n",
      "-*-*-*-*-*-*-*-*-*-*-*-*-*-*-*-*-*-*-*-*\n",
      "\n"
     ]
    }
   ],
   "source": [
    "Make_Category('pri_hwy_num')"
   ]
  },
  {
   "cell_type": "markdown",
   "id": "lined-image",
   "metadata": {},
   "source": [
    "### bypass"
   ]
  },
  {
   "cell_type": "code",
   "execution_count": 96,
   "id": "noticed-hazard",
   "metadata": {},
   "outputs": [
    {
     "name": "stdout",
     "output_type": "stream",
     "text": [
      "Analysis of field  bypass\n",
      "47 \t Number of unique values in  bypass\n",
      "0 \t Number of null values in  bypass\n",
      "\n",
      "\t Value Counts\n",
      "      152683\n",
      "B       1858\n",
      "W       1549\n",
      "E       1391\n",
      "S        461\n",
      "2        378\n",
      "N        335\n",
      "1        331\n",
      "X        268\n",
      "3        240\n",
      "0        194\n",
      "6        142\n",
      "10       118\n",
      "9         68\n",
      "I         39\n",
      "8         33\n",
      "20        18\n",
      "A         13\n",
      "4         12\n",
      "61         8\n",
      "12         8\n",
      "49         4\n",
      "Y          3\n",
      "b          3\n",
      "45         2\n",
      "79         2\n",
      "71         2\n",
      "C          2\n",
      "42         2\n",
      "5          2\n",
      "`          1\n",
      "22         1\n",
      "51         1\n",
      "90         1\n",
      "O          1\n",
      "73         1\n",
      "88         1\n",
      "38         1\n",
      "30         1\n",
      "96         1\n",
      "55         1\n",
      "80         1\n",
      "Sp         1\n",
      "D          1\n",
      "13         1\n",
      "P          1\n",
      "23         1\n",
      "Name: bypass, dtype: int64\n",
      "\n",
      "\t Truncated list of unique values in  bypass : \n",
      "[' ' 'X' 'A' 'W' '0' 'B' 'S' '2' 'E' '6' '9' '3' '96' '1' '10' '4' 'N'\n",
      " '12' 'I' '61' '42' '73' '20' '49' '8' '30' '80' '45' '79' '88' 'Y' '55'\n",
      " '90' 'C' 'O' '5' '`' 'b' '22' 'P' '23' '71' '38' 'Sp' 'D' '13' '51']\n",
      "-*-*-*-*-*-*-*-*-*-*-*-*-*-*-*-*-*-*-*-*\n",
      "\n"
     ]
    }
   ],
   "source": [
    "Analysis('bypass')"
   ]
  },
  {
   "cell_type": "markdown",
   "id": "deluxe-healthcare",
   "metadata": {},
   "source": [
    "No idea what these mean.  Drop!"
   ]
  },
  {
   "cell_type": "code",
   "execution_count": 97,
   "id": "informed-cornell",
   "metadata": {},
   "outputs": [],
   "source": [
    "data.drop('bypass', axis=1, inplace=True)"
   ]
  },
  {
   "cell_type": "markdown",
   "id": "motivated-preparation",
   "metadata": {},
   "source": [
    "### milepost"
   ]
  },
  {
   "cell_type": "code",
   "execution_count": 98,
   "id": "equal-league",
   "metadata": {},
   "outputs": [
    {
     "name": "stdout",
     "output_type": "stream",
     "text": [
      "Analysis of field  milepost\n",
      "7172 \t Number of unique values in  milepost\n",
      "0 \t Number of null values in  milepost\n",
      "\n",
      "\t Value Counts\n",
      "0.00      97863\n",
      "1.00       1441\n",
      "3.00        542\n",
      "2.00        525\n",
      "4.00        376\n",
      "          ...  \n",
      "4.64          1\n",
      "67.54         1\n",
      "226.71        1\n",
      "233.90        1\n",
      "906.80        1\n",
      "Name: milepost, Length: 7172, dtype: int64\n",
      "\n",
      "-*-*-*-*-*-*-*-*-*-*-*-*-*-*-*-*-*-*-*-*\n",
      "\n"
     ]
    }
   ],
   "source": [
    "Analysis ('milepost')"
   ]
  },
  {
   "cell_type": "markdown",
   "id": "accepting-pepper",
   "metadata": {},
   "source": [
    "Not sure what this means.  Drop."
   ]
  },
  {
   "cell_type": "code",
   "execution_count": 99,
   "id": "unable-heath",
   "metadata": {},
   "outputs": [],
   "source": [
    "data.drop('milepost', axis=1, inplace=True)"
   ]
  },
  {
   "cell_type": "markdown",
   "id": "extreme-shepherd",
   "metadata": {},
   "source": [
    "### pri_road_name"
   ]
  },
  {
   "cell_type": "code",
   "execution_count": 100,
   "id": "presidential-allen",
   "metadata": {},
   "outputs": [
    {
     "name": "stdout",
     "output_type": "stream",
     "text": [
      "Analysis of field  pri_road_name\n",
      "15724 \t Number of unique values in  pri_road_name\n",
      "1 \t Number of null values in  pri_road_name\n",
      "\n",
      "\t Value Counts\n",
      "                   7298\n",
      "I-10               3700\n",
      "AIRLINE            2692\n",
      "I10                1480\n",
      "VETERANS           1371\n",
      "                   ... \n",
      "HORRIDGE STREET       1\n",
      "La. 15                1\n",
      "TANNER                1\n",
      "QUINTON               1\n",
      "CC BEL                1\n",
      "Name: pri_road_name, Length: 15723, dtype: int64\n",
      "\n",
      "-*-*-*-*-*-*-*-*-*-*-*-*-*-*-*-*-*-*-*-*\n",
      "\n"
     ]
    }
   ],
   "source": [
    "Analysis('pri_road_name')"
   ]
  },
  {
   "cell_type": "markdown",
   "id": "canadian-northwest",
   "metadata": {},
   "source": [
    "Let's do the same thing we did for intersection_id and pri_hwy_num."
   ]
  },
  {
   "cell_type": "code",
   "execution_count": 101,
   "id": "continental-population",
   "metadata": {},
   "outputs": [
    {
     "name": "stdout",
     "output_type": "stream",
     "text": [
      "Analysis of field  pri_road_name\n",
      "1843 \t Number of unique values in  pri_road_name\n",
      "0 \t Number of null values in  pri_road_name\n",
      "\n",
      "\t Value Counts\n",
      "Misc          35785\n",
      "I-10           3700\n",
      "AIRLINE        2692\n",
      "I10            1480\n",
      "VETERANS       1371\n",
      "              ...  \n",
      "AVE F            10\n",
      "LA HWY 164       10\n",
      "I-12 WB          10\n",
      "KENNER           10\n",
      "HEMLOCK          10\n",
      "Name: pri_road_name, Length: 1843, dtype: int64\n",
      "\n",
      "-*-*-*-*-*-*-*-*-*-*-*-*-*-*-*-*-*-*-*-*\n",
      "\n"
     ]
    }
   ],
   "source": [
    "for x in ['pri_road_name']:\n",
    "    data[x].fillna('Misc', inplace=True)\n",
    "    data[x].replace([' '], 'Misc', inplace=True)\n",
    "    misc = data[x].value_counts() < 10\n",
    "    data[x] = data[x].apply(lambda x: 'Misc' if misc.loc[x] == True else x)\n",
    "    Analysis(x)"
   ]
  },
  {
   "cell_type": "code",
   "execution_count": 102,
   "id": "anonymous-injury",
   "metadata": {},
   "outputs": [
    {
     "name": "stdout",
     "output_type": "stream",
     "text": [
      "Analysis of field  pri_road_name_codes\n",
      "1843 \t Number of unique values in  pri_road_name_codes\n",
      "0 \t Number of null values in  pri_road_name_codes\n",
      "\n",
      "\t Value Counts\n",
      "1290    35785\n",
      "675      3700\n",
      "50       2692\n",
      "731      1480\n",
      "1757     1371\n",
      "        ...  \n",
      "393        10\n",
      "838        10\n",
      "1066       10\n",
      "1138       10\n",
      "0          10\n",
      "Name: pri_road_name_codes, Length: 1843, dtype: int64\n",
      "\n",
      "-*-*-*-*-*-*-*-*-*-*-*-*-*-*-*-*-*-*-*-*\n",
      "\n"
     ]
    }
   ],
   "source": [
    "Make_Category('pri_road_name')"
   ]
  },
  {
   "cell_type": "markdown",
   "id": "frank-representation",
   "metadata": {},
   "source": [
    "### pri_dist and pri_measure\n",
    "Distance from road, and the units.  "
   ]
  },
  {
   "cell_type": "code",
   "execution_count": 103,
   "id": "meaningful-consumer",
   "metadata": {},
   "outputs": [
    {
     "name": "stdout",
     "output_type": "stream",
     "text": [
      "Analysis of field  pri_dist\n",
      "7596 \t Number of unique values in  pri_dist\n",
      "0 \t Number of null values in  pri_dist\n",
      "\n",
      "\t Value Counts\n",
      "0.00       60113\n",
      "100.00      6713\n",
      "0.10        6136\n",
      "50.00       5657\n",
      "200.00      3834\n",
      "           ...  \n",
      "3090.00        1\n",
      "62.94          1\n",
      "5.51           1\n",
      "113.74         1\n",
      "339.26         1\n",
      "Name: pri_dist, Length: 7596, dtype: int64\n",
      "\n",
      "-*-*-*-*-*-*-*-*-*-*-*-*-*-*-*-*-*-*-*-*\n",
      "\n",
      "Analysis of field  pri_measure\n",
      "3 \t Number of unique values in  pri_measure\n",
      "0 \t Number of null values in  pri_measure\n",
      "\n",
      "\t Value Counts\n",
      "FT       61956\n",
      "         58112\n",
      "MI       40118\n",
      "Name: pri_measure, dtype: int64\n",
      "\n",
      "\t Truncated list of unique values in  pri_measure : \n",
      "['     ' 'FT   ' 'MI   ']\n",
      "-*-*-*-*-*-*-*-*-*-*-*-*-*-*-*-*-*-*-*-*\n",
      "\n"
     ]
    }
   ],
   "source": [
    "Analysis('pri_dist')\n",
    "Analysis('pri_measure')"
   ]
  },
  {
   "cell_type": "markdown",
   "id": "precious-winning",
   "metadata": {},
   "source": [
    "Let's assume that if units are not given, then it's in feet.  \n",
    "\n",
    "Let's put these in buckets.  "
   ]
  },
  {
   "cell_type": "code",
   "execution_count": 104,
   "id": "multiple-ukraine",
   "metadata": {},
   "outputs": [
    {
     "name": "stdout",
     "output_type": "stream",
     "text": [
      "2         FT   \n",
      "7         FT   \n",
      "11        FT   \n",
      "13        FT   \n",
      "15        FT   \n",
      "          ...  \n",
      "160176    FT   \n",
      "160177    FT   \n",
      "160181    FT   \n",
      "160182    FT   \n",
      "160184    FT   \n",
      "Name: pri_measure, Length: 54073, dtype: object\n",
      "FT       53192\n",
      "MI         449\n",
      "           432\n",
      "Name: pri_measure, dtype: int64\n"
     ]
    }
   ],
   "source": [
    "A = data['pri_measure'].loc[data['pri_dist'] >10]\n",
    "print (A)\n",
    "print (A.value_counts())\n"
   ]
  },
  {
   "cell_type": "code",
   "execution_count": 105,
   "id": "collect-belle",
   "metadata": {},
   "outputs": [
    {
     "name": "stdout",
     "output_type": "stream",
     "text": [
      "9999.0\n"
     ]
    },
    {
     "data": {
      "text/plain": [
       "(-2.001, 0.1]    8245\n",
       "(0.21, 0.4]      4966\n",
       "(1.12, 1.9]      4245\n",
       "(1.9, 3.0]       4181\n",
       "(0.9, 1.12]      3904\n",
       "(0.1, 0.21]      3793\n",
       "(0.5, 0.9]       3748\n",
       "(3.0, 9999.0]    3607\n",
       "(0.4, 0.5]       3429\n",
       "Name: pri_dist, dtype: int64"
      ]
     },
     "execution_count": 105,
     "metadata": {},
     "output_type": "execute_result"
    }
   ],
   "source": [
    "A = data['pri_dist'].loc[data['pri_measure'] == 'MI   ']\n",
    "print (max(A))\n",
    "B = pd.qcut(A,10, duplicates='drop')\n",
    "B.value_counts()"
   ]
  },
  {
   "cell_type": "code",
   "execution_count": 106,
   "id": "going-vulnerability",
   "metadata": {},
   "outputs": [
    {
     "data": {
      "text/plain": [
       "(-0.001, 10.0]       8764\n",
       "(30.0, 50.0]         8317\n",
       "(268.42, 500.0]      8297\n",
       "(80.0, 100.0]        7532\n",
       "(183.0, 268.42]      6191\n",
       "(10.0, 20.0]         5720\n",
       "(20.0, 30.0]         4761\n",
       "(100.0, 183.0]       4471\n",
       "(500.0, 99999.99]    4094\n",
       "(50.0, 80.0]         3809\n",
       "Name: pri_dist, dtype: int64"
      ]
     },
     "execution_count": 106,
     "metadata": {},
     "output_type": "execute_result"
    }
   ],
   "source": [
    "A = data['pri_dist'].loc[data['pri_measure'] == 'FT   ']\n",
    "B = pd.qcut(A,10,duplicates='drop')\n",
    "B.value_counts()"
   ]
  },
  {
   "cell_type": "markdown",
   "id": "norman-advertiser",
   "metadata": {},
   "source": [
    "- If no units given, if less than 1, list as miles; else, feet.\n",
    "- Convert miles to feet.\n",
    "- Put into 5 ranges\n",
    "- Convert to categories.  \n"
   ]
  },
  {
   "cell_type": "code",
   "execution_count": 107,
   "id": "known-trading",
   "metadata": {},
   "outputs": [
    {
     "name": "stdout",
     "output_type": "stream",
     "text": [
      "Analysis of field  pri_measure\n",
      "2 \t Number of unique values in  pri_measure\n",
      "0 \t Number of null values in  pri_measure\n",
      "\n",
      "\t Value Counts\n",
      "FT       120068\n",
      "MI        40118\n",
      "Name: pri_measure, dtype: int64\n",
      "\n",
      "\t Truncated list of unique values in  pri_measure : \n",
      "['FT   ' 'MI   ']\n",
      "-*-*-*-*-*-*-*-*-*-*-*-*-*-*-*-*-*-*-*-*\n",
      "\n"
     ]
    }
   ],
   "source": [
    "maskA = data['pri_measure']=='     '\n",
    "maskB = data['pri_dist'] < 1 \n",
    "maskC = data['pri_dist'] > -1 \n",
    "maskD = data['pri_dist'] < 1 \n",
    "maskE = data['pri_dist'] < 1 \n",
    "\n",
    "\n",
    "mask = maskA & maskB \n",
    "nmask = maskA & maskC\n",
    "column_name = 'pri_measure'\n",
    "\n",
    "data.loc[mask, column_name] = 'MI   '\n",
    "data.loc[nmask, column_name] = 'FT   '\n",
    "Analysis('pri_measure')"
   ]
  },
  {
   "cell_type": "code",
   "execution_count": 108,
   "id": "disturbed-transcript",
   "metadata": {},
   "outputs": [],
   "source": [
    "mask = data['pri_measure']=='MI   '\n",
    "data.loc[mask, 'pri_dist'] *= 5280\n",
    "data.loc[mask, 'pri_measure'] = 'FT   '"
   ]
  },
  {
   "cell_type": "code",
   "execution_count": 109,
   "id": "accomplished-albuquerque",
   "metadata": {},
   "outputs": [
    {
     "name": "stdout",
     "output_type": "stream",
     "text": [
      "Analysis of field  pri_dist_bin\n",
      "14 \t Number of unique values in  pri_dist_bin\n",
      "0 \t Number of null values in  pri_dist_bin\n",
      "\n",
      "\t Value Counts\n",
      "(-10560.001, 0.0]        60118\n",
      "(300.0, 528.0]           12011\n",
      "(62.685, 100.0]          10025\n",
      "(100.0, 200.0]            9077\n",
      "(4752.0, 10032.0]         8194\n",
      "(46.915, 62.685]          8009\n",
      "(10032.0, 52794720.0]     7792\n",
      "(2112.0, 4752.0]          7600\n",
      "(20.0, 46.915]            7441\n",
      "(0.0, 10.0]               6757\n",
      "(528.0, 1056.0]           6303\n",
      "(1056.0, 2112.0]          5954\n",
      "(10.0, 20.0]              5777\n",
      "(200.0, 300.0]            5128\n",
      "Name: pri_dist_bin, dtype: int64\n",
      "\n",
      "\t Truncated list of unique values in  pri_dist_bin : \n",
      "[(-10560.001, 0.0], (46.915, 62.685], (10032.0, 52794720.0], (20.0, 46.915], (300.0, 528.0], ..., (10.0, 20.0], (0.0, 10.0], (62.685, 100.0], (100.0, 200.0], (2112.0, 4752.0]]\n",
      "Length: 14\n",
      "Categories (14, interval[float64]): [(-10560.001, 0.0] < (0.0, 10.0] < (10.0, 20.0] < (20.0, 46.915] ... (1056.0, 2112.0] < (2112.0, 4752.0] < (4752.0, 10032.0] < (10032.0, 52794720.0]]\n",
      "-*-*-*-*-*-*-*-*-*-*-*-*-*-*-*-*-*-*-*-*\n",
      "\n"
     ]
    }
   ],
   "source": [
    "data['pri_dist_bin'] = pd.qcut(data['pri_dist'].astype(float), 20, duplicates='drop')\n",
    "Analysis('pri_dist_bin')"
   ]
  },
  {
   "cell_type": "code",
   "execution_count": 110,
   "id": "imported-player",
   "metadata": {
    "scrolled": true
   },
   "outputs": [
    {
     "name": "stdout",
     "output_type": "stream",
     "text": [
      "Analysis of field  pri_dist_bin_codes\n",
      "14 \t Number of unique values in  pri_dist_bin_codes\n",
      "0 \t Number of null values in  pri_dist_bin_codes\n",
      "\n",
      "\t Value Counts\n",
      "0     60118\n",
      "8     12011\n",
      "5     10025\n",
      "6      9077\n",
      "12     8194\n",
      "4      8009\n",
      "13     7792\n",
      "11     7600\n",
      "3      7441\n",
      "1      6757\n",
      "9      6303\n",
      "10     5954\n",
      "2      5777\n",
      "7      5128\n",
      "Name: pri_dist_bin_codes, dtype: int64\n",
      "\n",
      "\t Truncated list of unique values in  pri_dist_bin_codes : \n",
      "[0, 1, 2, 3, 4, 5, 6, 7, 8, 9, 10, 11, 12, 13]\n",
      "-*-*-*-*-*-*-*-*-*-*-*-*-*-*-*-*-*-*-*-*\n",
      "\n"
     ]
    }
   ],
   "source": [
    "Make_Category('pri_dist_bin')"
   ]
  },
  {
   "cell_type": "markdown",
   "id": "ambient-growing",
   "metadata": {},
   "source": [
    "### pri_dir"
   ]
  },
  {
   "cell_type": "code",
   "execution_count": 111,
   "id": "sensitive-cookbook",
   "metadata": {},
   "outputs": [
    {
     "name": "stdout",
     "output_type": "stream",
     "text": [
      "Analysis of field  pri_dir\n",
      "14 \t Number of unique values in  pri_dir\n",
      "3 \t Number of null values in  pri_dir\n",
      "\n",
      "\t Value Counts\n",
      "     63210\n",
      "E    24686\n",
      "W    24648\n",
      "S    24146\n",
      "N    23453\n",
      "0       26\n",
      "3        4\n",
      "1        4\n",
      "5        2\n",
      ".        1\n",
      "F        1\n",
      "4        1\n",
      "C        1\n",
      "Name: pri_dir, dtype: int64\n",
      "\n",
      "\t Truncated list of unique values in  pri_dir : \n",
      "[' ' 'E' 'W' 'N' 'S' '0' '1' 'F' '5' nan '3' '.' '4' 'C']\n",
      "-*-*-*-*-*-*-*-*-*-*-*-*-*-*-*-*-*-*-*-*\n",
      "\n"
     ]
    }
   ],
   "source": [
    "Analysis ('pri_dir')"
   ]
  },
  {
   "cell_type": "markdown",
   "id": "macro-surname",
   "metadata": {},
   "source": [
    "Since 40% of the values are blank, and 'travel_dirs' is more complete, drop this one."
   ]
  },
  {
   "cell_type": "code",
   "execution_count": 112,
   "id": "dangerous-joint",
   "metadata": {},
   "outputs": [],
   "source": [
    "data.drop('pri_dir', axis=1, inplace=True)"
   ]
  },
  {
   "cell_type": "markdown",
   "id": "racial-glory",
   "metadata": {},
   "source": [
    "### inter_road\n",
    "Intersecting Road Name"
   ]
  },
  {
   "cell_type": "code",
   "execution_count": 113,
   "id": "sensitive-software",
   "metadata": {},
   "outputs": [
    {
     "name": "stdout",
     "output_type": "stream",
     "text": [
      "Analysis of field  inter_road\n",
      "35371 \t Number of unique values in  inter_road\n",
      "10 \t Number of null values in  inter_road\n",
      "\n",
      "\t Value Counts\n",
      "                       7851\n",
      "I-10                   1055\n",
      "I-12                    738\n",
      "US 190                  654\n",
      "LA 42                   596\n",
      "                       ... \n",
      "CROCHET ST                1\n",
      "WOODS LOOP                1\n",
      "YOKELY RD                 1\n",
      "987.3  LAFITON LANE       1\n",
      "S CREEK LN                1\n",
      "Name: inter_road, Length: 35370, dtype: int64\n",
      "\n",
      "-*-*-*-*-*-*-*-*-*-*-*-*-*-*-*-*-*-*-*-*\n",
      "\n"
     ]
    }
   ],
   "source": [
    "Analysis('inter_road')"
   ]
  },
  {
   "cell_type": "markdown",
   "id": "conscious-edgar",
   "metadata": {},
   "source": [
    "Let's do the same thing we did for intersection_id, pri_hwy_num, and pri_road_name."
   ]
  },
  {
   "cell_type": "code",
   "execution_count": 114,
   "id": "documentary-gnome",
   "metadata": {},
   "outputs": [
    {
     "name": "stdout",
     "output_type": "stream",
     "text": [
      "Analysis of field  inter_road\n",
      "2694 \t Number of unique values in  inter_road\n",
      "0 \t Number of null values in  inter_road\n",
      "\n",
      "\t Value Counts\n",
      "Misc                  70183\n",
      "I-10                   1055\n",
      "I-12                    738\n",
      "US 190                  654\n",
      "LA 42                   596\n",
      "                      ...  \n",
      "TATE RD                  10\n",
      "CHURCHILL ST             10\n",
      "W MILL ST                10\n",
      "2500  SOUTHSIDE DR       10\n",
      "AMERICAN WAY             10\n",
      "Name: inter_road, Length: 2694, dtype: int64\n",
      "\n",
      "-*-*-*-*-*-*-*-*-*-*-*-*-*-*-*-*-*-*-*-*\n",
      "\n"
     ]
    }
   ],
   "source": [
    "for x in ['inter_road']:\n",
    "    data[x].fillna('Misc', inplace=True)\n",
    "    data[x].replace([' '], 'Misc', inplace=True)\n",
    "    misc = data[x].value_counts() < 10\n",
    "    data[x] = data[x].apply(lambda x: 'Misc' if misc.loc[x] == True else x)\n",
    "    Analysis(x)"
   ]
  },
  {
   "cell_type": "code",
   "execution_count": 115,
   "id": "facial-wyoming",
   "metadata": {},
   "outputs": [
    {
     "name": "stdout",
     "output_type": "stream",
     "text": [
      "Analysis of field  inter_road_codes\n",
      "2694 \t Number of unique values in  inter_road_codes\n",
      "0 \t Number of null values in  inter_road_codes\n",
      "\n",
      "\t Value Counts\n",
      "1956    70183\n",
      "1146     1055\n",
      "1161      738\n",
      "2482      654\n",
      "1492      596\n",
      "        ...  \n",
      "1740       10\n",
      "1673       10\n",
      "10         10\n",
      "205        10\n",
      "1098       10\n",
      "Name: inter_road_codes, Length: 2694, dtype: int64\n",
      "\n",
      "-*-*-*-*-*-*-*-*-*-*-*-*-*-*-*-*-*-*-*-*\n",
      "\n"
     ]
    }
   ],
   "source": [
    "Make_Category('inter_road')"
   ]
  },
  {
   "cell_type": "markdown",
   "id": "prescription-valuable",
   "metadata": {},
   "source": [
    "### dr_age_1, dr_age_2"
   ]
  },
  {
   "cell_type": "code",
   "execution_count": 116,
   "id": "collaborative-sensitivity",
   "metadata": {},
   "outputs": [
    {
     "name": "stdout",
     "output_type": "stream",
     "text": [
      "Analysis of field  dr_age_1\n",
      "102 \t Number of unique values in  dr_age_1\n",
      "1 \t Number of null values in  dr_age_1\n",
      "\n",
      "\t Value Counts\n",
      "200.0    18487\n",
      "19.0      4814\n",
      "18.0      4784\n",
      "20.0      4515\n",
      "21.0      4383\n",
      "         ...  \n",
      "5.0          2\n",
      "107.0        1\n",
      "98.0         1\n",
      "119.0        1\n",
      "4.0          1\n",
      "Name: dr_age_1, Length: 101, dtype: int64\n",
      "\n",
      "-*-*-*-*-*-*-*-*-*-*-*-*-*-*-*-*-*-*-*-*\n",
      "\n",
      "Analysis of field  dr_age_2\n",
      "98 \t Number of unique values in  dr_age_2\n",
      "25665 \t Number of null values in  dr_age_2\n",
      "\n",
      "\t Value Counts\n",
      "200.0    7433\n",
      "25.0     3011\n",
      "28.0     3005\n",
      "26.0     2964\n",
      "34.0     2962\n",
      "         ... \n",
      "5.0         1\n",
      "119.0       1\n",
      "96.0        1\n",
      "2.0         1\n",
      "8.0         1\n",
      "Name: dr_age_2, Length: 97, dtype: int64\n",
      "\n",
      "\t Truncated list of unique values in  dr_age_2 : \n",
      "[2.0, 3.0, 5.0, 6.0, 7.0, 8.0, 9.0, 10.0, 11.0, 12.0, 13.0, 14.0, 15.0, 16.0, 17.0, 18.0, 19.0, 20.0, 21.0, 22.0, 23.0, 24.0, 25.0, 26.0, 27.0, 28.0, 29.0, 30.0, 31.0, 32.0, 33.0, 34.0, 35.0, 36.0, 37.0, 38.0, 39.0, 42.0, 43.0, 44.0, 45.0, 46.0, 49.0, 51.0, 54.0, 55.0, 57.0, 58.0, 62.0, nan, 40.0, 41.0, 47.0, 48.0, 50.0, 52.0, 53.0, 56.0, 59.0, 60.0, 61.0, 63.0, 64.0, 65.0, 66.0, 67.0, 68.0, 69.0, 70.0, 71.0, 72.0, 73.0, 74.0, 75.0, 76.0, 77.0, 78.0, 79.0, 80.0, 81.0, 82.0, 83.0, 84.0, 85.0, 86.0, 87.0, 88.0, 89.0, 90.0, 91.0, 92.0, 93.0, 94.0, 95.0, 96.0, 97.0, 119.0, 200.0]\n",
      "-*-*-*-*-*-*-*-*-*-*-*-*-*-*-*-*-*-*-*-*\n",
      "\n"
     ]
    }
   ],
   "source": [
    "for x in ['dr_age_1','dr_age_2']:\n",
    "    Analysis(x)"
   ]
  },
  {
   "cell_type": "markdown",
   "id": "charged-nurse",
   "metadata": {},
   "source": [
    "This mess below takes out the zeroes, runs qcut, then puts the zeroes back as a category.  The trick is that cut and qcut ignore NaN."
   ]
  },
  {
   "cell_type": "code",
   "execution_count": 117,
   "id": "domestic-projector",
   "metadata": {},
   "outputs": [
    {
     "name": "stdout",
     "output_type": "stream",
     "text": [
      "Analysis of field  dr_age_1\n",
      "99 \t Number of unique values in  dr_age_1\n",
      "0 \t Number of null values in  dr_age_1\n",
      "\n",
      "\t Value Counts\n",
      "0     18490\n",
      "19     4814\n",
      "18     4784\n",
      "20     4515\n",
      "21     4383\n",
      "      ...  \n",
      "5         2\n",
      "3         2\n",
      "99        2\n",
      "4         1\n",
      "98        1\n",
      "Name: dr_age_1, Length: 99, dtype: int64\n",
      "\n",
      "\t Truncated list of unique values in  dr_age_1 : \n",
      "[ 0 20 34 27 41 40 35 26 25 33 65 18 52 29 22 28 93 23 77 32 53 76 62 56\n",
      " 19 36 31 51 48 71 66 37 21 39 24 30 17 44 74 47 60 64 72 58 43 67 50 61\n",
      " 42 63 68 59 45 38 49 16 55 75 70 46 69 73 86 79 57 54 80 83 81 78 88 15\n",
      " 84 82 87 89 85 90 91 94 95  6 92 12  2 13  3 14  9  5 11 96 10 97  7 98\n",
      "  8  4 99]\n",
      "-*-*-*-*-*-*-*-*-*-*-*-*-*-*-*-*-*-*-*-*\n",
      "\n",
      "Analysis of field  dr_age_1_bin\n",
      "6 \t Number of unique values in  dr_age_1_bin\n",
      "0 \t Number of null values in  dr_age_1_bin\n",
      "\n",
      "\t Value Counts\n",
      "(22.0, 30.0]     29092\n",
      "(1.999, 22.0]    28982\n",
      "(40.0, 56.0]     28270\n",
      "(30.0, 40.0]     27890\n",
      "(56.0, 99.0]     27462\n",
      "0                18490\n",
      "Name: dr_age_1_bin, dtype: int64\n",
      "\n",
      "\t Truncated list of unique values in  dr_age_1_bin : \n",
      "[0, (1.999, 22.0], (30.0, 40.0], (22.0, 30.0], (40.0, 56.0], (56.0, 99.0]]\n",
      "Categories (6, object): [(1.999, 22.0] < (22.0, 30.0] < (30.0, 40.0] < (40.0, 56.0] < (56.0, 99.0] < 0]\n",
      "-*-*-*-*-*-*-*-*-*-*-*-*-*-*-*-*-*-*-*-*\n",
      "\n",
      "Analysis of field  dr_age_1_bin_codes\n",
      "6 \t Number of unique values in  dr_age_1_bin_codes\n",
      "0 \t Number of null values in  dr_age_1_bin_codes\n",
      "\n",
      "\t Value Counts\n",
      "1    29092\n",
      "0    28982\n",
      "3    28270\n",
      "2    27890\n",
      "4    27462\n",
      "5    18490\n",
      "Name: dr_age_1_bin_codes, dtype: int64\n",
      "\n",
      "\t Truncated list of unique values in  dr_age_1_bin_codes : \n",
      "[0, 1, 2, 3, 4, 5]\n",
      "-*-*-*-*-*-*-*-*-*-*-*-*-*-*-*-*-*-*-*-*\n",
      "\n",
      "Analysis of field  dr_age_2\n",
      "96 \t Number of unique values in  dr_age_2\n",
      "0 \t Number of null values in  dr_age_2\n",
      "\n",
      "\t Value Counts\n",
      "0     33099\n",
      "25     3011\n",
      "28     3005\n",
      "26     2964\n",
      "34     2962\n",
      "      ...  \n",
      "10        1\n",
      "8         1\n",
      "2         1\n",
      "96        1\n",
      "5         1\n",
      "Name: dr_age_2, Length: 96, dtype: int64\n",
      "\n",
      "\t Truncated list of unique values in  dr_age_2 : \n",
      "[28 62 27  0 35 24 60 81 37 36 30 41 40 31 47 43 53 33 52 57 25 63 18 21\n",
      " 32 39 50 22 61 17 71 48 59 49 20 23 56 66 67 64 16 84 54 38 46 34 19 26\n",
      " 45 55 68 29 58 44 80 75 69 51 70 73 65 72 79 42 74 76 78 77 83 82 89 12\n",
      " 92 15 87 93 86 88 85 95 90 91  7 14 13 94  5  6 97  9 96 11 10  3  8  2]\n",
      "-*-*-*-*-*-*-*-*-*-*-*-*-*-*-*-*-*-*-*-*\n",
      "\n",
      "Analysis of field  dr_age_2_bin\n",
      "6 \t Number of unique values in  dr_age_2_bin\n",
      "0 \t Number of null values in  dr_age_2_bin\n",
      "\n",
      "\t Value Counts\n",
      "0                33099\n",
      "(1.999, 26.0]    27664\n",
      "(34.0, 45.0]     27379\n",
      "(57.0, 97.0]     24573\n",
      "(45.0, 57.0]     24222\n",
      "(26.0, 34.0]     23249\n",
      "Name: dr_age_2_bin, dtype: int64\n",
      "\n",
      "\t Truncated list of unique values in  dr_age_2_bin : \n",
      "[(26.0, 34.0], (57.0, 97.0], 0, (34.0, 45.0], (1.999, 26.0], (45.0, 57.0]]\n",
      "Categories (6, object): [(1.999, 26.0] < (26.0, 34.0] < (34.0, 45.0] < (45.0, 57.0] < (57.0, 97.0] < 0]\n",
      "-*-*-*-*-*-*-*-*-*-*-*-*-*-*-*-*-*-*-*-*\n",
      "\n",
      "Analysis of field  dr_age_2_bin_codes\n",
      "6 \t Number of unique values in  dr_age_2_bin_codes\n",
      "0 \t Number of null values in  dr_age_2_bin_codes\n",
      "\n",
      "\t Value Counts\n",
      "5    33099\n",
      "0    27664\n",
      "2    27379\n",
      "4    24573\n",
      "3    24222\n",
      "1    23249\n",
      "Name: dr_age_2_bin_codes, dtype: int64\n",
      "\n",
      "\t Truncated list of unique values in  dr_age_2_bin_codes : \n",
      "[0, 1, 2, 3, 4, 5]\n",
      "-*-*-*-*-*-*-*-*-*-*-*-*-*-*-*-*-*-*-*-*\n",
      "\n"
     ]
    }
   ],
   "source": [
    "for x in ['dr_age_1','dr_age_2']:\n",
    "    data[x].fillna(0, inplace=True)\n",
    "    data[x] = data[x].astype(int)\n",
    "    data.loc[(data[x]>100), x] = 0\n",
    "    Analysis(x)\n",
    "    xbin = x + '_bin'\n",
    "    data[xbin] = data[x].replace(0,np.nan)    \n",
    "    data[xbin] = pd.qcut(data[xbin], 5, duplicates='drop').cat.add_categories(0)\n",
    "    data[xbin].fillna(0, inplace=True)\n",
    "    Analysis(xbin)\n",
    "    Make_Category(xbin)"
   ]
  },
  {
   "cell_type": "markdown",
   "id": "selected-afternoon",
   "metadata": {},
   "source": [
    "### dr_sex_1, dr_sex_2"
   ]
  },
  {
   "cell_type": "code",
   "execution_count": 118,
   "id": "hairy-memory",
   "metadata": {},
   "outputs": [
    {
     "name": "stdout",
     "output_type": "stream",
     "text": [
      "Analysis of field  dr_sex_1\n",
      "4 \t Number of unique values in  dr_sex_1\n",
      "1 \t Number of null values in  dr_sex_1\n",
      "\n",
      "\t Value Counts\n",
      "M    82547\n",
      "F    61549\n",
      "     16089\n",
      "Name: dr_sex_1, dtype: int64\n",
      "\n",
      "\t Truncated list of unique values in  dr_sex_1 : \n",
      "['M' ' ' 'F' nan]\n",
      "-*-*-*-*-*-*-*-*-*-*-*-*-*-*-*-*-*-*-*-*\n",
      "\n",
      "*=*=*=*=*=*=*=*=*=*=*=*=*=*=*=*=*=*=*=*=*=*=*=*=*=*=*=*=*=*=\n",
      "Analysis of field  dr_sex_1\n",
      "3 \t Number of unique values in  dr_sex_1\n",
      "0 \t Number of null values in  dr_sex_1\n",
      "\n",
      "\t Value Counts\n",
      "M    82547\n",
      "F    61549\n",
      "U    16090\n",
      "Name: dr_sex_1, dtype: int64\n",
      "\n",
      "\t Truncated list of unique values in  dr_sex_1 : \n",
      "['M' 'U' 'F']\n",
      "-*-*-*-*-*-*-*-*-*-*-*-*-*-*-*-*-*-*-*-*\n",
      "\n",
      "*=*=*=*=*=*=*=*=*=*=*=*=*=*=*=*=*=*=*=*=*=*=*=*=*=*=*=*=*=*=\n",
      "Analysis of field  dr_sex_1_codes\n",
      "3 \t Number of unique values in  dr_sex_1_codes\n",
      "0 \t Number of null values in  dr_sex_1_codes\n",
      "\n",
      "\t Value Counts\n",
      "1    82547\n",
      "0    61549\n",
      "2    16090\n",
      "Name: dr_sex_1_codes, dtype: int64\n",
      "\n",
      "\t Truncated list of unique values in  dr_sex_1_codes : \n",
      "[0, 1, 2]\n",
      "-*-*-*-*-*-*-*-*-*-*-*-*-*-*-*-*-*-*-*-*\n",
      "\n",
      "*=*=*=*=*=*=*=*=*=*=*=*=*=*=*=*=*=*=*=*=*=*=*=*=*=*=*=*=*=*=\n",
      "Analysis of field  dr_sex_2\n",
      "4 \t Number of unique values in  dr_sex_2\n",
      "25665 \t Number of null values in  dr_sex_2\n",
      "\n",
      "\t Value Counts\n",
      "F    64234\n",
      "M    62435\n",
      "      7852\n",
      "Name: dr_sex_2, dtype: int64\n",
      "\n",
      "\t Truncated list of unique values in  dr_sex_2 : \n",
      "['M' 'F' nan ' ']\n",
      "-*-*-*-*-*-*-*-*-*-*-*-*-*-*-*-*-*-*-*-*\n",
      "\n",
      "*=*=*=*=*=*=*=*=*=*=*=*=*=*=*=*=*=*=*=*=*=*=*=*=*=*=*=*=*=*=\n",
      "Analysis of field  dr_sex_2\n",
      "3 \t Number of unique values in  dr_sex_2\n",
      "0 \t Number of null values in  dr_sex_2\n",
      "\n",
      "\t Value Counts\n",
      "F    64234\n",
      "M    62435\n",
      "U    33517\n",
      "Name: dr_sex_2, dtype: int64\n",
      "\n",
      "\t Truncated list of unique values in  dr_sex_2 : \n",
      "['M' 'F' 'U']\n",
      "-*-*-*-*-*-*-*-*-*-*-*-*-*-*-*-*-*-*-*-*\n",
      "\n",
      "*=*=*=*=*=*=*=*=*=*=*=*=*=*=*=*=*=*=*=*=*=*=*=*=*=*=*=*=*=*=\n",
      "Analysis of field  dr_sex_2_codes\n",
      "3 \t Number of unique values in  dr_sex_2_codes\n",
      "0 \t Number of null values in  dr_sex_2_codes\n",
      "\n",
      "\t Value Counts\n",
      "0    64234\n",
      "1    62435\n",
      "2    33517\n",
      "Name: dr_sex_2_codes, dtype: int64\n",
      "\n",
      "\t Truncated list of unique values in  dr_sex_2_codes : \n",
      "[0, 1, 2]\n",
      "-*-*-*-*-*-*-*-*-*-*-*-*-*-*-*-*-*-*-*-*\n",
      "\n",
      "*=*=*=*=*=*=*=*=*=*=*=*=*=*=*=*=*=*=*=*=*=*=*=*=*=*=*=*=*=*=\n"
     ]
    }
   ],
   "source": [
    "for x in ['dr_sex_1','dr_sex_2']:\n",
    "    Analysis(x)\n",
    "    print ('*='*30)\n",
    "    data[x].fillna('U', inplace=True)\n",
    "    data[x].replace(' ', 'U', inplace=True)\n",
    "    Analysis(x)\n",
    "    print ('*='*30)\n",
    "    Make_Category(x)\n",
    "    print ('*='*30)"
   ]
  },
  {
   "attachments": {},
   "cell_type": "markdown",
   "id": "representative-phone",
   "metadata": {},
   "source": [
    "### pri_contrib_fac_cd and sec_contrib_fac_cd\n",
    "\n",
    "| Code | Meaning |\n",
    "|---|---|\n",
    "| A | VIOLATIONS |\n",
    "| B | MOVEMENT PRIOR TO CRASH |\n",
    "| C | VISION OBSCUREMENTS |\n",
    "| D | CONDITION OF DRIVER |\n",
    "| E | VEHICLE CONDITIONS |\n",
    "| F | ROAD SURFACE |\n",
    "| G | ROADWAY CONDITION |\n",
    "| H | LIGHTING |\n",
    "| I | WEATHER |\n",
    "| J | TRAFFIC CONTROL |\n",
    "| K | KIND OF LOCATION |\n",
    "| L | CONDITION OF PEDESTRIAN |\n",
    "| M | PEDESTRIAN ACTIONS |"
   ]
  },
  {
   "cell_type": "code",
   "execution_count": 119,
   "id": "great-constant",
   "metadata": {},
   "outputs": [
    {
     "name": "stdout",
     "output_type": "stream",
     "text": [
      "Analysis of field  pri_contrib_fac_cd\n",
      "15 \t Number of unique values in  pri_contrib_fac_cd\n",
      "0 \t Number of null values in  pri_contrib_fac_cd\n",
      "\n",
      "\t Value Counts\n",
      "A    123937\n",
      "B     22839\n",
      "D      6273\n",
      "G      2460\n",
      "E      1486\n",
      "C       640\n",
      "I       543\n",
      "F       521\n",
      "K       458\n",
      "M       433\n",
      "H       212\n",
      "        158\n",
      "J       152\n",
      "L        69\n",
      "1         5\n",
      "Name: pri_contrib_fac_cd, dtype: int64\n",
      "\n",
      "\t Truncated list of unique values in  pri_contrib_fac_cd : \n",
      "['A' 'G' 'B' ' ' 'D' 'J' 'E' 'K' 'M' 'I' 'H' 'F' 'C' 'L' '1']\n",
      "-*-*-*-*-*-*-*-*-*-*-*-*-*-*-*-*-*-*-*-*\n",
      "\n",
      "Analysis of field  sec_contrib_fac_cd\n",
      "15 \t Number of unique values in  sec_contrib_fac_cd\n",
      "0 \t Number of null values in  sec_contrib_fac_cd\n",
      "\n",
      "\t Value Counts\n",
      "B    105427\n",
      "      23758\n",
      "A     19045\n",
      "D      5390\n",
      "K      1065\n",
      "C      1061\n",
      "I       964\n",
      "G       925\n",
      "E       744\n",
      "F       743\n",
      "H       551\n",
      "J       234\n",
      "M       215\n",
      "L        63\n",
      "1         1\n",
      "Name: sec_contrib_fac_cd, dtype: int64\n",
      "\n",
      "\t Truncated list of unique values in  sec_contrib_fac_cd : \n",
      "['B' 'F' ' ' 'I' 'J' 'A' 'D' 'G' 'H' 'K' 'E' 'M' 'L' 'C' '1']\n",
      "-*-*-*-*-*-*-*-*-*-*-*-*-*-*-*-*-*-*-*-*\n",
      "\n"
     ]
    }
   ],
   "source": [
    "for x in ['pri_contrib_fac_cd', 'sec_contrib_fac_cd']:\n",
    "    Analysis(x)"
   ]
  },
  {
   "cell_type": "markdown",
   "id": "found-coast",
   "metadata": {},
   "source": [
    "Let's merge the 158 blanks and 5 \"1\"'s into a \"U\" category.  "
   ]
  },
  {
   "cell_type": "code",
   "execution_count": 120,
   "id": "obvious-resident",
   "metadata": {},
   "outputs": [
    {
     "name": "stdout",
     "output_type": "stream",
     "text": [
      "Analysis of field  pri_contrib_fac_cd\n",
      "14 \t Number of unique values in  pri_contrib_fac_cd\n",
      "0 \t Number of null values in  pri_contrib_fac_cd\n",
      "\n",
      "\t Value Counts\n",
      "A          123937\n",
      "B           22839\n",
      "D            6273\n",
      "G            2460\n",
      "E            1486\n",
      "C             640\n",
      "I             543\n",
      "F             521\n",
      "K             458\n",
      "M             433\n",
      "H             212\n",
      "Unknown       163\n",
      "J             152\n",
      "L              69\n",
      "Name: pri_contrib_fac_cd, dtype: int64\n",
      "\n",
      "\t Truncated list of unique values in  pri_contrib_fac_cd : \n",
      "['A' 'G' 'B' 'Unknown' 'D' 'J' 'E' 'K' 'M' 'I' 'H' 'F' 'C' 'L']\n",
      "-*-*-*-*-*-*-*-*-*-*-*-*-*-*-*-*-*-*-*-*\n",
      "\n",
      "Analysis of field  sec_contrib_fac_cd\n",
      "14 \t Number of unique values in  sec_contrib_fac_cd\n",
      "0 \t Number of null values in  sec_contrib_fac_cd\n",
      "\n",
      "\t Value Counts\n",
      "B          105427\n",
      "Unknown     23759\n",
      "A           19045\n",
      "D            5390\n",
      "K            1065\n",
      "C            1061\n",
      "I             964\n",
      "G             925\n",
      "E             744\n",
      "F             743\n",
      "H             551\n",
      "J             234\n",
      "M             215\n",
      "L              63\n",
      "Name: sec_contrib_fac_cd, dtype: int64\n",
      "\n",
      "\t Truncated list of unique values in  sec_contrib_fac_cd : \n",
      "['B' 'F' 'Unknown' 'I' 'J' 'A' 'D' 'G' 'H' 'K' 'E' 'M' 'L' 'C']\n",
      "-*-*-*-*-*-*-*-*-*-*-*-*-*-*-*-*-*-*-*-*\n",
      "\n"
     ]
    }
   ],
   "source": [
    "for x in ['pri_contrib_fac_cd', 'sec_contrib_fac_cd']:\n",
    "    data[x].replace([' ', '1'],'Unknown', inplace=True)\n",
    "    Analysis (x)"
   ]
  },
  {
   "cell_type": "code",
   "execution_count": 121,
   "id": "sharing-merchant",
   "metadata": {
    "scrolled": true
   },
   "outputs": [
    {
     "name": "stdout",
     "output_type": "stream",
     "text": [
      "Analysis of field  pri_contrib_fac_cd_codes\n",
      "14 \t Number of unique values in  pri_contrib_fac_cd_codes\n",
      "0 \t Number of null values in  pri_contrib_fac_cd_codes\n",
      "\n",
      "\t Value Counts\n",
      "0     123937\n",
      "1      22839\n",
      "3       6273\n",
      "6       2460\n",
      "4       1486\n",
      "2        640\n",
      "8        543\n",
      "5        521\n",
      "10       458\n",
      "12       433\n",
      "7        212\n",
      "13       163\n",
      "9        152\n",
      "11        69\n",
      "Name: pri_contrib_fac_cd_codes, dtype: int64\n",
      "\n",
      "\t Truncated list of unique values in  pri_contrib_fac_cd_codes : \n",
      "[0, 1, 2, 3, 4, 5, 6, 7, 8, 9, 10, 11, 12, 13]\n",
      "-*-*-*-*-*-*-*-*-*-*-*-*-*-*-*-*-*-*-*-*\n",
      "\n",
      "Analysis of field  sec_contrib_fac_cd_codes\n",
      "14 \t Number of unique values in  sec_contrib_fac_cd_codes\n",
      "0 \t Number of null values in  sec_contrib_fac_cd_codes\n",
      "\n",
      "\t Value Counts\n",
      "1     105427\n",
      "13     23759\n",
      "0      19045\n",
      "3       5390\n",
      "10      1065\n",
      "2       1061\n",
      "8        964\n",
      "6        925\n",
      "4        744\n",
      "5        743\n",
      "7        551\n",
      "9        234\n",
      "12       215\n",
      "11        63\n",
      "Name: sec_contrib_fac_cd_codes, dtype: int64\n",
      "\n",
      "\t Truncated list of unique values in  sec_contrib_fac_cd_codes : \n",
      "[0, 1, 2, 3, 4, 5, 6, 7, 8, 9, 10, 11, 12, 13]\n",
      "-*-*-*-*-*-*-*-*-*-*-*-*-*-*-*-*-*-*-*-*\n",
      "\n"
     ]
    }
   ],
   "source": [
    "for x in ['pri_contrib_fac_cd', 'sec_contrib_fac_cd']:\n",
    "    Make_Category(x)"
   ]
  },
  {
   "attachments": {},
   "cell_type": "markdown",
   "id": "honey-haiti",
   "metadata": {},
   "source": [
    "### vision_obscure_1, vision_obscure_2\n",
    "\n",
    "| Code | Meaning |\n",
    "|---|---|\n",
    "| A | RAIN, SNOW, ETC. ON WINDSHIELD |\n",
    "| B | WINDSHIELD OTHERWISE OBSCURED |\n",
    "| C | VISION OBSCURED BY LOAD |\n",
    "| D | TREES, BUSHES, ETC. |\n",
    "| E | BUILDING |\n",
    "| F | EMBANKMENT |\n",
    "| G | SIGN BOARDS |\n",
    "| H | HILLCREST |\n",
    "| I | PARKED VEHICLES |\n",
    "| J | MOVING VEHICLES |\n",
    "| K | BLINDED BY HEADLIGHTS |\n",
    "| L | BLINDED BY SUNGLARE |\n",
    "| M | DISTRACTED BY NEON LIGHTS IN FIELD OF VIEW |\n",
    "| N | NO OBSCUREMENTS |\n",
    "| Y | UNKNOWN |\n",
    "| Z | OTHER |"
   ]
  },
  {
   "cell_type": "code",
   "execution_count": 122,
   "id": "forced-international",
   "metadata": {},
   "outputs": [
    {
     "name": "stdout",
     "output_type": "stream",
     "text": [
      "Analysis of field  vision_obscure_1\n",
      "18 \t Number of unique values in  vision_obscure_1\n",
      "1 \t Number of null values in  vision_obscure_1\n",
      "\n",
      "\t Value Counts\n",
      "N    125535\n",
      "Y     24280\n",
      "A      3130\n",
      "J      2324\n",
      "Z      1890\n",
      "L       814\n",
      "I       706\n",
      "        404\n",
      "D       330\n",
      "B       173\n",
      "K       161\n",
      "C       154\n",
      "H       124\n",
      "M        62\n",
      "E        46\n",
      "G        33\n",
      "F        19\n",
      "Name: vision_obscure_1, dtype: int64\n",
      "\n",
      "\t Truncated list of unique values in  vision_obscure_1 : \n",
      "['Y' 'N' 'J' ' ' 'Z' 'A' 'I' 'B' 'D' 'C' 'L' 'K' 'F' 'H' 'M' 'E' 'G' nan]\n",
      "-*-*-*-*-*-*-*-*-*-*-*-*-*-*-*-*-*-*-*-*\n",
      "\n",
      "Analysis of field  vision_obscure_2\n",
      "18 \t Number of unique values in  vision_obscure_2\n",
      "25665 \t Number of null values in  vision_obscure_2\n",
      "\n",
      "\t Value Counts\n",
      "N    124416\n",
      "Y      2844\n",
      "       2739\n",
      "Z      1824\n",
      "A      1741\n",
      "J       443\n",
      "I       203\n",
      "L        55\n",
      "M        50\n",
      "B        45\n",
      "K        41\n",
      "D        39\n",
      "H        37\n",
      "C        22\n",
      "E        11\n",
      "G         6\n",
      "F         5\n",
      "Name: vision_obscure_2, dtype: int64\n",
      "\n",
      "\t Truncated list of unique values in  vision_obscure_2 : \n",
      "['N' nan ' ' 'Z' 'Y' 'A' 'I' 'G' 'J' 'L' 'K' 'M' 'B' 'E' 'H' 'C' 'D' 'F']\n",
      "-*-*-*-*-*-*-*-*-*-*-*-*-*-*-*-*-*-*-*-*\n",
      "\n"
     ]
    }
   ],
   "source": [
    "for x in ['vision_obscure_1', 'vision_obscure_2']:\n",
    "    Analysis (x)"
   ]
  },
  {
   "cell_type": "markdown",
   "id": "extra-saturn",
   "metadata": {},
   "source": [
    "Let's put the blanks, the nan, the \"Unknown\", and the \"Other\" together.  "
   ]
  },
  {
   "cell_type": "code",
   "execution_count": 123,
   "id": "after-harmony",
   "metadata": {},
   "outputs": [
    {
     "name": "stdout",
     "output_type": "stream",
     "text": [
      "Analysis of field  vision_obscure_1\n",
      "15 \t Number of unique values in  vision_obscure_1\n",
      "0 \t Number of null values in  vision_obscure_1\n",
      "\n",
      "\t Value Counts\n",
      "N    125535\n",
      "Y     26575\n",
      "A      3130\n",
      "J      2324\n",
      "L       814\n",
      "I       706\n",
      "D       330\n",
      "B       173\n",
      "K       161\n",
      "C       154\n",
      "H       124\n",
      "M        62\n",
      "E        46\n",
      "G        33\n",
      "F        19\n",
      "Name: vision_obscure_1, dtype: int64\n",
      "\n",
      "\t Truncated list of unique values in  vision_obscure_1 : \n",
      "['Y' 'N' 'J' 'A' 'I' 'B' 'D' 'C' 'L' 'K' 'F' 'H' 'M' 'E' 'G']\n",
      "-*-*-*-*-*-*-*-*-*-*-*-*-*-*-*-*-*-*-*-*\n",
      "\n",
      "Analysis of field  vision_obscure_1_codes\n",
      "15 \t Number of unique values in  vision_obscure_1_codes\n",
      "0 \t Number of null values in  vision_obscure_1_codes\n",
      "\n",
      "\t Value Counts\n",
      "13    125535\n",
      "14     26575\n",
      "0       3130\n",
      "9       2324\n",
      "11       814\n",
      "8        706\n",
      "3        330\n",
      "1        173\n",
      "10       161\n",
      "2        154\n",
      "7        124\n",
      "12        62\n",
      "4         46\n",
      "6         33\n",
      "5         19\n",
      "Name: vision_obscure_1_codes, dtype: int64\n",
      "\n",
      "\t Truncated list of unique values in  vision_obscure_1_codes : \n",
      "[0, 1, 2, 3, 4, 5, 6, 7, 8, 9, 10, 11, 12, 13, 14]\n",
      "-*-*-*-*-*-*-*-*-*-*-*-*-*-*-*-*-*-*-*-*\n",
      "\n",
      "Analysis of field  vision_obscure_2\n",
      "15 \t Number of unique values in  vision_obscure_2\n",
      "0 \t Number of null values in  vision_obscure_2\n",
      "\n",
      "\t Value Counts\n",
      "N    124416\n",
      "Y     33072\n",
      "A      1741\n",
      "J       443\n",
      "I       203\n",
      "L        55\n",
      "M        50\n",
      "B        45\n",
      "K        41\n",
      "D        39\n",
      "H        37\n",
      "C        22\n",
      "E        11\n",
      "G         6\n",
      "F         5\n",
      "Name: vision_obscure_2, dtype: int64\n",
      "\n",
      "\t Truncated list of unique values in  vision_obscure_2 : \n",
      "['N' 'Y' 'A' 'I' 'G' 'J' 'L' 'K' 'M' 'B' 'E' 'H' 'C' 'D' 'F']\n",
      "-*-*-*-*-*-*-*-*-*-*-*-*-*-*-*-*-*-*-*-*\n",
      "\n",
      "Analysis of field  vision_obscure_2_codes\n",
      "15 \t Number of unique values in  vision_obscure_2_codes\n",
      "0 \t Number of null values in  vision_obscure_2_codes\n",
      "\n",
      "\t Value Counts\n",
      "13    124416\n",
      "14     33072\n",
      "0       1741\n",
      "9        443\n",
      "8        203\n",
      "11        55\n",
      "12        50\n",
      "1         45\n",
      "10        41\n",
      "3         39\n",
      "7         37\n",
      "2         22\n",
      "4         11\n",
      "6          6\n",
      "5          5\n",
      "Name: vision_obscure_2_codes, dtype: int64\n",
      "\n",
      "\t Truncated list of unique values in  vision_obscure_2_codes : \n",
      "[0, 1, 2, 3, 4, 5, 6, 7, 8, 9, 10, 11, 12, 13, 14]\n",
      "-*-*-*-*-*-*-*-*-*-*-*-*-*-*-*-*-*-*-*-*\n",
      "\n"
     ]
    }
   ],
   "source": [
    "for x in ['vision_obscure_1', 'vision_obscure_2']:\n",
    "    data[x].fillna('Y', inplace=True)\n",
    "    data[x].replace([' ', 'Z'],'Y', inplace=True)\n",
    "    Analysis (x)\n",
    "    Make_Category(x)"
   ]
  },
  {
   "attachments": {},
   "cell_type": "markdown",
   "id": "threatened-assault",
   "metadata": {},
   "source": [
    "### movement_reason_1 and movement_reason_2\n",
    "\n",
    "| Code | Meaning |\n",
    "|---|---|\n",
    "| A | TO AVOID OTHER VEHICLE |\n",
    "| B | TO AVOID PEDESTRIAN |\n",
    "| C | TO AVOID ANIMAL |\n",
    "| D | TO AVOID OTHER OBJECT |\n",
    "| E | PASSING |\n",
    "| F | VEHICLE OUT OF CONTROL, NOT PASSING |\n",
    "| G | VEHICLE OUT OF CONTROL, PASSING |\n",
    "| H | FOR TRAFFIC CONTROL |\n",
    "| I | DUE TO CONGESTION |\n",
    "| J | DUE TO PRIOR CRASH (COLLISION) |\n",
    "| K | DUE TO DRIVER CONDITION |\n",
    "| L | DUE TO DRIVER VIOLATION |\n",
    "| M | DUE TO VEHICLE CONDITION (FAILURE) |\n",
    "| N | DUE TO PAVEMENT CONDITION |\n",
    "| O | HIGH WIND |\n",
    "| P | NORMAL MOVEMENT |\n",
    "| Y | UNKNOWN |\n",
    "| Z | OTHER |"
   ]
  },
  {
   "cell_type": "markdown",
   "id": "different-dimension",
   "metadata": {},
   "source": [
    "As usual, merge the nulls, blanks, 'unknown', and 'other.'"
   ]
  },
  {
   "cell_type": "code",
   "execution_count": 124,
   "id": "inclusive-swing",
   "metadata": {},
   "outputs": [
    {
     "name": "stdout",
     "output_type": "stream",
     "text": [
      "Analysis of field  movement_reason_1\n",
      "17 \t Number of unique values in  movement_reason_1\n",
      "0 \t Number of null values in  movement_reason_1\n",
      "\n",
      "\t Value Counts\n",
      "L    92770\n",
      "P    25452\n",
      "Y    22081\n",
      "K     9478\n",
      "A     2701\n",
      "M     1580\n",
      "C     1266\n",
      "I     1044\n",
      "F     1036\n",
      "H      752\n",
      "E      564\n",
      "N      525\n",
      "J      334\n",
      "D      282\n",
      "B      159\n",
      "G      121\n",
      "O       41\n",
      "Name: movement_reason_1, dtype: int64\n",
      "\n",
      "\t Truncated list of unique values in  movement_reason_1 : \n",
      "['Y' 'P' 'L' 'F' 'K' 'C' 'M' 'A' 'N' 'O' 'D' 'H' 'B' 'E' 'G' 'I' 'J']\n",
      "-*-*-*-*-*-*-*-*-*-*-*-*-*-*-*-*-*-*-*-*\n",
      "\n",
      "Analysis of field  movement_reason_1_codes\n",
      "17 \t Number of unique values in  movement_reason_1_codes\n",
      "0 \t Number of null values in  movement_reason_1_codes\n",
      "\n",
      "\t Value Counts\n",
      "11    92770\n",
      "15    25452\n",
      "16    22081\n",
      "10     9478\n",
      "0      2701\n",
      "12     1580\n",
      "2      1266\n",
      "8      1044\n",
      "5      1036\n",
      "7       752\n",
      "4       564\n",
      "13      525\n",
      "9       334\n",
      "3       282\n",
      "1       159\n",
      "6       121\n",
      "14       41\n",
      "Name: movement_reason_1_codes, dtype: int64\n",
      "\n",
      "\t Truncated list of unique values in  movement_reason_1_codes : \n",
      "[0, 1, 2, 3, 4, 5, 6, 7, 8, 9, 10, 11, 12, 13, 14, 15, 16]\n",
      "-*-*-*-*-*-*-*-*-*-*-*-*-*-*-*-*-*-*-*-*\n",
      "\n",
      "Analysis of field  movement_reason_2\n",
      "17 \t Number of unique values in  movement_reason_2\n",
      "0 \t Number of null values in  movement_reason_2\n",
      "\n",
      "\t Value Counts\n",
      "P    97720\n",
      "Y    36909\n",
      "I    10759\n",
      "H     6405\n",
      "A     3329\n",
      "L     3182\n",
      "J      647\n",
      "E      296\n",
      "K      276\n",
      "M      192\n",
      "D      174\n",
      "N       81\n",
      "B       78\n",
      "C       60\n",
      "O       36\n",
      "F       27\n",
      "G       15\n",
      "Name: movement_reason_2, dtype: int64\n",
      "\n",
      "\t Truncated list of unique values in  movement_reason_2 : \n",
      "['P' 'Y' 'L' 'A' 'H' 'M' 'I' 'J' 'N' 'B' 'E' 'K' 'D' 'C' 'F' 'O' 'G']\n",
      "-*-*-*-*-*-*-*-*-*-*-*-*-*-*-*-*-*-*-*-*\n",
      "\n",
      "Analysis of field  movement_reason_2_codes\n",
      "17 \t Number of unique values in  movement_reason_2_codes\n",
      "0 \t Number of null values in  movement_reason_2_codes\n",
      "\n",
      "\t Value Counts\n",
      "15    97720\n",
      "16    36909\n",
      "8     10759\n",
      "7      6405\n",
      "0      3329\n",
      "11     3182\n",
      "9       647\n",
      "4       296\n",
      "10      276\n",
      "12      192\n",
      "3       174\n",
      "13       81\n",
      "1        78\n",
      "2        60\n",
      "14       36\n",
      "5        27\n",
      "6        15\n",
      "Name: movement_reason_2_codes, dtype: int64\n",
      "\n",
      "\t Truncated list of unique values in  movement_reason_2_codes : \n",
      "[0, 1, 2, 3, 4, 5, 6, 7, 8, 9, 10, 11, 12, 13, 14, 15, 16]\n",
      "-*-*-*-*-*-*-*-*-*-*-*-*-*-*-*-*-*-*-*-*\n",
      "\n"
     ]
    }
   ],
   "source": [
    "for x in ['movement_reason_1', 'movement_reason_2']:\n",
    "    data[x].fillna('Y', inplace=True)\n",
    "    data[x].replace([' ', 'Z'], 'Y', inplace=True)\n",
    "    Analysis (x)\n",
    "    Make_Category(x)"
   ]
  },
  {
   "attachments": {},
   "cell_type": "markdown",
   "id": "lovely-madonna",
   "metadata": {},
   "source": [
    "### ped_actions_1, ped_actions_2\n",
    "\n",
    "| Code | Meaning |\n",
    "|---|---|\n",
    "| A | NEITHER ALCOHOL NOR DRUGS PRESENT |\n",
    "| B | YES (ALCOHOL PRESENT) |\n",
    "| C | YES (DRUGS PRESENT) |\n",
    "| D | YES (ALCOHOL AND DRUGS PRESENT) |\n",
    "| Y | UNKNOWN |\n",
    "| A | CROSSING, ENTERING ROAD AT INTERSECTION |\n",
    "| B | CROSSING, ENTERING ROAD NOT AT INTERSECTION |\n",
    "| C | WALKING IN ROAD - WITH TRAFFIC |\n",
    "| D | WALKING IN ROAD - AGAINST TRAFFIC |\n",
    "| E | SLEEPING IN ROADWAY |\n",
    "| F | STANDING IN ROADWAY |\n",
    "| G | GETTING ON OR OFF OTHER VEHICLE |\n",
    "| H | PUSHING, WORKING ON VEHICLE IN ROAD |\n",
    "| I | OTHER WORKING IN ROADWAY |\n",
    "| J | PLAYING IN ROADWAY |\n",
    "| K | NOT IN ROADWAY |\n",
    "| Y | UNKNOWN |\n",
    "| Z | OTHER |"
   ]
  },
  {
   "cell_type": "markdown",
   "id": "narrative-mobile",
   "metadata": {},
   "source": [
    "The field 'ped_actions_2' is blank; drop!\n"
   ]
  },
  {
   "cell_type": "code",
   "execution_count": 125,
   "id": "emotional-sheriff",
   "metadata": {},
   "outputs": [
    {
     "name": "stdout",
     "output_type": "stream",
     "text": [
      "Analysis of field  ped_actions_1\n",
      "12 \t Number of unique values in  ped_actions_1\n",
      "0 \t Number of null values in  ped_actions_1\n",
      "\n",
      "\t Value Counts\n",
      "Y    158907\n",
      "A       421\n",
      "B       340\n",
      "C       173\n",
      "K       115\n",
      "F        77\n",
      "D        60\n",
      "I        40\n",
      "J        19\n",
      "G        15\n",
      "H        12\n",
      "E         7\n",
      "Name: ped_actions_1, dtype: int64\n",
      "\n",
      "\t Truncated list of unique values in  ped_actions_1 : \n",
      "['Y' 'J' 'K' 'D' 'A' 'B' 'C' 'I' 'F' 'G' 'H' 'E']\n",
      "-*-*-*-*-*-*-*-*-*-*-*-*-*-*-*-*-*-*-*-*\n",
      "\n",
      "Analysis of field  ped_actions_1_codes\n",
      "12 \t Number of unique values in  ped_actions_1_codes\n",
      "0 \t Number of null values in  ped_actions_1_codes\n",
      "\n",
      "\t Value Counts\n",
      "11    158907\n",
      "0        421\n",
      "1        340\n",
      "2        173\n",
      "10       115\n",
      "5         77\n",
      "3         60\n",
      "8         40\n",
      "9         19\n",
      "6         15\n",
      "7         12\n",
      "4          7\n",
      "Name: ped_actions_1_codes, dtype: int64\n",
      "\n",
      "\t Truncated list of unique values in  ped_actions_1_codes : \n",
      "[0, 1, 2, 3, 4, 5, 6, 7, 8, 9, 10, 11]\n",
      "-*-*-*-*-*-*-*-*-*-*-*-*-*-*-*-*-*-*-*-*\n",
      "\n"
     ]
    }
   ],
   "source": [
    "for x in ['ped_actions_1']:\n",
    "    data[x].fillna('Y', inplace=True)\n",
    "    data[x].replace([' ', 'Z'], 'Y', inplace=True)\n",
    "    Analysis (x)\n",
    "    Make_Category(x)\n",
    "data.drop(['ped_actions_2'], axis=1, inplace=True)"
   ]
  },
  {
   "attachments": {},
   "cell_type": "markdown",
   "id": "personalized-tribune",
   "metadata": {},
   "source": [
    "### veh_lighting_1, veh_lighting_2\n",
    "\n",
    "| Code | Meaning |\n",
    "|---|---|\n",
    "| A | HEADLIGHTS ON |\n",
    "| B | HEADLIGHTS OFF |\n",
    "| C | DAYTIME RUNNING LIGHTS |\n",
    "| Y | UNKNOWN |"
   ]
  },
  {
   "cell_type": "code",
   "execution_count": 126,
   "id": "placed-horse",
   "metadata": {},
   "outputs": [
    {
     "name": "stdout",
     "output_type": "stream",
     "text": [
      "Analysis of field  veh_lighting_1\n",
      "4 \t Number of unique values in  veh_lighting_1\n",
      "0 \t Number of null values in  veh_lighting_1\n",
      "\n",
      "\t Value Counts\n",
      "A    50820\n",
      "Y    50151\n",
      "B    42766\n",
      "C    16449\n",
      "Name: veh_lighting_1, dtype: int64\n",
      "\n",
      "\t Truncated list of unique values in  veh_lighting_1 : \n",
      "['Y' 'A' 'B' 'C']\n",
      "-*-*-*-*-*-*-*-*-*-*-*-*-*-*-*-*-*-*-*-*\n",
      "\n",
      "Analysis of field  veh_lighting_1_codes\n",
      "4 \t Number of unique values in  veh_lighting_1_codes\n",
      "0 \t Number of null values in  veh_lighting_1_codes\n",
      "\n",
      "\t Value Counts\n",
      "0    50820\n",
      "3    50151\n",
      "1    42766\n",
      "2    16449\n",
      "Name: veh_lighting_1_codes, dtype: int64\n",
      "\n",
      "\t Truncated list of unique values in  veh_lighting_1_codes : \n",
      "[0, 1, 2, 3]\n",
      "-*-*-*-*-*-*-*-*-*-*-*-*-*-*-*-*-*-*-*-*\n",
      "\n",
      "Analysis of field  veh_lighting_2\n",
      "4 \t Number of unique values in  veh_lighting_2\n",
      "0 \t Number of null values in  veh_lighting_2\n",
      "\n",
      "\t Value Counts\n",
      "Y    58900\n",
      "B    43117\n",
      "A    41075\n",
      "C    17094\n",
      "Name: veh_lighting_2, dtype: int64\n",
      "\n",
      "\t Truncated list of unique values in  veh_lighting_2 : \n",
      "['A' 'Y' 'B' 'C']\n",
      "-*-*-*-*-*-*-*-*-*-*-*-*-*-*-*-*-*-*-*-*\n",
      "\n",
      "Analysis of field  veh_lighting_2_codes\n",
      "4 \t Number of unique values in  veh_lighting_2_codes\n",
      "0 \t Number of null values in  veh_lighting_2_codes\n",
      "\n",
      "\t Value Counts\n",
      "3    58900\n",
      "1    43117\n",
      "0    41075\n",
      "2    17094\n",
      "Name: veh_lighting_2_codes, dtype: int64\n",
      "\n",
      "\t Truncated list of unique values in  veh_lighting_2_codes : \n",
      "[0, 1, 2, 3]\n",
      "-*-*-*-*-*-*-*-*-*-*-*-*-*-*-*-*-*-*-*-*\n",
      "\n"
     ]
    }
   ],
   "source": [
    "for x in ['veh_lighting_1', 'veh_lighting_2']:\n",
    "    data[x].fillna('Y', inplace=True)\n",
    "    data[x].replace([' ', 'D'], 'Y', inplace=True)\n",
    "    Analysis (x)\n",
    "    Make_Category(x)\n",
    "#data.drop(['ped_actions_2'], axis=1, inplace=True)"
   ]
  },
  {
   "attachments": {},
   "cell_type": "markdown",
   "id": "dressed-forward",
   "metadata": {},
   "source": [
    "### traff_cntl_cond_1, traff_cntl_cond_2\n",
    "\n",
    "The values in these fields suggest that it's not the 'traff_cntl_cond' in the code table, but the 'traff_cntl_cd'.\n",
    "\n",
    "From the code table, codes for 'traff_cntl_cond_cd':\n",
    "\n",
    "| Code | Meaning |\n",
    "|---|---|\n",
    "| A | CONTROLS FUNCTIONING |\n",
    "| B | CONTROLS NOT FUNCTIONING |\n",
    "| C | CONTROLS OBSCURED |\n",
    "| D | LANE MARKING UNCLEAR OR DEFECTIVE |\n",
    "| E | NO CONTROLS |\n",
    "| Y | UNKNOWN |\n",
    "\n",
    "and codes for 'traff_cntl_cd':\n",
    "\n",
    "| Code | Meaning |\n",
    "|---|---|\n",
    "| A | STOP SIGN |\n",
    "| B | YIELD SIGN |\n",
    "| C | RED SIGNAL ON |\n",
    "| D | YELLOW SIGNAL ON |\n",
    "| E | GREEN SIGNAL ON |\n",
    "| F | GREEN TURN ARROW ON |\n",
    "| G | RIGHT TURN ON RED |\n",
    "| H | LIGHT PHASE UNKNOWN |\n",
    "| I | FLASHING YELLOW |\n",
    "| J | FLASHING RED |\n",
    "| K | OFFICER, FLAGMAN |\n",
    "| L | RR CROSSING, SIGN |\n",
    "| M | RR CROSSING, SIGNAL |\n",
    "| N | RR CROSSING, NO CONTROL |\n",
    "| O | WARNING SIGN (SCHOOL, ETC.) |\n",
    "| P | SCHOOL FLASHING SPEED SIGN |\n",
    "| Q | YELLOW NO PASSING LINE |\n",
    "| R | WHITE DASHED LINE |\n",
    "| S | YELLOW DASHED LINE |\n",
    "| T | BIKE LANE |\n",
    "| U | CROSSWALK |\n",
    "| V | NO CONTROL |\n",
    "| Y | UNKNOWN |\n",
    "| Z | OTHER |![image-2.png](attachment:image-2.png)"
   ]
  },
  {
   "cell_type": "code",
   "execution_count": 127,
   "id": "relative-humor",
   "metadata": {},
   "outputs": [
    {
     "name": "stdout",
     "output_type": "stream",
     "text": [
      "Analysis of field  traff_cntl_cond_1\n",
      "23 \t Number of unique values in  traff_cntl_cond_1\n",
      "0 \t Number of null values in  traff_cntl_cond_1\n",
      "\n",
      "\t Value Counts\n",
      "R    45561\n",
      "V    25543\n",
      "Q    17791\n",
      "A    17312\n",
      "C    15088\n",
      "S    10250\n",
      "E     8889\n",
      "Z     6707\n",
      "Y     5790\n",
      "B     4424\n",
      "F      710\n",
      "H      665\n",
      "J      211\n",
      "I      202\n",
      "G      199\n",
      "O      159\n",
      "M      155\n",
      "K      150\n",
      "U      119\n",
      "T       99\n",
      "L       70\n",
      "N       55\n",
      "P       37\n",
      "Name: traff_cntl_cond_1, dtype: int64\n",
      "\n",
      "\t Truncated list of unique values in  traff_cntl_cond_1 : \n",
      "['A' 'Q' 'S' 'R' 'V' 'Y' 'J' 'E' 'F' 'Z' 'C' 'H' 'B' 'K' 'O' 'P' 'G' 'I'\n",
      " 'N' 'U' 'T' 'M' 'L']\n",
      "-*-*-*-*-*-*-*-*-*-*-*-*-*-*-*-*-*-*-*-*\n",
      "\n",
      "Analysis of field  traff_cntl_cond_1_codes\n",
      "23 \t Number of unique values in  traff_cntl_cond_1_codes\n",
      "0 \t Number of null values in  traff_cntl_cond_1_codes\n",
      "\n",
      "\t Value Counts\n",
      "16    45561\n",
      "20    25543\n",
      "15    17791\n",
      "0     17312\n",
      "2     15088\n",
      "17    10250\n",
      "3      8889\n",
      "22     6707\n",
      "21     5790\n",
      "1      4424\n",
      "4       710\n",
      "6       665\n",
      "8       211\n",
      "7       202\n",
      "5       199\n",
      "13      159\n",
      "11      155\n",
      "9       150\n",
      "19      119\n",
      "18       99\n",
      "10       70\n",
      "12       55\n",
      "14       37\n",
      "Name: traff_cntl_cond_1_codes, dtype: int64\n",
      "\n",
      "\t Truncated list of unique values in  traff_cntl_cond_1_codes : \n",
      "[0, 1, 2, 3, 4, 5, 6, 7, 8, 9, 10, 11, 12, 13, 14, 15, 16, 17, 18, 19, 20, 21, 22]\n",
      "-*-*-*-*-*-*-*-*-*-*-*-*-*-*-*-*-*-*-*-*\n",
      "\n",
      "Analysis of field  traff_cntl_cond_2\n",
      "23 \t Number of unique values in  traff_cntl_cond_2\n",
      "0 \t Number of null values in  traff_cntl_cond_2\n",
      "\n",
      "\t Value Counts\n",
      "R    44720\n",
      "Y    28824\n",
      "V    21999\n",
      "E    13617\n",
      "Q    13396\n",
      "C    12551\n",
      "S     7243\n",
      "A     6603\n",
      "Z     4740\n",
      "B     3567\n",
      "F     1260\n",
      "H      567\n",
      "I      242\n",
      "K      159\n",
      "G      140\n",
      "T      102\n",
      "J       99\n",
      "M       97\n",
      "U       83\n",
      "O       72\n",
      "N       45\n",
      "P       31\n",
      "L       29\n",
      "Name: traff_cntl_cond_2, dtype: int64\n",
      "\n",
      "\t Truncated list of unique values in  traff_cntl_cond_2 : \n",
      "['V' 'U' 'C' 'Y' 'R' 'Z' 'Q' 'A' 'I' 'E' 'S' 'B' 'K' 'F' 'H' 'T' 'G' 'M'\n",
      " 'J' 'O' 'L' 'N' 'P']\n",
      "-*-*-*-*-*-*-*-*-*-*-*-*-*-*-*-*-*-*-*-*\n",
      "\n",
      "Analysis of field  traff_cntl_cond_2_codes\n",
      "23 \t Number of unique values in  traff_cntl_cond_2_codes\n",
      "0 \t Number of null values in  traff_cntl_cond_2_codes\n",
      "\n",
      "\t Value Counts\n",
      "16    44720\n",
      "21    28824\n",
      "20    21999\n",
      "3     13617\n",
      "15    13396\n",
      "2     12551\n",
      "17     7243\n",
      "0      6603\n",
      "22     4740\n",
      "1      3567\n",
      "4      1260\n",
      "6       567\n",
      "7       242\n",
      "9       159\n",
      "5       140\n",
      "18      102\n",
      "8        99\n",
      "11       97\n",
      "19       83\n",
      "13       72\n",
      "12       45\n",
      "14       31\n",
      "10       29\n",
      "Name: traff_cntl_cond_2_codes, dtype: int64\n",
      "\n",
      "\t Truncated list of unique values in  traff_cntl_cond_2_codes : \n",
      "[0, 1, 2, 3, 4, 5, 6, 7, 8, 9, 10, 11, 12, 13, 14, 15, 16, 17, 18, 19, 20, 21, 22]\n",
      "-*-*-*-*-*-*-*-*-*-*-*-*-*-*-*-*-*-*-*-*\n",
      "\n"
     ]
    }
   ],
   "source": [
    "for x in ['traff_cntl_cond_1', 'traff_cntl_cond_2']:\n",
    "    data[x].fillna('Y', inplace=True)\n",
    "    data[x].replace([' ', 'D'], 'Y', inplace=True)\n",
    "    Analysis (x)\n",
    "    Make_Category(x)\n",
    "#data.drop(['ped_actions_2'], axis=1, inplace=True)"
   ]
  },
  {
   "cell_type": "markdown",
   "id": "continuous-trash",
   "metadata": {},
   "source": [
    "### pri_road_dir\n",
    "Don't we already have this information?"
   ]
  },
  {
   "cell_type": "code",
   "execution_count": 128,
   "id": "convenient-folder",
   "metadata": {},
   "outputs": [
    {
     "name": "stdout",
     "output_type": "stream",
     "text": [
      "Analysis of field  pri_road_dir\n",
      "9 \t Number of unique values in  pri_road_dir\n",
      "0 \t Number of null values in  pri_road_dir\n",
      "\n",
      "\t Value Counts\n",
      "      131708\n",
      "W       7646\n",
      "N       7053\n",
      "E       6399\n",
      "S       6135\n",
      "SW       416\n",
      "NW       343\n",
      "NE       260\n",
      "SE       226\n",
      "Name: pri_road_dir, dtype: int64\n",
      "\n",
      "\t Truncated list of unique values in  pri_road_dir : \n",
      "[' ' 'W' 'N' 'S' 'E' 'SE' 'NE' 'NW' 'SW']\n",
      "-*-*-*-*-*-*-*-*-*-*-*-*-*-*-*-*-*-*-*-*\n",
      "\n"
     ]
    }
   ],
   "source": [
    "for x in ['pri_road_dir']:\n",
    "#    data[x].fillna('Y', inplace=True)\n",
    "#    data[x].replace([' ', 'D'], 'Y', inplace=True)\n",
    "    Analysis (x)\n",
    "#    Make_Category(x)\n",
    "data.drop(['pri_road_dir'], axis=1, inplace=True)"
   ]
  },
  {
   "attachments": {},
   "cell_type": "markdown",
   "id": "turned-terrorism",
   "metadata": {},
   "source": [
    "### lighting_cd\n",
    "\n",
    "| Code | Meaning |\n",
    "|---|---|\n",
    "| A | DAYLIGHT |\n",
    "| B | DARK - NO STREET LIGHTS |\n",
    "| C | DARK - CONTINUOUS STREET LIGHT |\n",
    "| D | DARK - STREET LIGHT AT INTERSECTION ONLY |\n",
    "| E | DUSK |\n",
    "| F | DAWN |\n",
    "| Y | UNKNOWN |\n",
    "| Z | OTHER |"
   ]
  },
  {
   "cell_type": "code",
   "execution_count": 129,
   "id": "graduate-facility",
   "metadata": {},
   "outputs": [
    {
     "name": "stdout",
     "output_type": "stream",
     "text": [
      "Analysis of field  lighting_cd\n",
      "7 \t Number of unique values in  lighting_cd\n",
      "0 \t Number of null values in  lighting_cd\n",
      "\n",
      "\t Value Counts\n",
      "A    116211\n",
      "C     21778\n",
      "B     12800\n",
      "D      4171\n",
      "E      2338\n",
      "F      1511\n",
      "Y      1377\n",
      "Name: lighting_cd, dtype: int64\n",
      "\n",
      "\t Truncated list of unique values in  lighting_cd : \n",
      "['A' 'C' 'B' 'F' 'D' 'Y' 'E']\n",
      "-*-*-*-*-*-*-*-*-*-*-*-*-*-*-*-*-*-*-*-*\n",
      "\n",
      "Analysis of field  lighting_cd_codes\n",
      "7 \t Number of unique values in  lighting_cd_codes\n",
      "0 \t Number of null values in  lighting_cd_codes\n",
      "\n",
      "\t Value Counts\n",
      "0    116211\n",
      "2     21778\n",
      "1     12800\n",
      "3      4171\n",
      "4      2338\n",
      "5      1511\n",
      "6      1377\n",
      "Name: lighting_cd_codes, dtype: int64\n",
      "\n",
      "\t Truncated list of unique values in  lighting_cd_codes : \n",
      "[0, 1, 2, 3, 4, 5, 6]\n",
      "-*-*-*-*-*-*-*-*-*-*-*-*-*-*-*-*-*-*-*-*\n",
      "\n"
     ]
    }
   ],
   "source": [
    "for x in ['lighting_cd']:\n",
    "    data[x].fillna('Y', inplace=True)\n",
    "    data[x].replace([' ', '1', '2', 'Z'], 'Y', inplace=True)\n",
    "    Analysis (x)\n",
    "    Make_Category(x)\n",
    "#data.drop(['pri_road_dir'], axis=1, inplace=True)"
   ]
  },
  {
   "cell_type": "markdown",
   "id": "regular-meditation",
   "metadata": {},
   "source": [
    "### num_veh\n",
    "This one is nice and clean."
   ]
  },
  {
   "cell_type": "code",
   "execution_count": 130,
   "id": "representative-cabinet",
   "metadata": {},
   "outputs": [
    {
     "name": "stdout",
     "output_type": "stream",
     "text": [
      "Analysis of field  num_veh\n",
      "12 \t Number of unique values in  num_veh\n",
      "0 \t Number of null values in  num_veh\n",
      "\n",
      "\t Value Counts\n",
      "2     124530\n",
      "1      25662\n",
      "3       8417\n",
      "4       1253\n",
      "5        219\n",
      "6         66\n",
      "7         25\n",
      "8          9\n",
      "9          2\n",
      "10         1\n",
      "13         1\n",
      "16         1\n",
      "Name: num_veh, dtype: int64\n",
      "\n",
      "\t Truncated list of unique values in  num_veh : \n",
      "[ 2  1  3  4  6  5  7  8 16  9 10 13]\n",
      "-*-*-*-*-*-*-*-*-*-*-*-*-*-*-*-*-*-*-*-*\n",
      "\n",
      "Analysis of field  num_veh_codes\n",
      "12 \t Number of unique values in  num_veh_codes\n",
      "0 \t Number of null values in  num_veh_codes\n",
      "\n",
      "\t Value Counts\n",
      "1     124530\n",
      "0      25662\n",
      "2       8417\n",
      "3       1253\n",
      "4        219\n",
      "5         66\n",
      "6         25\n",
      "7          9\n",
      "8          2\n",
      "9          1\n",
      "10         1\n",
      "11         1\n",
      "Name: num_veh_codes, dtype: int64\n",
      "\n",
      "\t Truncated list of unique values in  num_veh_codes : \n",
      "[0, 1, 2, 3, 4, 5, 6, 7, 8, 9, 10, 11]\n",
      "-*-*-*-*-*-*-*-*-*-*-*-*-*-*-*-*-*-*-*-*\n",
      "\n"
     ]
    }
   ],
   "source": [
    "for x in ['num_veh']:\n",
    "#    data[x].fillna('Y', inplace=True)\n",
    "#    data[x].replace([' ', '1', '2', 'Z'], 'Y', inplace=True)\n",
    "    Analysis (x)\n",
    "    Make_Category(x)\n",
    "#data.drop(['pri_road_dir'], axis=1, inplace=True)"
   ]
  },
  {
   "cell_type": "markdown",
   "id": "civil-crash",
   "metadata": {},
   "source": [
    "### crash_time\n",
    "We already have crash_hour.  Drop!"
   ]
  },
  {
   "cell_type": "code",
   "execution_count": 131,
   "id": "nutritional-commons",
   "metadata": {},
   "outputs": [
    {
     "name": "stdout",
     "output_type": "stream",
     "text": [
      "Analysis of field  crash_time\n",
      "1440 \t Number of unique values in  crash_time\n",
      "595 \t Number of null values in  crash_time\n",
      "\n",
      "\t Value Counts\n",
      "2021-04-16 17:00:00    772\n",
      "2021-04-16 16:00:00    751\n",
      "2021-04-16 15:00:00    718\n",
      "2021-04-16 18:00:00    691\n",
      "2021-04-16 17:30:00    654\n",
      "                      ... \n",
      "2021-04-16 01:41:00     10\n",
      "2021-04-16 02:36:00      9\n",
      "2021-04-16 04:04:00      9\n",
      "2021-04-16 03:47:00      9\n",
      "2021-04-16 04:18:00      8\n",
      "Name: crash_time, Length: 1439, dtype: int64\n",
      "\n",
      "-*-*-*-*-*-*-*-*-*-*-*-*-*-*-*-*-*-*-*-*\n",
      "\n"
     ]
    }
   ],
   "source": [
    "for x in ['crash_time']:\n",
    "#    data[x].fillna('Y', inplace=True)\n",
    "#    data[x].replace([' ', '1', '2', 'Z'], 'Y', inplace=True)\n",
    "    Analysis (x)\n",
    "#    Make_Category(x)\n",
    "#data['crash_hour'] = data['crash_time'].dt.hour\n",
    "#Analysis ('crash_hour')\n",
    "data.drop(['crash_time'], axis=1, inplace=True)"
   ]
  },
  {
   "attachments": {},
   "cell_type": "markdown",
   "id": "working-prerequisite",
   "metadata": {},
   "source": [
    "### dr_cond_cd1 and dr_cond_cd2\n",
    "\n",
    "| Code | Meaning |\n",
    "|---|---|\n",
    "| A | NORMAL |\n",
    "| B | INATTENTIVE |\n",
    "| C | DISTRACTED |\n",
    "| D | ILLNESS |\n",
    "| E | FATIGUED |\n",
    "| F | APPARENTLY ASLEEP/BLACKOUT |\n",
    "| G | DRINKING ALCOHOL - IMPAIRED |\n",
    "| H | DRINKING ALCOHOL - NOT IMPAIRED |\n",
    "| I | DRUG USE - IMPAIRED |\n",
    "| J | DRUG USE - NOT IMPAIRED |\n",
    "| K | PHYSICAL IMPAIRMENT (EYES, EAR, LIMB) |\n",
    "| Y | UNKNOWN |\n",
    "| Z | OTHER |"
   ]
  },
  {
   "cell_type": "code",
   "execution_count": 132,
   "id": "provincial-median",
   "metadata": {},
   "outputs": [
    {
     "name": "stdout",
     "output_type": "stream",
     "text": [
      "Analysis of field  dr_cond_cd1\n",
      "12 \t Number of unique values in  dr_cond_cd1\n",
      "0 \t Number of null values in  dr_cond_cd1\n",
      "\n",
      "\t Value Counts\n",
      "B    79780\n",
      "A    38822\n",
      "Y    25382\n",
      "C     8571\n",
      "G     3436\n",
      "F     1439\n",
      "E     1011\n",
      "I      768\n",
      "D      594\n",
      "H      213\n",
      "K      146\n",
      "J       24\n",
      "Name: dr_cond_cd1, dtype: int64\n",
      "\n",
      "\t Truncated list of unique values in  dr_cond_cd1 : \n",
      "['Y' 'A' 'B' 'F' 'C' 'G' 'H' 'D' 'E' 'I' 'K' 'J']\n",
      "-*-*-*-*-*-*-*-*-*-*-*-*-*-*-*-*-*-*-*-*\n",
      "\n",
      "Analysis of field  dr_cond_cd1_codes\n",
      "12 \t Number of unique values in  dr_cond_cd1_codes\n",
      "0 \t Number of null values in  dr_cond_cd1_codes\n",
      "\n",
      "\t Value Counts\n",
      "1     79780\n",
      "0     38822\n",
      "11    25382\n",
      "2      8571\n",
      "6      3436\n",
      "5      1439\n",
      "4      1011\n",
      "8       768\n",
      "3       594\n",
      "7       213\n",
      "10      146\n",
      "9        24\n",
      "Name: dr_cond_cd1_codes, dtype: int64\n",
      "\n",
      "\t Truncated list of unique values in  dr_cond_cd1_codes : \n",
      "[0, 1, 2, 3, 4, 5, 6, 7, 8, 9, 10, 11]\n",
      "-*-*-*-*-*-*-*-*-*-*-*-*-*-*-*-*-*-*-*-*\n",
      "\n",
      "Analysis of field  dr_cond_cd2\n",
      "12 \t Number of unique values in  dr_cond_cd2\n",
      "0 \t Number of null values in  dr_cond_cd2\n",
      "\n",
      "\t Value Counts\n",
      "A    120975\n",
      "Y     35660\n",
      "B      3045\n",
      "C       243\n",
      "G       116\n",
      "E        56\n",
      "H        30\n",
      "I        20\n",
      "K        19\n",
      "F        11\n",
      "D         8\n",
      "J         3\n",
      "Name: dr_cond_cd2, dtype: int64\n",
      "\n",
      "\t Truncated list of unique values in  dr_cond_cd2 : \n",
      "['A' 'Y' 'B' 'C' 'G' 'E' 'K' 'I' 'D' 'H' 'F' 'J']\n",
      "-*-*-*-*-*-*-*-*-*-*-*-*-*-*-*-*-*-*-*-*\n",
      "\n",
      "Analysis of field  dr_cond_cd2_codes\n",
      "12 \t Number of unique values in  dr_cond_cd2_codes\n",
      "0 \t Number of null values in  dr_cond_cd2_codes\n",
      "\n",
      "\t Value Counts\n",
      "0     120975\n",
      "11     35660\n",
      "1       3045\n",
      "2        243\n",
      "6        116\n",
      "4         56\n",
      "7         30\n",
      "8         20\n",
      "10        19\n",
      "5         11\n",
      "3          8\n",
      "9          3\n",
      "Name: dr_cond_cd2_codes, dtype: int64\n",
      "\n",
      "\t Truncated list of unique values in  dr_cond_cd2_codes : \n",
      "[0, 1, 2, 3, 4, 5, 6, 7, 8, 9, 10, 11]\n",
      "-*-*-*-*-*-*-*-*-*-*-*-*-*-*-*-*-*-*-*-*\n",
      "\n"
     ]
    }
   ],
   "source": [
    "for x in ['dr_cond_cd1', 'dr_cond_cd2']:\n",
    "#    data[x].fillna('Y', inplace=True)\n",
    "    data[x].replace([' ', 'Z'], 'Y', inplace=True)\n",
    "    Analysis (x)\n",
    "    Make_Category(x)\n",
    "#data.drop(['crash_time'], axis=1, inplace=True)"
   ]
  },
  {
   "attachments": {},
   "cell_type": "markdown",
   "id": "harmful-shade",
   "metadata": {},
   "source": [
    "### veh_cond_cd1, veh_cond_cd2\n",
    "\n",
    "| Code | Meaning |\n",
    "|---|---|\n",
    "| A | DEFECTIVE BRAKES |\n",
    "| B | DEFECTIVE HEADLIGHTS |\n",
    "| C | DEFECTIVE REAR LIGHTS |\n",
    "| D | DEFECTIVE SIGNAL LIGHTS |\n",
    "| E | ALL LIGHTS OUT |\n",
    "| F | DEFECTIVE STEERING |\n",
    "| G | TIRE FAILURE |\n",
    "| H | WORN OR SMOOTH TIRES |\n",
    "| I | ENGINE FAILURE |\n",
    "| J | DEFECTIVE SUSPENSION |\n",
    "| K | NO DEFECTS OBSERVED |\n",
    "| Y | UNKNOWN |\n",
    "| Z | OTHER |![image.png](attachment:image.png)"
   ]
  },
  {
   "cell_type": "code",
   "execution_count": 133,
   "id": "south-cancellation",
   "metadata": {},
   "outputs": [
    {
     "name": "stdout",
     "output_type": "stream",
     "text": [
      "Analysis of field  veh_cond_cd1\n",
      "12 \t Number of unique values in  veh_cond_cd1\n",
      "0 \t Number of null values in  veh_cond_cd1\n",
      "\n",
      "\t Value Counts\n",
      "K    133539\n",
      "Y     23900\n",
      "A       884\n",
      "G       722\n",
      "H       486\n",
      "J       184\n",
      "F       162\n",
      "I        90\n",
      "B        82\n",
      "E        60\n",
      "C        55\n",
      "D        22\n",
      "Name: veh_cond_cd1, dtype: int64\n",
      "\n",
      "\t Truncated list of unique values in  veh_cond_cd1 : \n",
      "['Y' 'K' 'A' 'H' 'G' 'J' 'I' 'F' 'E' 'C' 'B' 'D']\n",
      "-*-*-*-*-*-*-*-*-*-*-*-*-*-*-*-*-*-*-*-*\n",
      "\n",
      "Analysis of field  veh_cond_cd1_codes\n",
      "12 \t Number of unique values in  veh_cond_cd1_codes\n",
      "0 \t Number of null values in  veh_cond_cd1_codes\n",
      "\n",
      "\t Value Counts\n",
      "10    133539\n",
      "11     23900\n",
      "0        884\n",
      "6        722\n",
      "7        486\n",
      "9        184\n",
      "5        162\n",
      "8         90\n",
      "1         82\n",
      "4         60\n",
      "2         55\n",
      "3         22\n",
      "Name: veh_cond_cd1_codes, dtype: int64\n",
      "\n",
      "\t Truncated list of unique values in  veh_cond_cd1_codes : \n",
      "[0, 1, 2, 3, 4, 5, 6, 7, 8, 9, 10, 11]\n",
      "-*-*-*-*-*-*-*-*-*-*-*-*-*-*-*-*-*-*-*-*\n",
      "\n",
      "Analysis of field  veh_cond_cd2\n",
      "12 \t Number of unique values in  veh_cond_cd2\n",
      "0 \t Number of null values in  veh_cond_cd2\n",
      "\n",
      "\t Value Counts\n",
      "K    127910\n",
      "Y     31668\n",
      "A       191\n",
      "J        98\n",
      "I        81\n",
      "C        61\n",
      "G        54\n",
      "B        44\n",
      "H        27\n",
      "E        25\n",
      "D        15\n",
      "F        12\n",
      "Name: veh_cond_cd2, dtype: int64\n",
      "\n",
      "\t Truncated list of unique values in  veh_cond_cd2 : \n",
      "['K' 'Y' 'J' 'A' 'H' 'I' 'G' 'C' 'E' 'F' 'B' 'D']\n",
      "-*-*-*-*-*-*-*-*-*-*-*-*-*-*-*-*-*-*-*-*\n",
      "\n",
      "Analysis of field  veh_cond_cd2_codes\n",
      "12 \t Number of unique values in  veh_cond_cd2_codes\n",
      "0 \t Number of null values in  veh_cond_cd2_codes\n",
      "\n",
      "\t Value Counts\n",
      "10    127910\n",
      "11     31668\n",
      "0        191\n",
      "9         98\n",
      "8         81\n",
      "2         61\n",
      "6         54\n",
      "1         44\n",
      "7         27\n",
      "4         25\n",
      "3         15\n",
      "5         12\n",
      "Name: veh_cond_cd2_codes, dtype: int64\n",
      "\n",
      "\t Truncated list of unique values in  veh_cond_cd2_codes : \n",
      "[0, 1, 2, 3, 4, 5, 6, 7, 8, 9, 10, 11]\n",
      "-*-*-*-*-*-*-*-*-*-*-*-*-*-*-*-*-*-*-*-*\n",
      "\n"
     ]
    }
   ],
   "source": [
    "for x in ['veh_cond_cd1', 'veh_cond_cd2']:\n",
    "#    data[x].fillna('Y', inplace=True)\n",
    "    data[x].replace([' ', 'Z'], 'Y', inplace=True)\n",
    "    Analysis (x)\n",
    "    Make_Category(x)\n",
    "#data.drop(['crash_time'], axis=1, inplace=True)"
   ]
  },
  {
   "cell_type": "code",
   "execution_count": null,
   "id": "liable-zambia",
   "metadata": {},
   "outputs": [],
   "source": []
  },
  {
   "cell_type": "code",
   "execution_count": null,
   "id": "rocky-provision",
   "metadata": {},
   "outputs": [],
   "source": []
  },
  {
   "cell_type": "code",
   "execution_count": 134,
   "id": "returning-vertical",
   "metadata": {
    "scrolled": true
   },
   "outputs": [
    {
     "name": "stdout",
     "output_type": "stream",
     "text": [
      "<class 'pandas.core.frame.DataFrame'>\n",
      "RangeIndex: 160186 entries, 0 to 160185\n",
      "Data columns (total 93 columns):\n",
      " #   Column                    Non-Null Count   Dtype         \n",
      "---  ------                    --------------   -----         \n",
      " 0   num_tot_kil               160186 non-null  int64         \n",
      " 1   num_tot_inj               160186 non-null  int64         \n",
      " 2   crash_date                160186 non-null  datetime64[ns]\n",
      " 3   f_harm_ev_cd1             160186 non-null  category      \n",
      " 4   m_harm_ev_cd1             160186 non-null  category      \n",
      " 5   man_coll_cd               160186 non-null  category      \n",
      " 6   crash_type                160186 non-null  category      \n",
      " 7   surf_cond_cd              160186 non-null  category      \n",
      " 8   parish_cd                 160186 non-null  int64         \n",
      " 9   crash_hour                160186 non-null  object        \n",
      " 10  intersection              160186 non-null  int64         \n",
      " 11  invest_agency_cd          160186 non-null  object        \n",
      " 12  travel_dirs               160186 non-null  category      \n",
      " 13  alcohol                   160186 non-null  int64         \n",
      " 14  veh_type_cd1              160186 non-null  category      \n",
      " 15  veh_type_cd2              160186 non-null  category      \n",
      " 16  intersection_id           160186 non-null  category      \n",
      " 17  severity_cd               160186 non-null  category      \n",
      " 18  roadway_departure         160186 non-null  int64         \n",
      " 19  lane_departure            160186 non-null  int64         \n",
      " 20  road_rel_cd               160186 non-null  category      \n",
      " 21  location_type             160186 non-null  category      \n",
      " 22  hwy_type_cd               160186 non-null  category      \n",
      " 23  pri_hwy_num               160186 non-null  category      \n",
      " 24  pri_road_name             160186 non-null  category      \n",
      " 25  pri_dist                  160186 non-null  float64       \n",
      " 26  pri_measure               160186 non-null  object        \n",
      " 27  inter_road                160186 non-null  category      \n",
      " 28  dr_age_1                  160186 non-null  int64         \n",
      " 29  dr_age_2                  160186 non-null  int64         \n",
      " 30  dr_sex_1                  160186 non-null  category      \n",
      " 31  dr_sex_2                  160186 non-null  category      \n",
      " 32  pri_contrib_fac_cd        160186 non-null  category      \n",
      " 33  sec_contrib_fac_cd        160186 non-null  category      \n",
      " 34  vision_obscure_1          160186 non-null  category      \n",
      " 35  vision_obscure_2          160186 non-null  category      \n",
      " 36  movement_reason_1         160186 non-null  category      \n",
      " 37  movement_reason_2         160186 non-null  category      \n",
      " 38  ped_actions_1             160186 non-null  category      \n",
      " 39  veh_lighting_1            160186 non-null  category      \n",
      " 40  veh_lighting_2            160186 non-null  category      \n",
      " 41  traff_cntl_cond_1         160186 non-null  category      \n",
      " 42  traff_cntl_cond_2         160186 non-null  category      \n",
      " 43  lighting_cd               160186 non-null  category      \n",
      " 44  num_veh                   160186 non-null  category      \n",
      " 45  dr_cond_cd1               160186 non-null  category      \n",
      " 46  dr_cond_cd2               160186 non-null  category      \n",
      " 47  veh_cond_cd1              160186 non-null  category      \n",
      " 48  veh_cond_cd2              160186 non-null  category      \n",
      " 49  fatal                     160186 non-null  int64         \n",
      " 50  crash_dayofweek           160186 non-null  int64         \n",
      " 51  crash_month               160186 non-null  int64         \n",
      " 52  f_harm_ev_cd1_codes       160186 non-null  int8          \n",
      " 53  m_harm_ev_cd1_codes       160186 non-null  int8          \n",
      " 54  man_coll_cd_codes         160186 non-null  int8          \n",
      " 55  crash_type_codes          160186 non-null  int8          \n",
      " 56  surf_cond_cd_codes        160186 non-null  int8          \n",
      " 57  travel_dirs_codes         160186 non-null  int8          \n",
      " 58  veh_type_cd1_codes        160186 non-null  int8          \n",
      " 59  veh_type_cd2_codes        160186 non-null  int8          \n",
      " 60  intersection_id_codes     160186 non-null  int16         \n",
      " 61  severity_cd_codes         160186 non-null  int8          \n",
      " 62  road_rel_cd_codes         160186 non-null  int8          \n",
      " 63  location_type_codes       160186 non-null  int8          \n",
      " 64  hwy_type_cd_codes         160186 non-null  int8          \n",
      " 65  pri_hwy_num_codes         160186 non-null  int16         \n",
      " 66  pri_road_name_codes       160186 non-null  int16         \n",
      " 67  pri_dist_bin              160186 non-null  category      \n",
      " 68  pri_dist_bin_codes        160186 non-null  int8          \n",
      " 69  inter_road_codes          160186 non-null  int16         \n",
      " 70  dr_age_1_bin              160186 non-null  category      \n",
      " 71  dr_age_1_bin_codes        160186 non-null  int8          \n",
      " 72  dr_age_2_bin              160186 non-null  category      \n",
      " 73  dr_age_2_bin_codes        160186 non-null  int8          \n",
      " 74  dr_sex_1_codes            160186 non-null  int8          \n",
      " 75  dr_sex_2_codes            160186 non-null  int8          \n",
      " 76  pri_contrib_fac_cd_codes  160186 non-null  int8          \n",
      " 77  sec_contrib_fac_cd_codes  160186 non-null  int8          \n",
      " 78  vision_obscure_1_codes    160186 non-null  int8          \n",
      " 79  vision_obscure_2_codes    160186 non-null  int8          \n",
      " 80  movement_reason_1_codes   160186 non-null  int8          \n",
      " 81  movement_reason_2_codes   160186 non-null  int8          \n",
      " 82  ped_actions_1_codes       160186 non-null  int8          \n",
      " 83  veh_lighting_1_codes      160186 non-null  int8          \n",
      " 84  veh_lighting_2_codes      160186 non-null  int8          \n",
      " 85  traff_cntl_cond_1_codes   160186 non-null  int8          \n",
      " 86  traff_cntl_cond_2_codes   160186 non-null  int8          \n",
      " 87  lighting_cd_codes         160186 non-null  int8          \n",
      " 88  num_veh_codes             160186 non-null  int8          \n",
      " 89  dr_cond_cd1_codes         160186 non-null  int8          \n",
      " 90  dr_cond_cd2_codes         160186 non-null  int8          \n",
      " 91  veh_cond_cd1_codes        160186 non-null  int8          \n",
      " 92  veh_cond_cd2_codes        160186 non-null  int8          \n",
      "dtypes: category(38), datetime64[ns](1), float64(1), int16(4), int64(12), int8(34), object(3)\n",
      "memory usage: 33.8+ MB\n"
     ]
    }
   ],
   "source": [
    "data.info()"
   ]
  },
  {
   "cell_type": "markdown",
   "id": "designed-calvin",
   "metadata": {},
   "source": [
    "### Drop more columns"
   ]
  },
  {
   "cell_type": "code",
   "execution_count": null,
   "id": "terminal-behalf",
   "metadata": {},
   "outputs": [],
   "source": []
  },
  {
   "cell_type": "code",
   "execution_count": null,
   "id": "loose-entity",
   "metadata": {},
   "outputs": [],
   "source": []
  }
 ],
 "metadata": {
  "kernelspec": {
   "display_name": "Python 3",
   "language": "python",
   "name": "python3"
  },
  "language_info": {
   "codemirror_mode": {
    "name": "ipython",
    "version": 3
   },
   "file_extension": ".py",
   "mimetype": "text/x-python",
   "name": "python",
   "nbconvert_exporter": "python",
   "pygments_lexer": "ipython3",
   "version": "3.9.1"
  }
 },
 "nbformat": 4,
 "nbformat_minor": 5
}
