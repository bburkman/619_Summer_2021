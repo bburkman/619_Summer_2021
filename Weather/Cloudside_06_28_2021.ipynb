{
 "cells": [
  {
   "cell_type": "code",
   "execution_count": 1,
   "id": "1c0b2840",
   "metadata": {},
   "outputs": [
    {
     "data": {
      "text/latex": [
       "\\tableofcontents\n"
      ],
      "text/plain": [
       "<IPython.core.display.Latex object>"
      ]
     },
     "metadata": {},
     "output_type": "display_data"
    }
   ],
   "source": [
    "%%latex\n",
    "\\tableofcontents"
   ]
  },
  {
   "cell_type": "markdown",
   "id": "5e0d589c",
   "metadata": {},
   "source": [
    "# Goal"
   ]
  },
  {
   "cell_type": "markdown",
   "id": "87f0fdaa",
   "metadata": {},
   "source": [
    "- Collect the list of ASOS weather stations\n",
    "- Get the Five Min ASOS data from those stations using Cloudside.\n",
    "- Put into a useful format.\n",
    "- Analyze\n",
    "- Save as .csv"
   ]
  },
  {
   "cell_type": "markdown",
   "id": "5bec6998",
   "metadata": {},
   "source": [
    "# Usage Note"
   ]
  },
  {
   "cell_type": "markdown",
   "id": "e5c01409",
   "metadata": {},
   "source": [
    "- You must use the \"cloudside\" kernel that I described in a previous email.  In Jupyter Notebook, Kernel -> Change Kernel should get you there if you already have it."
   ]
  },
  {
   "cell_type": "markdown",
   "id": "d0c6bf55",
   "metadata": {},
   "source": [
    "# Import Libraries"
   ]
  },
  {
   "cell_type": "code",
   "execution_count": null,
   "id": "75f2e7df",
   "metadata": {},
   "outputs": [],
   "source": [
    "import cloudside\n",
    "import pandas as pd"
   ]
  },
  {
   "cell_type": "code",
   "execution_count": null,
   "id": "d2901cea",
   "metadata": {},
   "outputs": [],
   "source": [
    "#cloudside.test()"
   ]
  },
  {
   "cell_type": "markdown",
   "id": "0b7db705",
   "metadata": {},
   "source": [
    "# Get Data"
   ]
  },
  {
   "cell_type": "markdown",
   "id": "faa502e1",
   "metadata": {},
   "source": [
    "- List of weather stations in Louisiana:\n",
    "\n",
    "https://www.faa.gov/air_traffic/weather/asos/?state=LA\n",
    "\n",
    "- Gives both ASOS and AWOS stations.  \n",
    "    - ASOS gives more data, including type of precipitation, but\n",
    "    - There are far more AWOS stations than ASOS.\n",
    "- Cloudside has an ASOS module, but not AWOS.  \n",
    "- The FAA site does not include these ASOS stations that work with Cloudrise:\n",
    "    - KAQV\n",
    "    - KBKB\n",
    "    - KBVE\n",
    "    - KP92\n",
    "    "
   ]
  },
  {
   "cell_type": "markdown",
   "id": "398b7701",
   "metadata": {},
   "source": [
    "- I found two lists of ICAO codes.  \n",
    "    - I saved them as ICAO1 and ICAO2\n",
    "    - Then merge them into one list, ICAO\n",
    "    - Take out duplicates\n",
    "    - Sort\n",
    "- This list has all of the ASOS station codes in the FAA list referenced above."
   ]
  },
  {
   "cell_type": "markdown",
   "id": "9de93777",
   "metadata": {},
   "source": [
    " - Source of ICAO1:   \n",
    "\n",
    "        master-location-identifier-database-202106_standard.csv\n",
    "\n",
    "from http://www.weathergraphics.com/identifiers/"
   ]
  },
  {
   "cell_type": "code",
   "execution_count": null,
   "id": "e5682c1f",
   "metadata": {},
   "outputs": [],
   "source": [
    "ICAO1 = [\n",
    "    'K01R', 'K0L6', 'K0M8', 'K0M9', 'K0R3', 'K0R4', 'K0R5', 'K0R7', 'K1B7', 'K1B7', 'K1L0', 'K1R1', 'K1R2', 'K1R4', 'K2L0', 'K2R1', 'K2R6', 'K2R7', 'K3F3', 'K3F4', 'K3R2', 'K3R4', 'K3R7', 'K4R7', 'K5F0', 'K5F4', 'K5F5', 'K5F8', 'K5R8', 'K6R1', 'K7L9', 'K7LS', 'K7N0', 'K9M6', 'KACP', 'KAEX', 'KAPS', 'KAQV', 'KARA', 'KASD', 'KBAD', 'KBKB', 'KBQP', 'KBTR', 'KBVE', 'KBXA', 'KCWF', 'KDNK', 'KDRI', 'KDTN', 'KESF', 'KF24', 'KF86', 'KF87', 'KF88', 'KF89', 'KGAO', 'KGNI', 'KHDC', 'KHUM', 'KHZR', 'KIER', 'KIYA', 'KL31', 'KL32', 'KL33', 'KL38', 'KL39', 'KL47', 'KL66', 'KL83', 'KL87', 'KL89', 'KLA3', 'KLCH', 'KLFT', 'KLIX', 'KLNQ', 'KM79', 'KM80', 'KMKV', 'KMLU', 'KMNE', 'KMSY', 'KNBG', 'KNEW', 'KOPL', 'KP92', 'KPOE', 'KPTN', 'KREG', 'KRSN', 'KSHV', 'KSPH', 'KTVR', 'KUXL', 'KVSH', 'KXPY', \n",
    "]"
   ]
  },
  {
   "cell_type": "markdown",
   "id": "c4b56d9e",
   "metadata": {},
   "source": [
    "Source of ICAO2:  https://github.com/datasets/airport-codes/blob/master/data/airport-codes.csv"
   ]
  },
  {
   "cell_type": "code",
   "execution_count": null,
   "id": "176ed4c9",
   "metadata": {},
   "outputs": [],
   "source": [
    "ICAO2 = [\n",
    "    '00LA', '00LS', '01LA', '01LS', '02LA', '02LS', '03LA', '03LS', '04LA', '04LS', '05LA', '05LS', '06LA', '06LS', '07LA', '07LS', '08LA', '08LS', '09LA', '09LS', '0L6', '0LA0', '0LA1', '0LA2', '0LA3', '0LA4', '0LA5', '0LA6', '0LA7', '0LA8', '0LA9', '0LS0', '0LS2', '0LS3', '0LS4', '0LS5', '0LS6', '0LS7', '0LS8', '0LS9', '0R7', '10LA', '10LS', '11LA', '11LS', '12LA', '12LS', '13LA', '13LS', '14LA', '14LS', '15LA', '15LS', '16LA', '16LS', '17LA', '17LS', '18LA', '18LS', '19LA', '19LS', '1LA0', '1LA1', '1LA2', '1LA3', '1LA4', '1LA5', '1LA6', '1LA7', '1LA8', '1LA9', '1LS0', '1LS1', '1LS2', '1LS5', '1LS8', '20LA', '20LS', '21LA', '21LS', '22LA', '22LS', '23LA', '23LS', '24LA', '24LS', '25LA', '25LS', '26LA', '26LS', '27LA', '27LS', '28LA', '28LS', '29LA', '29LS', '2LA0', '2LA1', '2LA2', '2LA3', '2LA4', '2LA5', '2LA6', '2LA7', '2LA8', '2LA9', '2LS0', '2LS2', '2LS3', '30LA', '30LS', '31LA', '31LS', '32LA', '32LS', '33LA', '33LS', '34LA', '34LS', '35LA', '35LS', '36LA', '36LS', '37LA', '37LS', '38LA', '38LS', '39LA', '3L1', '3LA0', '3LA1', '3LA2', '3LA3', '3LA4', '3LA5', '3LA6', '3LA7', '3LA8', '3LA9', '40LA', '41LA', '42LA', '43LA', '44LA', '45LA', '46LA', '46LS', '47LA', '48LA', '49LA', '4LA0', '4LA1', '4LA2', '4LA3', '4LA4', '4LA5', '4LA6', '4LA7', '4LA8', '4LA9', '50LA', '50LS', '51LA', '51LS', '52LA', '53LA', '54LA', '55LA', '56LA', '57LA', '58LA', '59LA', '5F5', '5F8', '5LA0', '5LA1', '5LA2', '5LA3', '5LA4', '5LA5', '5LA6', '5LA7', '5LA8', '5LA9', '5LS0', '5LS6', '5LS9', '60LA', '61LA', '62LA', '63LA', '64LA', '65LA', '66LA', '67LA', '68LA', '69LA', '6LA0', '6LA1', '6LA2', '6LA3', '6LA4', '6LA5', '6LA6', '6LA7', '6LA8', '6LA9', '6R1', '70LA', '71LA', '72LA', '73LA', '74LA', '75LA', '76LA', '77LA', '78LA', '79LA', '7L9', '7LA0', '7LA1', '7LA2', '7LA3', '7LA4', '7LA5', '7LA6', '7LA7', '7LA8', '7LS1', '7LS3', '7LS4', '7LS6', '7N0', '80LA', '81LA', '81LS', '82LA', '83LA', '84LA', '85LA', '86LA', '87LA', '88LA', '89LA', '8LA0', '8LA1', '8LA2', '8LA3', '8LA4', '8LA5', '8LA6', '8LA7', '8LA8', '8LA9', '8TA9', '90LA', '91LA', '92LA', '93LA', '94LA', '95LA', '96LA', '97LA', '98LA', '99LA', '9LA0', '9LA1', '9LA2', '9LA3', '9LA4', '9LA5', '9LA6', '9LA7', '9LA8', '9LA9', '9LS1', '9LS5', '9LS9', 'BONI', 'CRAI', 'GNI', 'K0M8', 'K0M9', 'K0R3', 'K0R4', 'K0R5', 'K1L0', 'K1R1', 'K1R4', 'K2L0', 'K2R1', 'K2R6', 'K2R7', 'K3F3', 'K3F4', 'K3R2', 'K3R4', 'K3R7', 'K4R7', 'K5F0', 'K5F4', 'K5R8', 'K9M6', 'KACP', 'KAEX', 'KARA', 'KASD', 'KBAD', 'KBQP', 'KBTR', 'KBXA', 'KCWF', 'KDRI', 'KDTN', 'KESF', 'KF24', 'KF86', 'KF87', 'KF88', 'KF89', 'KGAO', 'KHDC', 'KHUM', 'KHZR', 'KIER', 'KL31', 'KL32', 'KL33', 'KL38', 'KL39', 'KL47', 'KL66', 'KL83', 'KLCH', 'KLFT', 'KM79', 'KM80', 'KMKV', 'KMLU', 'KMSY', 'KNBG', 'KNEW', 'KOPL', 'KPOE', 'KPTN', 'KRSN', 'KSHV', 'KSPH', 'KTVR', 'KUXL', 'L40', 'L87', 'L89', 'LA00', 'LA01', 'LA02', 'LA03', 'LA04', 'LA05', 'LA06', 'LA07', 'LA08', 'LA09', 'LA10', 'LA11', 'LA12', 'LA13', 'LA14', 'LA15', 'LA16', 'LA17', 'LA18', 'LA19', 'LA20', 'LA21', 'LA23', 'LA24', 'LA25', 'LA26', 'LA27', 'LA28', 'LA29', 'LA30', 'LA31', 'LA32', 'LA33', 'LA34', 'LA35', 'LA36', 'LA37', 'LA38', 'LA39', 'LA40', 'LA41', 'LA42', 'LA43', 'LA44', 'LA45', 'LA46', 'LA47', 'LA48', 'LA49', 'LA50', 'LA51', 'LA52', 'LA53', 'LA54', 'LA55', 'LA56', 'LA57', 'LA58', 'LA59', 'LA60', 'LA61', 'LA62', 'LA63', 'LA64', 'LA65', 'LA66', 'LA67', 'LA68', 'LA69', 'LA70', 'LA71', 'LA72', 'LA73', 'LA74', 'LA75', 'LA76', 'LA77', 'LA78', 'LA79', 'LA80', 'LA81', 'LA82', 'LA83', 'LA84', 'LA85', 'LA86', 'LA87', 'LA88', 'LA89', 'LA90', 'LA91', 'LA92', 'LA93', 'LA94', 'LA95', 'LA96', 'LA97', 'LA98', 'LA99', 'LS00', 'LS01', 'LS02', 'LS03', 'LS04', 'LS05', 'LS06', 'LS07', 'LS08', 'LS09', 'LS10', 'LS11', 'LS12', 'LS13', 'LS14', 'LS15', 'LS16', 'LS17', 'LS18', 'LS19', 'LS20', 'LS21', 'LS22', 'LS23', 'LS24', 'LS25', 'LS26', 'LS27', 'LS28', 'LS29', 'LS30', 'LS31', 'LS32', 'LS33', 'LS34', 'LS35', 'LS36', 'LS37', 'LS38', 'LS39', 'LS40', 'LS41', 'LS42', 'LS43', 'LS44', 'LS45', 'LS46', 'LS47', 'LS48', 'LS49', 'LS50', 'LS51', 'LS52', 'LS53', 'LS54', 'LS55', 'LS56', 'LS57', 'LS58', 'LS59', 'LS60', 'LS61', 'LS62', 'LS63', 'LS64', 'LS65', 'LS66', 'LS67', 'LS68', 'LS69', 'LS71', 'LS72', 'LS73', 'LS74', 'LS75', 'LS76', 'LS77', 'LS78', 'LS79', 'LS80', 'LS81', 'LS82', 'LS83', 'LS84', 'LS85', 'LS86', 'LS87', 'LS89', 'LS90', 'LS91', 'LS92', 'LS93', 'LS94', 'LS95', 'LS96', 'LS97', 'LS98', 'LS99', \n",
    "]"
   ]
  },
  {
   "cell_type": "code",
   "execution_count": null,
   "id": "f53d0a58",
   "metadata": {},
   "outputs": [],
   "source": [
    "ICAO = ICAO1 + ICAO2\n",
    "ICAO = list(set(ICAO))\n",
    "ICAO = sorted(ICAO)\n",
    "print (ICAO)"
   ]
  },
  {
   "cell_type": "markdown",
   "id": "d9b23edd",
   "metadata": {},
   "source": [
    "# Check which ICAO Codes give Data through Cloudside"
   ]
  },
  {
   "cell_type": "markdown",
   "id": "3043d4cb",
   "metadata": {},
   "source": [
    "- Go through each of the ICAO codes.\n",
    "- Look for the January 2019 record.\n",
    "- If and only if it exists, then all of 2019 probably exists.\n",
    "- If it exists, put the ICAO code in a list of Stations."
   ]
  },
  {
   "cell_type": "code",
   "execution_count": null,
   "id": "a3620d98",
   "metadata": {},
   "outputs": [],
   "source": [
    "Stations = []\n",
    "for station in ICAO:\n",
    "    print (station)\n",
    "    try:\n",
    "        data = cloudside.asos.get_data(station, '2019-01-01', '2019-01-31', 'me@mydomain.com')\n",
    "        Stations.append(station)\n",
    "    except:\n",
    "        print(station, ' not in files')  \n",
    "        "
   ]
  },
  {
   "cell_type": "code",
   "execution_count": null,
   "id": "f5fca493",
   "metadata": {
    "scrolled": true
   },
   "outputs": [],
   "source": [
    "print ('Stations: ', Stations)\n",
    "print (len(Stations))"
   ]
  },
  {
   "cell_type": "code",
   "execution_count": null,
   "id": "649b2021",
   "metadata": {},
   "outputs": [],
   "source": [
    "# Cut and pasted results of previous cell, so I don't have to run the previous code again.\n",
    "Stations = ['KAEX', 'KAQV', 'KARA', 'KASD', 'KBKB', 'KBTR', 'KBVE', 'KDTN', 'KESF', 'KLCH', 'KLFT', 'KMLU', 'KMSY', 'KNEW', 'KP92', 'KSHV', 'KTVR']\n",
    "print (len(Stations))"
   ]
  },
  {
   "cell_type": "markdown",
   "id": "182f01a0",
   "metadata": {},
   "source": [
    "# Get Data"
   ]
  },
  {
   "cell_type": "markdown",
   "id": "f36b5828",
   "metadata": {},
   "source": [
    "- Go through all of the \"good\" stations,\n",
    "- Get the data for 2019,\n",
    "- Add a column with the ICAO code,\n",
    "- Concatenate into one Pandas dataframe, 'data'."
   ]
  },
  {
   "cell_type": "code",
   "execution_count": null,
   "id": "9896b850",
   "metadata": {},
   "outputs": [],
   "source": [
    "data = pd.DataFrame()\n",
    "for station in Stations:\n",
    "    print (station)\n",
    "    station_data = cloudside.asos.get_data(station, '2019-01-01', '2019-12-31', 'me@mydomain.com')\n",
    "    station_data['ICAO'] = station\n",
    "    data = pd.concat([data, station_data])\n",
    "data"
   ]
  },
  {
   "cell_type": "code",
   "execution_count": null,
   "id": "acae1f1e",
   "metadata": {},
   "outputs": [],
   "source": [
    "len(data)"
   ]
  },
  {
   "cell_type": "markdown",
   "id": "0d1eadaf",
   "metadata": {},
   "source": [
    "# Analysis"
   ]
  },
  {
   "cell_type": "markdown",
   "id": "20d398d2",
   "metadata": {},
   "source": [
    "## Missing Data\n",
    "- If we had 5-min data for each of 17 weather stations, we would have\n",
    "    - 105,120 records per station\n",
    "    - 1,787,040 records total\n",
    "$$12 \\times 24 \\times 365 = 105,120$$\n",
    "$$105,120 \\times 17 = 1,787,040$$\n",
    "    - Instead, we have 1,739,653 records\n",
    "$$1,787,040 - 1,739,653 = 47,387$$\n",
    "    - We know one entire month is missing from KP92.\n",
    "- We're missing lots of precipitation data.  Only 123,651 non-nan records in 1,739,653 rows."
   ]
  },
  {
   "cell_type": "code",
   "execution_count": null,
   "id": "13c55be3",
   "metadata": {},
   "outputs": [],
   "source": [
    "data['ICAO'].value_counts()"
   ]
  },
  {
   "cell_type": "code",
   "execution_count": null,
   "id": "bd1009e5",
   "metadata": {
    "scrolled": false
   },
   "outputs": [],
   "source": [
    "data.count()"
   ]
  },
  {
   "cell_type": "markdown",
   "id": "5e90db85",
   "metadata": {},
   "source": [
    "- All seventeen weather stations give some precipitation reports, but not a complete set.  \n",
    "- A complete set would be 105,120 records per station."
   ]
  },
  {
   "cell_type": "code",
   "execution_count": null,
   "id": "c5ec1abb",
   "metadata": {},
   "outputs": [],
   "source": [
    "A = data.dropna(subset=['precipitation'])\n",
    "A['ICAO'].value_counts()"
   ]
  },
  {
   "cell_type": "code",
   "execution_count": null,
   "id": "62b88f58",
   "metadata": {},
   "outputs": [],
   "source": [
    "pd.set_option('display.max_rows', 100)\n",
    "A.head(20)"
   ]
  },
  {
   "cell_type": "markdown",
   "id": "833fb391",
   "metadata": {},
   "source": [
    "# Write to file\n",
    "- 1,739,653 rows\n",
    "- ~ 60 MB"
   ]
  },
  {
   "cell_type": "code",
   "execution_count": null,
   "id": "1af4d57f",
   "metadata": {},
   "outputs": [],
   "source": [
    "data.to_csv('ASOS_Data_from_Cloudside.csv', index=False) "
   ]
  },
  {
   "cell_type": "code",
   "execution_count": null,
   "id": "749fdc2d",
   "metadata": {},
   "outputs": [],
   "source": []
  }
 ],
 "metadata": {
  "kernelspec": {
   "display_name": "cloudside",
   "language": "python",
   "name": "cloudside"
  },
  "language_info": {
   "codemirror_mode": {
    "name": "ipython",
    "version": 3
   },
   "file_extension": ".py",
   "mimetype": "text/x-python",
   "name": "python",
   "nbconvert_exporter": "python",
   "pygments_lexer": "ipython3",
   "version": "3.6.13"
  }
 },
 "nbformat": 4,
 "nbformat_minor": 5
}
