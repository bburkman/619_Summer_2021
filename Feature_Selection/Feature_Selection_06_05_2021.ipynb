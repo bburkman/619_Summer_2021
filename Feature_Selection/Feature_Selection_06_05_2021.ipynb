{
 "cells": [
  {
   "cell_type": "markdown",
   "id": "expected-vietnam",
   "metadata": {},
   "source": [
    "# Big Idea"
   ]
  },
  {
   "cell_type": "markdown",
   "id": "official-celebration",
   "metadata": {},
   "source": [
    "- We will create a target ($y$-values) dataframe that can be balanced or imbalanced.  \n",
    "- The dataset will have $n$ records.\n",
    "- *Balanced* would mean that half of the elements of $y$ are $True$, half $False$.\n",
    "- *Imbalanced* with parameter $imb$ would mean that $n \\times imb$ elements would be $True$, and $n \\times (1 - imb)$ would be $False$.  If $imb = 0.5$, then the set is balanced.  In our crash dataset, if we're looking to predict fatal crashes, $imb \\approx 0.004$.\n",
    "- Our *confusion matrix* for $y$ on itself is:\n",
    "\n",
    "<table>\n",
    "    <tr> <td> <td>     <td colspan=\"2\"> Prediction\n",
    "    <tr> <td> <td> <th> N <th> P \n",
    "    <tr> <td rowspan='2'> Actual <th scope=\"row\"> N <td> n * (1 - imb) <td> 0 \n",
    "    <tr> <th scope=\"row\"> P <td> 0 <td> n * imb \n",
    "</table>\n",
    "        \n",
    "- We will create a dataframe of features ($x$-values), each by perturbing either (or both) the TP or TN to modify the Accuracy, Precision, or Recall.  \n",
    "- For feature $x^{(i)}$, choose a parameter $p$ for modifying the $True$ values of $y$.  For each record, choose a random $r \\in [0,1)$.  If $r>p$ and $y_j == False$, then $x^{(i)}_j = True$.  Now the confusion matrix for $x^{(i)}$ on $y$ is:\n",
    "        \n",
    "        \n",
    "<table>\n",
    "    <tr> <td> <td>     <td colspan=\"2\"> Prediction\n",
    "    <tr> <td> <td> <th> N <th> P \n",
    "    <tr> <td rowspan='2'> Actual <th scope=\"row\"> N <td> n * (1 - imb) * p <td> n * (1 - imb) * (i-p) \n",
    "    <tr> <th scope=\"row\"> P <td> 0 <td> n * imb \n",
    "</table>\n",
    "        \n",
    "- Similarly, use parameter $q$ to swap some $True$ values.  \n",
    "        \n",
    "<table>\n",
    "    <tr> <td> <td>     <td colspan=\"2\"> Prediction\n",
    "    <tr> <td> <td> <th> N <th> P \n",
    "    <tr> <td rowspan='2'> Actual <th scope=\"row\"> N <td> n * (1 - imb) * p <td> n * (1 - imb) * (i-p) \n",
    "    <tr> <th scope=\"row\"> P <td> n * imb * (1-q) <td> n * imb * q\n",
    "</table>\n",
    "        \n",
    "- This confusion matrix gives us these values for accuracy, precision, and recall.\n",
    "        \n",
    "\\begin{align}\n",
    "    Accuracy &= \\frac{TN + TP}{TN + FP + FN + TP} \\cr\n",
    "        &= \\frac{n(1-imb)p + n(imb)(q)}{n} \\cr\n",
    "        &= (1-imb)p + imb \\cdot q \\cr\n",
    "\\end{align}\n",
    "        \n",
    "\n",
    "\\begin{align}\n",
    "    Precision &= \\frac{TP}{TP + FP} \\cr\n",
    "        &= \\frac{n \\cdot imb \\cdot q}{n \\cdot imb \\cdot q + n \\cdot (1-imb) \\cdot (1-p)} \\cr\n",
    "        &= \\frac{imb \\cdot q}{imb \\cdot q + (1-imb) \\cdot (1-p)} \\cr\n",
    "\\end{align}\n",
    "\n",
    "\\begin{align}\n",
    "    Recall &= \\frac{TP}{TP + FN} \\cr\n",
    "        &= \\frac{n \\cdot imb \\cdot q}{n \\cdot imb \\cdot q + n \\cdot imb (1-q)} \\cr\n",
    "        &= \\frac{imb \\cdot q}{imb \\cdot q + imb (1-q)} \\cr\n",
    "        &= \\frac{q}{q + (1-q)} \\cr\n",
    "        &= q\n",
    "\\end{align}\n",
    "\n",
    "\n",
    "        \n",
    "\n",
    "\n"
   ]
  },
  {
   "cell_type": "code",
   "execution_count": null,
   "id": "interstate-coalition",
   "metadata": {},
   "outputs": [],
   "source": []
  },
  {
   "cell_type": "markdown",
   "id": "revised-worship",
   "metadata": {},
   "source": [
    "# Math Notes"
   ]
  },
  {
   "cell_type": "markdown",
   "id": "japanese-dublin",
   "metadata": {},
   "source": [
    "- Confusion Matrix\n",
    "\n",
    "\n",
    "<table>\n",
    "    <tr> <td> <td>     <td colspan=\"2\"> Prediction\n",
    "    <tr> <td> <td> <th> N <th> P \n",
    "    <tr> <td rowspan='2'> Actual <th scope=\"row\"> N <td> TN <td> FP \n",
    "    <tr> <th scope=\"row\"> P <td> FN <td> TP \n",
    "</table>"
   ]
  },
  {
   "cell_type": "markdown",
   "id": "regulated-position",
   "metadata": {},
   "source": [
    "- Accuracy is the proportion of predictions that are correct.\n",
    "\n",
    "$$\\frac{TP + TN}{TN + TP + FN + FP}$$"
   ]
  },
  {
   "cell_type": "markdown",
   "id": "fleet-cattle",
   "metadata": {},
   "source": [
    "- Precision is the proportion, of the things we predicted as positive, that are correct.\n",
    "\n",
    "$$\\frac{TP}{TP + FP}$$"
   ]
  },
  {
   "cell_type": "markdown",
   "id": "treated-marina",
   "metadata": {},
   "source": [
    "- Recall is the proportion, of the things that are positive, that we predicted correctly.\n",
    "\n",
    "$$\\frac{TP}{TP + FN}$$"
   ]
  },
  {
   "cell_type": "markdown",
   "id": "focal-insulation",
   "metadata": {},
   "source": [
    "# Create the Target"
   ]
  },
  {
   "cell_type": "code",
   "execution_count": null,
   "id": "meaningful-applicant",
   "metadata": {},
   "outputs": [],
   "source": [
    "y = []"
   ]
  },
  {
   "cell_type": "code",
   "execution_count": null,
   "id": "accurate-grass",
   "metadata": {},
   "outputs": [],
   "source": []
  },
  {
   "cell_type": "code",
   "execution_count": null,
   "id": "working-rouge",
   "metadata": {},
   "outputs": [],
   "source": []
  },
  {
   "cell_type": "markdown",
   "id": "remarkable-bridges",
   "metadata": {},
   "source": [
    "# Import Libraries"
   ]
  },
  {
   "cell_type": "code",
   "execution_count": 1,
   "id": "democratic-liberty",
   "metadata": {},
   "outputs": [],
   "source": [
    "import numpy as np\n",
    "import pandas as pd\n",
    "from scipy.stats import chi2_contingency\n",
    "\n",
    "\n",
    "import random\n",
    "\n",
    "\n",
    "from sklearn.metrics import confusion_matrix\n",
    "from sklearn.metrics import accuracy_score\n",
    "from sklearn.metrics import recall_score\n",
    "from sklearn.metrics import precision_score\n",
    "\n",
    "from sklearn.feature_selection import VarianceThreshold\n",
    "from sklearn.feature_selection import SelectKBest\n",
    "from sklearn.feature_selection import chi2, f_classif, mutual_info_classif"
   ]
  },
  {
   "cell_type": "markdown",
   "id": "attached-gasoline",
   "metadata": {},
   "source": [
    "# Create y-values"
   ]
  },
  {
   "cell_type": "code",
   "execution_count": null,
   "id": "polyphonic-walnut",
   "metadata": {},
   "outputs": [],
   "source": []
  }
 ],
 "metadata": {
  "kernelspec": {
   "display_name": "Python 3",
   "language": "python",
   "name": "python3"
  },
  "language_info": {
   "codemirror_mode": {
    "name": "ipython",
    "version": 3
   },
   "file_extension": ".py",
   "mimetype": "text/x-python",
   "name": "python",
   "nbconvert_exporter": "python",
   "pygments_lexer": "ipython3",
   "version": "3.9.1"
  }
 },
 "nbformat": 4,
 "nbformat_minor": 5
}
